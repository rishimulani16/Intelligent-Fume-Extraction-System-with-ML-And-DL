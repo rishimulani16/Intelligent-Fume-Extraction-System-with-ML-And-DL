{
 "cells": [
  {
   "cell_type": "code",
   "execution_count": 79,
   "id": "7ca1439d",
   "metadata": {},
   "outputs": [],
   "source": [
    "# import numpy as np\n",
    "# from tensorflow.keras.models import load_model\n",
    "# import joblib\n",
    "\n",
    "# model = load_model(\"pressure_ID_Fan_inlet_DL(1).h5\")\n",
    "\n",
    "# x = np.array(['18.51997', '60.93208', '946.2000', '226.4158', '945.4032']).astype(float)\n",
    "\n",
    "# y = -400.0651\n",
    "\n",
    "# scaler = joblib.load(\"scaler(1).pkl\")\n",
    "\n",
    "# x_scaled = scaler.transform(x.reshape(1, -1))\n",
    "\n",
    "# pred = model.predict(x_scaled)\n",
    "\n",
    "# print(\"Predicted value:\", pred)\n"
   ]
  },
  {
   "cell_type": "code",
   "execution_count": 80,
   "id": "9674199b",
   "metadata": {},
   "outputs": [
    {
     "name": "stderr",
     "output_type": "stream",
     "text": [
      "WARNING:absl:Compiled the loaded model, but the compiled metrics have yet to be built. `model.compile_metrics` will be empty until you train or evaluate the model.\n"
     ]
    }
   ],
   "source": [
    "import numpy as np\n",
    "from tensorflow.keras.models import load_model\n",
    "import joblib\n",
    "import pandas as pd\n",
    "import matplotlib.pyplot as plt\n",
    "from sklearn.metrics import r2_score\n",
    "\n",
    "model = load_model(\"FDC_Outlet_Pressure_DL(4).h5\")"
   ]
  },
  {
   "cell_type": "code",
   "execution_count": 81,
   "id": "34bf78d7",
   "metadata": {},
   "outputs": [
    {
     "data": {
      "text/plain": [
       "(1081, 25)"
      ]
     },
     "execution_count": 81,
     "metadata": {},
     "output_type": "execute_result"
    }
   ],
   "source": [
    "df = pd.read_csv('Batch-1.2.csv')\n",
    "df.shape"
   ]
  },
  {
   "cell_type": "code",
   "execution_count": 82,
   "id": "b6df0503",
   "metadata": {},
   "outputs": [
    {
     "data": {
      "text/html": [
       "<div>\n",
       "<style scoped>\n",
       "    .dataframe tbody tr th:only-of-type {\n",
       "        vertical-align: middle;\n",
       "    }\n",
       "\n",
       "    .dataframe tbody tr th {\n",
       "        vertical-align: top;\n",
       "    }\n",
       "\n",
       "    .dataframe thead th {\n",
       "        text-align: right;\n",
       "    }\n",
       "</style>\n",
       "<table border=\"1\" class=\"dataframe\">\n",
       "  <thead>\n",
       "    <tr style=\"text-align: right;\">\n",
       "      <th></th>\n",
       "      <th>FDC Outlet Pressure</th>\n",
       "      <th>Pressure at Gas Mixter inlet</th>\n",
       "      <th>Temp at BagHouse Inlet - UpperSide</th>\n",
       "      <th>Temp at BagHouse Inlet - LowerSide</th>\n",
       "      <th>Pressure at BagHouse Inlet</th>\n",
       "      <th>DP Across baghouse - UpperSide</th>\n",
       "      <th>DP Across baghouse - LowerSide</th>\n",
       "      <th>Pressure ID Fan Inlet</th>\n",
       "      <th>Canopy Damper Position</th>\n",
       "      <th>ID Fan1 Speed</th>\n",
       "      <th>ID Fan1 Current</th>\n",
       "      <th>ID Fan2 Speed</th>\n",
       "    </tr>\n",
       "  </thead>\n",
       "  <tbody>\n",
       "    <tr>\n",
       "      <th>0</th>\n",
       "      <td>-133.5070</td>\n",
       "      <td>-144.4444</td>\n",
       "      <td>60.5</td>\n",
       "      <td>59.3</td>\n",
       "      <td>-235.4167</td>\n",
       "      <td>15.30237</td>\n",
       "      <td>18.50550</td>\n",
       "      <td>-409.7946</td>\n",
       "      <td>65.75810</td>\n",
       "      <td>946.2</td>\n",
       "      <td>233.7217</td>\n",
       "      <td>945.4032</td>\n",
       "    </tr>\n",
       "    <tr>\n",
       "      <th>1</th>\n",
       "      <td>-139.3880</td>\n",
       "      <td>-147.9745</td>\n",
       "      <td>64.7</td>\n",
       "      <td>66.3</td>\n",
       "      <td>-237.7170</td>\n",
       "      <td>15.93895</td>\n",
       "      <td>18.97135</td>\n",
       "      <td>-418.0049</td>\n",
       "      <td>61.29015</td>\n",
       "      <td>946.2</td>\n",
       "      <td>232.6680</td>\n",
       "      <td>945.4032</td>\n",
       "    </tr>\n",
       "    <tr>\n",
       "      <th>2</th>\n",
       "      <td>-136.0243</td>\n",
       "      <td>-141.5509</td>\n",
       "      <td>72.8</td>\n",
       "      <td>75.7</td>\n",
       "      <td>-233.5504</td>\n",
       "      <td>15.53241</td>\n",
       "      <td>18.87008</td>\n",
       "      <td>-411.1328</td>\n",
       "      <td>61.29015</td>\n",
       "      <td>946.2</td>\n",
       "      <td>223.3247</td>\n",
       "      <td>945.4032</td>\n",
       "    </tr>\n",
       "    <tr>\n",
       "      <th>3</th>\n",
       "      <td>-130.5773</td>\n",
       "      <td>-137.9630</td>\n",
       "      <td>77.3</td>\n",
       "      <td>79.8</td>\n",
       "      <td>-226.3889</td>\n",
       "      <td>16.02720</td>\n",
       "      <td>19.27373</td>\n",
       "      <td>-409.4329</td>\n",
       "      <td>61.29015</td>\n",
       "      <td>946.2</td>\n",
       "      <td>224.9405</td>\n",
       "      <td>945.4032</td>\n",
       "    </tr>\n",
       "    <tr>\n",
       "      <th>4</th>\n",
       "      <td>-130.8377</td>\n",
       "      <td>-134.6209</td>\n",
       "      <td>76.3</td>\n",
       "      <td>79.8</td>\n",
       "      <td>-225.5425</td>\n",
       "      <td>16.51476</td>\n",
       "      <td>19.58767</td>\n",
       "      <td>-411.2775</td>\n",
       "      <td>61.29412</td>\n",
       "      <td>946.2</td>\n",
       "      <td>223.1140</td>\n",
       "      <td>945.4032</td>\n",
       "    </tr>\n",
       "  </tbody>\n",
       "</table>\n",
       "</div>"
      ],
      "text/plain": [
       "   FDC Outlet Pressure  Pressure at Gas Mixter inlet  \\\n",
       "0            -133.5070                     -144.4444   \n",
       "1            -139.3880                     -147.9745   \n",
       "2            -136.0243                     -141.5509   \n",
       "3            -130.5773                     -137.9630   \n",
       "4            -130.8377                     -134.6209   \n",
       "\n",
       "   Temp at BagHouse Inlet - UpperSide  Temp at BagHouse Inlet - LowerSide  \\\n",
       "0                                60.5                                59.3   \n",
       "1                                64.7                                66.3   \n",
       "2                                72.8                                75.7   \n",
       "3                                77.3                                79.8   \n",
       "4                                76.3                                79.8   \n",
       "\n",
       "   Pressure at BagHouse Inlet  DP Across baghouse - UpperSide  \\\n",
       "0                   -235.4167                        15.30237   \n",
       "1                   -237.7170                        15.93895   \n",
       "2                   -233.5504                        15.53241   \n",
       "3                   -226.3889                        16.02720   \n",
       "4                   -225.5425                        16.51476   \n",
       "\n",
       "   DP Across baghouse - LowerSide  Pressure ID Fan Inlet  \\\n",
       "0                        18.50550              -409.7946   \n",
       "1                        18.97135              -418.0049   \n",
       "2                        18.87008              -411.1328   \n",
       "3                        19.27373              -409.4329   \n",
       "4                        19.58767              -411.2775   \n",
       "\n",
       "   Canopy Damper Position  ID Fan1 Speed  ID Fan1 Current  ID Fan2 Speed  \n",
       "0                65.75810          946.2         233.7217       945.4032  \n",
       "1                61.29015          946.2         232.6680       945.4032  \n",
       "2                61.29015          946.2         223.3247       945.4032  \n",
       "3                61.29015          946.2         224.9405       945.4032  \n",
       "4                61.29412          946.2         223.1140       945.4032  "
      ]
     },
     "execution_count": 82,
     "metadata": {},
     "output_type": "execute_result"
    }
   ],
   "source": [
    "df = df.iloc[:,10:24]\n",
    "df.drop(columns=['Unnamed: 19','Unnamed: 20'],inplace=True)\n",
    "df.head()"
   ]
  },
  {
   "cell_type": "code",
   "execution_count": 83,
   "id": "a3aced9a",
   "metadata": {},
   "outputs": [
    {
     "name": "stdout",
     "output_type": "stream",
     "text": [
      "FDC Outlet Pressure                   0\n",
      "Pressure at Gas Mixter inlet          0\n",
      "Temp at BagHouse Inlet - UpperSide    0\n",
      "Temp at BagHouse Inlet - LowerSide    0\n",
      "Pressure at BagHouse Inlet            0\n",
      "DP Across baghouse - UpperSide        0\n",
      "DP Across baghouse - LowerSide        0\n",
      "Pressure ID Fan Inlet                 0\n",
      "Canopy Damper Position                0\n",
      "ID Fan1 Speed                         0\n",
      "ID Fan1 Current                       0\n",
      "ID Fan2 Speed                         0\n",
      "dtype: int64\n"
     ]
    }
   ],
   "source": [
    "print(df.isna().sum())\n",
    "df.dropna(inplace=True)"
   ]
  },
  {
   "cell_type": "code",
   "execution_count": 84,
   "id": "32549e9c",
   "metadata": {},
   "outputs": [
    {
     "data": {
      "text/plain": [
       "(1081, 11)"
      ]
     },
     "execution_count": 84,
     "metadata": {},
     "output_type": "execute_result"
    }
   ],
   "source": [
    "x = df.drop('FDC Outlet Pressure',axis = 1)\n",
    "y = df['FDC Outlet Pressure']\n",
    "x = np.array(x)\n",
    "x.shape"
   ]
  },
  {
   "cell_type": "code",
   "execution_count": 85,
   "id": "4cd28f06",
   "metadata": {},
   "outputs": [
    {
     "name": "stderr",
     "output_type": "stream",
     "text": [
      "c:\\Users\\DELL\\AppData\\Local\\Programs\\Python\\Python312\\Lib\\site-packages\\sklearn\\utils\\validation.py:2749: UserWarning: X does not have valid feature names, but StandardScaler was fitted with feature names\n",
      "  warnings.warn(\n"
     ]
    }
   ],
   "source": [
    "sc = joblib.load(\"scaler(4).pkl\")\n",
    "x_scaled = sc.transform(x)"
   ]
  },
  {
   "cell_type": "code",
   "execution_count": 86,
   "id": "766880e5",
   "metadata": {},
   "outputs": [
    {
     "name": "stdout",
     "output_type": "stream",
     "text": [
      "\u001b[1m34/34\u001b[0m \u001b[32m━━━━━━━━━━━━━━━━━━━━\u001b[0m\u001b[37m\u001b[0m \u001b[1m0s\u001b[0m 8ms/step\n"
     ]
    }
   ],
   "source": [
    "pred = model.predict(x_scaled)\n"
   ]
  },
  {
   "cell_type": "code",
   "execution_count": 87,
   "id": "f1f1b98e",
   "metadata": {},
   "outputs": [
    {
     "data": {
      "text/plain": [
       "0.9131109776259473"
      ]
     },
     "execution_count": 87,
     "metadata": {},
     "output_type": "execute_result"
    }
   ],
   "source": [
    "r2_score(y,pred)"
   ]
  },
  {
   "cell_type": "code",
   "execution_count": 88,
   "id": "4221821c",
   "metadata": {},
   "outputs": [
    {
     "data": {
      "text/plain": [
       "(1081,)"
      ]
     },
     "execution_count": 88,
     "metadata": {},
     "output_type": "execute_result"
    }
   ],
   "source": [
    "pred = pred.flatten()\n",
    "pred.shape"
   ]
  },
  {
   "cell_type": "code",
   "execution_count": 89,
   "id": "c54a5f0e",
   "metadata": {},
   "outputs": [],
   "source": [
    "diff = pred - (np.array(y)).reshape(1,-1)\n"
   ]
  },
  {
   "cell_type": "code",
   "execution_count": 90,
   "id": "989a116b",
   "metadata": {},
   "outputs": [
    {
     "name": "stdout",
     "output_type": "stream",
     "text": [
      "4\n",
      "[25.88234126 30.30319154 27.43655385 21.03225248]\n"
     ]
    }
   ],
   "source": [
    "print(diff[diff>20].size)\n",
    "print(diff[diff>20])\n"
   ]
  },
  {
   "cell_type": "code",
   "execution_count": 91,
   "id": "e8390516",
   "metadata": {},
   "outputs": [
    {
     "data": {
      "text/plain": [
       "<matplotlib.collections.PathCollection at 0x1ffdaf77770>"
      ]
     },
     "execution_count": 91,
     "metadata": {},
     "output_type": "execute_result"
    },
    {
     "data": {
      "image/png": "[encoded data removed]",
      "text/plain": [
       "<Figure size 640x480 with 1 Axes>"
      ]
     },
     "metadata": {},
     "output_type": "display_data"
    }
   ],
   "source": [
    "plt.scatter(y,diff)"
   ]
  }
 ],
 "metadata": {
  "kernelspec": {
   "display_name": "Python 3",
   "language": "python",
   "name": "python3"
  },
  "language_info": {
   "codemirror_mode": {
    "name": "ipython",
    "version": 3
   },
   "file_extension": ".py",
   "mimetype": "text/x-python",
   "name": "python",
   "nbconvert_exporter": "python",
   "pygments_lexer": "ipython3",
   "version": "3.12.0"
  }
 },
 "nbformat": 4,
 "nbformat_minor": 5
}
