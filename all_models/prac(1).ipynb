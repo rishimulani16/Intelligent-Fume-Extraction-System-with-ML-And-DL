{
 "cells": [
  {
   "cell_type": "code",
   "execution_count": 94,
   "id": "7ca1439d",
   "metadata": {},
   "outputs": [],
   "source": [
    "# import numpy as np\n",
    "# from tensorflow.keras.models import load_model\n",
    "# import joblib\n",
    "\n",
    "# model = load_model(\"pressure_ID_Fan_inlet_DL(1).h5\")\n",
    "\n",
    "# x = np.array(['0.1895255', '81.64461', '945', '0.4215', '75.01871']).astype(float)\n",
    "# # 8.697917\t-97.22223\t73.85452\t42.3\t42\t846.6\t157.2195\t440.6703\t107.7635\n",
    "\n",
    "# # 0.1895255\t5.027527\t81.64461\t54.8\t46\t43.94352\t0.4215\t75.01871\t4.6365\n",
    "\n",
    "# # y = -400.0651\n",
    "\n",
    "# scaler = joblib.load(\"scaler(1).pkl\")\n",
    "\n",
    "# x_scaled = scaler.transform(x.reshape(1, -1))\n",
    "\n",
    "# pred = model.predict(x_scaled)\n",
    "\n",
    "# print(\"Predicted value:\", pred)\n"
   ]
  },
  {
   "cell_type": "code",
   "execution_count": 95,
   "id": "9674199b",
   "metadata": {},
   "outputs": [
    {
     "name": "stderr",
     "output_type": "stream",
     "text": [
      "WARNING:absl:Compiled the loaded model, but the compiled metrics have yet to be built. `model.compile_metrics` will be empty until you train or evaluate the model.\n"
     ]
    }
   ],
   "source": [
    "import numpy as np\n",
    "from tensorflow.keras.models import load_model\n",
    "import joblib\n",
    "import pandas as pd\n",
    "import matplotlib.pyplot as plt\n",
    "from sklearn.metrics import r2_score\n",
    "\n",
    "model = load_model(\"pressure_ID_Fan_inlet_DL(7).h5\")"
   ]
  },
  {
   "cell_type": "code",
   "execution_count": 96,
   "id": "34bf78d7",
   "metadata": {},
   "outputs": [
    {
     "data": {
      "text/html": [
       "<div>\n",
       "<style scoped>\n",
       "    .dataframe tbody tr th:only-of-type {\n",
       "        vertical-align: middle;\n",
       "    }\n",
       "\n",
       "    .dataframe tbody tr th {\n",
       "        vertical-align: top;\n",
       "    }\n",
       "\n",
       "    .dataframe thead th {\n",
       "        text-align: right;\n",
       "    }\n",
       "</style>\n",
       "<table border=\"1\" class=\"dataframe\">\n",
       "  <thead>\n",
       "    <tr style=\"text-align: right;\">\n",
       "      <th></th>\n",
       "      <th>SampleTime</th>\n",
       "      <th>Process Mode</th>\n",
       "      <th>Oxygen Consumption -Top</th>\n",
       "      <th>Furnace Power</th>\n",
       "      <th>CombustionChamber Pressure</th>\n",
       "      <th>Suction Damper Position feedback</th>\n",
       "      <th>FDC inlet Temprature</th>\n",
       "      <th>FDC Outlet Temp</th>\n",
       "      <th>FDC Outlet Temp - Upperside</th>\n",
       "      <th>DP across FDC</th>\n",
       "      <th>...</th>\n",
       "      <th>DP Across baghouse - UpperSide</th>\n",
       "      <th>DP Across baghouse - LowerSide</th>\n",
       "      <th>Pressure ID Fan Inlet</th>\n",
       "      <th>Canopy Damper Position</th>\n",
       "      <th>Unnamed: 19</th>\n",
       "      <th>Unnamed: 20</th>\n",
       "      <th>ID Fan1 Speed</th>\n",
       "      <th>ID Fan1 Current</th>\n",
       "      <th>ID Fan2 Speed</th>\n",
       "      <th>ID Fan2 Current</th>\n",
       "    </tr>\n",
       "  </thead>\n",
       "  <tbody>\n",
       "    <tr>\n",
       "      <th>0</th>\n",
       "      <td>02.09.2024_12.30.09</td>\n",
       "      <td>128</td>\n",
       "      <td>1887.744</td>\n",
       "      <td>0.0</td>\n",
       "      <td>-11.65726</td>\n",
       "      <td>58.70226</td>\n",
       "      <td>274.2838</td>\n",
       "      <td>135.1</td>\n",
       "      <td>129.7</td>\n",
       "      <td>55.91363</td>\n",
       "      <td>...</td>\n",
       "      <td>14.93200</td>\n",
       "      <td>17.62587</td>\n",
       "      <td>-386.0677</td>\n",
       "      <td>66.30715</td>\n",
       "      <td>42.5</td>\n",
       "      <td>69.8</td>\n",
       "      <td>946.2</td>\n",
       "      <td>228.6638</td>\n",
       "      <td>945.4032</td>\n",
       "      <td>234.5647</td>\n",
       "    </tr>\n",
       "    <tr>\n",
       "      <th>1</th>\n",
       "      <td>02.09.2024_12.35.09</td>\n",
       "      <td>32</td>\n",
       "      <td>2890.050</td>\n",
       "      <td>0.0</td>\n",
       "      <td>-13.97569</td>\n",
       "      <td>92.22367</td>\n",
       "      <td>400.8029</td>\n",
       "      <td>168.8</td>\n",
       "      <td>162.6</td>\n",
       "      <td>103.37820</td>\n",
       "      <td>...</td>\n",
       "      <td>15.85503</td>\n",
       "      <td>18.51997</td>\n",
       "      <td>-400.0651</td>\n",
       "      <td>60.93208</td>\n",
       "      <td>41.2</td>\n",
       "      <td>80.7</td>\n",
       "      <td>946.2</td>\n",
       "      <td>226.4158</td>\n",
       "      <td>945.4032</td>\n",
       "      <td>214.6138</td>\n",
       "    </tr>\n",
       "    <tr>\n",
       "      <th>2</th>\n",
       "      <td>02.09.2024_12.40.10</td>\n",
       "      <td>32</td>\n",
       "      <td>3892.103</td>\n",
       "      <td>0.0</td>\n",
       "      <td>-13.86719</td>\n",
       "      <td>92.22367</td>\n",
       "      <td>466.3701</td>\n",
       "      <td>191.8</td>\n",
       "      <td>186.5</td>\n",
       "      <td>50.24234</td>\n",
       "      <td>...</td>\n",
       "      <td>16.05035</td>\n",
       "      <td>18.84115</td>\n",
       "      <td>-397.2801</td>\n",
       "      <td>60.93605</td>\n",
       "      <td>43.7</td>\n",
       "      <td>86.0</td>\n",
       "      <td>946.2</td>\n",
       "      <td>221.4280</td>\n",
       "      <td>945.4032</td>\n",
       "      <td>215.8080</td>\n",
       "    </tr>\n",
       "    <tr>\n",
       "      <th>3</th>\n",
       "      <td>02.09.2024_12.45.09</td>\n",
       "      <td>32</td>\n",
       "      <td>4897.067</td>\n",
       "      <td>0.0</td>\n",
       "      <td>-13.58145</td>\n",
       "      <td>92.22729</td>\n",
       "      <td>492.1911</td>\n",
       "      <td>190.5</td>\n",
       "      <td>186.6</td>\n",
       "      <td>85.76027</td>\n",
       "      <td>...</td>\n",
       "      <td>16.11979</td>\n",
       "      <td>18.69213</td>\n",
       "      <td>-391.2399</td>\n",
       "      <td>60.93605</td>\n",
       "      <td>43.1</td>\n",
       "      <td>85.6</td>\n",
       "      <td>946.2</td>\n",
       "      <td>221.3578</td>\n",
       "      <td>945.4032</td>\n",
       "      <td>219.4610</td>\n",
       "    </tr>\n",
       "    <tr>\n",
       "      <th>4</th>\n",
       "      <td>02.09.2024_12.50.09</td>\n",
       "      <td>32</td>\n",
       "      <td>5902.126</td>\n",
       "      <td>0.0</td>\n",
       "      <td>-13.96846</td>\n",
       "      <td>92.23814</td>\n",
       "      <td>492.8675</td>\n",
       "      <td>184.3</td>\n",
       "      <td>181.5</td>\n",
       "      <td>67.95067</td>\n",
       "      <td>...</td>\n",
       "      <td>15.93750</td>\n",
       "      <td>18.62558</td>\n",
       "      <td>-390.9505</td>\n",
       "      <td>60.93208</td>\n",
       "      <td>42.2</td>\n",
       "      <td>85.1</td>\n",
       "      <td>946.2</td>\n",
       "      <td>222.6222</td>\n",
       "      <td>945.4032</td>\n",
       "      <td>220.1635</td>\n",
       "    </tr>\n",
       "  </tbody>\n",
       "</table>\n",
       "<p>5 rows × 25 columns</p>\n",
       "</div>"
      ],
      "text/plain": [
       "            SampleTime  Process Mode  Oxygen Consumption -Top  Furnace Power  \\\n",
       "0  02.09.2024_12.30.09           128                 1887.744            0.0   \n",
       "1  02.09.2024_12.35.09            32                 2890.050            0.0   \n",
       "2  02.09.2024_12.40.10            32                 3892.103            0.0   \n",
       "3  02.09.2024_12.45.09            32                 4897.067            0.0   \n",
       "4  02.09.2024_12.50.09            32                 5902.126            0.0   \n",
       "\n",
       "   CombustionChamber Pressure  Suction Damper Position feedback  \\\n",
       "0                   -11.65726                          58.70226   \n",
       "1                   -13.97569                          92.22367   \n",
       "2                   -13.86719                          92.22367   \n",
       "3                   -13.58145                          92.22729   \n",
       "4                   -13.96846                          92.23814   \n",
       "\n",
       "   FDC inlet Temprature  FDC Outlet Temp  FDC Outlet Temp - Upperside  \\\n",
       "0              274.2838            135.1                        129.7   \n",
       "1              400.8029            168.8                        162.6   \n",
       "2              466.3701            191.8                        186.5   \n",
       "3              492.1911            190.5                        186.6   \n",
       "4              492.8675            184.3                        181.5   \n",
       "\n",
       "   DP across FDC  ...  DP Across baghouse - UpperSide  \\\n",
       "0       55.91363  ...                        14.93200   \n",
       "1      103.37820  ...                        15.85503   \n",
       "2       50.24234  ...                        16.05035   \n",
       "3       85.76027  ...                        16.11979   \n",
       "4       67.95067  ...                        15.93750   \n",
       "\n",
       "   DP Across baghouse - LowerSide  Pressure ID Fan Inlet  \\\n",
       "0                        17.62587              -386.0677   \n",
       "1                        18.51997              -400.0651   \n",
       "2                        18.84115              -397.2801   \n",
       "3                        18.69213              -391.2399   \n",
       "4                        18.62558              -390.9505   \n",
       "\n",
       "   Canopy Damper Position  Unnamed: 19  Unnamed: 20  ID Fan1 Speed  \\\n",
       "0                66.30715         42.5         69.8          946.2   \n",
       "1                60.93208         41.2         80.7          946.2   \n",
       "2                60.93605         43.7         86.0          946.2   \n",
       "3                60.93605         43.1         85.6          946.2   \n",
       "4                60.93208         42.2         85.1          946.2   \n",
       "\n",
       "   ID Fan1 Current  ID Fan2 Speed  ID Fan2 Current  \n",
       "0         228.6638       945.4032         234.5647  \n",
       "1         226.4158       945.4032         214.6138  \n",
       "2         221.4280       945.4032         215.8080  \n",
       "3         221.3578       945.4032         219.4610  \n",
       "4         222.6222       945.4032         220.1635  \n",
       "\n",
       "[5 rows x 25 columns]"
      ]
     },
     "execution_count": 96,
     "metadata": {},
     "output_type": "execute_result"
    }
   ],
   "source": [
    "df = pd.read_csv('Batch-1.1.csv')\n",
    "df1 = pd.read_csv('Batch-1.1.csv')\n",
    "df.head()"
   ]
  },
  {
   "cell_type": "code",
   "execution_count": 97,
   "id": "11f07197",
   "metadata": {},
   "outputs": [
    {
     "data": {
      "text/plain": [
       "(758, 25)"
      ]
     },
     "execution_count": 97,
     "metadata": {},
     "output_type": "execute_result"
    }
   ],
   "source": [
    "df = df[(df['Process Mode']==128) | (df['Process Mode']==16) | (df['Process Mode']==32) | (df['Process Mode']==64) | (df['Process Mode']==2048)]\n",
    "df1 = df[(df['Process Mode']==128) | (df['Process Mode']==16) | (df['Process Mode']==32) | (df['Process Mode']==64) | (df['Process Mode']==2048)]\n",
    "df.shape"
   ]
  },
  {
   "cell_type": "code",
   "execution_count": 98,
   "id": "b6df0503",
   "metadata": {},
   "outputs": [
    {
     "data": {
      "text/html": [
       "<div>\n",
       "<style scoped>\n",
       "    .dataframe tbody tr th:only-of-type {\n",
       "        vertical-align: middle;\n",
       "    }\n",
       "\n",
       "    .dataframe tbody tr th {\n",
       "        vertical-align: top;\n",
       "    }\n",
       "\n",
       "    .dataframe thead th {\n",
       "        text-align: right;\n",
       "    }\n",
       "</style>\n",
       "<table border=\"1\" class=\"dataframe\">\n",
       "  <thead>\n",
       "    <tr style=\"text-align: right;\">\n",
       "      <th></th>\n",
       "      <th>DP Across baghouse - LowerSide</th>\n",
       "      <th>Pressure ID Fan Inlet</th>\n",
       "      <th>Canopy Damper Position</th>\n",
       "      <th>ID Fan1 Speed</th>\n",
       "      <th>ID Fan1 Current</th>\n",
       "      <th>ID Fan2 Speed</th>\n",
       "    </tr>\n",
       "  </thead>\n",
       "  <tbody>\n",
       "    <tr>\n",
       "      <th>0</th>\n",
       "      <td>17.62587</td>\n",
       "      <td>-386.0677</td>\n",
       "      <td>66.30715</td>\n",
       "      <td>946.2</td>\n",
       "      <td>228.6638</td>\n",
       "      <td>945.4032</td>\n",
       "    </tr>\n",
       "    <tr>\n",
       "      <th>1</th>\n",
       "      <td>18.51997</td>\n",
       "      <td>-400.0651</td>\n",
       "      <td>60.93208</td>\n",
       "      <td>946.2</td>\n",
       "      <td>226.4158</td>\n",
       "      <td>945.4032</td>\n",
       "    </tr>\n",
       "    <tr>\n",
       "      <th>2</th>\n",
       "      <td>18.84115</td>\n",
       "      <td>-397.2801</td>\n",
       "      <td>60.93605</td>\n",
       "      <td>946.2</td>\n",
       "      <td>221.4280</td>\n",
       "      <td>945.4032</td>\n",
       "    </tr>\n",
       "    <tr>\n",
       "      <th>3</th>\n",
       "      <td>18.69213</td>\n",
       "      <td>-391.2399</td>\n",
       "      <td>60.93605</td>\n",
       "      <td>946.2</td>\n",
       "      <td>221.3578</td>\n",
       "      <td>945.4032</td>\n",
       "    </tr>\n",
       "    <tr>\n",
       "      <th>4</th>\n",
       "      <td>18.62558</td>\n",
       "      <td>-390.9505</td>\n",
       "      <td>60.93208</td>\n",
       "      <td>946.2</td>\n",
       "      <td>222.6222</td>\n",
       "      <td>945.4032</td>\n",
       "    </tr>\n",
       "  </tbody>\n",
       "</table>\n",
       "</div>"
      ],
      "text/plain": [
       "   DP Across baghouse - LowerSide  Pressure ID Fan Inlet  \\\n",
       "0                        17.62587              -386.0677   \n",
       "1                        18.51997              -400.0651   \n",
       "2                        18.84115              -397.2801   \n",
       "3                        18.69213              -391.2399   \n",
       "4                        18.62558              -390.9505   \n",
       "\n",
       "   Canopy Damper Position  ID Fan1 Speed  ID Fan1 Current  ID Fan2 Speed  \n",
       "0                66.30715          946.2         228.6638       945.4032  \n",
       "1                60.93208          946.2         226.4158       945.4032  \n",
       "2                60.93605          946.2         221.4280       945.4032  \n",
       "3                60.93605          946.2         221.3578       945.4032  \n",
       "4                60.93208          946.2         222.6222       945.4032  "
      ]
     },
     "execution_count": 98,
     "metadata": {},
     "output_type": "execute_result"
    }
   ],
   "source": [
    "df = df.iloc[:,16:24]\n",
    "df.drop(columns=['Unnamed: 19','Unnamed: 20'],inplace=True)\n",
    "df.head()"
   ]
  },
  {
   "cell_type": "code",
   "execution_count": 99,
   "id": "3aa36c73",
   "metadata": {},
   "outputs": [
    {
     "data": {
      "text/html": [
       "<div>\n",
       "<style scoped>\n",
       "    .dataframe tbody tr th:only-of-type {\n",
       "        vertical-align: middle;\n",
       "    }\n",
       "\n",
       "    .dataframe tbody tr th {\n",
       "        vertical-align: top;\n",
       "    }\n",
       "\n",
       "    .dataframe thead th {\n",
       "        text-align: right;\n",
       "    }\n",
       "</style>\n",
       "<table border=\"1\" class=\"dataframe\">\n",
       "  <thead>\n",
       "    <tr style=\"text-align: right;\">\n",
       "      <th></th>\n",
       "      <th>DP Across baghouse - LowerSide</th>\n",
       "      <th>Pressure ID Fan Inlet</th>\n",
       "      <th>Canopy Damper Position</th>\n",
       "      <th>ID Fan1 Speed</th>\n",
       "      <th>ID Fan1 Current</th>\n",
       "      <th>ID Fan2 Speed</th>\n",
       "    </tr>\n",
       "  </thead>\n",
       "  <tbody>\n",
       "  </tbody>\n",
       "</table>\n",
       "</div>"
      ],
      "text/plain": [
       "Empty DataFrame\n",
       "Columns: [DP Across baghouse - LowerSide, Pressure ID Fan Inlet, Canopy Damper Position, ID Fan1 Speed, ID Fan1 Current, ID Fan2 Speed]\n",
       "Index: []"
      ]
     },
     "execution_count": 99,
     "metadata": {},
     "output_type": "execute_result"
    }
   ],
   "source": [
    "hi = df[(df['ID Fan1 Speed']>900) & (df['ID Fan1 Speed']<943)]\n",
    "hi"
   ]
  },
  {
   "cell_type": "code",
   "execution_count": 100,
   "id": "a3aced9a",
   "metadata": {},
   "outputs": [
    {
     "name": "stdout",
     "output_type": "stream",
     "text": [
      "DP Across baghouse - LowerSide    0\n",
      "Pressure ID Fan Inlet             0\n",
      "Canopy Damper Position            0\n",
      "ID Fan1 Speed                     0\n",
      "ID Fan1 Current                   0\n",
      "ID Fan2 Speed                     0\n",
      "dtype: int64\n"
     ]
    }
   ],
   "source": [
    "print(df.isna().sum())\n",
    "df.dropna(inplace=True)"
   ]
  },
  {
   "cell_type": "code",
   "execution_count": 101,
   "id": "32549e9c",
   "metadata": {},
   "outputs": [],
   "source": [
    "x = df.drop('Pressure ID Fan Inlet',axis = 1)\n",
    "y = df['Pressure ID Fan Inlet']"
   ]
  },
  {
   "cell_type": "code",
   "execution_count": 102,
   "id": "87cc5a7f",
   "metadata": {},
   "outputs": [],
   "source": [
    "x = np.array(x)"
   ]
  },
  {
   "cell_type": "code",
   "execution_count": 103,
   "id": "c57fda26",
   "metadata": {},
   "outputs": [
    {
     "data": {
      "text/plain": [
       "array([[ 17.62587,  66.30715, 946.2    , 228.6638 , 945.4032 ],\n",
       "       [ 18.51997,  60.93208, 946.2    , 226.4158 , 945.4032 ],\n",
       "       [ 18.84115,  60.93605, 946.2    , 221.428  , 945.4032 ],\n",
       "       ...,\n",
       "       [ 17.33652,  65.75412, 946.2    , 227.4695 , 945.4032 ],\n",
       "       [ 17.2555 ,  65.75412, 946.2    , 227.7505 , 945.4032 ],\n",
       "       [ 17.56655,  65.75412, 946.2    , 226.8372 , 945.4032 ]])"
      ]
     },
     "execution_count": 103,
     "metadata": {},
     "output_type": "execute_result"
    }
   ],
   "source": [
    "x"
   ]
  },
  {
   "cell_type": "code",
   "execution_count": 104,
   "id": "4cd28f06",
   "metadata": {},
   "outputs": [
    {
     "name": "stderr",
     "output_type": "stream",
     "text": [
      "c:\\Users\\DELL\\AppData\\Local\\Programs\\Python\\Python312\\Lib\\site-packages\\sklearn\\utils\\validation.py:2749: UserWarning: X does not have valid feature names, but StandardScaler was fitted with feature names\n",
      "  warnings.warn(\n"
     ]
    }
   ],
   "source": [
    "sc = joblib.load(\"scaler(7).pkl\")\n",
    "x_scaled = sc.transform(x)"
   ]
  },
  {
   "cell_type": "code",
   "execution_count": 105,
   "id": "766880e5",
   "metadata": {},
   "outputs": [
    {
     "name": "stdout",
     "output_type": "stream",
     "text": [
      "\u001b[1m24/24\u001b[0m \u001b[32m━━━━━━━━━━━━━━━━━━━━\u001b[0m\u001b[37m\u001b[0m \u001b[1m0s\u001b[0m 6ms/step\n"
     ]
    }
   ],
   "source": [
    "pred = model.predict(x_scaled)"
   ]
  },
  {
   "cell_type": "code",
   "execution_count": 106,
   "id": "3b1f3217",
   "metadata": {},
   "outputs": [],
   "source": [
    "see = pd.DataFrame()\n",
    "see['y'] = y\n",
    "see['pred'] = pred.flatten()\n",
    "\n"
   ]
  },
  {
   "cell_type": "code",
   "execution_count": 107,
   "id": "9457045c",
   "metadata": {},
   "outputs": [
    {
     "data": {
      "text/html": [
       "<div>\n",
       "<style scoped>\n",
       "    .dataframe tbody tr th:only-of-type {\n",
       "        vertical-align: middle;\n",
       "    }\n",
       "\n",
       "    .dataframe tbody tr th {\n",
       "        vertical-align: top;\n",
       "    }\n",
       "\n",
       "    .dataframe thead th {\n",
       "        text-align: right;\n",
       "    }\n",
       "</style>\n",
       "<table border=\"1\" class=\"dataframe\">\n",
       "  <thead>\n",
       "    <tr style=\"text-align: right;\">\n",
       "      <th></th>\n",
       "      <th>y</th>\n",
       "      <th>pred</th>\n",
       "    </tr>\n",
       "  </thead>\n",
       "  <tbody>\n",
       "    <tr>\n",
       "      <th>0</th>\n",
       "      <td>-386.0677</td>\n",
       "      <td>-390.423859</td>\n",
       "    </tr>\n",
       "    <tr>\n",
       "      <th>1</th>\n",
       "      <td>-400.0651</td>\n",
       "      <td>-405.009369</td>\n",
       "    </tr>\n",
       "    <tr>\n",
       "      <th>2</th>\n",
       "      <td>-397.2801</td>\n",
       "      <td>-403.466827</td>\n",
       "    </tr>\n",
       "    <tr>\n",
       "      <th>3</th>\n",
       "      <td>-391.2399</td>\n",
       "      <td>-402.850891</td>\n",
       "    </tr>\n",
       "    <tr>\n",
       "      <th>4</th>\n",
       "      <td>-390.9505</td>\n",
       "      <td>-403.306305</td>\n",
       "    </tr>\n",
       "    <tr>\n",
       "      <th>...</th>\n",
       "      <td>...</td>\n",
       "      <td>...</td>\n",
       "    </tr>\n",
       "    <tr>\n",
       "      <th>999</th>\n",
       "      <td>-379.4126</td>\n",
       "      <td>-382.487579</td>\n",
       "    </tr>\n",
       "    <tr>\n",
       "      <th>1000</th>\n",
       "      <td>-386.7188</td>\n",
       "      <td>-382.421844</td>\n",
       "    </tr>\n",
       "    <tr>\n",
       "      <th>1001</th>\n",
       "      <td>-390.5526</td>\n",
       "      <td>-382.342926</td>\n",
       "    </tr>\n",
       "    <tr>\n",
       "      <th>1006</th>\n",
       "      <td>-375.9766</td>\n",
       "      <td>-389.541229</td>\n",
       "    </tr>\n",
       "    <tr>\n",
       "      <th>1007</th>\n",
       "      <td>-395.9780</td>\n",
       "      <td>-393.217010</td>\n",
       "    </tr>\n",
       "  </tbody>\n",
       "</table>\n",
       "<p>700 rows × 2 columns</p>\n",
       "</div>"
      ],
      "text/plain": [
       "             y        pred\n",
       "0    -386.0677 -390.423859\n",
       "1    -400.0651 -405.009369\n",
       "2    -397.2801 -403.466827\n",
       "3    -391.2399 -402.850891\n",
       "4    -390.9505 -403.306305\n",
       "...        ...         ...\n",
       "999  -379.4126 -382.487579\n",
       "1000 -386.7188 -382.421844\n",
       "1001 -390.5526 -382.342926\n",
       "1006 -375.9766 -389.541229\n",
       "1007 -395.9780 -393.217010\n",
       "\n",
       "[700 rows x 2 columns]"
      ]
     },
     "execution_count": 107,
     "metadata": {},
     "output_type": "execute_result"
    }
   ],
   "source": [
    "see.head(700)"
   ]
  },
  {
   "cell_type": "code",
   "execution_count": 108,
   "id": "578101ce",
   "metadata": {},
   "outputs": [
    {
     "name": "stdout",
     "output_type": "stream",
     "text": [
      "2.519128523199287\n",
      "29.02578402129727\n"
     ]
    },
    {
     "data": {
      "text/plain": [
       "-2.6663258163708505"
      ]
     },
     "execution_count": 108,
     "metadata": {},
     "output_type": "execute_result"
    }
   ],
   "source": [
    "from sklearn.metrics import mean_squared_error\n",
    "mape = np.mean(np.abs((y - pred.flatten()) / y)) * 100\n",
    "print(mape)\n",
    "rmse = np.sqrt(mean_squared_error(y, pred.flatten()))\n",
    "print(rmse)\n",
    "\n",
    "\n",
    "r2_score(y,pred.flatten())"
   ]
  },
  {
   "cell_type": "code",
   "execution_count": 116,
   "id": "05b04776",
   "metadata": {},
   "outputs": [
    {
     "data": {
      "text/html": [
       "<div>\n",
       "<style scoped>\n",
       "    .dataframe tbody tr th:only-of-type {\n",
       "        vertical-align: middle;\n",
       "    }\n",
       "\n",
       "    .dataframe tbody tr th {\n",
       "        vertical-align: top;\n",
       "    }\n",
       "\n",
       "    .dataframe thead th {\n",
       "        text-align: right;\n",
       "    }\n",
       "</style>\n",
       "<table border=\"1\" class=\"dataframe\">\n",
       "  <thead>\n",
       "    <tr style=\"text-align: right;\">\n",
       "      <th></th>\n",
       "      <th>SampleTime</th>\n",
       "      <th>Process Mode</th>\n",
       "      <th>Oxygen Consumption -Top</th>\n",
       "      <th>Furnace Power</th>\n",
       "      <th>CombustionChamber Pressure</th>\n",
       "      <th>Suction Damper Position feedback</th>\n",
       "      <th>FDC inlet Temprature</th>\n",
       "      <th>FDC Outlet Temp</th>\n",
       "      <th>FDC Outlet Temp - Upperside</th>\n",
       "      <th>DP across FDC</th>\n",
       "      <th>...</th>\n",
       "      <th>DP Across baghouse - UpperSide</th>\n",
       "      <th>DP Across baghouse - LowerSide</th>\n",
       "      <th>Pressure ID Fan Inlet</th>\n",
       "      <th>Canopy Damper Position</th>\n",
       "      <th>Unnamed: 19</th>\n",
       "      <th>Unnamed: 20</th>\n",
       "      <th>ID Fan1 Speed</th>\n",
       "      <th>ID Fan1 Current</th>\n",
       "      <th>ID Fan2 Speed</th>\n",
       "      <th>ID Fan2 Current</th>\n",
       "    </tr>\n",
       "  </thead>\n",
       "  <tbody>\n",
       "    <tr>\n",
       "      <th>219</th>\n",
       "      <td>03.09.2024_06.45.09</td>\n",
       "      <td>128</td>\n",
       "      <td>1305.376</td>\n",
       "      <td>0.0</td>\n",
       "      <td>-9.895828</td>\n",
       "      <td>39.72439</td>\n",
       "      <td>164.1963</td>\n",
       "      <td>81.5</td>\n",
       "      <td>77.0</td>\n",
       "      <td>51.07422</td>\n",
       "      <td>...</td>\n",
       "      <td>14.49508</td>\n",
       "      <td>17.57813</td>\n",
       "      <td>-417.9688</td>\n",
       "      <td>64.97830</td>\n",
       "      <td>36.5</td>\n",
       "      <td>50.4</td>\n",
       "      <td>946.2</td>\n",
       "      <td>236.0400</td>\n",
       "      <td>945.4032</td>\n",
       "      <td>233.8622</td>\n",
       "    </tr>\n",
       "    <tr>\n",
       "      <th>220</th>\n",
       "      <td>03.09.2024_06.50.09</td>\n",
       "      <td>32</td>\n",
       "      <td>2300.813</td>\n",
       "      <td>0.0</td>\n",
       "      <td>-13.632090</td>\n",
       "      <td>58.77098</td>\n",
       "      <td>287.5723</td>\n",
       "      <td>125.0</td>\n",
       "      <td>116.9</td>\n",
       "      <td>85.33710</td>\n",
       "      <td>...</td>\n",
       "      <td>15.03761</td>\n",
       "      <td>17.81395</td>\n",
       "      <td>-425.3110</td>\n",
       "      <td>60.65755</td>\n",
       "      <td>36.8</td>\n",
       "      <td>62.9</td>\n",
       "      <td>946.2</td>\n",
       "      <td>227.5397</td>\n",
       "      <td>945.4032</td>\n",
       "      <td>234.5647</td>\n",
       "    </tr>\n",
       "  </tbody>\n",
       "</table>\n",
       "<p>2 rows × 25 columns</p>\n",
       "</div>"
      ],
      "text/plain": [
       "              SampleTime  Process Mode  Oxygen Consumption -Top  \\\n",
       "219  03.09.2024_06.45.09           128                 1305.376   \n",
       "220  03.09.2024_06.50.09            32                 2300.813   \n",
       "\n",
       "     Furnace Power  CombustionChamber Pressure  \\\n",
       "219            0.0                   -9.895828   \n",
       "220            0.0                  -13.632090   \n",
       "\n",
       "     Suction Damper Position feedback  FDC inlet Temprature  FDC Outlet Temp  \\\n",
       "219                          39.72439              164.1963             81.5   \n",
       "220                          58.77098              287.5723            125.0   \n",
       "\n",
       "     FDC Outlet Temp - Upperside  DP across FDC  ...  \\\n",
       "219                         77.0       51.07422  ...   \n",
       "220                        116.9       85.33710  ...   \n",
       "\n",
       "     DP Across baghouse - UpperSide  DP Across baghouse - LowerSide  \\\n",
       "219                        14.49508                        17.57813   \n",
       "220                        15.03761                        17.81395   \n",
       "\n",
       "     Pressure ID Fan Inlet  Canopy Damper Position  Unnamed: 19  Unnamed: 20  \\\n",
       "219              -417.9688                64.97830         36.5         50.4   \n",
       "220              -425.3110                60.65755         36.8         62.9   \n",
       "\n",
       "     ID Fan1 Speed  ID Fan1 Current  ID Fan2 Speed  ID Fan2 Current  \n",
       "219          946.2         236.0400       945.4032         233.8622  \n",
       "220          946.2         227.5397       945.4032         234.5647  \n",
       "\n",
       "[2 rows x 25 columns]"
      ]
     },
     "execution_count": 116,
     "metadata": {},
     "output_type": "execute_result"
    }
   ],
   "source": [
    "df1[diff.flatten() > 20]"
   ]
  },
  {
   "cell_type": "code",
   "execution_count": 110,
   "id": "adc2a3b5",
   "metadata": {},
   "outputs": [],
   "source": [
    "pred = pred.reshape(1,-1)"
   ]
  },
  {
   "cell_type": "code",
   "execution_count": 111,
   "id": "c54a5f0e",
   "metadata": {},
   "outputs": [],
   "source": [
    "diff = pred - (np.array(y)).reshape(1,-1)\n",
    "diff_series = pd.Series(diff.flatten)\n",
    "diff_df = pd.DataFrame(diff)\n",
    "diff_np = np.array(diff)\n"
   ]
  },
  {
   "cell_type": "code",
   "execution_count": 112,
   "id": "fcde779f",
   "metadata": {},
   "outputs": [
    {
     "data": {
      "text/plain": [
       "np.float64(-4.130024403601171)"
      ]
     },
     "execution_count": 112,
     "metadata": {},
     "output_type": "execute_result"
    }
   ],
   "source": [
    "diff.mean()"
   ]
  },
  {
   "cell_type": "code",
   "execution_count": 113,
   "id": "7d2a9731",
   "metadata": {},
   "outputs": [
    {
     "name": "stdout",
     "output_type": "stream",
     "text": [
      "DP Across baghouse - LowerSide     17.07031\n",
      "Pressure ID Fan Inlet            -414.67740\n",
      "Canopy Damper Position             64.97830\n",
      "ID Fan1 Speed                     946.20000\n",
      "ID Fan1 Current                   236.88300\n",
      "ID Fan2 Speed                     945.40320\n",
      "Name: 218, dtype: float64\n",
      "DP Across baghouse - LowerSide     17.57813\n",
      "Pressure ID Fan Inlet            -417.96880\n",
      "Canopy Damper Position             64.97830\n",
      "ID Fan1 Speed                     946.20000\n",
      "ID Fan1 Current                   236.04000\n",
      "ID Fan2 Speed                     945.40320\n",
      "Name: 219, dtype: float64\n"
     ]
    }
   ],
   "source": [
    "\n",
    "print(df.iloc[161])\n",
    "print(df.iloc[162])\n",
    "# print(df.iloc[163])"
   ]
  },
  {
   "cell_type": "code",
   "execution_count": 114,
   "id": "11e9eaa4",
   "metadata": {},
   "outputs": [
    {
     "name": "stdout",
     "output_type": "stream",
     "text": [
      "[20.56374019 21.77672876]\n",
      "(array([0, 0]), array([162, 163]))\n"
     ]
    }
   ],
   "source": [
    "print(diff[diff>20])\n",
    "print(np.where(diff>20))"
   ]
  },
  {
   "cell_type": "code",
   "execution_count": 115,
   "id": "be54cef4",
   "metadata": {},
   "outputs": [
    {
     "data": {
      "text/plain": [
       "<matplotlib.collections.PathCollection at 0x23928ee11f0>"
      ]
     },
     "execution_count": 115,
     "metadata": {},
     "output_type": "execute_result"
    },
    {
     "data": {
      "image/png": "[encoded data removed]",
      "text/plain": [
       "<Figure size 640x480 with 1 Axes>"
      ]
     },
     "metadata": {},
     "output_type": "display_data"
    }
   ],
   "source": [
    "plt.scatter(y,diff)"
   ]
  }
 ],
 "metadata": {
  "kernelspec": {
   "display_name": "Python 3",
   "language": "python",
   "name": "python3"
  },
  "language_info": {
   "codemirror_mode": {
    "name": "ipython",
    "version": 3
   },
   "file_extension": ".py",
   "mimetype": "text/x-python",
   "name": "python",
   "nbconvert_exporter": "python",
   "pygments_lexer": "ipython3",
   "version": "3.12.0"
  }
 },
 "nbformat": 4,
 "nbformat_minor": 5
}
