{
 "cells": [
  {
   "cell_type": "code",
   "execution_count": 34,
   "metadata": {
    "executionInfo": {
     "elapsed": 49,
     "status": "ok",
     "timestamp": 1750052369797,
     "user": {
      "displayName": "Rishi Mulani",
      "userId": "04836978093625403382"
     },
     "user_tz": -330
    },
    "id": "DLkd3mbTJmQA"
   },
   "outputs": [],
   "source": [
    "import pandas as pd\n",
    "import numpy as np\n",
    "import matplotlib.pyplot as plt"
   ]
  },
  {
   "cell_type": "code",
   "execution_count": 35,
   "metadata": {
    "colab": {
     "base_uri": "https://localhost:8080/",
     "height": 308
    },
    "executionInfo": {
     "elapsed": 534,
     "status": "ok",
     "timestamp": 1750052370333,
     "user": {
      "displayName": "Rishi Mulani",
      "userId": "04836978093625403382"
     },
     "user_tz": -330
    },
    "id": "qESxF-90Jviu",
    "outputId": "9b984e3c-b880-4fa3-801d-3fc0704f46b9"
   },
   "outputs": [],
   "source": [
    "df_arr = []\n",
    "\n",
    "\n",
    "# df = pd.read_csv('csv/Batch-1.1.csv')\n",
    "# df.head()\n",
    "\n",
    "# df1 = pd.read_csv('csv/Batch-1.2.csv')\n",
    "# df1.head()\n",
    "\n",
    "# df2 = pd.read_csv('/content/drive/MyDrive/AMNS_FES/all csv data/Batch-1.3.csv')\n",
    "# df2.head()\n",
    "\n",
    "# df3 = pd.read_csv('/content/drive/MyDrive/AMNS_FES/all csv data/Batch-1.4.csv')\n",
    "# df3.head()\n",
    "\n",
    "# df4 = pd.read_csv('/content/drive/MyDrive/AMNS_FES/all csv data/Batch-2.1 - Sheet1 - Batch-2.1 - Sheet1.csv')\n",
    "# df4.head()\n",
    "\n",
    "# df5 = pd.read_csv('/content/drive/MyDrive/AMNS_FES/all csv data/Batch-2.2 - Sheet1 - Batch-2.2 - Sheet1.csv')\n",
    "# df5.head()\n",
    "\n",
    "# df6 = pd.read_csv('/content/drive/MyDrive/AMNS_FES/all csv data/Batch-2.3 - Sheet1 - Batch-2.3 - Sheet1.csv')\n",
    "# df6.head()\n",
    "\n",
    "# df7 = pd.read_csv('/content/drive/MyDrive/AMNS_FES/all csv data/Batch-2.4 - Sheet1 - Batch-2.4 - Sheet1.csv')\n",
    "# df7.head()\n",
    "\n",
    "\n",
    "df_arr.append(pd.read_csv('csv/Batch-1.1.csv').iloc[:,1:25])\n",
    "df_arr.append(pd.read_csv('csv/Batch-1.2.csv').iloc[:,1:25])\n",
    "df_arr.append(pd.read_csv('csv/Batch-1.3.csv').iloc[:,1:25])\n",
    "df_arr.append(pd.read_csv('csv/Batch-1.4.csv').iloc[:,1:25])\n",
    "df_arr.append(pd.read_csv('csv/Batch-2.1.csv').iloc[:,1:25])\n",
    "df_arr.append(pd.read_csv('csv/Batch-2.2.csv').iloc[:,1:25])\n",
    "df_arr.append(pd.read_csv('csv/Batch-2.3.csv').iloc[:,1:25])\n",
    "df_arr.append(pd.read_csv('csv/Batch-2.4.csv').iloc[:,1:25])\n",
    "\n",
    "# df_arr.append(pd.read_csv('csv/FES_11_Log_02.09.2024_12.30.09.csv').iloc[:, 1:25])\n",
    "# df_arr.append(pd.read_csv('csv/FES_11_Log_06.09.2024_06.30.12.csv').iloc[:, 1:25])\n",
    "# df_arr.append(pd.read_csv('csv/FES_11_Log_09.10.2024_08.53.12.csv').iloc[:, 1:25])\n",
    "# df_arr.append(pd.read_csv('csv/FES_11_Log_10.09.2024_00.35.13.csv').iloc[:, 1:25])\n",
    "# df_arr.append(pd.read_csv('csv/FES_11_Log_13.09.2024_18.35.15.csv').iloc[:, 1:25])\n",
    "# df_arr.append(pd.read_csv('csv/FES_11_Log_16.10.2024_17.25.00.csv').iloc[:, 1:25])\n",
    "# df_arr.append(pd.read_csv('csv/FES_11_Log_17.09.2024_12.36.08.csv').iloc[:, 1:25])\n",
    "# df_arr.append(pd.read_csv('csv/FES_11_Log_17.09.2024_12.36.08.csv').iloc[:, 1:25])\n",
    "# df_arr.append(pd.read_csv('csv/one.csv').iloc[:, 1:25])\n",
    "\n",
    "\n",
    "df_arr.append(pd.read_csv('csv/Batch-3.1.csv').iloc[:,1:25])\n",
    "df_arr.append(pd.read_csv('csv/Batch-3.2.csv').iloc[:,1:25])\n",
    "df_arr.append(pd.read_csv('csv/Batch-3.3.csv').iloc[:,1:25])\n",
    "df_arr.append(pd.read_csv('csv/Batch-3.4.csv').iloc[:,1:25])\n",
    "df_arr.append(pd.read_csv('csv/Batch-3.5.csv').iloc[:,1:25])\n",
    "df_arr.append(pd.read_csv('csv/Batch-3.6.csv').iloc[:,1:25])\n",
    "df_arr.append(pd.read_csv('csv/Batch-3.7.csv').iloc[:,1:25])\n",
    "df_arr.append(pd.read_csv('csv/Batch-3.8.csv').iloc[:,1:25])\n",
    "df_arr.append(pd.read_csv('csv/Batch-3.9.csv').iloc[:,1:25])\n"
   ]
  },
  {
   "cell_type": "code",
   "execution_count": 36,
   "metadata": {},
   "outputs": [
    {
     "name": "stdout",
     "output_type": "stream",
     "text": [
      "(23413, 21)\n"
     ]
    },
    {
     "data": {
      "text/html": [
       "<div>\n",
       "<style scoped>\n",
       "    .dataframe tbody tr th:only-of-type {\n",
       "        vertical-align: middle;\n",
       "    }\n",
       "\n",
       "    .dataframe tbody tr th {\n",
       "        vertical-align: top;\n",
       "    }\n",
       "\n",
       "    .dataframe thead th {\n",
       "        text-align: right;\n",
       "    }\n",
       "</style>\n",
       "<table border=\"1\" class=\"dataframe\">\n",
       "  <thead>\n",
       "    <tr style=\"text-align: right;\">\n",
       "      <th></th>\n",
       "      <th>Process Mode</th>\n",
       "      <th>Oxygen Consumption -Top</th>\n",
       "      <th>Furnace Power</th>\n",
       "      <th>CombustionChamber Pressure</th>\n",
       "      <th>Suction Damper Position feedback</th>\n",
       "      <th>FDC inlet Temprature</th>\n",
       "      <th>FDC Outlet Temp</th>\n",
       "      <th>FDC Outlet Temp - Upperside</th>\n",
       "      <th>DP across FDC</th>\n",
       "      <th>FDC Outlet Pressure</th>\n",
       "      <th>...</th>\n",
       "      <th>Temp at BagHouse Inlet - UpperSide</th>\n",
       "      <th>Temp at BagHouse Inlet - LowerSide</th>\n",
       "      <th>Pressure at BagHouse Inlet</th>\n",
       "      <th>DP Across baghouse - UpperSide</th>\n",
       "      <th>DP Across baghouse - LowerSide</th>\n",
       "      <th>Pressure ID Fan Inlet</th>\n",
       "      <th>Canopy Damper Position</th>\n",
       "      <th>ID Fan1 Speed</th>\n",
       "      <th>ID Fan1 Current</th>\n",
       "      <th>ID Fan2 Speed</th>\n",
       "    </tr>\n",
       "  </thead>\n",
       "  <tbody>\n",
       "    <tr>\n",
       "      <th>0</th>\n",
       "      <td>128</td>\n",
       "      <td>1887.744</td>\n",
       "      <td>0.0</td>\n",
       "      <td>-11.65726</td>\n",
       "      <td>58.70226</td>\n",
       "      <td>274.2838</td>\n",
       "      <td>135.1</td>\n",
       "      <td>129.7</td>\n",
       "      <td>55.91363</td>\n",
       "      <td>-114.2795</td>\n",
       "      <td>...</td>\n",
       "      <td>68.5</td>\n",
       "      <td>65.7</td>\n",
       "      <td>-216.1675</td>\n",
       "      <td>14.932</td>\n",
       "      <td>17.62587</td>\n",
       "      <td>-386.0677</td>\n",
       "      <td>66.30715</td>\n",
       "      <td>946.2</td>\n",
       "      <td>228.6638</td>\n",
       "      <td>945.4032</td>\n",
       "    </tr>\n",
       "    <tr>\n",
       "      <th>1</th>\n",
       "      <td>32</td>\n",
       "      <td>2890.05</td>\n",
       "      <td>0.0</td>\n",
       "      <td>-13.97569</td>\n",
       "      <td>92.22367</td>\n",
       "      <td>400.8029</td>\n",
       "      <td>168.8</td>\n",
       "      <td>162.6</td>\n",
       "      <td>103.3782</td>\n",
       "      <td>-122.7214</td>\n",
       "      <td>...</td>\n",
       "      <td>79.4</td>\n",
       "      <td>74.0</td>\n",
       "      <td>-219.9002</td>\n",
       "      <td>15.85503</td>\n",
       "      <td>18.51997</td>\n",
       "      <td>-400.0651</td>\n",
       "      <td>60.93208</td>\n",
       "      <td>946.2</td>\n",
       "      <td>226.4158</td>\n",
       "      <td>945.4032</td>\n",
       "    </tr>\n",
       "    <tr>\n",
       "      <th>2</th>\n",
       "      <td>32</td>\n",
       "      <td>3892.103</td>\n",
       "      <td>0.0</td>\n",
       "      <td>-13.86719</td>\n",
       "      <td>92.22367</td>\n",
       "      <td>466.3701</td>\n",
       "      <td>191.8</td>\n",
       "      <td>186.5</td>\n",
       "      <td>50.24234</td>\n",
       "      <td>-105.4471</td>\n",
       "      <td>...</td>\n",
       "      <td>85.6</td>\n",
       "      <td>80.7</td>\n",
       "      <td>-215.408</td>\n",
       "      <td>16.05035</td>\n",
       "      <td>18.84115</td>\n",
       "      <td>-397.2801</td>\n",
       "      <td>60.93605</td>\n",
       "      <td>946.2</td>\n",
       "      <td>221.428</td>\n",
       "      <td>945.4032</td>\n",
       "    </tr>\n",
       "    <tr>\n",
       "      <th>3</th>\n",
       "      <td>32</td>\n",
       "      <td>4897.067</td>\n",
       "      <td>0.0</td>\n",
       "      <td>-13.58145</td>\n",
       "      <td>92.22729</td>\n",
       "      <td>492.1911</td>\n",
       "      <td>190.5</td>\n",
       "      <td>186.6</td>\n",
       "      <td>85.76027</td>\n",
       "      <td>-119.5096</td>\n",
       "      <td>...</td>\n",
       "      <td>85.1</td>\n",
       "      <td>82.8</td>\n",
       "      <td>-210.4601</td>\n",
       "      <td>16.11979</td>\n",
       "      <td>18.69213</td>\n",
       "      <td>-391.2399</td>\n",
       "      <td>60.93605</td>\n",
       "      <td>946.2</td>\n",
       "      <td>221.3578</td>\n",
       "      <td>945.4032</td>\n",
       "    </tr>\n",
       "    <tr>\n",
       "      <th>4</th>\n",
       "      <td>32</td>\n",
       "      <td>5902.126</td>\n",
       "      <td>0.0</td>\n",
       "      <td>-13.96846</td>\n",
       "      <td>92.23814</td>\n",
       "      <td>492.8675</td>\n",
       "      <td>184.3</td>\n",
       "      <td>181.5</td>\n",
       "      <td>67.95067</td>\n",
       "      <td>-119.401</td>\n",
       "      <td>...</td>\n",
       "      <td>82.8</td>\n",
       "      <td>82.9</td>\n",
       "      <td>-215.1259</td>\n",
       "      <td>15.9375</td>\n",
       "      <td>18.62558</td>\n",
       "      <td>-390.9505</td>\n",
       "      <td>60.93208</td>\n",
       "      <td>946.2</td>\n",
       "      <td>222.6222</td>\n",
       "      <td>945.4032</td>\n",
       "    </tr>\n",
       "  </tbody>\n",
       "</table>\n",
       "<p>5 rows × 21 columns</p>\n",
       "</div>"
      ],
      "text/plain": [
       "  Process Mode Oxygen Consumption -Top Furnace Power  \\\n",
       "0          128                1887.744           0.0   \n",
       "1           32                 2890.05           0.0   \n",
       "2           32                3892.103           0.0   \n",
       "3           32                4897.067           0.0   \n",
       "4           32                5902.126           0.0   \n",
       "\n",
       "  CombustionChamber Pressure Suction Damper Position feedback  \\\n",
       "0                  -11.65726                         58.70226   \n",
       "1                  -13.97569                         92.22367   \n",
       "2                  -13.86719                         92.22367   \n",
       "3                  -13.58145                         92.22729   \n",
       "4                  -13.96846                         92.23814   \n",
       "\n",
       "  FDC inlet Temprature FDC Outlet Temp FDC Outlet Temp - Upperside  \\\n",
       "0             274.2838           135.1                       129.7   \n",
       "1             400.8029           168.8                       162.6   \n",
       "2             466.3701           191.8                       186.5   \n",
       "3             492.1911           190.5                       186.6   \n",
       "4             492.8675           184.3                       181.5   \n",
       "\n",
       "  DP across FDC FDC Outlet Pressure  ... Temp at BagHouse Inlet - UpperSide  \\\n",
       "0      55.91363           -114.2795  ...                               68.5   \n",
       "1      103.3782           -122.7214  ...                               79.4   \n",
       "2      50.24234           -105.4471  ...                               85.6   \n",
       "3      85.76027           -119.5096  ...                               85.1   \n",
       "4      67.95067            -119.401  ...                               82.8   \n",
       "\n",
       "  Temp at BagHouse Inlet - LowerSide Pressure at BagHouse Inlet  \\\n",
       "0                               65.7                  -216.1675   \n",
       "1                               74.0                  -219.9002   \n",
       "2                               80.7                   -215.408   \n",
       "3                               82.8                  -210.4601   \n",
       "4                               82.9                  -215.1259   \n",
       "\n",
       "  DP Across baghouse - UpperSide DP Across baghouse - LowerSide  \\\n",
       "0                         14.932                       17.62587   \n",
       "1                       15.85503                       18.51997   \n",
       "2                       16.05035                       18.84115   \n",
       "3                       16.11979                       18.69213   \n",
       "4                        15.9375                       18.62558   \n",
       "\n",
       "  Pressure ID Fan Inlet Canopy Damper Position ID Fan1 Speed ID Fan1 Current  \\\n",
       "0             -386.0677               66.30715         946.2        228.6638   \n",
       "1             -400.0651               60.93208         946.2        226.4158   \n",
       "2             -397.2801               60.93605         946.2         221.428   \n",
       "3             -391.2399               60.93605         946.2        221.3578   \n",
       "4             -390.9505               60.93208         946.2        222.6222   \n",
       "\n",
       "  ID Fan2 Speed  \n",
       "0      945.4032  \n",
       "1      945.4032  \n",
       "2      945.4032  \n",
       "3      945.4032  \n",
       "4      945.4032  \n",
       "\n",
       "[5 rows x 21 columns]"
      ]
     },
     "execution_count": 36,
     "metadata": {},
     "output_type": "execute_result"
    }
   ],
   "source": [
    "df = pd.concat(df_arr, ignore_index=True)\n",
    "df.drop(columns=['ID Fan2 Current','Unnamed: 19','Unnamed: 20'],inplace=True)\n",
    "print(df.shape)\n",
    "df.head()\n"
   ]
  },
  {
   "cell_type": "code",
   "execution_count": 37,
   "metadata": {},
   "outputs": [
    {
     "data": {
      "text/plain": [
       "Index(['Process Mode', 'Oxygen Consumption -Top', 'Furnace Power',\n",
       "       'CombustionChamber Pressure', 'Suction Damper Position feedback',\n",
       "       'FDC inlet Temprature', 'FDC Outlet Temp',\n",
       "       'FDC Outlet Temp - Upperside', 'DP across FDC', 'FDC Outlet Pressure',\n",
       "       'Pressure at Gas Mixter inlet', 'Temp at BagHouse Inlet - UpperSide',\n",
       "       'Temp at BagHouse Inlet - LowerSide', 'Pressure at BagHouse Inlet',\n",
       "       'DP Across baghouse - UpperSide', 'DP Across baghouse - LowerSide',\n",
       "       'Pressure ID Fan Inlet', 'Canopy Damper Position', 'ID Fan1 Speed',\n",
       "       'ID Fan1 Current', 'ID Fan2 Speed'],\n",
       "      dtype='object')"
      ]
     },
     "execution_count": 37,
     "metadata": {},
     "output_type": "execute_result"
    }
   ],
   "source": [
    "df.columns"
   ]
  },
  {
   "cell_type": "code",
   "execution_count": 38,
   "metadata": {},
   "outputs": [
    {
     "name": "stdout",
     "output_type": "stream",
     "text": [
      "Process Mode                          0\n",
      "Oxygen Consumption -Top               0\n",
      "Furnace Power                         0\n",
      "CombustionChamber Pressure            0\n",
      "Suction Damper Position feedback      0\n",
      "FDC inlet Temprature                  0\n",
      "FDC Outlet Temp                       0\n",
      "FDC Outlet Temp - Upperside           0\n",
      "DP across FDC                         0\n",
      "FDC Outlet Pressure                   0\n",
      "Pressure at Gas Mixter inlet          0\n",
      "Temp at BagHouse Inlet - UpperSide    0\n",
      "Temp at BagHouse Inlet - LowerSide    0\n",
      "Pressure at BagHouse Inlet            0\n",
      "DP Across baghouse - UpperSide        0\n",
      "DP Across baghouse - LowerSide        0\n",
      "Pressure ID Fan Inlet                 0\n",
      "Canopy Damper Position                0\n",
      "ID Fan1 Speed                         0\n",
      "ID Fan1 Current                       0\n",
      "ID Fan2 Speed                         1\n",
      "dtype: int64\n"
     ]
    }
   ],
   "source": [
    "print(df.isna().sum())\n",
    "df = df.dropna()"
   ]
  },
  {
   "cell_type": "code",
   "execution_count": 39,
   "metadata": {},
   "outputs": [
    {
     "data": {
      "text/plain": [
       "Process Mode                          0\n",
       "Oxygen Consumption -Top               0\n",
       "Furnace Power                         0\n",
       "CombustionChamber Pressure            0\n",
       "Suction Damper Position feedback      0\n",
       "FDC inlet Temprature                  0\n",
       "FDC Outlet Temp                       0\n",
       "FDC Outlet Temp - Upperside           0\n",
       "DP across FDC                         0\n",
       "FDC Outlet Pressure                   0\n",
       "Pressure at Gas Mixter inlet          0\n",
       "Temp at BagHouse Inlet - UpperSide    0\n",
       "Temp at BagHouse Inlet - LowerSide    0\n",
       "Pressure at BagHouse Inlet            0\n",
       "DP Across baghouse - UpperSide        0\n",
       "DP Across baghouse - LowerSide        0\n",
       "Pressure ID Fan Inlet                 0\n",
       "Canopy Damper Position                0\n",
       "ID Fan1 Speed                         0\n",
       "ID Fan1 Current                       0\n",
       "ID Fan2 Speed                         0\n",
       "dtype: int64"
      ]
     },
     "execution_count": 39,
     "metadata": {},
     "output_type": "execute_result"
    }
   ],
   "source": [
    "df.isna().sum()"
   ]
  },
  {
   "cell_type": "code",
   "execution_count": 40,
   "metadata": {
    "executionInfo": {
     "elapsed": 19,
     "status": "ok",
     "timestamp": 1750052370561,
     "user": {
      "displayName": "Rishi Mulani",
      "userId": "04836978093625403382"
     },
     "user_tz": -330
    },
    "id": "4AoiA2qModjp"
   },
   "outputs": [],
   "source": [
    "# for col in ['Pressure ID Fan Inlet']:\n",
    "#   df[col] = pd.to_numeric(df[col], errors='coerce')\n",
    "# df = df[df['Pressure ID Fan Inlet'] < -100]"
   ]
  },
  {
   "cell_type": "code",
   "execution_count": 41,
   "metadata": {},
   "outputs": [],
   "source": [
    "# df = df[(df['Process Mode']==128) | (df['Process Mode']==16) | (df['Process Mode']==32) | (df['Process Mode']==64) | (df['Process Mode']==2048)]\n",
    "# df.shape"
   ]
  },
  {
   "cell_type": "code",
   "execution_count": 42,
   "metadata": {
    "colab": {
     "base_uri": "https://localhost:8080/",
     "height": 447
    },
    "executionInfo": {
     "elapsed": 428,
     "status": "ok",
     "timestamp": 1750052371031,
     "user": {
      "displayName": "Rishi Mulani",
      "userId": "04836978093625403382"
     },
     "user_tz": -330
    },
    "id": "NjkwM1nhpmqz",
    "outputId": "9b85e080-b507-42e6-8239-2a9397b2a9fd"
   },
   "outputs": [
    {
     "data": {
      "text/plain": [
       "<matplotlib.collections.PathCollection at 0x2a8aac76ba0>"
      ]
     },
     "execution_count": 42,
     "metadata": {},
     "output_type": "execute_result"
    },
    {
     "data": {
      "image/png": "[encoded data removed]",
      "text/plain": [
       "<Figure size 640x480 with 1 Axes>"
      ]
     },
     "metadata": {},
     "output_type": "display_data"
    }
   ],
   "source": [
    "# Convert the specific column to numeric before plotting\n",
    "df['Pressure ID Fan Inlet'] = pd.to_numeric(df['Pressure ID Fan Inlet'], errors='coerce')\n",
    "\n",
    "# Now plot the scatter plot with numeric data\n",
    "plt.scatter(df['Pressure ID Fan Inlet'].index,df['Pressure ID Fan Inlet'].values)"
   ]
  },
  {
   "cell_type": "code",
   "execution_count": 43,
   "metadata": {
    "colab": {
     "base_uri": "https://localhost:8080/",
     "height": 447
    },
    "executionInfo": {
     "elapsed": 296,
     "status": "ok",
     "timestamp": 1750052371330,
     "user": {
      "displayName": "Rishi Mulani",
      "userId": "04836978093625403382"
     },
     "user_tz": -330
    },
    "id": "LxielqN7mhgx",
    "outputId": "9f60fca5-0e9c-4e5e-e13a-b67045a3f121"
   },
   "outputs": [
    {
     "data": {
      "text/plain": [
       "<matplotlib.collections.PathCollection at 0x2a8ac3025a0>"
      ]
     },
     "execution_count": 43,
     "metadata": {},
     "output_type": "execute_result"
    },
    {
     "data": {
      "image/png": "[encoded data removed]",
      "text/plain": [
       "<Figure size 640x480 with 1 Axes>"
      ]
     },
     "metadata": {},
     "output_type": "display_data"
    }
   ],
   "source": [
    "# Convert the specific column to numeric before plotting\n",
    "df['ID Fan1 Speed'] = pd.to_numeric(df['ID Fan1 Speed'], errors='coerce')\n",
    "\n",
    "# Now plot the scatter plot with numeric data\n",
    "plt.scatter(df['ID Fan1 Speed'].index,df['ID Fan1 Speed'].values)"
   ]
  },
  {
   "cell_type": "code",
   "execution_count": 44,
   "metadata": {
    "colab": {
     "base_uri": "https://localhost:8080/",
     "height": 206
    },
    "executionInfo": {
     "elapsed": 71,
     "status": "ok",
     "timestamp": 1750052371403,
     "user": {
      "displayName": "Rishi Mulani",
      "userId": "04836978093625403382"
     },
     "user_tz": -330
    },
    "id": "oZDRDoNUtvrb",
    "outputId": "1854f9b5-fd2f-4663-9932-2cd0fd75abe7"
   },
   "outputs": [
    {
     "data": {
      "text/html": [
       "<div>\n",
       "<style scoped>\n",
       "    .dataframe tbody tr th:only-of-type {\n",
       "        vertical-align: middle;\n",
       "    }\n",
       "\n",
       "    .dataframe tbody tr th {\n",
       "        vertical-align: top;\n",
       "    }\n",
       "\n",
       "    .dataframe thead th {\n",
       "        text-align: right;\n",
       "    }\n",
       "</style>\n",
       "<table border=\"1\" class=\"dataframe\">\n",
       "  <thead>\n",
       "    <tr style=\"text-align: right;\">\n",
       "      <th></th>\n",
       "      <th>DP Across baghouse - LowerSide</th>\n",
       "      <th>Pressure ID Fan Inlet</th>\n",
       "      <th>Canopy Damper Position</th>\n",
       "      <th>ID Fan1 Speed</th>\n",
       "      <th>ID Fan1 Current</th>\n",
       "      <th>ID Fan2 Speed</th>\n",
       "    </tr>\n",
       "  </thead>\n",
       "  <tbody>\n",
       "    <tr>\n",
       "      <th>0</th>\n",
       "      <td>17.62587</td>\n",
       "      <td>-386.0677</td>\n",
       "      <td>66.30715</td>\n",
       "      <td>946.2</td>\n",
       "      <td>228.6638</td>\n",
       "      <td>945.4032</td>\n",
       "    </tr>\n",
       "    <tr>\n",
       "      <th>1</th>\n",
       "      <td>18.51997</td>\n",
       "      <td>-400.0651</td>\n",
       "      <td>60.93208</td>\n",
       "      <td>946.2</td>\n",
       "      <td>226.4158</td>\n",
       "      <td>945.4032</td>\n",
       "    </tr>\n",
       "    <tr>\n",
       "      <th>2</th>\n",
       "      <td>18.84115</td>\n",
       "      <td>-397.2801</td>\n",
       "      <td>60.93605</td>\n",
       "      <td>946.2</td>\n",
       "      <td>221.428</td>\n",
       "      <td>945.4032</td>\n",
       "    </tr>\n",
       "    <tr>\n",
       "      <th>3</th>\n",
       "      <td>18.69213</td>\n",
       "      <td>-391.2399</td>\n",
       "      <td>60.93605</td>\n",
       "      <td>946.2</td>\n",
       "      <td>221.3578</td>\n",
       "      <td>945.4032</td>\n",
       "    </tr>\n",
       "    <tr>\n",
       "      <th>4</th>\n",
       "      <td>18.62558</td>\n",
       "      <td>-390.9505</td>\n",
       "      <td>60.93208</td>\n",
       "      <td>946.2</td>\n",
       "      <td>222.6222</td>\n",
       "      <td>945.4032</td>\n",
       "    </tr>\n",
       "  </tbody>\n",
       "</table>\n",
       "</div>"
      ],
      "text/plain": [
       "  DP Across baghouse - LowerSide  Pressure ID Fan Inlet  \\\n",
       "0                       17.62587              -386.0677   \n",
       "1                       18.51997              -400.0651   \n",
       "2                       18.84115              -397.2801   \n",
       "3                       18.69213              -391.2399   \n",
       "4                       18.62558              -390.9505   \n",
       "\n",
       "  Canopy Damper Position  ID Fan1 Speed ID Fan1 Current ID Fan2 Speed  \n",
       "0               66.30715          946.2        228.6638      945.4032  \n",
       "1               60.93208          946.2        226.4158      945.4032  \n",
       "2               60.93605          946.2         221.428      945.4032  \n",
       "3               60.93605          946.2        221.3578      945.4032  \n",
       "4               60.93208          946.2        222.6222      945.4032  "
      ]
     },
     "execution_count": 44,
     "metadata": {},
     "output_type": "execute_result"
    }
   ],
   "source": [
    "df = df.iloc[:,15:24]\n",
    "df.head()"
   ]
  },
  {
   "cell_type": "code",
   "execution_count": 45,
   "metadata": {},
   "outputs": [],
   "source": [
    "df = df.dropna()"
   ]
  },
  {
   "cell_type": "code",
   "execution_count": 46,
   "metadata": {},
   "outputs": [
    {
     "data": {
      "text/plain": [
       "DP Across baghouse - LowerSide    0\n",
       "Pressure ID Fan Inlet             0\n",
       "Canopy Damper Position            0\n",
       "ID Fan1 Speed                     0\n",
       "ID Fan1 Current                   0\n",
       "ID Fan2 Speed                     0\n",
       "dtype: int64"
      ]
     },
     "execution_count": 46,
     "metadata": {},
     "output_type": "execute_result"
    }
   ],
   "source": [
    "df.isna().sum()"
   ]
  },
  {
   "cell_type": "code",
   "execution_count": 47,
   "metadata": {
    "colab": {
     "base_uri": "https://localhost:8080/",
     "height": 206
    },
    "executionInfo": {
     "elapsed": 303,
     "status": "ok",
     "timestamp": 1750052371739,
     "user": {
      "displayName": "Rishi Mulani",
      "userId": "04836978093625403382"
     },
     "user_tz": -330
    },
    "id": "20Ww6tyKt6D5",
    "outputId": "0af35a0b-ea9c-45d3-ef7b-d37d944427aa"
   },
   "outputs": [],
   "source": [
    "# df.drop(columns=['Unnamed: 19','Unnamed: 20'], inplace=True)\n",
    "\n",
    "# df.head()"
   ]
  },
  {
   "cell_type": "code",
   "execution_count": 48,
   "metadata": {
    "colab": {
     "base_uri": "https://localhost:8080/"
    },
    "executionInfo": {
     "elapsed": 113,
     "status": "ok",
     "timestamp": 1750052371767,
     "user": {
      "displayName": "Rishi Mulani",
      "userId": "04836978093625403382"
     },
     "user_tz": -330
    },
    "id": "gh-9BkgNKFJf",
    "outputId": "51145615-517b-42f6-917f-0add0c0d1fb1"
   },
   "outputs": [
    {
     "name": "stdout",
     "output_type": "stream",
     "text": [
      "<class 'pandas.core.frame.DataFrame'>\n",
      "Index: 23411 entries, 0 to 23412\n",
      "Data columns (total 6 columns):\n",
      " #   Column                          Non-Null Count  Dtype  \n",
      "---  ------                          --------------  -----  \n",
      " 0   DP Across baghouse - LowerSide  23411 non-null  float64\n",
      " 1   Pressure ID Fan Inlet           23411 non-null  float64\n",
      " 2   Canopy Damper Position          23411 non-null  float64\n",
      " 3   ID Fan1 Speed                   23411 non-null  float64\n",
      " 4   ID Fan1 Current                 23411 non-null  float64\n",
      " 5   ID Fan2 Speed                   23411 non-null  float64\n",
      "dtypes: float64(6)\n",
      "memory usage: 1.3 MB\n"
     ]
    }
   ],
   "source": [
    "#we can see every column is having datatype of 'object'\n",
    "#so convert all column datatype into numeric\n",
    "\n",
    "for col in df.columns:\n",
    "  df[col] = pd.to_numeric(df[col], errors='coerce')\n",
    "\n",
    "df.info()"
   ]
  },
  {
   "cell_type": "code",
   "execution_count": 49,
   "metadata": {},
   "outputs": [
    {
     "data": {
      "text/html": [
       "<div>\n",
       "<style scoped>\n",
       "    .dataframe tbody tr th:only-of-type {\n",
       "        vertical-align: middle;\n",
       "    }\n",
       "\n",
       "    .dataframe tbody tr th {\n",
       "        vertical-align: top;\n",
       "    }\n",
       "\n",
       "    .dataframe thead th {\n",
       "        text-align: right;\n",
       "    }\n",
       "</style>\n",
       "<table border=\"1\" class=\"dataframe\">\n",
       "  <thead>\n",
       "    <tr style=\"text-align: right;\">\n",
       "      <th></th>\n",
       "      <th>DP Across baghouse - LowerSide</th>\n",
       "      <th>Pressure ID Fan Inlet</th>\n",
       "      <th>Canopy Damper Position</th>\n",
       "      <th>ID Fan1 Speed</th>\n",
       "      <th>ID Fan1 Current</th>\n",
       "      <th>ID Fan2 Speed</th>\n",
       "    </tr>\n",
       "  </thead>\n",
       "  <tbody>\n",
       "    <tr>\n",
       "      <th>DP Across baghouse - LowerSide</th>\n",
       "      <td>1.000000</td>\n",
       "      <td>-0.893173</td>\n",
       "      <td>-0.378101</td>\n",
       "      <td>0.866862</td>\n",
       "      <td>0.840333</td>\n",
       "      <td>0.868276</td>\n",
       "    </tr>\n",
       "    <tr>\n",
       "      <th>Pressure ID Fan Inlet</th>\n",
       "      <td>-0.893173</td>\n",
       "      <td>1.000000</td>\n",
       "      <td>0.514576</td>\n",
       "      <td>-0.950133</td>\n",
       "      <td>-0.922075</td>\n",
       "      <td>-0.953148</td>\n",
       "    </tr>\n",
       "    <tr>\n",
       "      <th>Canopy Damper Position</th>\n",
       "      <td>-0.378101</td>\n",
       "      <td>0.514576</td>\n",
       "      <td>1.000000</td>\n",
       "      <td>-0.288807</td>\n",
       "      <td>-0.204918</td>\n",
       "      <td>-0.290725</td>\n",
       "    </tr>\n",
       "    <tr>\n",
       "      <th>ID Fan1 Speed</th>\n",
       "      <td>0.866862</td>\n",
       "      <td>-0.950133</td>\n",
       "      <td>-0.288807</td>\n",
       "      <td>1.000000</td>\n",
       "      <td>0.982354</td>\n",
       "      <td>0.995149</td>\n",
       "    </tr>\n",
       "    <tr>\n",
       "      <th>ID Fan1 Current</th>\n",
       "      <td>0.840333</td>\n",
       "      <td>-0.922075</td>\n",
       "      <td>-0.204918</td>\n",
       "      <td>0.982354</td>\n",
       "      <td>1.000000</td>\n",
       "      <td>0.977413</td>\n",
       "    </tr>\n",
       "    <tr>\n",
       "      <th>ID Fan2 Speed</th>\n",
       "      <td>0.868276</td>\n",
       "      <td>-0.953148</td>\n",
       "      <td>-0.290725</td>\n",
       "      <td>0.995149</td>\n",
       "      <td>0.977413</td>\n",
       "      <td>1.000000</td>\n",
       "    </tr>\n",
       "  </tbody>\n",
       "</table>\n",
       "</div>"
      ],
      "text/plain": [
       "                                DP Across baghouse - LowerSide  \\\n",
       "DP Across baghouse - LowerSide                        1.000000   \n",
       "Pressure ID Fan Inlet                                -0.893173   \n",
       "Canopy Damper Position                               -0.378101   \n",
       "ID Fan1 Speed                                         0.866862   \n",
       "ID Fan1 Current                                       0.840333   \n",
       "ID Fan2 Speed                                         0.868276   \n",
       "\n",
       "                                Pressure ID Fan Inlet  Canopy Damper Position  \\\n",
       "DP Across baghouse - LowerSide              -0.893173               -0.378101   \n",
       "Pressure ID Fan Inlet                        1.000000                0.514576   \n",
       "Canopy Damper Position                       0.514576                1.000000   \n",
       "ID Fan1 Speed                               -0.950133               -0.288807   \n",
       "ID Fan1 Current                             -0.922075               -0.204918   \n",
       "ID Fan2 Speed                               -0.953148               -0.290725   \n",
       "\n",
       "                                ID Fan1 Speed  ID Fan1 Current  ID Fan2 Speed  \n",
       "DP Across baghouse - LowerSide       0.866862         0.840333       0.868276  \n",
       "Pressure ID Fan Inlet               -0.950133        -0.922075      -0.953148  \n",
       "Canopy Damper Position              -0.288807        -0.204918      -0.290725  \n",
       "ID Fan1 Speed                        1.000000         0.982354       0.995149  \n",
       "ID Fan1 Current                      0.982354         1.000000       0.977413  \n",
       "ID Fan2 Speed                        0.995149         0.977413       1.000000  "
      ]
     },
     "execution_count": 49,
     "metadata": {},
     "output_type": "execute_result"
    }
   ],
   "source": [
    "df.corr()\n"
   ]
  },
  {
   "cell_type": "code",
   "execution_count": 50,
   "metadata": {
    "collapsed": true,
    "executionInfo": {
     "elapsed": 80,
     "status": "ok",
     "timestamp": 1750052371768,
     "user": {
      "displayName": "Rishi Mulani",
      "userId": "04836978093625403382"
     },
     "user_tz": -330
    },
    "id": "oLPn6PNSKJET"
   },
   "outputs": [],
   "source": [
    "# !pip install tensorflow\n",
    "import tensorflow\n",
    "from tensorflow import keras\n",
    "from tensorflow.keras import Sequential\n",
    "from tensorflow.keras.layers import Dense, Dropout\n",
    "from tensorflow.keras.optimizers import Adam"
   ]
  },
  {
   "cell_type": "code",
   "execution_count": 51,
   "metadata": {
    "colab": {
     "base_uri": "https://localhost:8080/"
    },
    "executionInfo": {
     "elapsed": 67,
     "status": "ok",
     "timestamp": 1750052371770,
     "user": {
      "displayName": "Rishi Mulani",
      "userId": "04836978093625403382"
     },
     "user_tz": -330
    },
    "id": "pHOc5NGmKhzE",
    "outputId": "acc222c3-9a05-4fe5-a232-ff206e8b05c4"
   },
   "outputs": [
    {
     "data": {
      "text/plain": [
       "Index(['DP Across baghouse - LowerSide', 'Pressure ID Fan Inlet',\n",
       "       'Canopy Damper Position', 'ID Fan1 Speed', 'ID Fan1 Current',\n",
       "       'ID Fan2 Speed'],\n",
       "      dtype='object')"
      ]
     },
     "execution_count": 51,
     "metadata": {},
     "output_type": "execute_result"
    }
   ],
   "source": [
    "df.columns"
   ]
  },
  {
   "cell_type": "code",
   "execution_count": 52,
   "metadata": {
    "executionInfo": {
     "elapsed": 29,
     "status": "ok",
     "timestamp": 1750052371800,
     "user": {
      "displayName": "Rishi Mulani",
      "userId": "04836978093625403382"
     },
     "user_tz": -330
    },
    "id": "T3NiaKh_Cc85"
   },
   "outputs": [],
   "source": [
    "# df = df[df['Pressure ID Fan Inlet'] < -10]"
   ]
  },
  {
   "cell_type": "code",
   "execution_count": 53,
   "metadata": {
    "executionInfo": {
     "elapsed": 2,
     "status": "ok",
     "timestamp": 1750052371819,
     "user": {
      "displayName": "Rishi Mulani",
      "userId": "04836978093625403382"
     },
     "user_tz": -330
    },
    "id": "7IeV8hUoLPVW"
   },
   "outputs": [],
   "source": [
    "from sklearn.model_selection import train_test_split\n",
    "x = df.drop(columns=['Pressure ID Fan Inlet'],axis=1)\n",
    "y= df['Pressure ID Fan Inlet']\n",
    "x_train,x_test,y_train,y_test = train_test_split(x,y,test_size=0.2,random_state=1)\n"
   ]
  },
  {
   "cell_type": "code",
   "execution_count": 54,
   "metadata": {
    "executionInfo": {
     "elapsed": 2,
     "status": "ok",
     "timestamp": 1750052371837,
     "user": {
      "displayName": "Rishi Mulani",
      "userId": "04836978093625403382"
     },
     "user_tz": -330
    },
    "id": "tCZaF8HoLcUQ"
   },
   "outputs": [],
   "source": [
    "from sklearn.preprocessing import StandardScaler\n",
    "import joblib\n",
    "\n",
    "scaler = StandardScaler()\n",
    "\n",
    "x_train = scaler.fit_transform(x_train)\n",
    "x_test = scaler.transform(x_test)\n",
    "\n",
    "# joblib.dump(scaler, \"scaler(1).pkl\")"
   ]
  },
  {
   "cell_type": "code",
   "execution_count": 55,
   "metadata": {},
   "outputs": [],
   "source": [
    "# joblib.dump(scaler, \"scaler(1).pkl\")"
   ]
  },
  {
   "cell_type": "code",
   "execution_count": 56,
   "metadata": {
    "executionInfo": {
     "elapsed": 2,
     "status": "ok",
     "timestamp": 1750052371854,
     "user": {
      "displayName": "Rishi Mulani",
      "userId": "04836978093625403382"
     },
     "user_tz": -330
    },
    "id": "lntdu8Wt3vT7"
   },
   "outputs": [
    {
     "name": "stderr",
     "output_type": "stream",
     "text": [
      "C:\\Users\\DELL\\AppData\\Roaming\\Python\\Python312\\site-packages\\keras\\src\\layers\\core\\dense.py:93: UserWarning: Do not pass an `input_shape`/`input_dim` argument to a layer. When using Sequential models, prefer using an `Input(shape)` object as the first layer in the model instead.\n",
      "  super().__init__(activity_regularizer=activity_regularizer, **kwargs)\n"
     ]
    }
   ],
   "source": [
    "from tensorflow.keras.models import Sequential\n",
    "from tensorflow.keras.layers import Dense, BatchNormalization\n",
    "model = Sequential()\n",
    "\n",
    "# First layer with input dimension\n",
    "model.add(Dense(32, activation='relu', input_dim=5))\n",
    "# model.add(BatchNormalization())\n",
    "\n",
    "# Hidden layers\n",
    "model.add(Dense(16, activation='relu'))\n",
    "# model.add(BatchNormalization())\n",
    "\n",
    "model.add(Dense(8, activation='relu'))\n",
    "# model.add(BatchNormalization())\n",
    "\n",
    "# Output layer\n",
    "model.add(Dense(1, activation='linear'))  # For regression tasks\n"
   ]
  },
  {
   "cell_type": "code",
   "execution_count": 57,
   "metadata": {
    "colab": {
     "base_uri": "https://localhost:8080/",
     "height": 272
    },
    "executionInfo": {
     "elapsed": 31,
     "status": "ok",
     "timestamp": 1750052371899,
     "user": {
      "displayName": "Rishi Mulani",
      "userId": "04836978093625403382"
     },
     "user_tz": -330
    },
    "id": "Dq0xo8JGK1yx",
    "outputId": "8a3a9f5d-d512-4eef-e574-401e65443ae2"
   },
   "outputs": [
    {
     "data": {
      "text/html": [
       "<pre style=\"white-space:pre;overflow-x:auto;line-height:normal;font-family:Menlo,'DejaVu Sans Mono',consolas,'Courier New',monospace\"><span style=\"font-weight: bold\">Model: \"sequential_3\"</span>\n",
       "</pre>\n"
      ],
      "text/plain": [
       "\u001b[1mModel: \"sequential_3\"\u001b[0m\n"
      ]
     },
     "metadata": {},
     "output_type": "display_data"
    },
    {
     "data": {
      "text/html": [
       "<pre style=\"white-space:pre;overflow-x:auto;line-height:normal;font-family:Menlo,'DejaVu Sans Mono',consolas,'Courier New',monospace\">┏━━━━━━━━━━━━━━━━━━━━━━━━━━━━━━━━━┳━━━━━━━━━━━━━━━━━━━━━━━━┳━━━━━━━━━━━━━━━┓\n",
       "┃<span style=\"font-weight: bold\"> Layer (type)                    </span>┃<span style=\"font-weight: bold\"> Output Shape           </span>┃<span style=\"font-weight: bold\">       Param # </span>┃\n",
       "┡━━━━━━━━━━━━━━━━━━━━━━━━━━━━━━━━━╇━━━━━━━━━━━━━━━━━━━━━━━━╇━━━━━━━━━━━━━━━┩\n",
       "│ dense_12 (<span style=\"color: #0087ff; text-decoration-color: #0087ff\">Dense</span>)                │ (<span style=\"color: #00d7ff; text-decoration-color: #00d7ff\">None</span>, <span style=\"color: #00af00; text-decoration-color: #00af00\">32</span>)             │           <span style=\"color: #00af00; text-decoration-color: #00af00\">192</span> │\n",
       "├─────────────────────────────────┼────────────────────────┼───────────────┤\n",
       "│ dense_13 (<span style=\"color: #0087ff; text-decoration-color: #0087ff\">Dense</span>)                │ (<span style=\"color: #00d7ff; text-decoration-color: #00d7ff\">None</span>, <span style=\"color: #00af00; text-decoration-color: #00af00\">16</span>)             │           <span style=\"color: #00af00; text-decoration-color: #00af00\">528</span> │\n",
       "├─────────────────────────────────┼────────────────────────┼───────────────┤\n",
       "│ dense_14 (<span style=\"color: #0087ff; text-decoration-color: #0087ff\">Dense</span>)                │ (<span style=\"color: #00d7ff; text-decoration-color: #00d7ff\">None</span>, <span style=\"color: #00af00; text-decoration-color: #00af00\">8</span>)              │           <span style=\"color: #00af00; text-decoration-color: #00af00\">136</span> │\n",
       "├─────────────────────────────────┼────────────────────────┼───────────────┤\n",
       "│ dense_15 (<span style=\"color: #0087ff; text-decoration-color: #0087ff\">Dense</span>)                │ (<span style=\"color: #00d7ff; text-decoration-color: #00d7ff\">None</span>, <span style=\"color: #00af00; text-decoration-color: #00af00\">1</span>)              │             <span style=\"color: #00af00; text-decoration-color: #00af00\">9</span> │\n",
       "└─────────────────────────────────┴────────────────────────┴───────────────┘\n",
       "</pre>\n"
      ],
      "text/plain": [
       "┏━━━━━━━━━━━━━━━━━━━━━━━━━━━━━━━━━┳━━━━━━━━━━━━━━━━━━━━━━━━┳━━━━━━━━━━━━━━━┓\n",
       "┃\u001b[1m \u001b[0m\u001b[1mLayer (type)                   \u001b[0m\u001b[1m \u001b[0m┃\u001b[1m \u001b[0m\u001b[1mOutput Shape          \u001b[0m\u001b[1m \u001b[0m┃\u001b[1m \u001b[0m\u001b[1m      Param #\u001b[0m\u001b[1m \u001b[0m┃\n",
       "┡━━━━━━━━━━━━━━━━━━━━━━━━━━━━━━━━━╇━━━━━━━━━━━━━━━━━━━━━━━━╇━━━━━━━━━━━━━━━┩\n",
       "│ dense_12 (\u001b[38;5;33mDense\u001b[0m)                │ (\u001b[38;5;45mNone\u001b[0m, \u001b[38;5;34m32\u001b[0m)             │           \u001b[38;5;34m192\u001b[0m │\n",
       "├─────────────────────────────────┼────────────────────────┼───────────────┤\n",
       "│ dense_13 (\u001b[38;5;33mDense\u001b[0m)                │ (\u001b[38;5;45mNone\u001b[0m, \u001b[38;5;34m16\u001b[0m)             │           \u001b[38;5;34m528\u001b[0m │\n",
       "├─────────────────────────────────┼────────────────────────┼───────────────┤\n",
       "│ dense_14 (\u001b[38;5;33mDense\u001b[0m)                │ (\u001b[38;5;45mNone\u001b[0m, \u001b[38;5;34m8\u001b[0m)              │           \u001b[38;5;34m136\u001b[0m │\n",
       "├─────────────────────────────────┼────────────────────────┼───────────────┤\n",
       "│ dense_15 (\u001b[38;5;33mDense\u001b[0m)                │ (\u001b[38;5;45mNone\u001b[0m, \u001b[38;5;34m1\u001b[0m)              │             \u001b[38;5;34m9\u001b[0m │\n",
       "└─────────────────────────────────┴────────────────────────┴───────────────┘\n"
      ]
     },
     "metadata": {},
     "output_type": "display_data"
    },
    {
     "data": {
      "text/html": [
       "<pre style=\"white-space:pre;overflow-x:auto;line-height:normal;font-family:Menlo,'DejaVu Sans Mono',consolas,'Courier New',monospace\"><span style=\"font-weight: bold\"> Total params: </span><span style=\"color: #00af00; text-decoration-color: #00af00\">865</span> (3.38 KB)\n",
       "</pre>\n"
      ],
      "text/plain": [
       "\u001b[1m Total params: \u001b[0m\u001b[38;5;34m865\u001b[0m (3.38 KB)\n"
      ]
     },
     "metadata": {},
     "output_type": "display_data"
    },
    {
     "data": {
      "text/html": [
       "<pre style=\"white-space:pre;overflow-x:auto;line-height:normal;font-family:Menlo,'DejaVu Sans Mono',consolas,'Courier New',monospace\"><span style=\"font-weight: bold\"> Trainable params: </span><span style=\"color: #00af00; text-decoration-color: #00af00\">865</span> (3.38 KB)\n",
       "</pre>\n"
      ],
      "text/plain": [
       "\u001b[1m Trainable params: \u001b[0m\u001b[38;5;34m865\u001b[0m (3.38 KB)\n"
      ]
     },
     "metadata": {},
     "output_type": "display_data"
    },
    {
     "data": {
      "text/html": [
       "<pre style=\"white-space:pre;overflow-x:auto;line-height:normal;font-family:Menlo,'DejaVu Sans Mono',consolas,'Courier New',monospace\"><span style=\"font-weight: bold\"> Non-trainable params: </span><span style=\"color: #00af00; text-decoration-color: #00af00\">0</span> (0.00 B)\n",
       "</pre>\n"
      ],
      "text/plain": [
       "\u001b[1m Non-trainable params: \u001b[0m\u001b[38;5;34m0\u001b[0m (0.00 B)\n"
      ]
     },
     "metadata": {},
     "output_type": "display_data"
    }
   ],
   "source": [
    "model.summary()"
   ]
  },
  {
   "cell_type": "code",
   "execution_count": 58,
   "metadata": {
    "colab": {
     "base_uri": "https://localhost:8080/"
    },
    "collapsed": true,
    "executionInfo": {
     "elapsed": 27131,
     "status": "ok",
     "timestamp": 1750052399031,
     "user": {
      "displayName": "Rishi Mulani",
      "userId": "04836978093625403382"
     },
     "user_tz": -330
    },
    "id": "k1V5rAmhK83v",
    "outputId": "1fcdb142-7258-48be-acd3-755cbe14cb80"
   },
   "outputs": [
    {
     "name": "stdout",
     "output_type": "stream",
     "text": [
      "Epoch 1/20\n",
      "\u001b[1m469/469\u001b[0m \u001b[32m━━━━━━━━━━━━━━━━━━━━\u001b[0m\u001b[37m\u001b[0m \u001b[1m3s\u001b[0m 3ms/step - loss: 40313.9375 - val_loss: 302.8546\n",
      "Epoch 2/20\n",
      "\u001b[1m469/469\u001b[0m \u001b[32m━━━━━━━━━━━━━━━━━━━━\u001b[0m\u001b[37m\u001b[0m \u001b[1m2s\u001b[0m 3ms/step - loss: 155.0613 - val_loss: 132.4547\n",
      "Epoch 3/20\n",
      "\u001b[1m469/469\u001b[0m \u001b[32m━━━━━━━━━━━━━━━━━━━━\u001b[0m\u001b[37m\u001b[0m \u001b[1m1s\u001b[0m 3ms/step - loss: 85.1359 - val_loss: 97.4934\n",
      "Epoch 4/20\n",
      "\u001b[1m469/469\u001b[0m \u001b[32m━━━━━━━━━━━━━━━━━━━━\u001b[0m\u001b[37m\u001b[0m \u001b[1m2s\u001b[0m 4ms/step - loss: 80.3256 - val_loss: 149.1836\n",
      "Epoch 5/20\n",
      "\u001b[1m469/469\u001b[0m \u001b[32m━━━━━━━━━━━━━━━━━━━━\u001b[0m\u001b[37m\u001b[0m \u001b[1m1s\u001b[0m 2ms/step - loss: 120.3304 - val_loss: 114.1663\n",
      "Epoch 6/20\n",
      "\u001b[1m469/469\u001b[0m \u001b[32m━━━━━━━━━━━━━━━━━━━━\u001b[0m\u001b[37m\u001b[0m \u001b[1m1s\u001b[0m 2ms/step - loss: 84.7354 - val_loss: 114.9432\n",
      "Epoch 7/20\n",
      "\u001b[1m469/469\u001b[0m \u001b[32m━━━━━━━━━━━━━━━━━━━━\u001b[0m\u001b[37m\u001b[0m \u001b[1m1s\u001b[0m 2ms/step - loss: 97.6458 - val_loss: 101.4800\n",
      "Epoch 8/20\n",
      "\u001b[1m469/469\u001b[0m \u001b[32m━━━━━━━━━━━━━━━━━━━━\u001b[0m\u001b[37m\u001b[0m \u001b[1m1s\u001b[0m 2ms/step - loss: 96.7154 - val_loss: 82.5626\n",
      "Epoch 9/20\n",
      "\u001b[1m469/469\u001b[0m \u001b[32m━━━━━━━━━━━━━━━━━━━━\u001b[0m\u001b[37m\u001b[0m \u001b[1m1s\u001b[0m 2ms/step - loss: 79.0366 - val_loss: 81.7330\n",
      "Epoch 10/20\n",
      "\u001b[1m469/469\u001b[0m \u001b[32m━━━━━━━━━━━━━━━━━━━━\u001b[0m\u001b[37m\u001b[0m \u001b[1m1s\u001b[0m 2ms/step - loss: 79.4827 - val_loss: 135.2071\n",
      "Epoch 11/20\n",
      "\u001b[1m469/469\u001b[0m \u001b[32m━━━━━━━━━━━━━━━━━━━━\u001b[0m\u001b[37m\u001b[0m \u001b[1m1s\u001b[0m 2ms/step - loss: 81.7766 - val_loss: 82.8225\n",
      "Epoch 12/20\n",
      "\u001b[1m469/469\u001b[0m \u001b[32m━━━━━━━━━━━━━━━━━━━━\u001b[0m\u001b[37m\u001b[0m \u001b[1m1s\u001b[0m 2ms/step - loss: 78.5950 - val_loss: 92.1145\n",
      "Epoch 13/20\n",
      "\u001b[1m469/469\u001b[0m \u001b[32m━━━━━━━━━━━━━━━━━━━━\u001b[0m\u001b[37m\u001b[0m \u001b[1m1s\u001b[0m 2ms/step - loss: 78.5931 - val_loss: 82.7593\n",
      "Epoch 14/20\n",
      "\u001b[1m469/469\u001b[0m \u001b[32m━━━━━━━━━━━━━━━━━━━━\u001b[0m\u001b[37m\u001b[0m \u001b[1m1s\u001b[0m 2ms/step - loss: 84.6919 - val_loss: 89.8122\n",
      "Epoch 15/20\n",
      "\u001b[1m469/469\u001b[0m \u001b[32m━━━━━━━━━━━━━━━━━━━━\u001b[0m\u001b[37m\u001b[0m \u001b[1m1s\u001b[0m 2ms/step - loss: 86.1020 - val_loss: 81.8675\n",
      "Epoch 16/20\n",
      "\u001b[1m469/469\u001b[0m \u001b[32m━━━━━━━━━━━━━━━━━━━━\u001b[0m\u001b[37m\u001b[0m \u001b[1m1s\u001b[0m 2ms/step - loss: 88.8585 - val_loss: 90.8537\n",
      "Epoch 17/20\n",
      "\u001b[1m469/469\u001b[0m \u001b[32m━━━━━━━━━━━━━━━━━━━━\u001b[0m\u001b[37m\u001b[0m \u001b[1m2s\u001b[0m 2ms/step - loss: 88.4621 - val_loss: 92.2326\n",
      "Epoch 18/20\n",
      "\u001b[1m469/469\u001b[0m \u001b[32m━━━━━━━━━━━━━━━━━━━━\u001b[0m\u001b[37m\u001b[0m \u001b[1m1s\u001b[0m 2ms/step - loss: 83.2489 - val_loss: 88.2255\n",
      "Epoch 19/20\n",
      "\u001b[1m469/469\u001b[0m \u001b[32m━━━━━━━━━━━━━━━━━━━━\u001b[0m\u001b[37m\u001b[0m \u001b[1m1s\u001b[0m 2ms/step - loss: 79.5103 - val_loss: 87.1147\n",
      "Epoch 20/20\n",
      "\u001b[1m469/469\u001b[0m \u001b[32m━━━━━━━━━━━━━━━━━━━━\u001b[0m\u001b[37m\u001b[0m \u001b[1m1s\u001b[0m 2ms/step - loss: 79.0460 - val_loss: 75.2415\n"
     ]
    }
   ],
   "source": [
    "adam = Adam(learning_rate=0.01)\n",
    "model.compile(loss='mean_squared_error', optimizer=adam)\n",
    "hist = model.fit(x_train,y_train,epochs=20,validation_split=0.2)"
   ]
  },
  {
   "cell_type": "code",
   "execution_count": 59,
   "metadata": {
    "colab": {
     "base_uri": "https://localhost:8080/"
    },
    "collapsed": true,
    "executionInfo": {
     "elapsed": 27494,
     "status": "ok",
     "timestamp": 1750052426528,
     "user": {
      "displayName": "Rishi Mulani",
      "userId": "04836978093625403382"
     },
     "user_tz": -330
    },
    "id": "d6gZmAw71IoN",
    "outputId": "328c981d-7cef-4e9b-c23f-b6ad1bf9024b"
   },
   "outputs": [
    {
     "name": "stdout",
     "output_type": "stream",
     "text": [
      "Epoch 1/20\n",
      "\u001b[1m469/469\u001b[0m \u001b[32m━━━━━━━━━━━━━━━━━━━━\u001b[0m\u001b[37m\u001b[0m \u001b[1m3s\u001b[0m 2ms/step - loss: 69.3428 - val_loss: 74.4213\n",
      "Epoch 2/20\n",
      "\u001b[1m469/469\u001b[0m \u001b[32m━━━━━━━━━━━━━━━━━━━━\u001b[0m\u001b[37m\u001b[0m \u001b[1m1s\u001b[0m 2ms/step - loss: 67.2264 - val_loss: 73.9683\n",
      "Epoch 3/20\n",
      "\u001b[1m469/469\u001b[0m \u001b[32m━━━━━━━━━━━━━━━━━━━━\u001b[0m\u001b[37m\u001b[0m \u001b[1m1s\u001b[0m 3ms/step - loss: 67.2269 - val_loss: 73.9274\n",
      "Epoch 4/20\n",
      "\u001b[1m469/469\u001b[0m \u001b[32m━━━━━━━━━━━━━━━━━━━━\u001b[0m\u001b[37m\u001b[0m \u001b[1m3s\u001b[0m 4ms/step - loss: 65.9807 - val_loss: 79.7085\n",
      "Epoch 5/20\n",
      "\u001b[1m469/469\u001b[0m \u001b[32m━━━━━━━━━━━━━━━━━━━━\u001b[0m\u001b[37m\u001b[0m \u001b[1m1s\u001b[0m 3ms/step - loss: 66.6602 - val_loss: 73.4451\n",
      "Epoch 6/20\n",
      "\u001b[1m469/469\u001b[0m \u001b[32m━━━━━━━━━━━━━━━━━━━━\u001b[0m\u001b[37m\u001b[0m \u001b[1m1s\u001b[0m 2ms/step - loss: 67.9064 - val_loss: 75.5854\n",
      "Epoch 7/20\n",
      "\u001b[1m469/469\u001b[0m \u001b[32m━━━━━━━━━━━━━━━━━━━━\u001b[0m\u001b[37m\u001b[0m \u001b[1m1s\u001b[0m 2ms/step - loss: 65.3500 - val_loss: 73.3825\n",
      "Epoch 8/20\n",
      "\u001b[1m469/469\u001b[0m \u001b[32m━━━━━━━━━━━━━━━━━━━━\u001b[0m\u001b[37m\u001b[0m \u001b[1m2s\u001b[0m 3ms/step - loss: 67.0135 - val_loss: 72.5449\n",
      "Epoch 9/20\n",
      "\u001b[1m469/469\u001b[0m \u001b[32m━━━━━━━━━━━━━━━━━━━━\u001b[0m\u001b[37m\u001b[0m \u001b[1m3s\u001b[0m 4ms/step - loss: 65.7839 - val_loss: 73.0279\n",
      "Epoch 10/20\n",
      "\u001b[1m469/469\u001b[0m \u001b[32m━━━━━━━━━━━━━━━━━━━━\u001b[0m\u001b[37m\u001b[0m \u001b[1m2s\u001b[0m 3ms/step - loss: 64.9361 - val_loss: 73.1496\n",
      "Epoch 11/20\n",
      "\u001b[1m469/469\u001b[0m \u001b[32m━━━━━━━━━━━━━━━━━━━━\u001b[0m\u001b[37m\u001b[0m \u001b[1m1s\u001b[0m 2ms/step - loss: 65.7905 - val_loss: 73.6651\n",
      "Epoch 12/20\n",
      "\u001b[1m469/469\u001b[0m \u001b[32m━━━━━━━━━━━━━━━━━━━━\u001b[0m\u001b[37m\u001b[0m \u001b[1m1s\u001b[0m 3ms/step - loss: 67.4410 - val_loss: 71.7983\n",
      "Epoch 13/20\n",
      "\u001b[1m469/469\u001b[0m \u001b[32m━━━━━━━━━━━━━━━━━━━━\u001b[0m\u001b[37m\u001b[0m \u001b[1m1s\u001b[0m 2ms/step - loss: 66.1680 - val_loss: 72.8524\n",
      "Epoch 14/20\n",
      "\u001b[1m469/469\u001b[0m \u001b[32m━━━━━━━━━━━━━━━━━━━━\u001b[0m\u001b[37m\u001b[0m \u001b[1m1s\u001b[0m 3ms/step - loss: 66.4622 - val_loss: 78.0907\n",
      "Epoch 15/20\n",
      "\u001b[1m469/469\u001b[0m \u001b[32m━━━━━━━━━━━━━━━━━━━━\u001b[0m\u001b[37m\u001b[0m \u001b[1m3s\u001b[0m 4ms/step - loss: 65.3978 - val_loss: 71.7346\n",
      "Epoch 16/20\n",
      "\u001b[1m469/469\u001b[0m \u001b[32m━━━━━━━━━━━━━━━━━━━━\u001b[0m\u001b[37m\u001b[0m \u001b[1m2s\u001b[0m 4ms/step - loss: 66.4497 - val_loss: 72.1013\n",
      "Epoch 17/20\n",
      "\u001b[1m469/469\u001b[0m \u001b[32m━━━━━━━━━━━━━━━━━━━━\u001b[0m\u001b[37m\u001b[0m \u001b[1m1s\u001b[0m 3ms/step - loss: 66.4143 - val_loss: 73.5285\n",
      "Epoch 18/20\n",
      "\u001b[1m469/469\u001b[0m \u001b[32m━━━━━━━━━━━━━━━━━━━━\u001b[0m\u001b[37m\u001b[0m \u001b[1m2s\u001b[0m 3ms/step - loss: 66.6447 - val_loss: 74.2760\n",
      "Epoch 19/20\n",
      "\u001b[1m469/469\u001b[0m \u001b[32m━━━━━━━━━━━━━━━━━━━━\u001b[0m\u001b[37m\u001b[0m \u001b[1m2s\u001b[0m 3ms/step - loss: 65.8531 - val_loss: 73.0857\n",
      "Epoch 20/20\n",
      "\u001b[1m469/469\u001b[0m \u001b[32m━━━━━━━━━━━━━━━━━━━━\u001b[0m\u001b[37m\u001b[0m \u001b[1m3s\u001b[0m 4ms/step - loss: 66.4137 - val_loss: 77.7968\n"
     ]
    }
   ],
   "source": [
    "adam = Adam(learning_rate=0.001)\n",
    "model.compile(loss='mean_squared_error', optimizer=adam)\n",
    "hist = model.fit(x_train,y_train,epochs=20,validation_split=0.2)"
   ]
  },
  {
   "cell_type": "code",
   "execution_count": 60,
   "metadata": {
    "colab": {
     "base_uri": "https://localhost:8080/"
    },
    "collapsed": true,
    "executionInfo": {
     "elapsed": 15535,
     "status": "ok",
     "timestamp": 1750052442065,
     "user": {
      "displayName": "Rishi Mulani",
      "userId": "04836978093625403382"
     },
     "user_tz": -330
    },
    "id": "FrFfaPBY2j1l",
    "outputId": "40eea708-7e65-423d-9e99-fbbbc517c39f"
   },
   "outputs": [
    {
     "name": "stdout",
     "output_type": "stream",
     "text": [
      "Epoch 1/5\n",
      "\u001b[1m469/469\u001b[0m \u001b[32m━━━━━━━━━━━━━━━━━━━━\u001b[0m\u001b[37m\u001b[0m \u001b[1m4s\u001b[0m 3ms/step - loss: 65.1119 - val_loss: 71.6786\n",
      "Epoch 2/5\n",
      "\u001b[1m469/469\u001b[0m \u001b[32m━━━━━━━━━━━━━━━━━━━━\u001b[0m\u001b[37m\u001b[0m \u001b[1m2s\u001b[0m 3ms/step - loss: 62.6260 - val_loss: 72.0426\n",
      "Epoch 3/5\n",
      "\u001b[1m469/469\u001b[0m \u001b[32m━━━━━━━━━━━━━━━━━━━━\u001b[0m\u001b[37m\u001b[0m \u001b[1m1s\u001b[0m 3ms/step - loss: 62.2477 - val_loss: 71.4730\n",
      "Epoch 4/5\n",
      "\u001b[1m469/469\u001b[0m \u001b[32m━━━━━━━━━━━━━━━━━━━━\u001b[0m\u001b[37m\u001b[0m \u001b[1m3s\u001b[0m 3ms/step - loss: 63.5877 - val_loss: 71.9113\n",
      "Epoch 5/5\n",
      "\u001b[1m469/469\u001b[0m \u001b[32m━━━━━━━━━━━━━━━━━━━━\u001b[0m\u001b[37m\u001b[0m \u001b[1m1s\u001b[0m 3ms/step - loss: 64.3392 - val_loss: 71.6815\n"
     ]
    }
   ],
   "source": [
    "adam = Adam(learning_rate=0.0001)\n",
    "model.compile(loss='mean_squared_error', optimizer=adam)\n",
    "hist = model.fit(x_train,y_train,epochs=5,validation_split=0.2)\n"
   ]
  },
  {
   "cell_type": "code",
   "execution_count": 61,
   "metadata": {
    "executionInfo": {
     "elapsed": 4,
     "status": "ok",
     "timestamp": 1750052442071,
     "user": {
      "displayName": "Rishi Mulani",
      "userId": "04836978093625403382"
     },
     "user_tz": -330
    },
    "id": "qYNLJm_63i9E"
   },
   "outputs": [
    {
     "name": "stdout",
     "output_type": "stream",
     "text": [
      "Epoch 1/10\n",
      "\u001b[1m469/469\u001b[0m \u001b[32m━━━━━━━━━━━━━━━━━━━━\u001b[0m\u001b[37m\u001b[0m \u001b[1m3s\u001b[0m 3ms/step - loss: 62.6463 - val_loss: 71.5697\n",
      "Epoch 2/10\n",
      "\u001b[1m469/469\u001b[0m \u001b[32m━━━━━━━━━━━━━━━━━━━━\u001b[0m\u001b[37m\u001b[0m \u001b[1m2s\u001b[0m 4ms/step - loss: 62.7452 - val_loss: 71.4273\n",
      "Epoch 3/10\n",
      "\u001b[1m469/469\u001b[0m \u001b[32m━━━━━━━━━━━━━━━━━━━━\u001b[0m\u001b[37m\u001b[0m \u001b[1m2s\u001b[0m 3ms/step - loss: 62.2004 - val_loss: 71.4915\n",
      "Epoch 4/10\n",
      "\u001b[1m469/469\u001b[0m \u001b[32m━━━━━━━━━━━━━━━━━━━━\u001b[0m\u001b[37m\u001b[0m \u001b[1m2s\u001b[0m 3ms/step - loss: 64.8066 - val_loss: 71.4853\n",
      "Epoch 5/10\n",
      "\u001b[1m469/469\u001b[0m \u001b[32m━━━━━━━━━━━━━━━━━━━━\u001b[0m\u001b[37m\u001b[0m \u001b[1m2s\u001b[0m 3ms/step - loss: 63.3489 - val_loss: 71.4127\n",
      "Epoch 6/10\n",
      "\u001b[1m469/469\u001b[0m \u001b[32m━━━━━━━━━━━━━━━━━━━━\u001b[0m\u001b[37m\u001b[0m \u001b[1m3s\u001b[0m 3ms/step - loss: 64.5350 - val_loss: 71.4821\n",
      "Epoch 7/10\n",
      "\u001b[1m469/469\u001b[0m \u001b[32m━━━━━━━━━━━━━━━━━━━━\u001b[0m\u001b[37m\u001b[0m \u001b[1m2s\u001b[0m 3ms/step - loss: 63.7725 - val_loss: 71.4960\n",
      "Epoch 8/10\n",
      "\u001b[1m469/469\u001b[0m \u001b[32m━━━━━━━━━━━━━━━━━━━━\u001b[0m\u001b[37m\u001b[0m \u001b[1m2s\u001b[0m 3ms/step - loss: 63.4997 - val_loss: 71.4240\n",
      "Epoch 9/10\n",
      "\u001b[1m469/469\u001b[0m \u001b[32m━━━━━━━━━━━━━━━━━━━━\u001b[0m\u001b[37m\u001b[0m \u001b[1m2s\u001b[0m 4ms/step - loss: 64.7106 - val_loss: 71.3949\n",
      "Epoch 10/10\n",
      "\u001b[1m469/469\u001b[0m \u001b[32m━━━━━━━━━━━━━━━━━━━━\u001b[0m\u001b[37m\u001b[0m \u001b[1m3s\u001b[0m 3ms/step - loss: 63.9495 - val_loss: 71.4912\n"
     ]
    }
   ],
   "source": [
    "adam = Adam(learning_rate=0.00001)\n",
    "model.compile(loss='mean_squared_error', optimizer=adam)\n",
    "hist = model.fit(x_train,y_train,epochs=10,validation_split=0.2)"
   ]
  },
  {
   "cell_type": "code",
   "execution_count": 91,
   "metadata": {},
   "outputs": [
    {
     "name": "stdout",
     "output_type": "stream",
     "text": [
      "\u001b[1m469/469\u001b[0m \u001b[32m━━━━━━━━━━━━━━━━━━━━\u001b[0m\u001b[37m\u001b[0m \u001b[1m2s\u001b[0m 2ms/step - loss: 62.3914 - val_loss: 71.4644\n"
     ]
    }
   ],
   "source": [
    "adam = Adam(learning_rate=0.000001)\n",
    "model.compile(loss='mean_squared_error', optimizer=adam)\n",
    "hist = model.fit(x_train,y_train,epochs=1,validation_split=0.2)"
   ]
  },
  {
   "cell_type": "code",
   "execution_count": 92,
   "metadata": {
    "colab": {
     "base_uri": "https://localhost:8080/"
    },
    "executionInfo": {
     "elapsed": 847,
     "status": "ok",
     "timestamp": 1750052442921,
     "user": {
      "displayName": "Rishi Mulani",
      "userId": "04836978093625403382"
     },
     "user_tz": -330
    },
    "id": "QTeg6MXJLEHQ",
    "outputId": "7b103afa-7415-413b-c996-54d4a9fa1468"
   },
   "outputs": [
    {
     "name": "stdout",
     "output_type": "stream",
     "text": [
      "\u001b[1m147/147\u001b[0m \u001b[32m━━━━━━━━━━━━━━━━━━━━\u001b[0m\u001b[37m\u001b[0m \u001b[1m0s\u001b[0m 2ms/step\n",
      "\u001b[1m586/586\u001b[0m \u001b[32m━━━━━━━━━━━━━━━━━━━━\u001b[0m\u001b[37m\u001b[0m \u001b[1m1s\u001b[0m 1ms/step\n"
     ]
    }
   ],
   "source": [
    "y_pred_test = model.predict(x_test)\n",
    "y_pred_train = model.predict(x_train)"
   ]
  },
  {
   "cell_type": "code",
   "execution_count": 93,
   "metadata": {
    "colab": {
     "base_uri": "https://localhost:8080/"
    },
    "executionInfo": {
     "elapsed": 73,
     "status": "ok",
     "timestamp": 1750052442998,
     "user": {
      "displayName": "Rishi Mulani",
      "userId": "04836978093625403382"
     },
     "user_tz": -330
    },
    "id": "ZIFSDzHTL169",
    "outputId": "478d8586-6692-4320-b169-f1762510c9f0"
   },
   "outputs": [
    {
     "name": "stdout",
     "output_type": "stream",
     "text": [
      "0.9799484994049005\n"
     ]
    },
    {
     "data": {
      "text/plain": [
       "0.9811233961980673"
      ]
     },
     "execution_count": 93,
     "metadata": {},
     "output_type": "execute_result"
    }
   ],
   "source": [
    "from sklearn.metrics import r2_score\n",
    "print(r2_score(y_test,y_pred_test))\n",
    "r2_score(y_train,y_pred_train)"
   ]
  },
  {
   "cell_type": "code",
   "execution_count": 64,
   "metadata": {},
   "outputs": [
    {
     "name": "stdout",
     "output_type": "stream",
     "text": [
      "NaNs in y_train: 0\n",
      "NaNs in y_pred_train: 0\n"
     ]
    }
   ],
   "source": [
    "import numpy as np\n",
    "\n",
    "print(\"NaNs in y_train:\", np.isnan(y_train).sum())\n",
    "print(\"NaNs in y_pred_train:\", np.isnan(y_pred_train).sum())\n"
   ]
  },
  {
   "cell_type": "code",
   "execution_count": 65,
   "metadata": {
    "colab": {
     "base_uri": "https://localhost:8080/",
     "height": 430
    },
    "executionInfo": {
     "elapsed": 307,
     "status": "ok",
     "timestamp": 1750052443302,
     "user": {
      "displayName": "Rishi Mulani",
      "userId": "04836978093625403382"
     },
     "user_tz": -330
    },
    "id": "aodlY-vc9BrX",
    "outputId": "5a574581-3389-439e-ce39-70f884edc790"
   },
   "outputs": [
    {
     "data": {
      "image/png": "[encoded data removed]",
      "text/plain": [
       "<Figure size 640x480 with 1 Axes>"
      ]
     },
     "metadata": {},
     "output_type": "display_data"
    }
   ],
   "source": [
    "plt.scatter(y_test,y_pred_test)\n",
    "plt.grid()"
   ]
  },
  {
   "cell_type": "code",
   "execution_count": 66,
   "metadata": {
    "colab": {
     "base_uri": "https://localhost:8080/",
     "height": 447
    },
    "executionInfo": {
     "elapsed": 68,
     "status": "ok",
     "timestamp": 1750052443533,
     "user": {
      "displayName": "Rishi Mulani",
      "userId": "04836978093625403382"
     },
     "user_tz": -330
    },
    "id": "E6kqDJfYQ867",
    "outputId": "723337ee-ca94-4975-8fc0-b8e4350d0817"
   },
   "outputs": [
    {
     "data": {
      "text/plain": [
       "[<matplotlib.lines.Line2D at 0x2a8b316d0d0>]"
      ]
     },
     "execution_count": 66,
     "metadata": {},
     "output_type": "execute_result"
    },
    {
     "data": {
      "image/png": "[encoded data removed]",
      "text/plain": [
       "<Figure size 640x480 with 1 Axes>"
      ]
     },
     "metadata": {},
     "output_type": "display_data"
    }
   ],
   "source": [
    "import matplotlib.pyplot as plt\n",
    "plt.plot(hist.history['loss'])\n",
    "plt.plot(hist.history['val_loss'])"
   ]
  },
  {
   "cell_type": "code",
   "execution_count": 67,
   "metadata": {
    "colab": {
     "base_uri": "https://localhost:8080/",
     "height": 86
    },
    "executionInfo": {
     "elapsed": 8,
     "status": "ok",
     "timestamp": 1750052443556,
     "user": {
      "displayName": "Rishi Mulani",
      "userId": "04836978093625403382"
     },
     "user_tz": -330
    },
    "id": "BHJJDf1Zup5c",
    "outputId": "c77481ae-8436-47ac-dd0f-fa61afebb4d5"
   },
   "outputs": [
    {
     "data": {
      "text/plain": [
       "Index(['DP Across baghouse - LowerSide', 'Pressure ID Fan Inlet',\n",
       "       'Canopy Damper Position', 'ID Fan1 Speed', 'ID Fan1 Current',\n",
       "       'ID Fan2 Speed'],\n",
       "      dtype='object')"
      ]
     },
     "metadata": {},
     "output_type": "display_data"
    }
   ],
   "source": [
    "display(df.columns)"
   ]
  },
  {
   "cell_type": "code",
   "execution_count": 94,
   "metadata": {
    "colab": {
     "base_uri": "https://localhost:8080/",
     "height": 1000
    },
    "collapsed": true,
    "executionInfo": {
     "elapsed": 339868,
     "status": "error",
     "timestamp": 1750053527695,
     "user": {
      "displayName": "Rishi Mulani",
      "userId": "04836978093625403382"
     },
     "user_tz": -330
    },
    "id": "Di0KxmBHQ9cj",
    "outputId": "75c904ce-04ba-48bb-ca1b-bd3b6419fe46"
   },
   "outputs": [],
   "source": [
    "# import warnings\n",
    "# warnings.filterwarnings('ignore')\n",
    "# diff_value = []\n",
    "# c = 0\n",
    "# k = 0\n",
    "\n",
    "# for i in range(len(df)):\n",
    "#   new_input = np.array(df.iloc[i])\n",
    "#   # new_input = np.array(['18.51997','-400.0651','60.93208','946.2000','226.4158','945.4032']).astype(float)\n",
    "#   # print(new_input)\n",
    "\n",
    "#   actual = new_input[1]\n",
    "#   # print(actual)\n",
    "\n",
    "#   new_input = np.delete(new_input, 1)\n",
    "#   # print(new_input)\n",
    "\n",
    "#   new_input = scaler.transform(new_input.reshape(1, -1))\n",
    "\n",
    "#   new_pred = model.predict(new_input)\n",
    "#   print(new_pred)\n",
    "\n",
    "#   diff = abs(actual - new_pred)\n",
    "#   # print(diff)\n",
    "\n",
    "#   diff_value.append(diff[0])\n",
    "#   if(diff > 20):\n",
    "#     c = c+1\n",
    "#     k=1\n",
    "#   print(i)\n",
    "#   print(c)\n",
    "\n",
    "\n",
    "# # print(k)\n",
    "# # print(c)"
   ]
  },
  {
   "cell_type": "code",
   "execution_count": 96,
   "metadata": {
    "executionInfo": {
     "elapsed": 12,
     "status": "ok",
     "timestamp": 1750052443583,
     "user": {
      "displayName": "Rishi Mulani",
      "userId": "04836978093625403382"
     },
     "user_tz": -330
    },
    "id": "a5KEF-hNyA_l"
   },
   "outputs": [],
   "source": [
    "import numpy as np\n",
    "# 18.51997\t-400.0651\t60.93208\t41.2\t80.7\t946.2\t226.4158\t945.4032\n",
    "x = np.array(['18.51997','60.93208','946.2000','226.4158','945.4032']).astype(float)\n",
    "x = scaler.transform(x.reshape(1,-1))\n",
    "y=-400.0651"
   ]
  },
  {
   "cell_type": "code",
   "execution_count": 97,
   "metadata": {},
   "outputs": [
    {
     "name": "stdout",
     "output_type": "stream",
     "text": [
      "\u001b[1m1/1\u001b[0m \u001b[32m━━━━━━━━━━━━━━━━━━━━\u001b[0m\u001b[37m\u001b[0m \u001b[1m0s\u001b[0m 38ms/step\n"
     ]
    },
    {
     "data": {
      "text/plain": [
       "array([[-402.34106]], dtype=float32)"
      ]
     },
     "execution_count": 97,
     "metadata": {},
     "output_type": "execute_result"
    }
   ],
   "source": [
    "pred_new = model.predict(x)\n",
    "pred_new"
   ]
  },
  {
   "cell_type": "code",
   "execution_count": null,
   "metadata": {},
   "outputs": [
    {
     "name": "stderr",
     "output_type": "stream",
     "text": [
      "WARNING:absl:You are saving your model as an HDF5 file via `model.save()` or `keras.saving.save_model(model)`. This file format is considered legacy. We recommend using instead the native Keras format, e.g. `model.save('my_model.keras')` or `keras.saving.save_model(model, 'my_model.keras')`. \n"
     ]
    }
   ],
   "source": [
    "# model.save(\"pressure_ID_Fan_inlet_DL(1).h5\")"
   ]
  }
 ],
 "metadata": {
  "colab": {
   "authorship_tag": "ABX9TyMKbk7AxkKJPyjusHtPd+kR",
   "mount_file_id": "1GlMEit-wWOzk4cemlaBVkpISVRPcmDSt",
   "provenance": []
  },
  "kernelspec": {
   "display_name": "Python 3",
   "name": "python3"
  },
  "language_info": {
   "codemirror_mode": {
    "name": "ipython",
    "version": 3
   },
   "file_extension": ".py",
   "mimetype": "text/x-python",
   "name": "python",
   "nbconvert_exporter": "python",
   "pygments_lexer": "ipython3",
   "version": "3.12.0"
  }
 },
 "nbformat": 4,
 "nbformat_minor": 0
}
