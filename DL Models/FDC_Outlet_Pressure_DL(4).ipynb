{
 "cells": [
  {
   "cell_type": "code",
   "execution_count": 1,
   "metadata": {
    "executionInfo": {
     "elapsed": 582,
     "status": "ok",
     "timestamp": 1749727844513,
     "user": {
      "displayName": "Rishi Mulani",
      "userId": "04836978093625403382"
     },
     "user_tz": -330
    },
    "id": "DLkd3mbTJmQA"
   },
   "outputs": [],
   "source": [
    "import pandas as pd\n",
    "import numpy as np\n",
    "import matplotlib.pyplot as plt\n"
   ]
  },
  {
   "cell_type": "code",
   "execution_count": 2,
   "metadata": {
    "colab": {
     "base_uri": "https://localhost:8080/",
     "height": 308
    },
    "executionInfo": {
     "elapsed": 3230,
     "status": "ok",
     "timestamp": 1749727847750,
     "user": {
      "displayName": "Rishi Mulani",
      "userId": "04836978093625403382"
     },
     "user_tz": -330
    },
    "id": "qESxF-90Jviu",
    "outputId": "32d4c4cf-2723-4187-b9ac-5701458074a1"
   },
   "outputs": [],
   "source": [
    "df_arr = []\n",
    "\n",
    "\n",
    "# df = pd.read_csv('csv/Batch-1.1.csv')\n",
    "# df.head()\n",
    "\n",
    "# df1 = pd.read_csv('csv/Batch-1.2.csv')\n",
    "# df1.head()\n",
    "\n",
    "# df2 = pd.read_csv('/content/drive/MyDrive/AMNS_FES/all csv data/Batch-1.3.csv')\n",
    "# df2.head()\n",
    "\n",
    "# df3 = pd.read_csv('/content/drive/MyDrive/AMNS_FES/all csv data/Batch-1.4.csv')\n",
    "# df3.head()\n",
    "\n",
    "# df4 = pd.read_csv('/content/drive/MyDrive/AMNS_FES/all csv data/Batch-2.1 - Sheet1 - Batch-2.1 - Sheet1.csv')\n",
    "# df4.head()\n",
    "\n",
    "# df5 = pd.read_csv('/content/drive/MyDrive/AMNS_FES/all csv data/Batch-2.2 - Sheet1 - Batch-2.2 - Sheet1.csv')\n",
    "# df5.head()\n",
    "\n",
    "# df6 = pd.read_csv('/content/drive/MyDrive/AMNS_FES/all csv data/Batch-2.3 - Sheet1 - Batch-2.3 - Sheet1.csv')\n",
    "# df6.head()\n",
    "\n",
    "# df7 = pd.read_csv('/content/drive/MyDrive/AMNS_FES/all csv data/Batch-2.4 - Sheet1 - Batch-2.4 - Sheet1.csv')\n",
    "# df7.head()\n",
    "\n",
    "\n",
    "df_arr.append(pd.read_csv('csv/Batch-1.1.csv').drop(0))\n",
    "df_arr.append(pd.read_csv('csv/Batch-1.2.csv').drop(0))\n",
    "df_arr.append(pd.read_csv('csv/Batch-1.3.csv').drop(0))\n",
    "df_arr.append(pd.read_csv('csv/Batch-1.4.csv').drop(0))\n",
    "df_arr.append(pd.read_csv('csv/Batch-2.1.csv').drop(0))\n",
    "df_arr.append(pd.read_csv('csv/Batch-2.2.csv').drop(0))\n",
    "df_arr.append(pd.read_csv('csv/Batch-2.3.csv').drop(0))\n",
    "df_arr.append(pd.read_csv('csv/Batch-2.4.csv').drop(0))\n"
   ]
  },
  {
   "cell_type": "code",
   "execution_count": 3,
   "metadata": {
    "executionInfo": {
     "elapsed": 12,
     "status": "ok",
     "timestamp": 1749727847766,
     "user": {
      "displayName": "Rishi Mulani",
      "userId": "04836978093625403382"
     },
     "user_tz": -330
    },
    "id": "Z8uW7TX9J5Wy"
   },
   "outputs": [
    {
     "name": "stdout",
     "output_type": "stream",
     "text": [
      "(9665, 25)\n"
     ]
    },
    {
     "data": {
      "text/html": [
       "<div>\n",
       "<style scoped>\n",
       "    .dataframe tbody tr th:only-of-type {\n",
       "        vertical-align: middle;\n",
       "    }\n",
       "\n",
       "    .dataframe tbody tr th {\n",
       "        vertical-align: top;\n",
       "    }\n",
       "\n",
       "    .dataframe thead th {\n",
       "        text-align: right;\n",
       "    }\n",
       "</style>\n",
       "<table border=\"1\" class=\"dataframe\">\n",
       "  <thead>\n",
       "    <tr style=\"text-align: right;\">\n",
       "      <th></th>\n",
       "      <th>SampleTime</th>\n",
       "      <th>Process Mode</th>\n",
       "      <th>Oxygen Consumption -Top</th>\n",
       "      <th>Furnace Power</th>\n",
       "      <th>CombustionChamber Pressure</th>\n",
       "      <th>Suction Damper Position feedback</th>\n",
       "      <th>FDC inlet Temprature</th>\n",
       "      <th>FDC Outlet Temp</th>\n",
       "      <th>FDC Outlet Temp - Upperside</th>\n",
       "      <th>DP across FDC</th>\n",
       "      <th>...</th>\n",
       "      <th>DP Across baghouse - UpperSide</th>\n",
       "      <th>DP Across baghouse - LowerSide</th>\n",
       "      <th>Pressure ID Fan Inlet</th>\n",
       "      <th>Canopy Damper Position</th>\n",
       "      <th>Unnamed: 19</th>\n",
       "      <th>Unnamed: 20</th>\n",
       "      <th>ID Fan1 Speed</th>\n",
       "      <th>ID Fan1 Current</th>\n",
       "      <th>ID Fan2 Speed</th>\n",
       "      <th>ID Fan2 Current</th>\n",
       "    </tr>\n",
       "  </thead>\n",
       "  <tbody>\n",
       "    <tr>\n",
       "      <th>0</th>\n",
       "      <td>02.09.2024_12.35.09</td>\n",
       "      <td>32</td>\n",
       "      <td>2890.05</td>\n",
       "      <td>0.0</td>\n",
       "      <td>-13.97569</td>\n",
       "      <td>92.22367</td>\n",
       "      <td>400.8029</td>\n",
       "      <td>168.8</td>\n",
       "      <td>162.6</td>\n",
       "      <td>103.3782</td>\n",
       "      <td>...</td>\n",
       "      <td>15.85503</td>\n",
       "      <td>18.51997</td>\n",
       "      <td>-400.0651</td>\n",
       "      <td>60.93208</td>\n",
       "      <td>41.2</td>\n",
       "      <td>80.7</td>\n",
       "      <td>946.2</td>\n",
       "      <td>226.4158</td>\n",
       "      <td>945.4032</td>\n",
       "      <td>214.6138</td>\n",
       "    </tr>\n",
       "    <tr>\n",
       "      <th>1</th>\n",
       "      <td>02.09.2024_12.40.10</td>\n",
       "      <td>32</td>\n",
       "      <td>3892.103</td>\n",
       "      <td>0.0</td>\n",
       "      <td>-13.86719</td>\n",
       "      <td>92.22367</td>\n",
       "      <td>466.3701</td>\n",
       "      <td>191.8</td>\n",
       "      <td>186.5</td>\n",
       "      <td>50.24234</td>\n",
       "      <td>...</td>\n",
       "      <td>16.05035</td>\n",
       "      <td>18.84115</td>\n",
       "      <td>-397.2801</td>\n",
       "      <td>60.93605</td>\n",
       "      <td>43.7</td>\n",
       "      <td>86.0</td>\n",
       "      <td>946.2</td>\n",
       "      <td>221.428</td>\n",
       "      <td>945.4032</td>\n",
       "      <td>215.808</td>\n",
       "    </tr>\n",
       "    <tr>\n",
       "      <th>2</th>\n",
       "      <td>02.09.2024_12.45.09</td>\n",
       "      <td>32</td>\n",
       "      <td>4897.067</td>\n",
       "      <td>0.0</td>\n",
       "      <td>-13.58145</td>\n",
       "      <td>92.22729</td>\n",
       "      <td>492.1911</td>\n",
       "      <td>190.5</td>\n",
       "      <td>186.6</td>\n",
       "      <td>85.76027</td>\n",
       "      <td>...</td>\n",
       "      <td>16.11979</td>\n",
       "      <td>18.69213</td>\n",
       "      <td>-391.2399</td>\n",
       "      <td>60.93605</td>\n",
       "      <td>43.1</td>\n",
       "      <td>85.6</td>\n",
       "      <td>946.2</td>\n",
       "      <td>221.3578</td>\n",
       "      <td>945.4032</td>\n",
       "      <td>219.461</td>\n",
       "    </tr>\n",
       "    <tr>\n",
       "      <th>3</th>\n",
       "      <td>02.09.2024_12.50.09</td>\n",
       "      <td>32</td>\n",
       "      <td>5902.126</td>\n",
       "      <td>0.0</td>\n",
       "      <td>-13.96846</td>\n",
       "      <td>92.23814</td>\n",
       "      <td>492.8675</td>\n",
       "      <td>184.3</td>\n",
       "      <td>181.5</td>\n",
       "      <td>67.95067</td>\n",
       "      <td>...</td>\n",
       "      <td>15.9375</td>\n",
       "      <td>18.62558</td>\n",
       "      <td>-390.9505</td>\n",
       "      <td>60.93208</td>\n",
       "      <td>42.2</td>\n",
       "      <td>85.1</td>\n",
       "      <td>946.2</td>\n",
       "      <td>222.6222</td>\n",
       "      <td>945.4032</td>\n",
       "      <td>220.1635</td>\n",
       "    </tr>\n",
       "    <tr>\n",
       "      <th>4</th>\n",
       "      <td>02.09.2024_12.55.09</td>\n",
       "      <td>64</td>\n",
       "      <td>6899.486</td>\n",
       "      <td>0.0</td>\n",
       "      <td>-12.66277</td>\n",
       "      <td>74.35981</td>\n",
       "      <td>479.1414</td>\n",
       "      <td>174.4</td>\n",
       "      <td>171.2</td>\n",
       "      <td>72.03053</td>\n",
       "      <td>...</td>\n",
       "      <td>15.62211</td>\n",
       "      <td>18.30874</td>\n",
       "      <td>-376.4106</td>\n",
       "      <td>64.65205</td>\n",
       "      <td>43.6</td>\n",
       "      <td>80.1</td>\n",
       "      <td>946.2</td>\n",
       "      <td>215.3163</td>\n",
       "      <td>945.4032</td>\n",
       "      <td>218.4072</td>\n",
       "    </tr>\n",
       "  </tbody>\n",
       "</table>\n",
       "<p>5 rows × 25 columns</p>\n",
       "</div>"
      ],
      "text/plain": [
       "            SampleTime Process Mode Oxygen Consumption -Top Furnace Power  \\\n",
       "0  02.09.2024_12.35.09           32                 2890.05           0.0   \n",
       "1  02.09.2024_12.40.10           32                3892.103           0.0   \n",
       "2  02.09.2024_12.45.09           32                4897.067           0.0   \n",
       "3  02.09.2024_12.50.09           32                5902.126           0.0   \n",
       "4  02.09.2024_12.55.09           64                6899.486           0.0   \n",
       "\n",
       "  CombustionChamber Pressure Suction Damper Position feedback  \\\n",
       "0                  -13.97569                         92.22367   \n",
       "1                  -13.86719                         92.22367   \n",
       "2                  -13.58145                         92.22729   \n",
       "3                  -13.96846                         92.23814   \n",
       "4                  -12.66277                         74.35981   \n",
       "\n",
       "  FDC inlet Temprature FDC Outlet Temp FDC Outlet Temp - Upperside  \\\n",
       "0             400.8029           168.8                       162.6   \n",
       "1             466.3701           191.8                       186.5   \n",
       "2             492.1911           190.5                       186.6   \n",
       "3             492.8675           184.3                       181.5   \n",
       "4             479.1414           174.4                       171.2   \n",
       "\n",
       "  DP across FDC  ... DP Across baghouse - UpperSide  \\\n",
       "0      103.3782  ...                       15.85503   \n",
       "1      50.24234  ...                       16.05035   \n",
       "2      85.76027  ...                       16.11979   \n",
       "3      67.95067  ...                        15.9375   \n",
       "4      72.03053  ...                       15.62211   \n",
       "\n",
       "  DP Across baghouse - LowerSide Pressure ID Fan Inlet Canopy Damper Position  \\\n",
       "0                       18.51997             -400.0651               60.93208   \n",
       "1                       18.84115             -397.2801               60.93605   \n",
       "2                       18.69213             -391.2399               60.93605   \n",
       "3                       18.62558             -390.9505               60.93208   \n",
       "4                       18.30874             -376.4106               64.65205   \n",
       "\n",
       "  Unnamed: 19 Unnamed: 20 ID Fan1 Speed ID Fan1 Current ID Fan2 Speed  \\\n",
       "0        41.2        80.7         946.2        226.4158      945.4032   \n",
       "1        43.7        86.0         946.2         221.428      945.4032   \n",
       "2        43.1        85.6         946.2        221.3578      945.4032   \n",
       "3        42.2        85.1         946.2        222.6222      945.4032   \n",
       "4        43.6        80.1         946.2        215.3163      945.4032   \n",
       "\n",
       "  ID Fan2 Current  \n",
       "0        214.6138  \n",
       "1         215.808  \n",
       "2         219.461  \n",
       "3        220.1635  \n",
       "4        218.4072  \n",
       "\n",
       "[5 rows x 25 columns]"
      ]
     },
     "execution_count": 3,
     "metadata": {},
     "output_type": "execute_result"
    }
   ],
   "source": [
    "df = pd.concat(df_arr, ignore_index=True)\n",
    "\n",
    "print(df.shape)\n",
    "df.head()\n"
   ]
  },
  {
   "cell_type": "code",
   "execution_count": 4,
   "metadata": {
    "colab": {
     "base_uri": "https://localhost:8080/",
     "height": 278
    },
    "executionInfo": {
     "elapsed": 218,
     "status": "ok",
     "timestamp": 1749727848020,
     "user": {
      "displayName": "Rishi Mulani",
      "userId": "04836978093625403382"
     },
     "user_tz": -330
    },
    "id": "pjDjAmt8KCSp",
    "outputId": "38eeef44-3340-40e0-a5ce-fabd97d471d0"
   },
   "outputs": [
    {
     "data": {
      "text/html": [
       "<div>\n",
       "<style scoped>\n",
       "    .dataframe tbody tr th:only-of-type {\n",
       "        vertical-align: middle;\n",
       "    }\n",
       "\n",
       "    .dataframe tbody tr th {\n",
       "        vertical-align: top;\n",
       "    }\n",
       "\n",
       "    .dataframe thead th {\n",
       "        text-align: right;\n",
       "    }\n",
       "</style>\n",
       "<table border=\"1\" class=\"dataframe\">\n",
       "  <thead>\n",
       "    <tr style=\"text-align: right;\">\n",
       "      <th></th>\n",
       "      <th>FDC Outlet Pressure</th>\n",
       "      <th>Pressure at Gas Mixter inlet</th>\n",
       "      <th>Temp at BagHouse Inlet - UpperSide</th>\n",
       "      <th>Temp at BagHouse Inlet - LowerSide</th>\n",
       "      <th>Pressure at BagHouse Inlet</th>\n",
       "      <th>DP Across baghouse - UpperSide</th>\n",
       "      <th>DP Across baghouse - LowerSide</th>\n",
       "      <th>Pressure ID Fan Inlet</th>\n",
       "      <th>Canopy Damper Position</th>\n",
       "      <th>ID Fan1 Speed</th>\n",
       "      <th>ID Fan1 Current</th>\n",
       "      <th>ID Fan2 Speed</th>\n",
       "    </tr>\n",
       "  </thead>\n",
       "  <tbody>\n",
       "    <tr>\n",
       "      <th>0</th>\n",
       "      <td>-122.7214</td>\n",
       "      <td>-119.8785</td>\n",
       "      <td>79.4</td>\n",
       "      <td>74.0</td>\n",
       "      <td>-219.9002</td>\n",
       "      <td>15.85503</td>\n",
       "      <td>18.51997</td>\n",
       "      <td>-400.0651</td>\n",
       "      <td>60.93208</td>\n",
       "      <td>946.2</td>\n",
       "      <td>226.4158</td>\n",
       "      <td>945.4032</td>\n",
       "    </tr>\n",
       "    <tr>\n",
       "      <th>1</th>\n",
       "      <td>-105.4471</td>\n",
       "      <td>-120.2402</td>\n",
       "      <td>85.6</td>\n",
       "      <td>80.7</td>\n",
       "      <td>-215.408</td>\n",
       "      <td>16.05035</td>\n",
       "      <td>18.84115</td>\n",
       "      <td>-397.2801</td>\n",
       "      <td>60.93605</td>\n",
       "      <td>946.2</td>\n",
       "      <td>221.428</td>\n",
       "      <td>945.4032</td>\n",
       "    </tr>\n",
       "    <tr>\n",
       "      <th>2</th>\n",
       "      <td>-119.5096</td>\n",
       "      <td>-119.0828</td>\n",
       "      <td>85.1</td>\n",
       "      <td>82.8</td>\n",
       "      <td>-210.4601</td>\n",
       "      <td>16.11979</td>\n",
       "      <td>18.69213</td>\n",
       "      <td>-391.2399</td>\n",
       "      <td>60.93605</td>\n",
       "      <td>946.2</td>\n",
       "      <td>221.3578</td>\n",
       "      <td>945.4032</td>\n",
       "    </tr>\n",
       "    <tr>\n",
       "      <th>3</th>\n",
       "      <td>-119.401</td>\n",
       "      <td>-117.3611</td>\n",
       "      <td>82.8</td>\n",
       "      <td>82.9</td>\n",
       "      <td>-215.1259</td>\n",
       "      <td>15.9375</td>\n",
       "      <td>18.62558</td>\n",
       "      <td>-390.9505</td>\n",
       "      <td>60.93208</td>\n",
       "      <td>946.2</td>\n",
       "      <td>222.6222</td>\n",
       "      <td>945.4032</td>\n",
       "    </tr>\n",
       "    <tr>\n",
       "      <th>4</th>\n",
       "      <td>-109.6571</td>\n",
       "      <td>-111.5451</td>\n",
       "      <td>79.10001</td>\n",
       "      <td>80.3</td>\n",
       "      <td>-201.9965</td>\n",
       "      <td>15.62211</td>\n",
       "      <td>18.30874</td>\n",
       "      <td>-376.4106</td>\n",
       "      <td>64.65205</td>\n",
       "      <td>946.2</td>\n",
       "      <td>215.3163</td>\n",
       "      <td>945.4032</td>\n",
       "    </tr>\n",
       "  </tbody>\n",
       "</table>\n",
       "</div>"
      ],
      "text/plain": [
       "  FDC Outlet Pressure Pressure at Gas Mixter inlet  \\\n",
       "0           -122.7214                    -119.8785   \n",
       "1           -105.4471                    -120.2402   \n",
       "2           -119.5096                    -119.0828   \n",
       "3            -119.401                    -117.3611   \n",
       "4           -109.6571                    -111.5451   \n",
       "\n",
       "  Temp at BagHouse Inlet - UpperSide Temp at BagHouse Inlet - LowerSide  \\\n",
       "0                               79.4                               74.0   \n",
       "1                               85.6                               80.7   \n",
       "2                               85.1                               82.8   \n",
       "3                               82.8                               82.9   \n",
       "4                           79.10001                               80.3   \n",
       "\n",
       "  Pressure at BagHouse Inlet DP Across baghouse - UpperSide  \\\n",
       "0                  -219.9002                       15.85503   \n",
       "1                   -215.408                       16.05035   \n",
       "2                  -210.4601                       16.11979   \n",
       "3                  -215.1259                        15.9375   \n",
       "4                  -201.9965                       15.62211   \n",
       "\n",
       "  DP Across baghouse - LowerSide Pressure ID Fan Inlet Canopy Damper Position  \\\n",
       "0                       18.51997             -400.0651               60.93208   \n",
       "1                       18.84115             -397.2801               60.93605   \n",
       "2                       18.69213             -391.2399               60.93605   \n",
       "3                       18.62558             -390.9505               60.93208   \n",
       "4                       18.30874             -376.4106               64.65205   \n",
       "\n",
       "  ID Fan1 Speed ID Fan1 Current ID Fan2 Speed  \n",
       "0         946.2        226.4158      945.4032  \n",
       "1         946.2         221.428      945.4032  \n",
       "2         946.2        221.3578      945.4032  \n",
       "3         946.2        222.6222      945.4032  \n",
       "4         946.2        215.3163      945.4032  "
      ]
     },
     "execution_count": 4,
     "metadata": {},
     "output_type": "execute_result"
    }
   ],
   "source": [
    "df = df.iloc[:,10:24]\n",
    "df.drop(columns=['Unnamed: 19','Unnamed: 20'], inplace=True)\n",
    "df.head()"
   ]
  },
  {
   "cell_type": "code",
   "execution_count": 5,
   "metadata": {},
   "outputs": [],
   "source": [
    "df.isnull().sum()\n",
    "df.dropna(inplace=True)"
   ]
  },
  {
   "cell_type": "code",
   "execution_count": 6,
   "metadata": {
    "colab": {
     "base_uri": "https://localhost:8080/"
    },
    "executionInfo": {
     "elapsed": 111,
     "status": "ok",
     "timestamp": 1749727848134,
     "user": {
      "displayName": "Rishi Mulani",
      "userId": "04836978093625403382"
     },
     "user_tz": -330
    },
    "id": "gh-9BkgNKFJf",
    "outputId": "8138b1e2-e817-4ce6-d0ba-b7befd6d014c"
   },
   "outputs": [
    {
     "name": "stdout",
     "output_type": "stream",
     "text": [
      "<class 'pandas.core.frame.DataFrame'>\n",
      "RangeIndex: 9665 entries, 0 to 9664\n",
      "Data columns (total 12 columns):\n",
      " #   Column                              Non-Null Count  Dtype  \n",
      "---  ------                              --------------  -----  \n",
      " 0   FDC Outlet Pressure                 9665 non-null   float64\n",
      " 1   Pressure at Gas Mixter inlet        9665 non-null   float64\n",
      " 2   Temp at BagHouse Inlet - UpperSide  9665 non-null   float64\n",
      " 3   Temp at BagHouse Inlet - LowerSide  9665 non-null   float64\n",
      " 4   Pressure at BagHouse Inlet          9665 non-null   float64\n",
      " 5   DP Across baghouse - UpperSide      9665 non-null   float64\n",
      " 6   DP Across baghouse - LowerSide      9665 non-null   float64\n",
      " 7   Pressure ID Fan Inlet               9665 non-null   float64\n",
      " 8   Canopy Damper Position              9665 non-null   float64\n",
      " 9   ID Fan1 Speed                       9665 non-null   float64\n",
      " 10  ID Fan1 Current                     9665 non-null   float64\n",
      " 11  ID Fan2 Speed                       9665 non-null   float64\n",
      "dtypes: float64(12)\n",
      "memory usage: 906.2 KB\n"
     ]
    }
   ],
   "source": [
    "#we can see every column is having datatype of 'object'\n",
    "#so convert all column datatype into numeric\n",
    "\n",
    "for col in df.columns:\n",
    "  df[col] = pd.to_numeric(df[col], errors='coerce')\n",
    "\n",
    "df.info()"
   ]
  },
  {
   "cell_type": "code",
   "execution_count": 7,
   "metadata": {
    "collapsed": true,
    "executionInfo": {
     "elapsed": 9645,
     "status": "ok",
     "timestamp": 1749727857781,
     "user": {
      "displayName": "Rishi Mulani",
      "userId": "04836978093625403382"
     },
     "user_tz": -330
    },
    "id": "oLPn6PNSKJET"
   },
   "outputs": [],
   "source": [
    "# !pip install tensorflow\n",
    "import tensorflow\n",
    "from tensorflow import keras\n",
    "from tensorflow.keras import Sequential\n",
    "from tensorflow.keras.layers import Dense\n",
    "from tensorflow.keras.layers import Dense, Dropout"
   ]
  },
  {
   "cell_type": "code",
   "execution_count": 8,
   "metadata": {
    "colab": {
     "base_uri": "https://localhost:8080/"
    },
    "executionInfo": {
     "elapsed": 24,
     "status": "ok",
     "timestamp": 1749727857783,
     "user": {
      "displayName": "Rishi Mulani",
      "userId": "04836978093625403382"
     },
     "user_tz": -330
    },
    "id": "pHOc5NGmKhzE",
    "outputId": "f9b21921-6217-405e-9f68-3f6625e680b2"
   },
   "outputs": [
    {
     "data": {
      "text/plain": [
       "Index(['FDC Outlet Pressure', 'Pressure at Gas Mixter inlet',\n",
       "       'Temp at BagHouse Inlet - UpperSide',\n",
       "       'Temp at BagHouse Inlet - LowerSide', 'Pressure at BagHouse Inlet',\n",
       "       'DP Across baghouse - UpperSide', 'DP Across baghouse - LowerSide',\n",
       "       'Pressure ID Fan Inlet', 'Canopy Damper Position', 'ID Fan1 Speed',\n",
       "       'ID Fan1 Current', 'ID Fan2 Speed'],\n",
       "      dtype='object')"
      ]
     },
     "execution_count": 8,
     "metadata": {},
     "output_type": "execute_result"
    }
   ],
   "source": [
    "df.columns"
   ]
  },
  {
   "cell_type": "code",
   "execution_count": 9,
   "metadata": {
    "executionInfo": {
     "elapsed": 583,
     "status": "ok",
     "timestamp": 1749727858367,
     "user": {
      "displayName": "Rishi Mulani",
      "userId": "04836978093625403382"
     },
     "user_tz": -330
    },
    "id": "7IeV8hUoLPVW"
   },
   "outputs": [],
   "source": [
    "from sklearn.model_selection import train_test_split\n",
    "x = df.drop(columns=['FDC Outlet Pressure'],axis=1)\n",
    "y= df['FDC Outlet Pressure']\n",
    "x_train,x_test,y_train,y_test = train_test_split(x,y,test_size=0.2,random_state=1)\n"
   ]
  },
  {
   "cell_type": "code",
   "execution_count": 10,
   "metadata": {
    "colab": {
     "base_uri": "https://localhost:8080/",
     "height": 496
    },
    "executionInfo": {
     "elapsed": 204,
     "status": "ok",
     "timestamp": 1749727858529,
     "user": {
      "displayName": "Rishi Mulani",
      "userId": "04836978093625403382"
     },
     "user_tz": -330
    },
    "id": "XOQRS-WNNq9r",
    "outputId": "42f3ad9d-1a9e-4e9f-8db1-1950efb436d1"
   },
   "outputs": [
    {
     "data": {
      "text/html": [
       "<div>\n",
       "<style scoped>\n",
       "    .dataframe tbody tr th:only-of-type {\n",
       "        vertical-align: middle;\n",
       "    }\n",
       "\n",
       "    .dataframe tbody tr th {\n",
       "        vertical-align: top;\n",
       "    }\n",
       "\n",
       "    .dataframe thead th {\n",
       "        text-align: right;\n",
       "    }\n",
       "</style>\n",
       "<table border=\"1\" class=\"dataframe\">\n",
       "  <thead>\n",
       "    <tr style=\"text-align: right;\">\n",
       "      <th></th>\n",
       "      <th>Pressure at Gas Mixter inlet</th>\n",
       "      <th>Temp at BagHouse Inlet - UpperSide</th>\n",
       "      <th>Temp at BagHouse Inlet - LowerSide</th>\n",
       "      <th>Pressure at BagHouse Inlet</th>\n",
       "      <th>DP Across baghouse - UpperSide</th>\n",
       "      <th>DP Across baghouse - LowerSide</th>\n",
       "      <th>Pressure ID Fan Inlet</th>\n",
       "      <th>Canopy Damper Position</th>\n",
       "      <th>ID Fan1 Speed</th>\n",
       "      <th>ID Fan1 Current</th>\n",
       "      <th>ID Fan2 Speed</th>\n",
       "    </tr>\n",
       "  </thead>\n",
       "  <tbody>\n",
       "    <tr>\n",
       "      <th>487</th>\n",
       "      <td>-131.105300</td>\n",
       "      <td>75.4</td>\n",
       "      <td>80.60001</td>\n",
       "      <td>-221.202200</td>\n",
       "      <td>16.030090</td>\n",
       "      <td>18.738430</td>\n",
       "      <td>-400.860800</td>\n",
       "      <td>60.42282</td>\n",
       "      <td>946.2000</td>\n",
       "      <td>226.3455</td>\n",
       "      <td>945.4032</td>\n",
       "    </tr>\n",
       "    <tr>\n",
       "      <th>5047</th>\n",
       "      <td>-107.884800</td>\n",
       "      <td>63.2</td>\n",
       "      <td>65.60001</td>\n",
       "      <td>-221.137100</td>\n",
       "      <td>15.138890</td>\n",
       "      <td>15.894100</td>\n",
       "      <td>-378.978600</td>\n",
       "      <td>69.41442</td>\n",
       "      <td>946.2000</td>\n",
       "      <td>224.5190</td>\n",
       "      <td>945.4032</td>\n",
       "    </tr>\n",
       "    <tr>\n",
       "      <th>2257</th>\n",
       "      <td>-96.354190</td>\n",
       "      <td>44.0</td>\n",
       "      <td>43.80000</td>\n",
       "      <td>-203.993000</td>\n",
       "      <td>14.062500</td>\n",
       "      <td>16.626160</td>\n",
       "      <td>-363.208900</td>\n",
       "      <td>79.89800</td>\n",
       "      <td>946.2000</td>\n",
       "      <td>236.4615</td>\n",
       "      <td>945.4032</td>\n",
       "    </tr>\n",
       "    <tr>\n",
       "      <th>7541</th>\n",
       "      <td>-125.506400</td>\n",
       "      <td>67.0</td>\n",
       "      <td>67.40000</td>\n",
       "      <td>-235.351600</td>\n",
       "      <td>16.409140</td>\n",
       "      <td>19.946470</td>\n",
       "      <td>-408.564800</td>\n",
       "      <td>64.32581</td>\n",
       "      <td>941.1403</td>\n",
       "      <td>228.5935</td>\n",
       "      <td>940.7021</td>\n",
       "    </tr>\n",
       "    <tr>\n",
       "      <th>6528</th>\n",
       "      <td>-135.879600</td>\n",
       "      <td>73.8</td>\n",
       "      <td>80.00000</td>\n",
       "      <td>-244.292500</td>\n",
       "      <td>15.321180</td>\n",
       "      <td>17.813950</td>\n",
       "      <td>-396.158900</td>\n",
       "      <td>59.25311</td>\n",
       "      <td>940.3834</td>\n",
       "      <td>213.0683</td>\n",
       "      <td>939.5865</td>\n",
       "    </tr>\n",
       "    <tr>\n",
       "      <th>...</th>\n",
       "      <td>...</td>\n",
       "      <td>...</td>\n",
       "      <td>...</td>\n",
       "      <td>...</td>\n",
       "      <td>...</td>\n",
       "      <td>...</td>\n",
       "      <td>...</td>\n",
       "      <td>...</td>\n",
       "      <td>...</td>\n",
       "      <td>...</td>\n",
       "      <td>...</td>\n",
       "    </tr>\n",
       "    <tr>\n",
       "      <th>2895</th>\n",
       "      <td>-131.568300</td>\n",
       "      <td>74.6</td>\n",
       "      <td>74.00000</td>\n",
       "      <td>-224.826400</td>\n",
       "      <td>16.047450</td>\n",
       "      <td>16.961810</td>\n",
       "      <td>-401.620400</td>\n",
       "      <td>61.31004</td>\n",
       "      <td>946.2000</td>\n",
       "      <td>225.9240</td>\n",
       "      <td>945.4032</td>\n",
       "    </tr>\n",
       "    <tr>\n",
       "      <th>7813</th>\n",
       "      <td>0.766815</td>\n",
       "      <td>30.6</td>\n",
       "      <td>30.40000</td>\n",
       "      <td>-5.099792</td>\n",
       "      <td>0.300926</td>\n",
       "      <td>0.083912</td>\n",
       "      <td>7.161499</td>\n",
       "      <td>81.25072</td>\n",
       "      <td>0.0000</td>\n",
       "      <td>0.8430</td>\n",
       "      <td>0.0000</td>\n",
       "    </tr>\n",
       "    <tr>\n",
       "      <th>905</th>\n",
       "      <td>-119.675900</td>\n",
       "      <td>69.1</td>\n",
       "      <td>73.40000</td>\n",
       "      <td>-210.264800</td>\n",
       "      <td>15.247400</td>\n",
       "      <td>17.575230</td>\n",
       "      <td>-381.076400</td>\n",
       "      <td>64.57646</td>\n",
       "      <td>946.2000</td>\n",
       "      <td>225.1512</td>\n",
       "      <td>945.4032</td>\n",
       "    </tr>\n",
       "    <tr>\n",
       "      <th>5192</th>\n",
       "      <td>-94.039340</td>\n",
       "      <td>59.5</td>\n",
       "      <td>61.80000</td>\n",
       "      <td>-207.204900</td>\n",
       "      <td>15.195310</td>\n",
       "      <td>16.192130</td>\n",
       "      <td>-364.908900</td>\n",
       "      <td>79.11423</td>\n",
       "      <td>946.2000</td>\n",
       "      <td>221.9197</td>\n",
       "      <td>945.4032</td>\n",
       "    </tr>\n",
       "    <tr>\n",
       "      <th>235</th>\n",
       "      <td>-133.825200</td>\n",
       "      <td>54.8</td>\n",
       "      <td>53.90000</td>\n",
       "      <td>-231.488700</td>\n",
       "      <td>14.592010</td>\n",
       "      <td>17.324940</td>\n",
       "      <td>-398.835400</td>\n",
       "      <td>63.93989</td>\n",
       "      <td>946.2000</td>\n",
       "      <td>229.0853</td>\n",
       "      <td>945.4032</td>\n",
       "    </tr>\n",
       "  </tbody>\n",
       "</table>\n",
       "<p>7732 rows × 11 columns</p>\n",
       "</div>"
      ],
      "text/plain": [
       "      Pressure at Gas Mixter inlet  Temp at BagHouse Inlet - UpperSide  \\\n",
       "487                    -131.105300                                75.4   \n",
       "5047                   -107.884800                                63.2   \n",
       "2257                    -96.354190                                44.0   \n",
       "7541                   -125.506400                                67.0   \n",
       "6528                   -135.879600                                73.8   \n",
       "...                            ...                                 ...   \n",
       "2895                   -131.568300                                74.6   \n",
       "7813                      0.766815                                30.6   \n",
       "905                    -119.675900                                69.1   \n",
       "5192                    -94.039340                                59.5   \n",
       "235                    -133.825200                                54.8   \n",
       "\n",
       "      Temp at BagHouse Inlet - LowerSide  Pressure at BagHouse Inlet  \\\n",
       "487                             80.60001                 -221.202200   \n",
       "5047                            65.60001                 -221.137100   \n",
       "2257                            43.80000                 -203.993000   \n",
       "7541                            67.40000                 -235.351600   \n",
       "6528                            80.00000                 -244.292500   \n",
       "...                                  ...                         ...   \n",
       "2895                            74.00000                 -224.826400   \n",
       "7813                            30.40000                   -5.099792   \n",
       "905                             73.40000                 -210.264800   \n",
       "5192                            61.80000                 -207.204900   \n",
       "235                             53.90000                 -231.488700   \n",
       "\n",
       "      DP Across baghouse - UpperSide  DP Across baghouse - LowerSide  \\\n",
       "487                        16.030090                       18.738430   \n",
       "5047                       15.138890                       15.894100   \n",
       "2257                       14.062500                       16.626160   \n",
       "7541                       16.409140                       19.946470   \n",
       "6528                       15.321180                       17.813950   \n",
       "...                              ...                             ...   \n",
       "2895                       16.047450                       16.961810   \n",
       "7813                        0.300926                        0.083912   \n",
       "905                        15.247400                       17.575230   \n",
       "5192                       15.195310                       16.192130   \n",
       "235                        14.592010                       17.324940   \n",
       "\n",
       "      Pressure ID Fan Inlet  Canopy Damper Position  ID Fan1 Speed  \\\n",
       "487             -400.860800                60.42282       946.2000   \n",
       "5047            -378.978600                69.41442       946.2000   \n",
       "2257            -363.208900                79.89800       946.2000   \n",
       "7541            -408.564800                64.32581       941.1403   \n",
       "6528            -396.158900                59.25311       940.3834   \n",
       "...                     ...                     ...            ...   \n",
       "2895            -401.620400                61.31004       946.2000   \n",
       "7813               7.161499                81.25072         0.0000   \n",
       "905             -381.076400                64.57646       946.2000   \n",
       "5192            -364.908900                79.11423       946.2000   \n",
       "235             -398.835400                63.93989       946.2000   \n",
       "\n",
       "      ID Fan1 Current  ID Fan2 Speed  \n",
       "487          226.3455       945.4032  \n",
       "5047         224.5190       945.4032  \n",
       "2257         236.4615       945.4032  \n",
       "7541         228.5935       940.7021  \n",
       "6528         213.0683       939.5865  \n",
       "...               ...            ...  \n",
       "2895         225.9240       945.4032  \n",
       "7813           0.8430         0.0000  \n",
       "905          225.1512       945.4032  \n",
       "5192         221.9197       945.4032  \n",
       "235          229.0853       945.4032  \n",
       "\n",
       "[7732 rows x 11 columns]"
      ]
     },
     "execution_count": 10,
     "metadata": {},
     "output_type": "execute_result"
    }
   ],
   "source": [
    "x_train"
   ]
  },
  {
   "cell_type": "code",
   "execution_count": 11,
   "metadata": {
    "executionInfo": {
     "elapsed": 3,
     "status": "ok",
     "timestamp": 1749727858533,
     "user": {
      "displayName": "Rishi Mulani",
      "userId": "04836978093625403382"
     },
     "user_tz": -330
    },
    "id": "tCZaF8HoLcUQ"
   },
   "outputs": [
    {
     "data": {
      "text/plain": [
       "['scaler(4).pkl']"
      ]
     },
     "execution_count": 11,
     "metadata": {},
     "output_type": "execute_result"
    }
   ],
   "source": [
    "from sklearn.preprocessing import StandardScaler\n",
    "import joblib\n",
    "\n",
    "sc = StandardScaler()\n",
    "\n",
    "x_train = sc.fit_transform(x_train)\n",
    "x_test = sc.transform(x_test)\n",
    "\n",
    "joblib.dump(sc, \"scaler(4).pkl\")\n"
   ]
  },
  {
   "cell_type": "code",
   "execution_count": 12,
   "metadata": {
    "colab": {
     "base_uri": "https://localhost:8080/"
    },
    "executionInfo": {
     "elapsed": 212,
     "status": "ok",
     "timestamp": 1749727858747,
     "user": {
      "displayName": "Rishi Mulani",
      "userId": "04836978093625403382"
     },
     "user_tz": -330
    },
    "id": "hIR9XNcvBNlg",
    "outputId": "0d24111b-9f98-4309-dfdf-f5d6e3a0f786"
   },
   "outputs": [
    {
     "name": "stderr",
     "output_type": "stream",
     "text": [
      "C:\\Users\\DELL\\AppData\\Roaming\\Python\\Python312\\site-packages\\keras\\src\\layers\\core\\dense.py:93: UserWarning: Do not pass an `input_shape`/`input_dim` argument to a layer. When using Sequential models, prefer using an `Input(shape)` object as the first layer in the model instead.\n",
      "  super().__init__(activity_regularizer=activity_regularizer, **kwargs)\n"
     ]
    }
   ],
   "source": [
    "model = Sequential()\n",
    "\n",
    "model.add(Dense(64,activation='relu', input_dim=11))\n",
    "model.add(Dropout(0.001))\n",
    "model.add(Dense(32,activation='relu'))\n",
    "model.add(Dropout(0.001))\n",
    "model.add(Dense(16,activation='relu'))\n",
    "model.add(Dropout(0.001))\n",
    "\n",
    "model.add(Dense(1,activation='linear'))"
   ]
  },
  {
   "cell_type": "code",
   "execution_count": 13,
   "metadata": {
    "colab": {
     "base_uri": "https://localhost:8080/",
     "height": 374
    },
    "executionInfo": {
     "elapsed": 132,
     "status": "ok",
     "timestamp": 1749727858780,
     "user": {
      "displayName": "Rishi Mulani",
      "userId": "04836978093625403382"
     },
     "user_tz": -330
    },
    "id": "Dq0xo8JGK1yx",
    "outputId": "ad174dd4-4c37-4902-cbf8-207c4eed57bc"
   },
   "outputs": [
    {
     "data": {
      "text/html": [
       "<pre style=\"white-space:pre;overflow-x:auto;line-height:normal;font-family:Menlo,'DejaVu Sans Mono',consolas,'Courier New',monospace\"><span style=\"font-weight: bold\">Model: \"sequential\"</span>\n",
       "</pre>\n"
      ],
      "text/plain": [
       "\u001b[1mModel: \"sequential\"\u001b[0m\n"
      ]
     },
     "metadata": {},
     "output_type": "display_data"
    },
    {
     "data": {
      "text/html": [
       "<pre style=\"white-space:pre;overflow-x:auto;line-height:normal;font-family:Menlo,'DejaVu Sans Mono',consolas,'Courier New',monospace\">┏━━━━━━━━━━━━━━━━━━━━━━━━━━━━━━━━━┳━━━━━━━━━━━━━━━━━━━━━━━━┳━━━━━━━━━━━━━━━┓\n",
       "┃<span style=\"font-weight: bold\"> Layer (type)                    </span>┃<span style=\"font-weight: bold\"> Output Shape           </span>┃<span style=\"font-weight: bold\">       Param # </span>┃\n",
       "┡━━━━━━━━━━━━━━━━━━━━━━━━━━━━━━━━━╇━━━━━━━━━━━━━━━━━━━━━━━━╇━━━━━━━━━━━━━━━┩\n",
       "│ dense (<span style=\"color: #0087ff; text-decoration-color: #0087ff\">Dense</span>)                   │ (<span style=\"color: #00d7ff; text-decoration-color: #00d7ff\">None</span>, <span style=\"color: #00af00; text-decoration-color: #00af00\">64</span>)             │           <span style=\"color: #00af00; text-decoration-color: #00af00\">768</span> │\n",
       "├─────────────────────────────────┼────────────────────────┼───────────────┤\n",
       "│ dropout (<span style=\"color: #0087ff; text-decoration-color: #0087ff\">Dropout</span>)               │ (<span style=\"color: #00d7ff; text-decoration-color: #00d7ff\">None</span>, <span style=\"color: #00af00; text-decoration-color: #00af00\">64</span>)             │             <span style=\"color: #00af00; text-decoration-color: #00af00\">0</span> │\n",
       "├─────────────────────────────────┼────────────────────────┼───────────────┤\n",
       "│ dense_1 (<span style=\"color: #0087ff; text-decoration-color: #0087ff\">Dense</span>)                 │ (<span style=\"color: #00d7ff; text-decoration-color: #00d7ff\">None</span>, <span style=\"color: #00af00; text-decoration-color: #00af00\">32</span>)             │         <span style=\"color: #00af00; text-decoration-color: #00af00\">2,080</span> │\n",
       "├─────────────────────────────────┼────────────────────────┼───────────────┤\n",
       "│ dropout_1 (<span style=\"color: #0087ff; text-decoration-color: #0087ff\">Dropout</span>)             │ (<span style=\"color: #00d7ff; text-decoration-color: #00d7ff\">None</span>, <span style=\"color: #00af00; text-decoration-color: #00af00\">32</span>)             │             <span style=\"color: #00af00; text-decoration-color: #00af00\">0</span> │\n",
       "├─────────────────────────────────┼────────────────────────┼───────────────┤\n",
       "│ dense_2 (<span style=\"color: #0087ff; text-decoration-color: #0087ff\">Dense</span>)                 │ (<span style=\"color: #00d7ff; text-decoration-color: #00d7ff\">None</span>, <span style=\"color: #00af00; text-decoration-color: #00af00\">16</span>)             │           <span style=\"color: #00af00; text-decoration-color: #00af00\">528</span> │\n",
       "├─────────────────────────────────┼────────────────────────┼───────────────┤\n",
       "│ dropout_2 (<span style=\"color: #0087ff; text-decoration-color: #0087ff\">Dropout</span>)             │ (<span style=\"color: #00d7ff; text-decoration-color: #00d7ff\">None</span>, <span style=\"color: #00af00; text-decoration-color: #00af00\">16</span>)             │             <span style=\"color: #00af00; text-decoration-color: #00af00\">0</span> │\n",
       "├─────────────────────────────────┼────────────────────────┼───────────────┤\n",
       "│ dense_3 (<span style=\"color: #0087ff; text-decoration-color: #0087ff\">Dense</span>)                 │ (<span style=\"color: #00d7ff; text-decoration-color: #00d7ff\">None</span>, <span style=\"color: #00af00; text-decoration-color: #00af00\">1</span>)              │            <span style=\"color: #00af00; text-decoration-color: #00af00\">17</span> │\n",
       "└─────────────────────────────────┴────────────────────────┴───────────────┘\n",
       "</pre>\n"
      ],
      "text/plain": [
       "┏━━━━━━━━━━━━━━━━━━━━━━━━━━━━━━━━━┳━━━━━━━━━━━━━━━━━━━━━━━━┳━━━━━━━━━━━━━━━┓\n",
       "┃\u001b[1m \u001b[0m\u001b[1mLayer (type)                   \u001b[0m\u001b[1m \u001b[0m┃\u001b[1m \u001b[0m\u001b[1mOutput Shape          \u001b[0m\u001b[1m \u001b[0m┃\u001b[1m \u001b[0m\u001b[1m      Param #\u001b[0m\u001b[1m \u001b[0m┃\n",
       "┡━━━━━━━━━━━━━━━━━━━━━━━━━━━━━━━━━╇━━━━━━━━━━━━━━━━━━━━━━━━╇━━━━━━━━━━━━━━━┩\n",
       "│ dense (\u001b[38;5;33mDense\u001b[0m)                   │ (\u001b[38;5;45mNone\u001b[0m, \u001b[38;5;34m64\u001b[0m)             │           \u001b[38;5;34m768\u001b[0m │\n",
       "├─────────────────────────────────┼────────────────────────┼───────────────┤\n",
       "│ dropout (\u001b[38;5;33mDropout\u001b[0m)               │ (\u001b[38;5;45mNone\u001b[0m, \u001b[38;5;34m64\u001b[0m)             │             \u001b[38;5;34m0\u001b[0m │\n",
       "├─────────────────────────────────┼────────────────────────┼───────────────┤\n",
       "│ dense_1 (\u001b[38;5;33mDense\u001b[0m)                 │ (\u001b[38;5;45mNone\u001b[0m, \u001b[38;5;34m32\u001b[0m)             │         \u001b[38;5;34m2,080\u001b[0m │\n",
       "├─────────────────────────────────┼────────────────────────┼───────────────┤\n",
       "│ dropout_1 (\u001b[38;5;33mDropout\u001b[0m)             │ (\u001b[38;5;45mNone\u001b[0m, \u001b[38;5;34m32\u001b[0m)             │             \u001b[38;5;34m0\u001b[0m │\n",
       "├─────────────────────────────────┼────────────────────────┼───────────────┤\n",
       "│ dense_2 (\u001b[38;5;33mDense\u001b[0m)                 │ (\u001b[38;5;45mNone\u001b[0m, \u001b[38;5;34m16\u001b[0m)             │           \u001b[38;5;34m528\u001b[0m │\n",
       "├─────────────────────────────────┼────────────────────────┼───────────────┤\n",
       "│ dropout_2 (\u001b[38;5;33mDropout\u001b[0m)             │ (\u001b[38;5;45mNone\u001b[0m, \u001b[38;5;34m16\u001b[0m)             │             \u001b[38;5;34m0\u001b[0m │\n",
       "├─────────────────────────────────┼────────────────────────┼───────────────┤\n",
       "│ dense_3 (\u001b[38;5;33mDense\u001b[0m)                 │ (\u001b[38;5;45mNone\u001b[0m, \u001b[38;5;34m1\u001b[0m)              │            \u001b[38;5;34m17\u001b[0m │\n",
       "└─────────────────────────────────┴────────────────────────┴───────────────┘\n"
      ]
     },
     "metadata": {},
     "output_type": "display_data"
    },
    {
     "data": {
      "text/html": [
       "<pre style=\"white-space:pre;overflow-x:auto;line-height:normal;font-family:Menlo,'DejaVu Sans Mono',consolas,'Courier New',monospace\"><span style=\"font-weight: bold\"> Total params: </span><span style=\"color: #00af00; text-decoration-color: #00af00\">3,393</span> (13.25 KB)\n",
       "</pre>\n"
      ],
      "text/plain": [
       "\u001b[1m Total params: \u001b[0m\u001b[38;5;34m3,393\u001b[0m (13.25 KB)\n"
      ]
     },
     "metadata": {},
     "output_type": "display_data"
    },
    {
     "data": {
      "text/html": [
       "<pre style=\"white-space:pre;overflow-x:auto;line-height:normal;font-family:Menlo,'DejaVu Sans Mono',consolas,'Courier New',monospace\"><span style=\"font-weight: bold\"> Trainable params: </span><span style=\"color: #00af00; text-decoration-color: #00af00\">3,393</span> (13.25 KB)\n",
       "</pre>\n"
      ],
      "text/plain": [
       "\u001b[1m Trainable params: \u001b[0m\u001b[38;5;34m3,393\u001b[0m (13.25 KB)\n"
      ]
     },
     "metadata": {},
     "output_type": "display_data"
    },
    {
     "data": {
      "text/html": [
       "<pre style=\"white-space:pre;overflow-x:auto;line-height:normal;font-family:Menlo,'DejaVu Sans Mono',consolas,'Courier New',monospace\"><span style=\"font-weight: bold\"> Non-trainable params: </span><span style=\"color: #00af00; text-decoration-color: #00af00\">0</span> (0.00 B)\n",
       "</pre>\n"
      ],
      "text/plain": [
       "\u001b[1m Non-trainable params: \u001b[0m\u001b[38;5;34m0\u001b[0m (0.00 B)\n"
      ]
     },
     "metadata": {},
     "output_type": "display_data"
    }
   ],
   "source": [
    "model.summary()"
   ]
  },
  {
   "cell_type": "code",
   "execution_count": 14,
   "metadata": {
    "colab": {
     "base_uri": "https://localhost:8080/"
    },
    "collapsed": true,
    "executionInfo": {
     "elapsed": 25447,
     "status": "ok",
     "timestamp": 1749727884242,
     "user": {
      "displayName": "Rishi Mulani",
      "userId": "04836978093625403382"
     },
     "user_tz": -330
    },
    "id": "k1V5rAmhK83v",
    "outputId": "d62fa978-d0d0-47e4-88b2-8cbe585e9500"
   },
   "outputs": [
    {
     "name": "stdout",
     "output_type": "stream",
     "text": [
      "Epoch 1/20\n",
      "\u001b[1m194/194\u001b[0m \u001b[32m━━━━━━━━━━━━━━━━━━━━\u001b[0m\u001b[37m\u001b[0m \u001b[1m6s\u001b[0m 3ms/step - loss: 4480.2354 - val_loss: 85.0547\n",
      "Epoch 2/20\n",
      "\u001b[1m194/194\u001b[0m \u001b[32m━━━━━━━━━━━━━━━━━━━━\u001b[0m\u001b[37m\u001b[0m \u001b[1m0s\u001b[0m 2ms/step - loss: 85.3009 - val_loss: 58.6115\n",
      "Epoch 3/20\n",
      "\u001b[1m194/194\u001b[0m \u001b[32m━━━━━━━━━━━━━━━━━━━━\u001b[0m\u001b[37m\u001b[0m \u001b[1m0s\u001b[0m 2ms/step - loss: 67.9830 - val_loss: 55.8398\n",
      "Epoch 4/20\n",
      "\u001b[1m194/194\u001b[0m \u001b[32m━━━━━━━━━━━━━━━━━━━━\u001b[0m\u001b[37m\u001b[0m \u001b[1m0s\u001b[0m 2ms/step - loss: 59.6067 - val_loss: 56.5992\n",
      "Epoch 5/20\n",
      "\u001b[1m194/194\u001b[0m \u001b[32m━━━━━━━━━━━━━━━━━━━━\u001b[0m\u001b[37m\u001b[0m \u001b[1m0s\u001b[0m 2ms/step - loss: 57.8152 - val_loss: 48.9372\n",
      "Epoch 6/20\n",
      "\u001b[1m194/194\u001b[0m \u001b[32m━━━━━━━━━━━━━━━━━━━━\u001b[0m\u001b[37m\u001b[0m \u001b[1m0s\u001b[0m 2ms/step - loss: 52.7068 - val_loss: 55.1377\n",
      "Epoch 7/20\n",
      "\u001b[1m194/194\u001b[0m \u001b[32m━━━━━━━━━━━━━━━━━━━━\u001b[0m\u001b[37m\u001b[0m \u001b[1m0s\u001b[0m 2ms/step - loss: 54.7106 - val_loss: 41.5734\n",
      "Epoch 8/20\n",
      "\u001b[1m194/194\u001b[0m \u001b[32m━━━━━━━━━━━━━━━━━━━━\u001b[0m\u001b[37m\u001b[0m \u001b[1m0s\u001b[0m 2ms/step - loss: 53.2108 - val_loss: 47.6712\n",
      "Epoch 9/20\n",
      "\u001b[1m194/194\u001b[0m \u001b[32m━━━━━━━━━━━━━━━━━━━━\u001b[0m\u001b[37m\u001b[0m \u001b[1m0s\u001b[0m 2ms/step - loss: 56.4357 - val_loss: 43.3269\n",
      "Epoch 10/20\n",
      "\u001b[1m194/194\u001b[0m \u001b[32m━━━━━━━━━━━━━━━━━━━━\u001b[0m\u001b[37m\u001b[0m \u001b[1m0s\u001b[0m 2ms/step - loss: 56.5481 - val_loss: 40.4696\n",
      "Epoch 11/20\n",
      "\u001b[1m194/194\u001b[0m \u001b[32m━━━━━━━━━━━━━━━━━━━━\u001b[0m\u001b[37m\u001b[0m \u001b[1m0s\u001b[0m 2ms/step - loss: 50.3218 - val_loss: 38.4186\n",
      "Epoch 12/20\n",
      "\u001b[1m194/194\u001b[0m \u001b[32m━━━━━━━━━━━━━━━━━━━━\u001b[0m\u001b[37m\u001b[0m \u001b[1m0s\u001b[0m 2ms/step - loss: 57.2911 - val_loss: 95.2231\n",
      "Epoch 13/20\n",
      "\u001b[1m194/194\u001b[0m \u001b[32m━━━━━━━━━━━━━━━━━━━━\u001b[0m\u001b[37m\u001b[0m \u001b[1m1s\u001b[0m 3ms/step - loss: 59.4087 - val_loss: 54.8506\n",
      "Epoch 14/20\n",
      "\u001b[1m194/194\u001b[0m \u001b[32m━━━━━━━━━━━━━━━━━━━━\u001b[0m\u001b[37m\u001b[0m \u001b[1m0s\u001b[0m 2ms/step - loss: 52.3750 - val_loss: 44.0527\n",
      "Epoch 15/20\n",
      "\u001b[1m194/194\u001b[0m \u001b[32m━━━━━━━━━━━━━━━━━━━━\u001b[0m\u001b[37m\u001b[0m \u001b[1m0s\u001b[0m 2ms/step - loss: 50.6014 - val_loss: 37.5985\n",
      "Epoch 16/20\n",
      "\u001b[1m194/194\u001b[0m \u001b[32m━━━━━━━━━━━━━━━━━━━━\u001b[0m\u001b[37m\u001b[0m \u001b[1m0s\u001b[0m 2ms/step - loss: 49.6105 - val_loss: 49.2471\n",
      "Epoch 17/20\n",
      "\u001b[1m194/194\u001b[0m \u001b[32m━━━━━━━━━━━━━━━━━━━━\u001b[0m\u001b[37m\u001b[0m \u001b[1m0s\u001b[0m 2ms/step - loss: 51.0790 - val_loss: 50.2685\n",
      "Epoch 18/20\n",
      "\u001b[1m194/194\u001b[0m \u001b[32m━━━━━━━━━━━━━━━━━━━━\u001b[0m\u001b[37m\u001b[0m \u001b[1m0s\u001b[0m 2ms/step - loss: 57.1176 - val_loss: 47.9814\n",
      "Epoch 19/20\n",
      "\u001b[1m194/194\u001b[0m \u001b[32m━━━━━━━━━━━━━━━━━━━━\u001b[0m\u001b[37m\u001b[0m \u001b[1m0s\u001b[0m 2ms/step - loss: 55.7985 - val_loss: 54.5331\n",
      "Epoch 20/20\n",
      "\u001b[1m194/194\u001b[0m \u001b[32m━━━━━━━━━━━━━━━━━━━━\u001b[0m\u001b[37m\u001b[0m \u001b[1m0s\u001b[0m 2ms/step - loss: 58.7654 - val_loss: 42.0160\n"
     ]
    }
   ],
   "source": [
    "from keras.optimizers import Adam\n",
    "\n",
    "adam = Adam(learning_rate=0.01)\n",
    "model.compile(loss='mean_squared_error', optimizer=adam)\n",
    "hist = model.fit(x_train,y_train,epochs=20,validation_split=0.2)"
   ]
  },
  {
   "cell_type": "code",
   "execution_count": 15,
   "metadata": {
    "colab": {
     "base_uri": "https://localhost:8080/"
    },
    "executionInfo": {
     "elapsed": 16752,
     "status": "ok",
     "timestamp": 1749727900995,
     "user": {
      "displayName": "Rishi Mulani",
      "userId": "04836978093625403382"
     },
     "user_tz": -330
    },
    "id": "U5on3bZt46qn",
    "outputId": "1684b81d-955e-4ae9-d975-2b0c46a5abe5"
   },
   "outputs": [
    {
     "name": "stdout",
     "output_type": "stream",
     "text": [
      "Epoch 1/20\n",
      "\u001b[1m194/194\u001b[0m \u001b[32m━━━━━━━━━━━━━━━━━━━━\u001b[0m\u001b[37m\u001b[0m \u001b[1m2s\u001b[0m 3ms/step - loss: 42.6723 - val_loss: 36.1595\n",
      "Epoch 2/20\n",
      "\u001b[1m194/194\u001b[0m \u001b[32m━━━━━━━━━━━━━━━━━━━━\u001b[0m\u001b[37m\u001b[0m \u001b[1m0s\u001b[0m 2ms/step - loss: 42.7491 - val_loss: 38.0448\n",
      "Epoch 3/20\n",
      "\u001b[1m194/194\u001b[0m \u001b[32m━━━━━━━━━━━━━━━━━━━━\u001b[0m\u001b[37m\u001b[0m \u001b[1m0s\u001b[0m 2ms/step - loss: 43.4301 - val_loss: 36.0444\n",
      "Epoch 4/20\n",
      "\u001b[1m194/194\u001b[0m \u001b[32m━━━━━━━━━━━━━━━━━━━━\u001b[0m\u001b[37m\u001b[0m \u001b[1m0s\u001b[0m 2ms/step - loss: 43.2260 - val_loss: 35.9817\n",
      "Epoch 5/20\n",
      "\u001b[1m194/194\u001b[0m \u001b[32m━━━━━━━━━━━━━━━━━━━━\u001b[0m\u001b[37m\u001b[0m \u001b[1m0s\u001b[0m 2ms/step - loss: 44.2900 - val_loss: 36.1016\n",
      "Epoch 6/20\n",
      "\u001b[1m194/194\u001b[0m \u001b[32m━━━━━━━━━━━━━━━━━━━━\u001b[0m\u001b[37m\u001b[0m \u001b[1m0s\u001b[0m 2ms/step - loss: 41.7026 - val_loss: 35.6064\n",
      "Epoch 7/20\n",
      "\u001b[1m194/194\u001b[0m \u001b[32m━━━━━━━━━━━━━━━━━━━━\u001b[0m\u001b[37m\u001b[0m \u001b[1m0s\u001b[0m 2ms/step - loss: 41.6764 - val_loss: 36.3150\n",
      "Epoch 8/20\n",
      "\u001b[1m194/194\u001b[0m \u001b[32m━━━━━━━━━━━━━━━━━━━━\u001b[0m\u001b[37m\u001b[0m \u001b[1m0s\u001b[0m 2ms/step - loss: 40.6422 - val_loss: 35.9311\n",
      "Epoch 9/20\n",
      "\u001b[1m194/194\u001b[0m \u001b[32m━━━━━━━━━━━━━━━━━━━━\u001b[0m\u001b[37m\u001b[0m \u001b[1m0s\u001b[0m 2ms/step - loss: 42.8150 - val_loss: 35.8618\n",
      "Epoch 10/20\n",
      "\u001b[1m194/194\u001b[0m \u001b[32m━━━━━━━━━━━━━━━━━━━━\u001b[0m\u001b[37m\u001b[0m \u001b[1m1s\u001b[0m 3ms/step - loss: 41.1044 - val_loss: 34.9662\n",
      "Epoch 11/20\n",
      "\u001b[1m194/194\u001b[0m \u001b[32m━━━━━━━━━━━━━━━━━━━━\u001b[0m\u001b[37m\u001b[0m \u001b[1m0s\u001b[0m 2ms/step - loss: 41.8366 - val_loss: 35.1540\n",
      "Epoch 12/20\n",
      "\u001b[1m194/194\u001b[0m \u001b[32m━━━━━━━━━━━━━━━━━━━━\u001b[0m\u001b[37m\u001b[0m \u001b[1m0s\u001b[0m 2ms/step - loss: 41.6121 - val_loss: 35.8171\n",
      "Epoch 13/20\n",
      "\u001b[1m194/194\u001b[0m \u001b[32m━━━━━━━━━━━━━━━━━━━━\u001b[0m\u001b[37m\u001b[0m \u001b[1m0s\u001b[0m 2ms/step - loss: 41.5610 - val_loss: 36.0077\n",
      "Epoch 14/20\n",
      "\u001b[1m194/194\u001b[0m \u001b[32m━━━━━━━━━━━━━━━━━━━━\u001b[0m\u001b[37m\u001b[0m \u001b[1m0s\u001b[0m 2ms/step - loss: 41.3709 - val_loss: 35.3274\n",
      "Epoch 15/20\n",
      "\u001b[1m194/194\u001b[0m \u001b[32m━━━━━━━━━━━━━━━━━━━━\u001b[0m\u001b[37m\u001b[0m \u001b[1m0s\u001b[0m 2ms/step - loss: 39.0881 - val_loss: 35.1613\n",
      "Epoch 16/20\n",
      "\u001b[1m194/194\u001b[0m \u001b[32m━━━━━━━━━━━━━━━━━━━━\u001b[0m\u001b[37m\u001b[0m \u001b[1m0s\u001b[0m 2ms/step - loss: 39.2901 - val_loss: 35.5894\n",
      "Epoch 17/20\n",
      "\u001b[1m194/194\u001b[0m \u001b[32m━━━━━━━━━━━━━━━━━━━━\u001b[0m\u001b[37m\u001b[0m \u001b[1m0s\u001b[0m 2ms/step - loss: 41.4073 - val_loss: 34.5796\n",
      "Epoch 18/20\n",
      "\u001b[1m194/194\u001b[0m \u001b[32m━━━━━━━━━━━━━━━━━━━━\u001b[0m\u001b[37m\u001b[0m \u001b[1m0s\u001b[0m 2ms/step - loss: 40.1823 - val_loss: 36.1478\n",
      "Epoch 19/20\n",
      "\u001b[1m194/194\u001b[0m \u001b[32m━━━━━━━━━━━━━━━━━━━━\u001b[0m\u001b[37m\u001b[0m \u001b[1m0s\u001b[0m 2ms/step - loss: 40.8193 - val_loss: 35.6866\n",
      "Epoch 20/20\n",
      "\u001b[1m194/194\u001b[0m \u001b[32m━━━━━━━━━━━━━━━━━━━━\u001b[0m\u001b[37m\u001b[0m \u001b[1m0s\u001b[0m 2ms/step - loss: 39.8378 - val_loss: 34.6847\n"
     ]
    }
   ],
   "source": [
    "adam = Adam(learning_rate=0.001)\n",
    "model.compile(loss='mean_squared_error', optimizer=adam)\n",
    "hist = model.fit(x_train,y_train,epochs=20,validation_split=0.2)"
   ]
  },
  {
   "cell_type": "code",
   "execution_count": 16,
   "metadata": {
    "colab": {
     "base_uri": "https://localhost:8080/"
    },
    "executionInfo": {
     "elapsed": 20737,
     "status": "ok",
     "timestamp": 1749727921734,
     "user": {
      "displayName": "Rishi Mulani",
      "userId": "04836978093625403382"
     },
     "user_tz": -330
    },
    "id": "hSIIIylq6ptl",
    "outputId": "37fa9d6c-308e-4e78-8d90-2455a9351379"
   },
   "outputs": [
    {
     "name": "stdout",
     "output_type": "stream",
     "text": [
      "Epoch 1/25\n",
      "\u001b[1m194/194\u001b[0m \u001b[32m━━━━━━━━━━━━━━━━━━━━\u001b[0m\u001b[37m\u001b[0m \u001b[1m2s\u001b[0m 3ms/step - loss: 39.9577 - val_loss: 34.4303\n",
      "Epoch 2/25\n",
      "\u001b[1m194/194\u001b[0m \u001b[32m━━━━━━━━━━━━━━━━━━━━\u001b[0m\u001b[37m\u001b[0m \u001b[1m1s\u001b[0m 3ms/step - loss: 38.5586 - val_loss: 34.2149\n",
      "Epoch 3/25\n",
      "\u001b[1m194/194\u001b[0m \u001b[32m━━━━━━━━━━━━━━━━━━━━\u001b[0m\u001b[37m\u001b[0m \u001b[1m1s\u001b[0m 3ms/step - loss: 40.5901 - val_loss: 34.2972\n",
      "Epoch 4/25\n",
      "\u001b[1m194/194\u001b[0m \u001b[32m━━━━━━━━━━━━━━━━━━━━\u001b[0m\u001b[37m\u001b[0m \u001b[1m0s\u001b[0m 2ms/step - loss: 39.3427 - val_loss: 34.1643\n",
      "Epoch 5/25\n",
      "\u001b[1m194/194\u001b[0m \u001b[32m━━━━━━━━━━━━━━━━━━━━\u001b[0m\u001b[37m\u001b[0m \u001b[1m1s\u001b[0m 2ms/step - loss: 41.2467 - val_loss: 34.1453\n",
      "Epoch 6/25\n",
      "\u001b[1m194/194\u001b[0m \u001b[32m━━━━━━━━━━━━━━━━━━━━\u001b[0m\u001b[37m\u001b[0m \u001b[1m0s\u001b[0m 2ms/step - loss: 42.9857 - val_loss: 34.3893\n",
      "Epoch 7/25\n",
      "\u001b[1m194/194\u001b[0m \u001b[32m━━━━━━━━━━━━━━━━━━━━\u001b[0m\u001b[37m\u001b[0m \u001b[1m1s\u001b[0m 3ms/step - loss: 42.7864 - val_loss: 34.1635\n",
      "Epoch 8/25\n",
      "\u001b[1m194/194\u001b[0m \u001b[32m━━━━━━━━━━━━━━━━━━━━\u001b[0m\u001b[37m\u001b[0m \u001b[1m0s\u001b[0m 2ms/step - loss: 38.8602 - val_loss: 34.6482\n",
      "Epoch 9/25\n",
      "\u001b[1m194/194\u001b[0m \u001b[32m━━━━━━━━━━━━━━━━━━━━\u001b[0m\u001b[37m\u001b[0m \u001b[1m0s\u001b[0m 2ms/step - loss: 39.7177 - val_loss: 34.2023\n",
      "Epoch 10/25\n",
      "\u001b[1m194/194\u001b[0m \u001b[32m━━━━━━━━━━━━━━━━━━━━\u001b[0m\u001b[37m\u001b[0m \u001b[1m0s\u001b[0m 2ms/step - loss: 38.7616 - val_loss: 34.1808\n",
      "Epoch 11/25\n",
      "\u001b[1m194/194\u001b[0m \u001b[32m━━━━━━━━━━━━━━━━━━━━\u001b[0m\u001b[37m\u001b[0m \u001b[1m0s\u001b[0m 2ms/step - loss: 38.9023 - val_loss: 34.2009\n",
      "Epoch 12/25\n",
      "\u001b[1m194/194\u001b[0m \u001b[32m━━━━━━━━━━━━━━━━━━━━\u001b[0m\u001b[37m\u001b[0m \u001b[1m0s\u001b[0m 2ms/step - loss: 39.9034 - val_loss: 34.2493\n",
      "Epoch 13/25\n",
      "\u001b[1m194/194\u001b[0m \u001b[32m━━━━━━━━━━━━━━━━━━━━\u001b[0m\u001b[37m\u001b[0m \u001b[1m0s\u001b[0m 2ms/step - loss: 35.4957 - val_loss: 34.4109\n",
      "Epoch 14/25\n",
      "\u001b[1m194/194\u001b[0m \u001b[32m━━━━━━━━━━━━━━━━━━━━\u001b[0m\u001b[37m\u001b[0m \u001b[1m1s\u001b[0m 2ms/step - loss: 38.2108 - val_loss: 34.1222\n",
      "Epoch 15/25\n",
      "\u001b[1m194/194\u001b[0m \u001b[32m━━━━━━━━━━━━━━━━━━━━\u001b[0m\u001b[37m\u001b[0m \u001b[1m0s\u001b[0m 2ms/step - loss: 39.2456 - val_loss: 34.1279\n",
      "Epoch 16/25\n",
      "\u001b[1m194/194\u001b[0m \u001b[32m━━━━━━━━━━━━━━━━━━━━\u001b[0m\u001b[37m\u001b[0m \u001b[1m0s\u001b[0m 2ms/step - loss: 40.0090 - val_loss: 34.0593\n",
      "Epoch 17/25\n",
      "\u001b[1m194/194\u001b[0m \u001b[32m━━━━━━━━━━━━━━━━━━━━\u001b[0m\u001b[37m\u001b[0m \u001b[1m0s\u001b[0m 2ms/step - loss: 40.8430 - val_loss: 34.4723\n",
      "Epoch 18/25\n",
      "\u001b[1m194/194\u001b[0m \u001b[32m━━━━━━━━━━━━━━━━━━━━\u001b[0m\u001b[37m\u001b[0m \u001b[1m1s\u001b[0m 2ms/step - loss: 39.6594 - val_loss: 34.4671\n",
      "Epoch 19/25\n",
      "\u001b[1m194/194\u001b[0m \u001b[32m━━━━━━━━━━━━━━━━━━━━\u001b[0m\u001b[37m\u001b[0m \u001b[1m1s\u001b[0m 3ms/step - loss: 39.4163 - val_loss: 34.2710\n",
      "Epoch 20/25\n",
      "\u001b[1m194/194\u001b[0m \u001b[32m━━━━━━━━━━━━━━━━━━━━\u001b[0m\u001b[37m\u001b[0m \u001b[1m0s\u001b[0m 2ms/step - loss: 40.2862 - val_loss: 34.1842\n",
      "Epoch 21/25\n",
      "\u001b[1m194/194\u001b[0m \u001b[32m━━━━━━━━━━━━━━━━━━━━\u001b[0m\u001b[37m\u001b[0m \u001b[1m0s\u001b[0m 2ms/step - loss: 38.8291 - val_loss: 34.1987\n",
      "Epoch 22/25\n",
      "\u001b[1m194/194\u001b[0m \u001b[32m━━━━━━━━━━━━━━━━━━━━\u001b[0m\u001b[37m\u001b[0m \u001b[1m0s\u001b[0m 2ms/step - loss: 39.1097 - val_loss: 34.2481\n",
      "Epoch 23/25\n",
      "\u001b[1m194/194\u001b[0m \u001b[32m━━━━━━━━━━━━━━━━━━━━\u001b[0m\u001b[37m\u001b[0m \u001b[1m0s\u001b[0m 2ms/step - loss: 40.0477 - val_loss: 34.1400\n",
      "Epoch 24/25\n",
      "\u001b[1m194/194\u001b[0m \u001b[32m━━━━━━━━━━━━━━━━━━━━\u001b[0m\u001b[37m\u001b[0m \u001b[1m0s\u001b[0m 2ms/step - loss: 38.3884 - val_loss: 34.5645\n",
      "Epoch 25/25\n",
      "\u001b[1m194/194\u001b[0m \u001b[32m━━━━━━━━━━━━━━━━━━━━\u001b[0m\u001b[37m\u001b[0m \u001b[1m1s\u001b[0m 3ms/step - loss: 39.6242 - val_loss: 34.1299\n"
     ]
    }
   ],
   "source": [
    "adam = Adam(learning_rate=0.0001)\n",
    "model.compile(loss='mean_squared_error', optimizer=adam)\n",
    "hist = model.fit(x_train,y_train,epochs=25,validation_split=0.2)"
   ]
  },
  {
   "cell_type": "code",
   "execution_count": 17,
   "metadata": {
    "colab": {
     "base_uri": "https://localhost:8080/"
    },
    "executionInfo": {
     "elapsed": 365,
     "status": "ok",
     "timestamp": 1749727922101,
     "user": {
      "displayName": "Rishi Mulani",
      "userId": "04836978093625403382"
     },
     "user_tz": -330
    },
    "id": "QTeg6MXJLEHQ",
    "outputId": "392a09e8-0c52-4413-b013-71d7e6c0e2a4"
   },
   "outputs": [
    {
     "name": "stdout",
     "output_type": "stream",
     "text": [
      "\u001b[1m61/61\u001b[0m \u001b[32m━━━━━━━━━━━━━━━━━━━━\u001b[0m\u001b[37m\u001b[0m \u001b[1m0s\u001b[0m 2ms/step\n"
     ]
    }
   ],
   "source": [
    "y_pred = model.predict(x_test)"
   ]
  },
  {
   "cell_type": "code",
   "execution_count": 18,
   "metadata": {
    "colab": {
     "base_uri": "https://localhost:8080/"
    },
    "executionInfo": {
     "elapsed": 25,
     "status": "ok",
     "timestamp": 1749727922128,
     "user": {
      "displayName": "Rishi Mulani",
      "userId": "04836978093625403382"
     },
     "user_tz": -330
    },
    "id": "ZIFSDzHTL169",
    "outputId": "2237100e-b0fb-4c0f-ce54-8b3ce519ce7c"
   },
   "outputs": [
    {
     "data": {
      "text/plain": [
       "0.9508437969722205"
      ]
     },
     "execution_count": 18,
     "metadata": {},
     "output_type": "execute_result"
    }
   ],
   "source": [
    "from sklearn.metrics import r2_score\n",
    "r2_score(y_test,y_pred)"
   ]
  },
  {
   "cell_type": "code",
   "execution_count": 19,
   "metadata": {
    "colab": {
     "base_uri": "https://localhost:8080/",
     "height": 447
    },
    "executionInfo": {
     "elapsed": 420,
     "status": "ok",
     "timestamp": 1749727922549,
     "user": {
      "displayName": "Rishi Mulani",
      "userId": "04836978093625403382"
     },
     "user_tz": -330
    },
    "id": "E6kqDJfYQ867",
    "outputId": "d11163cc-3957-48d6-f5fe-b3775b9f7731"
   },
   "outputs": [
    {
     "data": {
      "text/plain": [
       "[<matplotlib.lines.Line2D at 0x24c001ed8b0>]"
      ]
     },
     "execution_count": 19,
     "metadata": {},
     "output_type": "execute_result"
    },
    {
     "data": {
      "image/png": "[encoded data removed]",
      "text/plain": [
       "<Figure size 640x480 with 1 Axes>"
      ]
     },
     "metadata": {},
     "output_type": "display_data"
    }
   ],
   "source": [
    "import matplotlib.pyplot as plt\n",
    "plt.plot(hist.history['loss'])\n",
    "plt.plot(hist.history['val_loss'])"
   ]
  },
  {
   "cell_type": "code",
   "execution_count": 20,
   "metadata": {
    "executionInfo": {
     "elapsed": 2,
     "status": "ok",
     "timestamp": 1749727922575,
     "user": {
      "displayName": "Rishi Mulani",
      "userId": "04836978093625403382"
     },
     "user_tz": -330
    },
    "id": "4wuPTW9ZPCEa"
   },
   "outputs": [
    {
     "name": "stderr",
     "output_type": "stream",
     "text": [
      "WARNING:absl:You are saving your model as an HDF5 file via `model.save()` or `keras.saving.save_model(model)`. This file format is considered legacy. We recommend using instead the native Keras format, e.g. `model.save('my_model.keras')` or `keras.saving.save_model(model, 'my_model.keras')`. \n"
     ]
    }
   ],
   "source": [
    "model.save(\"FDC_Outlet_Pressure_DL(4).h5\")"
   ]
  }
 ],
 "metadata": {
  "colab": {
   "authorship_tag": "ABX9TyNPTSOE7iF3gxpJ+K+iZCrK",
   "mount_file_id": "1J7Mqf_2yPcIBr0OYdUFxH2p6roGHQ4aQ",
   "provenance": [
    {
     "file_id": "1bHYwNtvKG_zADMSniUPE9tywt5Se5D27",
     "timestamp": 1749718997559
    },
    {
     "file_id": "1DjLNonKEYav1mGKAUecIKbVF5s7lHdoU",
     "timestamp": 1749712071005
    },
    {
     "file_id": "1GlMEit-wWOzk4cemlaBVkpISVRPcmDSt",
     "timestamp": 1749698134391
    }
   ]
  },
  "kernelspec": {
   "display_name": "Python 3",
   "name": "python3"
  },
  "language_info": {
   "codemirror_mode": {
    "name": "ipython",
    "version": 3
   },
   "file_extension": ".py",
   "mimetype": "text/x-python",
   "name": "python",
   "nbconvert_exporter": "python",
   "pygments_lexer": "ipython3",
   "version": "3.12.0"
  }
 },
 "nbformat": 4,
 "nbformat_minor": 0
}
