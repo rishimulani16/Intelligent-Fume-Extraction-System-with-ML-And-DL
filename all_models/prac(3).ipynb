{
 "cells": [
  {
   "cell_type": "code",
   "execution_count": 1,
   "id": "7ca1439d",
   "metadata": {},
   "outputs": [],
   "source": [
    "# import numpy as np\n",
    "# from tensorflow.keras.models import load_model\n",
    "# import joblib\n",
    "\n",
    "# model = load_model(\"pressure_ID_Fan_inlet_DL(1).h5\")\n",
    "\n",
    "# x = np.array(['18.51997', '60.93208', '946.2000', '226.4158', '945.4032']).astype(float)\n",
    "\n",
    "# y = -400.0651\n",
    "\n",
    "# scaler = joblib.load(\"scaler(1).pkl\")\n",
    "\n",
    "# x_scaled = scaler.transform(x.reshape(1, -1))\n",
    "\n",
    "# pred = model.predict(x_scaled)\n",
    "\n",
    "# print(\"Predicted value:\", pred)\n"
   ]
  },
  {
   "cell_type": "code",
   "execution_count": 2,
   "id": "9674199b",
   "metadata": {},
   "outputs": [
    {
     "name": "stderr",
     "output_type": "stream",
     "text": [
      "WARNING:absl:Compiled the loaded model, but the compiled metrics have yet to be built. `model.compile_metrics` will be empty until you train or evaluate the model.\n"
     ]
    }
   ],
   "source": [
    "import numpy as np\n",
    "from tensorflow.keras.models import load_model\n",
    "import joblib\n",
    "import pandas as pd\n",
    "import matplotlib.pyplot as plt\n",
    "from sklearn.metrics import r2_score\n",
    "\n",
    "model = load_model(\"pressure_at_gas_mixture_DL(3).h5\")"
   ]
  },
  {
   "cell_type": "code",
   "execution_count": 3,
   "id": "34bf78d7",
   "metadata": {},
   "outputs": [],
   "source": [
    "df = pd.read_csv('Batch-1.1.csv')"
   ]
  },
  {
   "cell_type": "code",
   "execution_count": 4,
   "id": "b6df0503",
   "metadata": {},
   "outputs": [
    {
     "data": {
      "text/html": [
       "<div>\n",
       "<style scoped>\n",
       "    .dataframe tbody tr th:only-of-type {\n",
       "        vertical-align: middle;\n",
       "    }\n",
       "\n",
       "    .dataframe tbody tr th {\n",
       "        vertical-align: top;\n",
       "    }\n",
       "\n",
       "    .dataframe thead th {\n",
       "        text-align: right;\n",
       "    }\n",
       "</style>\n",
       "<table border=\"1\" class=\"dataframe\">\n",
       "  <thead>\n",
       "    <tr style=\"text-align: right;\">\n",
       "      <th></th>\n",
       "      <th>Pressure at Gas Mixter inlet</th>\n",
       "      <th>Temp at BagHouse Inlet - UpperSide</th>\n",
       "      <th>Temp at BagHouse Inlet - LowerSide</th>\n",
       "      <th>Pressure at BagHouse Inlet</th>\n",
       "      <th>DP Across baghouse - UpperSide</th>\n",
       "      <th>DP Across baghouse - LowerSide</th>\n",
       "      <th>Pressure ID Fan Inlet</th>\n",
       "      <th>Canopy Damper Position</th>\n",
       "      <th>ID Fan1 Speed</th>\n",
       "      <th>ID Fan1 Current</th>\n",
       "      <th>ID Fan2 Speed</th>\n",
       "    </tr>\n",
       "  </thead>\n",
       "  <tbody>\n",
       "    <tr>\n",
       "      <th>0</th>\n",
       "      <td>-119.9363</td>\n",
       "      <td>68.5</td>\n",
       "      <td>65.7</td>\n",
       "      <td>-216.1675</td>\n",
       "      <td>14.93200</td>\n",
       "      <td>17.62587</td>\n",
       "      <td>-386.0677</td>\n",
       "      <td>66.30715</td>\n",
       "      <td>946.2</td>\n",
       "      <td>228.6638</td>\n",
       "      <td>945.4032</td>\n",
       "    </tr>\n",
       "    <tr>\n",
       "      <th>1</th>\n",
       "      <td>-119.8785</td>\n",
       "      <td>79.4</td>\n",
       "      <td>74.0</td>\n",
       "      <td>-219.9002</td>\n",
       "      <td>15.85503</td>\n",
       "      <td>18.51997</td>\n",
       "      <td>-400.0651</td>\n",
       "      <td>60.93208</td>\n",
       "      <td>946.2</td>\n",
       "      <td>226.4158</td>\n",
       "      <td>945.4032</td>\n",
       "    </tr>\n",
       "    <tr>\n",
       "      <th>2</th>\n",
       "      <td>-120.2402</td>\n",
       "      <td>85.6</td>\n",
       "      <td>80.7</td>\n",
       "      <td>-215.4080</td>\n",
       "      <td>16.05035</td>\n",
       "      <td>18.84115</td>\n",
       "      <td>-397.2801</td>\n",
       "      <td>60.93605</td>\n",
       "      <td>946.2</td>\n",
       "      <td>221.4280</td>\n",
       "      <td>945.4032</td>\n",
       "    </tr>\n",
       "    <tr>\n",
       "      <th>3</th>\n",
       "      <td>-119.0828</td>\n",
       "      <td>85.1</td>\n",
       "      <td>82.8</td>\n",
       "      <td>-210.4601</td>\n",
       "      <td>16.11979</td>\n",
       "      <td>18.69213</td>\n",
       "      <td>-391.2399</td>\n",
       "      <td>60.93605</td>\n",
       "      <td>946.2</td>\n",
       "      <td>221.3578</td>\n",
       "      <td>945.4032</td>\n",
       "    </tr>\n",
       "    <tr>\n",
       "      <th>4</th>\n",
       "      <td>-117.3611</td>\n",
       "      <td>82.8</td>\n",
       "      <td>82.9</td>\n",
       "      <td>-215.1259</td>\n",
       "      <td>15.93750</td>\n",
       "      <td>18.62558</td>\n",
       "      <td>-390.9505</td>\n",
       "      <td>60.93208</td>\n",
       "      <td>946.2</td>\n",
       "      <td>222.6222</td>\n",
       "      <td>945.4032</td>\n",
       "    </tr>\n",
       "  </tbody>\n",
       "</table>\n",
       "</div>"
      ],
      "text/plain": [
       "   Pressure at Gas Mixter inlet  Temp at BagHouse Inlet - UpperSide  \\\n",
       "0                     -119.9363                                68.5   \n",
       "1                     -119.8785                                79.4   \n",
       "2                     -120.2402                                85.6   \n",
       "3                     -119.0828                                85.1   \n",
       "4                     -117.3611                                82.8   \n",
       "\n",
       "   Temp at BagHouse Inlet - LowerSide  Pressure at BagHouse Inlet  \\\n",
       "0                                65.7                   -216.1675   \n",
       "1                                74.0                   -219.9002   \n",
       "2                                80.7                   -215.4080   \n",
       "3                                82.8                   -210.4601   \n",
       "4                                82.9                   -215.1259   \n",
       "\n",
       "   DP Across baghouse - UpperSide  DP Across baghouse - LowerSide  \\\n",
       "0                        14.93200                        17.62587   \n",
       "1                        15.85503                        18.51997   \n",
       "2                        16.05035                        18.84115   \n",
       "3                        16.11979                        18.69213   \n",
       "4                        15.93750                        18.62558   \n",
       "\n",
       "   Pressure ID Fan Inlet  Canopy Damper Position  ID Fan1 Speed  \\\n",
       "0              -386.0677                66.30715          946.2   \n",
       "1              -400.0651                60.93208          946.2   \n",
       "2              -397.2801                60.93605          946.2   \n",
       "3              -391.2399                60.93605          946.2   \n",
       "4              -390.9505                60.93208          946.2   \n",
       "\n",
       "   ID Fan1 Current  ID Fan2 Speed  \n",
       "0         228.6638       945.4032  \n",
       "1         226.4158       945.4032  \n",
       "2         221.4280       945.4032  \n",
       "3         221.3578       945.4032  \n",
       "4         222.6222       945.4032  "
      ]
     },
     "execution_count": 4,
     "metadata": {},
     "output_type": "execute_result"
    }
   ],
   "source": [
    "df = df.iloc[:,11:24]\n",
    "df.drop(columns=['Unnamed: 19','Unnamed: 20'],inplace=True)\n",
    "df.head()"
   ]
  },
  {
   "cell_type": "code",
   "execution_count": 5,
   "id": "a3aced9a",
   "metadata": {},
   "outputs": [
    {
     "name": "stdout",
     "output_type": "stream",
     "text": [
      "Pressure at Gas Mixter inlet          0\n",
      "Temp at BagHouse Inlet - UpperSide    0\n",
      "Temp at BagHouse Inlet - LowerSide    0\n",
      "Pressure at BagHouse Inlet            0\n",
      "DP Across baghouse - UpperSide        0\n",
      "DP Across baghouse - LowerSide        0\n",
      "Pressure ID Fan Inlet                 0\n",
      "Canopy Damper Position                0\n",
      "ID Fan1 Speed                         0\n",
      "ID Fan1 Current                       0\n",
      "ID Fan2 Speed                         0\n",
      "dtype: int64\n"
     ]
    }
   ],
   "source": [
    "print(df.isna().sum())\n",
    "df.dropna(inplace=True)"
   ]
  },
  {
   "cell_type": "code",
   "execution_count": 6,
   "id": "32549e9c",
   "metadata": {},
   "outputs": [],
   "source": [
    "x = df.drop('Pressure at Gas Mixter inlet',axis = 1)\n",
    "y = df['Pressure at Gas Mixter inlet']"
   ]
  },
  {
   "cell_type": "code",
   "execution_count": 7,
   "id": "87cc5a7f",
   "metadata": {},
   "outputs": [],
   "source": [
    "x = np.array(x)"
   ]
  },
  {
   "cell_type": "code",
   "execution_count": 8,
   "id": "c57fda26",
   "metadata": {},
   "outputs": [
    {
     "data": {
      "text/plain": [
       "array([[  68.5   ,   65.7   , -216.1675, ...,  946.2   ,  228.6638,\n",
       "         945.4032],\n",
       "       [  79.4   ,   74.    , -219.9002, ...,  946.2   ,  226.4158,\n",
       "         945.4032],\n",
       "       [  85.6   ,   80.7   , -215.408 , ...,  946.2   ,  221.428 ,\n",
       "         945.4032],\n",
       "       ...,\n",
       "       [  57.7   ,   55.6   , -224.3273, ...,  946.2   ,  227.4695,\n",
       "         945.4032],\n",
       "       [  57.7   ,   56.6   , -222.3741, ...,  946.2   ,  227.7505,\n",
       "         945.4032],\n",
       "       [  58.6   ,   56.9   , -236.9792, ...,  946.2   ,  226.8372,\n",
       "         945.4032]])"
      ]
     },
     "execution_count": 8,
     "metadata": {},
     "output_type": "execute_result"
    }
   ],
   "source": [
    "x"
   ]
  },
  {
   "cell_type": "code",
   "execution_count": 9,
   "id": "4cd28f06",
   "metadata": {},
   "outputs": [
    {
     "name": "stderr",
     "output_type": "stream",
     "text": [
      "c:\\Users\\DELL\\AppData\\Local\\Programs\\Python\\Python312\\Lib\\site-packages\\sklearn\\utils\\validation.py:2749: UserWarning: X does not have valid feature names, but StandardScaler was fitted with feature names\n",
      "  warnings.warn(\n"
     ]
    }
   ],
   "source": [
    "sc = joblib.load(\"scaler(3).pkl\")\n",
    "x_scaled = sc.transform(x)"
   ]
  },
  {
   "cell_type": "code",
   "execution_count": 10,
   "id": "766880e5",
   "metadata": {},
   "outputs": [
    {
     "name": "stdout",
     "output_type": "stream",
     "text": [
      "\u001b[1m34/34\u001b[0m \u001b[32m━━━━━━━━━━━━━━━━━━━━\u001b[0m\u001b[37m\u001b[0m \u001b[1m0s\u001b[0m 3ms/step\n"
     ]
    }
   ],
   "source": [
    "pred = model.predict(x_scaled)"
   ]
  },
  {
   "cell_type": "code",
   "execution_count": 11,
   "id": "578101ce",
   "metadata": {},
   "outputs": [
    {
     "data": {
      "text/plain": [
       "0.9763993942337721"
      ]
     },
     "execution_count": 11,
     "metadata": {},
     "output_type": "execute_result"
    }
   ],
   "source": [
    "r2_score(y,pred)"
   ]
  },
  {
   "cell_type": "code",
   "execution_count": 12,
   "id": "adc2a3b5",
   "metadata": {},
   "outputs": [],
   "source": [
    "pred = pred.reshape(1,-1)"
   ]
  },
  {
   "cell_type": "code",
   "execution_count": 13,
   "id": "c54a5f0e",
   "metadata": {},
   "outputs": [
    {
     "data": {
      "text/html": [
       "<div>\n",
       "<style scoped>\n",
       "    .dataframe tbody tr th:only-of-type {\n",
       "        vertical-align: middle;\n",
       "    }\n",
       "\n",
       "    .dataframe tbody tr th {\n",
       "        vertical-align: top;\n",
       "    }\n",
       "\n",
       "    .dataframe thead th {\n",
       "        text-align: right;\n",
       "    }\n",
       "</style>\n",
       "<table border=\"1\" class=\"dataframe\">\n",
       "  <thead>\n",
       "    <tr style=\"text-align: right;\">\n",
       "      <th></th>\n",
       "      <th>0</th>\n",
       "      <th>1</th>\n",
       "      <th>2</th>\n",
       "      <th>3</th>\n",
       "      <th>4</th>\n",
       "      <th>5</th>\n",
       "      <th>6</th>\n",
       "      <th>7</th>\n",
       "      <th>8</th>\n",
       "      <th>9</th>\n",
       "      <th>...</th>\n",
       "      <th>1070</th>\n",
       "      <th>1071</th>\n",
       "      <th>1072</th>\n",
       "      <th>1073</th>\n",
       "      <th>1074</th>\n",
       "      <th>1075</th>\n",
       "      <th>1076</th>\n",
       "      <th>1077</th>\n",
       "      <th>1078</th>\n",
       "      <th>1079</th>\n",
       "    </tr>\n",
       "  </thead>\n",
       "  <tbody>\n",
       "    <tr>\n",
       "      <th>0</th>\n",
       "      <td>-2.21477</td>\n",
       "      <td>-8.453302</td>\n",
       "      <td>-2.893696</td>\n",
       "      <td>-0.248339</td>\n",
       "      <td>-3.330314</td>\n",
       "      <td>1.51987</td>\n",
       "      <td>-1.19904</td>\n",
       "      <td>-3.563192</td>\n",
       "      <td>0.180102</td>\n",
       "      <td>-1.117471</td>\n",
       "      <td>...</td>\n",
       "      <td>6.489186</td>\n",
       "      <td>5.704664</td>\n",
       "      <td>1.568348</td>\n",
       "      <td>3.22167</td>\n",
       "      <td>0.062073</td>\n",
       "      <td>3.139768</td>\n",
       "      <td>-0.988626</td>\n",
       "      <td>1.039323</td>\n",
       "      <td>-0.728533</td>\n",
       "      <td>4.575697</td>\n",
       "    </tr>\n",
       "  </tbody>\n",
       "</table>\n",
       "<p>1 rows × 1080 columns</p>\n",
       "</div>"
      ],
      "text/plain": [
       "      0         1         2         3         4        5        6     \\\n",
       "0 -2.21477 -8.453302 -2.893696 -0.248339 -3.330314  1.51987 -1.19904   \n",
       "\n",
       "       7         8         9     ...      1070      1071      1072     1073  \\\n",
       "0 -3.563192  0.180102 -1.117471  ...  6.489186  5.704664  1.568348  3.22167   \n",
       "\n",
       "       1074      1075      1076      1077      1078      1079  \n",
       "0  0.062073  3.139768 -0.988626  1.039323 -0.728533  4.575697  \n",
       "\n",
       "[1 rows x 1080 columns]"
      ]
     },
     "execution_count": 13,
     "metadata": {},
     "output_type": "execute_result"
    }
   ],
   "source": [
    "diff = pred - (np.array(y)).reshape(1,-1)\n",
    "pd.DataFrame(diff)"
   ]
  },
  {
   "cell_type": "code",
   "execution_count": 17,
   "id": "989a116b",
   "metadata": {},
   "outputs": [
    {
     "name": "stdout",
     "output_type": "stream",
     "text": [
      "4\n",
      "[12.11680278 14.32272566 14.05732146 14.70753464]\n"
     ]
    }
   ],
   "source": [
    "print(diff[diff>12].size)\n",
    "print(diff[diff>12])\n"
   ]
  },
  {
   "cell_type": "code",
   "execution_count": 15,
   "id": "be54cef4",
   "metadata": {},
   "outputs": [
    {
     "data": {
      "text/plain": [
       "<matplotlib.collections.PathCollection at 0x1e32a8ebbf0>"
      ]
     },
     "execution_count": 15,
     "metadata": {},
     "output_type": "execute_result"
    },
    {
     "data": {
      "image/png": "[encoded data removed]",
      "text/plain": [
       "<Figure size 640x480 with 1 Axes>"
      ]
     },
     "metadata": {},
     "output_type": "display_data"
    }
   ],
   "source": [
    "plt.scatter(y,diff)"
   ]
  }
 ],
 "metadata": {
  "kernelspec": {
   "display_name": "Python 3",
   "language": "python",
   "name": "python3"
  },
  "language_info": {
   "codemirror_mode": {
    "name": "ipython",
    "version": 3
   },
   "file_extension": ".py",
   "mimetype": "text/x-python",
   "name": "python",
   "nbconvert_exporter": "python",
   "pygments_lexer": "ipython3",
   "version": "3.12.0"
  }
 },
 "nbformat": 4,
 "nbformat_minor": 5
}
