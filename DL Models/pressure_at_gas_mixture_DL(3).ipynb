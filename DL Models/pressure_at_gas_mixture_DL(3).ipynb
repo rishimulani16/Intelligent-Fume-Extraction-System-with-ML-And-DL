{
 "cells": [
  {
   "cell_type": "code",
   "execution_count": 1,
   "metadata": {
    "executionInfo": {
     "elapsed": 605,
     "status": "ok",
     "timestamp": 1749727713588,
     "user": {
      "displayName": "Rishi Mulani",
      "userId": "04836978093625403382"
     },
     "user_tz": -330
    },
    "id": "DLkd3mbTJmQA"
   },
   "outputs": [],
   "source": [
    "import pandas as pd\n",
    "import numpy as np\n",
    "import matplotlib.pyplot as plt\n"
   ]
  },
  {
   "cell_type": "code",
   "execution_count": 2,
   "metadata": {
    "colab": {
     "base_uri": "https://localhost:8080/",
     "height": 308
    },
    "executionInfo": {
     "elapsed": 2841,
     "status": "ok",
     "timestamp": 1749727764907,
     "user": {
      "displayName": "Rishi Mulani",
      "userId": "04836978093625403382"
     },
     "user_tz": -330
    },
    "id": "qESxF-90Jviu",
    "outputId": "06e87f38-61ff-4f37-f6f6-19036e9190fe"
   },
   "outputs": [],
   "source": [
    "df_arr = []\n",
    "\n",
    "\n",
    "# df = pd.read_csv('csv/Batch-1.1.csv')\n",
    "# df.head()\n",
    "\n",
    "# df1 = pd.read_csv('csv/Batch-1.2.csv')\n",
    "# df1.head()\n",
    "\n",
    "# df2 = pd.read_csv('/content/drive/MyDrive/AMNS_FES/all csv data/Batch-1.3.csv')\n",
    "# df2.head()\n",
    "\n",
    "# df3 = pd.read_csv('/content/drive/MyDrive/AMNS_FES/all csv data/Batch-1.4.csv')\n",
    "# df3.head()\n",
    "\n",
    "# df4 = pd.read_csv('/content/drive/MyDrive/AMNS_FES/all csv data/Batch-2.1 - Sheet1 - Batch-2.1 - Sheet1.csv')\n",
    "# df4.head()\n",
    "\n",
    "# df5 = pd.read_csv('/content/drive/MyDrive/AMNS_FES/all csv data/Batch-2.2 - Sheet1 - Batch-2.2 - Sheet1.csv')\n",
    "# df5.head()\n",
    "\n",
    "# df6 = pd.read_csv('/content/drive/MyDrive/AMNS_FES/all csv data/Batch-2.3 - Sheet1 - Batch-2.3 - Sheet1.csv')\n",
    "# df6.head()\n",
    "\n",
    "# df7 = pd.read_csv('/content/drive/MyDrive/AMNS_FES/all csv data/Batch-2.4 - Sheet1 - Batch-2.4 - Sheet1.csv')\n",
    "# df7.head()\n",
    "\n",
    "\n",
    "df_arr.append(pd.read_csv('csv/Batch-1.1.csv').drop(0))\n",
    "df_arr.append(pd.read_csv('csv/Batch-1.2.csv').drop(0))\n",
    "df_arr.append(pd.read_csv('csv/Batch-1.3.csv').drop(0))\n",
    "df_arr.append(pd.read_csv('csv/Batch-1.4.csv').drop(0))\n",
    "df_arr.append(pd.read_csv('csv/Batch-2.1.csv').drop(0))\n",
    "df_arr.append(pd.read_csv('csv/Batch-2.2.csv').drop(0))\n",
    "df_arr.append(pd.read_csv('csv/Batch-2.3.csv').drop(0))\n",
    "df_arr.append(pd.read_csv('csv/Batch-2.4.csv').drop(0))\n"
   ]
  },
  {
   "cell_type": "code",
   "execution_count": 3,
   "metadata": {
    "executionInfo": {
     "elapsed": 12,
     "status": "ok",
     "timestamp": 1749727782453,
     "user": {
      "displayName": "Rishi Mulani",
      "userId": "04836978093625403382"
     },
     "user_tz": -330
    },
    "id": "Z8uW7TX9J5Wy"
   },
   "outputs": [
    {
     "name": "stdout",
     "output_type": "stream",
     "text": [
      "(9665, 25)\n"
     ]
    },
    {
     "data": {
      "text/html": [
       "<div>\n",
       "<style scoped>\n",
       "    .dataframe tbody tr th:only-of-type {\n",
       "        vertical-align: middle;\n",
       "    }\n",
       "\n",
       "    .dataframe tbody tr th {\n",
       "        vertical-align: top;\n",
       "    }\n",
       "\n",
       "    .dataframe thead th {\n",
       "        text-align: right;\n",
       "    }\n",
       "</style>\n",
       "<table border=\"1\" class=\"dataframe\">\n",
       "  <thead>\n",
       "    <tr style=\"text-align: right;\">\n",
       "      <th></th>\n",
       "      <th>SampleTime</th>\n",
       "      <th>Process Mode</th>\n",
       "      <th>Oxygen Consumption -Top</th>\n",
       "      <th>Furnace Power</th>\n",
       "      <th>CombustionChamber Pressure</th>\n",
       "      <th>Suction Damper Position feedback</th>\n",
       "      <th>FDC inlet Temprature</th>\n",
       "      <th>FDC Outlet Temp</th>\n",
       "      <th>FDC Outlet Temp - Upperside</th>\n",
       "      <th>DP across FDC</th>\n",
       "      <th>...</th>\n",
       "      <th>DP Across baghouse - UpperSide</th>\n",
       "      <th>DP Across baghouse - LowerSide</th>\n",
       "      <th>Pressure ID Fan Inlet</th>\n",
       "      <th>Canopy Damper Position</th>\n",
       "      <th>Unnamed: 19</th>\n",
       "      <th>Unnamed: 20</th>\n",
       "      <th>ID Fan1 Speed</th>\n",
       "      <th>ID Fan1 Current</th>\n",
       "      <th>ID Fan2 Speed</th>\n",
       "      <th>ID Fan2 Current</th>\n",
       "    </tr>\n",
       "  </thead>\n",
       "  <tbody>\n",
       "    <tr>\n",
       "      <th>0</th>\n",
       "      <td>02.09.2024_12.35.09</td>\n",
       "      <td>32</td>\n",
       "      <td>2890.05</td>\n",
       "      <td>0.0</td>\n",
       "      <td>-13.97569</td>\n",
       "      <td>92.22367</td>\n",
       "      <td>400.8029</td>\n",
       "      <td>168.8</td>\n",
       "      <td>162.6</td>\n",
       "      <td>103.3782</td>\n",
       "      <td>...</td>\n",
       "      <td>15.85503</td>\n",
       "      <td>18.51997</td>\n",
       "      <td>-400.0651</td>\n",
       "      <td>60.93208</td>\n",
       "      <td>41.2</td>\n",
       "      <td>80.7</td>\n",
       "      <td>946.2</td>\n",
       "      <td>226.4158</td>\n",
       "      <td>945.4032</td>\n",
       "      <td>214.6138</td>\n",
       "    </tr>\n",
       "    <tr>\n",
       "      <th>1</th>\n",
       "      <td>02.09.2024_12.40.10</td>\n",
       "      <td>32</td>\n",
       "      <td>3892.103</td>\n",
       "      <td>0.0</td>\n",
       "      <td>-13.86719</td>\n",
       "      <td>92.22367</td>\n",
       "      <td>466.3701</td>\n",
       "      <td>191.8</td>\n",
       "      <td>186.5</td>\n",
       "      <td>50.24234</td>\n",
       "      <td>...</td>\n",
       "      <td>16.05035</td>\n",
       "      <td>18.84115</td>\n",
       "      <td>-397.2801</td>\n",
       "      <td>60.93605</td>\n",
       "      <td>43.7</td>\n",
       "      <td>86.0</td>\n",
       "      <td>946.2</td>\n",
       "      <td>221.428</td>\n",
       "      <td>945.4032</td>\n",
       "      <td>215.808</td>\n",
       "    </tr>\n",
       "    <tr>\n",
       "      <th>2</th>\n",
       "      <td>02.09.2024_12.45.09</td>\n",
       "      <td>32</td>\n",
       "      <td>4897.067</td>\n",
       "      <td>0.0</td>\n",
       "      <td>-13.58145</td>\n",
       "      <td>92.22729</td>\n",
       "      <td>492.1911</td>\n",
       "      <td>190.5</td>\n",
       "      <td>186.6</td>\n",
       "      <td>85.76027</td>\n",
       "      <td>...</td>\n",
       "      <td>16.11979</td>\n",
       "      <td>18.69213</td>\n",
       "      <td>-391.2399</td>\n",
       "      <td>60.93605</td>\n",
       "      <td>43.1</td>\n",
       "      <td>85.6</td>\n",
       "      <td>946.2</td>\n",
       "      <td>221.3578</td>\n",
       "      <td>945.4032</td>\n",
       "      <td>219.461</td>\n",
       "    </tr>\n",
       "    <tr>\n",
       "      <th>3</th>\n",
       "      <td>02.09.2024_12.50.09</td>\n",
       "      <td>32</td>\n",
       "      <td>5902.126</td>\n",
       "      <td>0.0</td>\n",
       "      <td>-13.96846</td>\n",
       "      <td>92.23814</td>\n",
       "      <td>492.8675</td>\n",
       "      <td>184.3</td>\n",
       "      <td>181.5</td>\n",
       "      <td>67.95067</td>\n",
       "      <td>...</td>\n",
       "      <td>15.9375</td>\n",
       "      <td>18.62558</td>\n",
       "      <td>-390.9505</td>\n",
       "      <td>60.93208</td>\n",
       "      <td>42.2</td>\n",
       "      <td>85.1</td>\n",
       "      <td>946.2</td>\n",
       "      <td>222.6222</td>\n",
       "      <td>945.4032</td>\n",
       "      <td>220.1635</td>\n",
       "    </tr>\n",
       "    <tr>\n",
       "      <th>4</th>\n",
       "      <td>02.09.2024_12.55.09</td>\n",
       "      <td>64</td>\n",
       "      <td>6899.486</td>\n",
       "      <td>0.0</td>\n",
       "      <td>-12.66277</td>\n",
       "      <td>74.35981</td>\n",
       "      <td>479.1414</td>\n",
       "      <td>174.4</td>\n",
       "      <td>171.2</td>\n",
       "      <td>72.03053</td>\n",
       "      <td>...</td>\n",
       "      <td>15.62211</td>\n",
       "      <td>18.30874</td>\n",
       "      <td>-376.4106</td>\n",
       "      <td>64.65205</td>\n",
       "      <td>43.6</td>\n",
       "      <td>80.1</td>\n",
       "      <td>946.2</td>\n",
       "      <td>215.3163</td>\n",
       "      <td>945.4032</td>\n",
       "      <td>218.4072</td>\n",
       "    </tr>\n",
       "  </tbody>\n",
       "</table>\n",
       "<p>5 rows × 25 columns</p>\n",
       "</div>"
      ],
      "text/plain": [
       "            SampleTime Process Mode Oxygen Consumption -Top Furnace Power  \\\n",
       "0  02.09.2024_12.35.09           32                 2890.05           0.0   \n",
       "1  02.09.2024_12.40.10           32                3892.103           0.0   \n",
       "2  02.09.2024_12.45.09           32                4897.067           0.0   \n",
       "3  02.09.2024_12.50.09           32                5902.126           0.0   \n",
       "4  02.09.2024_12.55.09           64                6899.486           0.0   \n",
       "\n",
       "  CombustionChamber Pressure Suction Damper Position feedback  \\\n",
       "0                  -13.97569                         92.22367   \n",
       "1                  -13.86719                         92.22367   \n",
       "2                  -13.58145                         92.22729   \n",
       "3                  -13.96846                         92.23814   \n",
       "4                  -12.66277                         74.35981   \n",
       "\n",
       "  FDC inlet Temprature FDC Outlet Temp FDC Outlet Temp - Upperside  \\\n",
       "0             400.8029           168.8                       162.6   \n",
       "1             466.3701           191.8                       186.5   \n",
       "2             492.1911           190.5                       186.6   \n",
       "3             492.8675           184.3                       181.5   \n",
       "4             479.1414           174.4                       171.2   \n",
       "\n",
       "  DP across FDC  ... DP Across baghouse - UpperSide  \\\n",
       "0      103.3782  ...                       15.85503   \n",
       "1      50.24234  ...                       16.05035   \n",
       "2      85.76027  ...                       16.11979   \n",
       "3      67.95067  ...                        15.9375   \n",
       "4      72.03053  ...                       15.62211   \n",
       "\n",
       "  DP Across baghouse - LowerSide Pressure ID Fan Inlet Canopy Damper Position  \\\n",
       "0                       18.51997             -400.0651               60.93208   \n",
       "1                       18.84115             -397.2801               60.93605   \n",
       "2                       18.69213             -391.2399               60.93605   \n",
       "3                       18.62558             -390.9505               60.93208   \n",
       "4                       18.30874             -376.4106               64.65205   \n",
       "\n",
       "  Unnamed: 19 Unnamed: 20 ID Fan1 Speed ID Fan1 Current ID Fan2 Speed  \\\n",
       "0        41.2        80.7         946.2        226.4158      945.4032   \n",
       "1        43.7        86.0         946.2         221.428      945.4032   \n",
       "2        43.1        85.6         946.2        221.3578      945.4032   \n",
       "3        42.2        85.1         946.2        222.6222      945.4032   \n",
       "4        43.6        80.1         946.2        215.3163      945.4032   \n",
       "\n",
       "  ID Fan2 Current  \n",
       "0        214.6138  \n",
       "1         215.808  \n",
       "2         219.461  \n",
       "3        220.1635  \n",
       "4        218.4072  \n",
       "\n",
       "[5 rows x 25 columns]"
      ]
     },
     "execution_count": 3,
     "metadata": {},
     "output_type": "execute_result"
    }
   ],
   "source": [
    "df = pd.concat(df_arr, ignore_index=True)\n",
    "\n",
    "print(df.shape)\n",
    "df.head()\n"
   ]
  },
  {
   "cell_type": "code",
   "execution_count": 4,
   "metadata": {},
   "outputs": [],
   "source": [
    "df.isnull().sum()\n",
    "df.dropna(inplace=True)"
   ]
  },
  {
   "cell_type": "code",
   "execution_count": 5,
   "metadata": {
    "colab": {
     "base_uri": "https://localhost:8080/",
     "height": 278
    },
    "executionInfo": {
     "elapsed": 359,
     "status": "ok",
     "timestamp": 1749727785132,
     "user": {
      "displayName": "Rishi Mulani",
      "userId": "04836978093625403382"
     },
     "user_tz": -330
    },
    "id": "pjDjAmt8KCSp",
    "outputId": "ffd8f761-f70f-464a-c8cd-1026ee4a9b97"
   },
   "outputs": [
    {
     "data": {
      "text/html": [
       "<div>\n",
       "<style scoped>\n",
       "    .dataframe tbody tr th:only-of-type {\n",
       "        vertical-align: middle;\n",
       "    }\n",
       "\n",
       "    .dataframe tbody tr th {\n",
       "        vertical-align: top;\n",
       "    }\n",
       "\n",
       "    .dataframe thead th {\n",
       "        text-align: right;\n",
       "    }\n",
       "</style>\n",
       "<table border=\"1\" class=\"dataframe\">\n",
       "  <thead>\n",
       "    <tr style=\"text-align: right;\">\n",
       "      <th></th>\n",
       "      <th>Pressure at Gas Mixter inlet</th>\n",
       "      <th>Temp at BagHouse Inlet - UpperSide</th>\n",
       "      <th>Temp at BagHouse Inlet - LowerSide</th>\n",
       "      <th>Pressure at BagHouse Inlet</th>\n",
       "      <th>DP Across baghouse - UpperSide</th>\n",
       "      <th>DP Across baghouse - LowerSide</th>\n",
       "      <th>Pressure ID Fan Inlet</th>\n",
       "      <th>Canopy Damper Position</th>\n",
       "      <th>ID Fan1 Speed</th>\n",
       "      <th>ID Fan1 Current</th>\n",
       "      <th>ID Fan2 Speed</th>\n",
       "    </tr>\n",
       "  </thead>\n",
       "  <tbody>\n",
       "    <tr>\n",
       "      <th>0</th>\n",
       "      <td>-119.8785</td>\n",
       "      <td>79.4</td>\n",
       "      <td>74.0</td>\n",
       "      <td>-219.9002</td>\n",
       "      <td>15.85503</td>\n",
       "      <td>18.51997</td>\n",
       "      <td>-400.0651</td>\n",
       "      <td>60.93208</td>\n",
       "      <td>946.2</td>\n",
       "      <td>226.4158</td>\n",
       "      <td>945.4032</td>\n",
       "    </tr>\n",
       "    <tr>\n",
       "      <th>1</th>\n",
       "      <td>-120.2402</td>\n",
       "      <td>85.6</td>\n",
       "      <td>80.7</td>\n",
       "      <td>-215.408</td>\n",
       "      <td>16.05035</td>\n",
       "      <td>18.84115</td>\n",
       "      <td>-397.2801</td>\n",
       "      <td>60.93605</td>\n",
       "      <td>946.2</td>\n",
       "      <td>221.428</td>\n",
       "      <td>945.4032</td>\n",
       "    </tr>\n",
       "    <tr>\n",
       "      <th>2</th>\n",
       "      <td>-119.0828</td>\n",
       "      <td>85.1</td>\n",
       "      <td>82.8</td>\n",
       "      <td>-210.4601</td>\n",
       "      <td>16.11979</td>\n",
       "      <td>18.69213</td>\n",
       "      <td>-391.2399</td>\n",
       "      <td>60.93605</td>\n",
       "      <td>946.2</td>\n",
       "      <td>221.3578</td>\n",
       "      <td>945.4032</td>\n",
       "    </tr>\n",
       "    <tr>\n",
       "      <th>3</th>\n",
       "      <td>-117.3611</td>\n",
       "      <td>82.8</td>\n",
       "      <td>82.9</td>\n",
       "      <td>-215.1259</td>\n",
       "      <td>15.9375</td>\n",
       "      <td>18.62558</td>\n",
       "      <td>-390.9505</td>\n",
       "      <td>60.93208</td>\n",
       "      <td>946.2</td>\n",
       "      <td>222.6222</td>\n",
       "      <td>945.4032</td>\n",
       "    </tr>\n",
       "    <tr>\n",
       "      <th>4</th>\n",
       "      <td>-111.5451</td>\n",
       "      <td>79.10001</td>\n",
       "      <td>80.3</td>\n",
       "      <td>-201.9965</td>\n",
       "      <td>15.62211</td>\n",
       "      <td>18.30874</td>\n",
       "      <td>-376.4106</td>\n",
       "      <td>64.65205</td>\n",
       "      <td>946.2</td>\n",
       "      <td>215.3163</td>\n",
       "      <td>945.4032</td>\n",
       "    </tr>\n",
       "  </tbody>\n",
       "</table>\n",
       "</div>"
      ],
      "text/plain": [
       "  Pressure at Gas Mixter inlet Temp at BagHouse Inlet - UpperSide  \\\n",
       "0                    -119.8785                               79.4   \n",
       "1                    -120.2402                               85.6   \n",
       "2                    -119.0828                               85.1   \n",
       "3                    -117.3611                               82.8   \n",
       "4                    -111.5451                           79.10001   \n",
       "\n",
       "  Temp at BagHouse Inlet - LowerSide Pressure at BagHouse Inlet  \\\n",
       "0                               74.0                  -219.9002   \n",
       "1                               80.7                   -215.408   \n",
       "2                               82.8                  -210.4601   \n",
       "3                               82.9                  -215.1259   \n",
       "4                               80.3                  -201.9965   \n",
       "\n",
       "  DP Across baghouse - UpperSide DP Across baghouse - LowerSide  \\\n",
       "0                       15.85503                       18.51997   \n",
       "1                       16.05035                       18.84115   \n",
       "2                       16.11979                       18.69213   \n",
       "3                        15.9375                       18.62558   \n",
       "4                       15.62211                       18.30874   \n",
       "\n",
       "  Pressure ID Fan Inlet Canopy Damper Position ID Fan1 Speed ID Fan1 Current  \\\n",
       "0             -400.0651               60.93208         946.2        226.4158   \n",
       "1             -397.2801               60.93605         946.2         221.428   \n",
       "2             -391.2399               60.93605         946.2        221.3578   \n",
       "3             -390.9505               60.93208         946.2        222.6222   \n",
       "4             -376.4106               64.65205         946.2        215.3163   \n",
       "\n",
       "  ID Fan2 Speed  \n",
       "0      945.4032  \n",
       "1      945.4032  \n",
       "2      945.4032  \n",
       "3      945.4032  \n",
       "4      945.4032  "
      ]
     },
     "execution_count": 5,
     "metadata": {},
     "output_type": "execute_result"
    }
   ],
   "source": [
    "df = df.iloc[:,11:24]\n",
    "df.drop(columns=['Unnamed: 19','Unnamed: 20'], inplace=True)\n",
    "df.head()"
   ]
  },
  {
   "cell_type": "code",
   "execution_count": 6,
   "metadata": {
    "colab": {
     "base_uri": "https://localhost:8080/"
    },
    "executionInfo": {
     "elapsed": 112,
     "status": "ok",
     "timestamp": 1749727785272,
     "user": {
      "displayName": "Rishi Mulani",
      "userId": "04836978093625403382"
     },
     "user_tz": -330
    },
    "id": "gh-9BkgNKFJf",
    "outputId": "55f98d78-5bf8-48c0-f889-5eff8ae8be7d"
   },
   "outputs": [
    {
     "name": "stdout",
     "output_type": "stream",
     "text": [
      "<class 'pandas.core.frame.DataFrame'>\n",
      "RangeIndex: 9665 entries, 0 to 9664\n",
      "Data columns (total 11 columns):\n",
      " #   Column                              Non-Null Count  Dtype  \n",
      "---  ------                              --------------  -----  \n",
      " 0   Pressure at Gas Mixter inlet        9665 non-null   float64\n",
      " 1   Temp at BagHouse Inlet - UpperSide  9665 non-null   float64\n",
      " 2   Temp at BagHouse Inlet - LowerSide  9665 non-null   float64\n",
      " 3   Pressure at BagHouse Inlet          9665 non-null   float64\n",
      " 4   DP Across baghouse - UpperSide      9665 non-null   float64\n",
      " 5   DP Across baghouse - LowerSide      9665 non-null   float64\n",
      " 6   Pressure ID Fan Inlet               9665 non-null   float64\n",
      " 7   Canopy Damper Position              9665 non-null   float64\n",
      " 8   ID Fan1 Speed                       9665 non-null   float64\n",
      " 9   ID Fan1 Current                     9665 non-null   float64\n",
      " 10  ID Fan2 Speed                       9665 non-null   float64\n",
      "dtypes: float64(11)\n",
      "memory usage: 830.7 KB\n"
     ]
    }
   ],
   "source": [
    "#we can see every column is having datatype of 'object'\n",
    "#so convert all column datatype into numeric\n",
    "\n",
    "for col in df.columns:\n",
    "  df[col] = pd.to_numeric(df[col], errors='coerce')\n",
    "\n",
    "df.info()"
   ]
  },
  {
   "cell_type": "code",
   "execution_count": 7,
   "metadata": {
    "collapsed": true,
    "executionInfo": {
     "elapsed": 4991,
     "status": "ok",
     "timestamp": 1749727790266,
     "user": {
      "displayName": "Rishi Mulani",
      "userId": "04836978093625403382"
     },
     "user_tz": -330
    },
    "id": "oLPn6PNSKJET"
   },
   "outputs": [],
   "source": [
    "# !pip install tensorflow\n",
    "import tensorflow\n",
    "from tensorflow import keras\n",
    "from tensorflow.keras import Sequential\n",
    "from tensorflow.keras.layers import Dense\n",
    "from tensorflow.keras.layers import Dense, Dropout"
   ]
  },
  {
   "cell_type": "code",
   "execution_count": 8,
   "metadata": {
    "colab": {
     "base_uri": "https://localhost:8080/"
    },
    "executionInfo": {
     "elapsed": 60,
     "status": "ok",
     "timestamp": 1749727790369,
     "user": {
      "displayName": "Rishi Mulani",
      "userId": "04836978093625403382"
     },
     "user_tz": -330
    },
    "id": "pHOc5NGmKhzE",
    "outputId": "d1d40d9b-3b7c-4790-8c36-79b72f524b36"
   },
   "outputs": [
    {
     "data": {
      "text/plain": [
       "Index(['Pressure at Gas Mixter inlet', 'Temp at BagHouse Inlet - UpperSide',\n",
       "       'Temp at BagHouse Inlet - LowerSide', 'Pressure at BagHouse Inlet',\n",
       "       'DP Across baghouse - UpperSide', 'DP Across baghouse - LowerSide',\n",
       "       'Pressure ID Fan Inlet', 'Canopy Damper Position', 'ID Fan1 Speed',\n",
       "       'ID Fan1 Current', 'ID Fan2 Speed'],\n",
       "      dtype='object')"
      ]
     },
     "execution_count": 8,
     "metadata": {},
     "output_type": "execute_result"
    }
   ],
   "source": [
    "df.columns"
   ]
  },
  {
   "cell_type": "code",
   "execution_count": 42,
   "metadata": {
    "executionInfo": {
     "elapsed": 231,
     "status": "ok",
     "timestamp": 1749727790602,
     "user": {
      "displayName": "Rishi Mulani",
      "userId": "04836978093625403382"
     },
     "user_tz": -330
    },
    "id": "7IeV8hUoLPVW"
   },
   "outputs": [],
   "source": [
    "from sklearn.model_selection import train_test_split\n",
    "x = df.drop(columns=['Pressure at Gas Mixter inlet'],axis=1)\n",
    "y= df['Pressure at Gas Mixter inlet']\n",
    "x_train,x_test,y_train,y_test = train_test_split(x,y,test_size=0.2,random_state=1)\n"
   ]
  },
  {
   "cell_type": "code",
   "execution_count": null,
   "metadata": {
    "executionInfo": {
     "elapsed": 14,
     "status": "ok",
     "timestamp": 1749727790818,
     "user": {
      "displayName": "Rishi Mulani",
      "userId": "04836978093625403382"
     },
     "user_tz": -330
    },
    "id": "tCZaF8HoLcUQ"
   },
   "outputs": [],
   "source": [
    "from sklearn.preprocessing import StandardScaler\n",
    "import joblib\n",
    "\n",
    "sc = StandardScaler()\n",
    "\n",
    "x_train = sc.fit_transform(x_train)\n",
    "x_test = sc.transform(x_test)\n",
    "\n",
    "# joblib.dump(sc, \"scaler(3).pkl\")"
   ]
  },
  {
   "cell_type": "code",
   "execution_count": 44,
   "metadata": {
    "colab": {
     "base_uri": "https://localhost:8080/"
    },
    "executionInfo": {
     "elapsed": 155,
     "status": "ok",
     "timestamp": 1749727790975,
     "user": {
      "displayName": "Rishi Mulani",
      "userId": "04836978093625403382"
     },
     "user_tz": -330
    },
    "id": "hIR9XNcvBNlg",
    "outputId": "94300c1d-b217-497f-dc5d-c6627509bafb"
   },
   "outputs": [
    {
     "name": "stderr",
     "output_type": "stream",
     "text": [
      "C:\\Users\\DELL\\AppData\\Roaming\\Python\\Python312\\site-packages\\keras\\src\\layers\\core\\dense.py:93: UserWarning: Do not pass an `input_shape`/`input_dim` argument to a layer. When using Sequential models, prefer using an `Input(shape)` object as the first layer in the model instead.\n",
      "  super().__init__(activity_regularizer=activity_regularizer, **kwargs)\n"
     ]
    }
   ],
   "source": [
    "model = Sequential()\n",
    "\n",
    "model.add(Dense(64,activation='relu', input_dim=10))\n",
    "# model.add(Dropout(0.05))\n",
    "model.add(Dense(32,activation='relu'))\n",
    "# model.add(Dropout(0.05))\n",
    "model.add(Dense(16,activation='relu'))\n",
    "# model.add(Dropout(0.001))\n",
    "\n",
    "model.add(Dense(1,activation='linear'))"
   ]
  },
  {
   "cell_type": "code",
   "execution_count": 45,
   "metadata": {
    "colab": {
     "base_uri": "https://localhost:8080/",
     "height": 272
    },
    "executionInfo": {
     "elapsed": 123,
     "status": "ok",
     "timestamp": 1749727790995,
     "user": {
      "displayName": "Rishi Mulani",
      "userId": "04836978093625403382"
     },
     "user_tz": -330
    },
    "id": "Dq0xo8JGK1yx",
    "outputId": "e3d38de1-e518-4b61-db48-f6b038bf7359"
   },
   "outputs": [
    {
     "data": {
      "text/html": [
       "<pre style=\"white-space:pre;overflow-x:auto;line-height:normal;font-family:Menlo,'DejaVu Sans Mono',consolas,'Courier New',monospace\"><span style=\"font-weight: bold\">Model: \"sequential_3\"</span>\n",
       "</pre>\n"
      ],
      "text/plain": [
       "\u001b[1mModel: \"sequential_3\"\u001b[0m\n"
      ]
     },
     "metadata": {},
     "output_type": "display_data"
    },
    {
     "data": {
      "text/html": [
       "<pre style=\"white-space:pre;overflow-x:auto;line-height:normal;font-family:Menlo,'DejaVu Sans Mono',consolas,'Courier New',monospace\">┏━━━━━━━━━━━━━━━━━━━━━━━━━━━━━━━━━┳━━━━━━━━━━━━━━━━━━━━━━━━┳━━━━━━━━━━━━━━━┓\n",
       "┃<span style=\"font-weight: bold\"> Layer (type)                    </span>┃<span style=\"font-weight: bold\"> Output Shape           </span>┃<span style=\"font-weight: bold\">       Param # </span>┃\n",
       "┡━━━━━━━━━━━━━━━━━━━━━━━━━━━━━━━━━╇━━━━━━━━━━━━━━━━━━━━━━━━╇━━━━━━━━━━━━━━━┩\n",
       "│ dense_12 (<span style=\"color: #0087ff; text-decoration-color: #0087ff\">Dense</span>)                │ (<span style=\"color: #00d7ff; text-decoration-color: #00d7ff\">None</span>, <span style=\"color: #00af00; text-decoration-color: #00af00\">64</span>)             │           <span style=\"color: #00af00; text-decoration-color: #00af00\">704</span> │\n",
       "├─────────────────────────────────┼────────────────────────┼───────────────┤\n",
       "│ dense_13 (<span style=\"color: #0087ff; text-decoration-color: #0087ff\">Dense</span>)                │ (<span style=\"color: #00d7ff; text-decoration-color: #00d7ff\">None</span>, <span style=\"color: #00af00; text-decoration-color: #00af00\">32</span>)             │         <span style=\"color: #00af00; text-decoration-color: #00af00\">2,080</span> │\n",
       "├─────────────────────────────────┼────────────────────────┼───────────────┤\n",
       "│ dense_14 (<span style=\"color: #0087ff; text-decoration-color: #0087ff\">Dense</span>)                │ (<span style=\"color: #00d7ff; text-decoration-color: #00d7ff\">None</span>, <span style=\"color: #00af00; text-decoration-color: #00af00\">16</span>)             │           <span style=\"color: #00af00; text-decoration-color: #00af00\">528</span> │\n",
       "├─────────────────────────────────┼────────────────────────┼───────────────┤\n",
       "│ dense_15 (<span style=\"color: #0087ff; text-decoration-color: #0087ff\">Dense</span>)                │ (<span style=\"color: #00d7ff; text-decoration-color: #00d7ff\">None</span>, <span style=\"color: #00af00; text-decoration-color: #00af00\">1</span>)              │            <span style=\"color: #00af00; text-decoration-color: #00af00\">17</span> │\n",
       "└─────────────────────────────────┴────────────────────────┴───────────────┘\n",
       "</pre>\n"
      ],
      "text/plain": [
       "┏━━━━━━━━━━━━━━━━━━━━━━━━━━━━━━━━━┳━━━━━━━━━━━━━━━━━━━━━━━━┳━━━━━━━━━━━━━━━┓\n",
       "┃\u001b[1m \u001b[0m\u001b[1mLayer (type)                   \u001b[0m\u001b[1m \u001b[0m┃\u001b[1m \u001b[0m\u001b[1mOutput Shape          \u001b[0m\u001b[1m \u001b[0m┃\u001b[1m \u001b[0m\u001b[1m      Param #\u001b[0m\u001b[1m \u001b[0m┃\n",
       "┡━━━━━━━━━━━━━━━━━━━━━━━━━━━━━━━━━╇━━━━━━━━━━━━━━━━━━━━━━━━╇━━━━━━━━━━━━━━━┩\n",
       "│ dense_12 (\u001b[38;5;33mDense\u001b[0m)                │ (\u001b[38;5;45mNone\u001b[0m, \u001b[38;5;34m64\u001b[0m)             │           \u001b[38;5;34m704\u001b[0m │\n",
       "├─────────────────────────────────┼────────────────────────┼───────────────┤\n",
       "│ dense_13 (\u001b[38;5;33mDense\u001b[0m)                │ (\u001b[38;5;45mNone\u001b[0m, \u001b[38;5;34m32\u001b[0m)             │         \u001b[38;5;34m2,080\u001b[0m │\n",
       "├─────────────────────────────────┼────────────────────────┼───────────────┤\n",
       "│ dense_14 (\u001b[38;5;33mDense\u001b[0m)                │ (\u001b[38;5;45mNone\u001b[0m, \u001b[38;5;34m16\u001b[0m)             │           \u001b[38;5;34m528\u001b[0m │\n",
       "├─────────────────────────────────┼────────────────────────┼───────────────┤\n",
       "│ dense_15 (\u001b[38;5;33mDense\u001b[0m)                │ (\u001b[38;5;45mNone\u001b[0m, \u001b[38;5;34m1\u001b[0m)              │            \u001b[38;5;34m17\u001b[0m │\n",
       "└─────────────────────────────────┴────────────────────────┴───────────────┘\n"
      ]
     },
     "metadata": {},
     "output_type": "display_data"
    },
    {
     "data": {
      "text/html": [
       "<pre style=\"white-space:pre;overflow-x:auto;line-height:normal;font-family:Menlo,'DejaVu Sans Mono',consolas,'Courier New',monospace\"><span style=\"font-weight: bold\"> Total params: </span><span style=\"color: #00af00; text-decoration-color: #00af00\">3,329</span> (13.00 KB)\n",
       "</pre>\n"
      ],
      "text/plain": [
       "\u001b[1m Total params: \u001b[0m\u001b[38;5;34m3,329\u001b[0m (13.00 KB)\n"
      ]
     },
     "metadata": {},
     "output_type": "display_data"
    },
    {
     "data": {
      "text/html": [
       "<pre style=\"white-space:pre;overflow-x:auto;line-height:normal;font-family:Menlo,'DejaVu Sans Mono',consolas,'Courier New',monospace\"><span style=\"font-weight: bold\"> Trainable params: </span><span style=\"color: #00af00; text-decoration-color: #00af00\">3,329</span> (13.00 KB)\n",
       "</pre>\n"
      ],
      "text/plain": [
       "\u001b[1m Trainable params: \u001b[0m\u001b[38;5;34m3,329\u001b[0m (13.00 KB)\n"
      ]
     },
     "metadata": {},
     "output_type": "display_data"
    },
    {
     "data": {
      "text/html": [
       "<pre style=\"white-space:pre;overflow-x:auto;line-height:normal;font-family:Menlo,'DejaVu Sans Mono',consolas,'Courier New',monospace\"><span style=\"font-weight: bold\"> Non-trainable params: </span><span style=\"color: #00af00; text-decoration-color: #00af00\">0</span> (0.00 B)\n",
       "</pre>\n"
      ],
      "text/plain": [
       "\u001b[1m Non-trainable params: \u001b[0m\u001b[38;5;34m0\u001b[0m (0.00 B)\n"
      ]
     },
     "metadata": {},
     "output_type": "display_data"
    }
   ],
   "source": [
    "model.summary()"
   ]
  },
  {
   "cell_type": "code",
   "execution_count": 46,
   "metadata": {
    "colab": {
     "base_uri": "https://localhost:8080/"
    },
    "collapsed": true,
    "executionInfo": {
     "elapsed": 17443,
     "status": "ok",
     "timestamp": 1749727808435,
     "user": {
      "displayName": "Rishi Mulani",
      "userId": "04836978093625403382"
     },
     "user_tz": -330
    },
    "id": "k1V5rAmhK83v",
    "outputId": "675f6849-9807-47c9-d92b-d311223cc940"
   },
   "outputs": [
    {
     "name": "stdout",
     "output_type": "stream",
     "text": [
      "Epoch 1/20\n",
      "\u001b[1m194/194\u001b[0m \u001b[32m━━━━━━━━━━━━━━━━━━━━\u001b[0m\u001b[37m\u001b[0m \u001b[1m2s\u001b[0m 4ms/step - loss: 4701.0078 - val_loss: 46.3700\n",
      "Epoch 2/20\n",
      "\u001b[1m194/194\u001b[0m \u001b[32m━━━━━━━━━━━━━━━━━━━━\u001b[0m\u001b[37m\u001b[0m \u001b[1m1s\u001b[0m 3ms/step - loss: 36.8560 - val_loss: 24.8918\n",
      "Epoch 3/20\n",
      "\u001b[1m194/194\u001b[0m \u001b[32m━━━━━━━━━━━━━━━━━━━━\u001b[0m\u001b[37m\u001b[0m \u001b[1m0s\u001b[0m 2ms/step - loss: 21.5530 - val_loss: 21.6684\n",
      "Epoch 4/20\n",
      "\u001b[1m194/194\u001b[0m \u001b[32m━━━━━━━━━━━━━━━━━━━━\u001b[0m\u001b[37m\u001b[0m \u001b[1m1s\u001b[0m 3ms/step - loss: 23.0613 - val_loss: 16.3591\n",
      "Epoch 5/20\n",
      "\u001b[1m194/194\u001b[0m \u001b[32m━━━━━━━━━━━━━━━━━━━━\u001b[0m\u001b[37m\u001b[0m \u001b[1m1s\u001b[0m 3ms/step - loss: 16.9917 - val_loss: 20.5401\n",
      "Epoch 6/20\n",
      "\u001b[1m194/194\u001b[0m \u001b[32m━━━━━━━━━━━━━━━━━━━━\u001b[0m\u001b[37m\u001b[0m \u001b[1m1s\u001b[0m 2ms/step - loss: 16.0137 - val_loss: 16.7007\n",
      "Epoch 7/20\n",
      "\u001b[1m194/194\u001b[0m \u001b[32m━━━━━━━━━━━━━━━━━━━━\u001b[0m\u001b[37m\u001b[0m \u001b[1m1s\u001b[0m 2ms/step - loss: 16.2118 - val_loss: 16.9948\n",
      "Epoch 8/20\n",
      "\u001b[1m194/194\u001b[0m \u001b[32m━━━━━━━━━━━━━━━━━━━━\u001b[0m\u001b[37m\u001b[0m \u001b[1m0s\u001b[0m 2ms/step - loss: 15.4912 - val_loss: 39.4479\n",
      "Epoch 9/20\n",
      "\u001b[1m194/194\u001b[0m \u001b[32m━━━━━━━━━━━━━━━━━━━━\u001b[0m\u001b[37m\u001b[0m \u001b[1m1s\u001b[0m 2ms/step - loss: 21.7672 - val_loss: 15.3539\n",
      "Epoch 10/20\n",
      "\u001b[1m194/194\u001b[0m \u001b[32m━━━━━━━━━━━━━━━━━━━━\u001b[0m\u001b[37m\u001b[0m \u001b[1m0s\u001b[0m 2ms/step - loss: 17.0014 - val_loss: 14.6082\n",
      "Epoch 11/20\n",
      "\u001b[1m194/194\u001b[0m \u001b[32m━━━━━━━━━━━━━━━━━━━━\u001b[0m\u001b[37m\u001b[0m \u001b[1m1s\u001b[0m 2ms/step - loss: 16.1572 - val_loss: 17.5427\n",
      "Epoch 12/20\n",
      "\u001b[1m194/194\u001b[0m \u001b[32m━━━━━━━━━━━━━━━━━━━━\u001b[0m\u001b[37m\u001b[0m \u001b[1m0s\u001b[0m 2ms/step - loss: 15.6093 - val_loss: 17.0177\n",
      "Epoch 13/20\n",
      "\u001b[1m194/194\u001b[0m \u001b[32m━━━━━━━━━━━━━━━━━━━━\u001b[0m\u001b[37m\u001b[0m \u001b[1m1s\u001b[0m 3ms/step - loss: 19.0045 - val_loss: 17.0919\n",
      "Epoch 14/20\n",
      "\u001b[1m194/194\u001b[0m \u001b[32m━━━━━━━━━━━━━━━━━━━━\u001b[0m\u001b[37m\u001b[0m \u001b[1m0s\u001b[0m 2ms/step - loss: 22.1879 - val_loss: 16.8131\n",
      "Epoch 15/20\n",
      "\u001b[1m194/194\u001b[0m \u001b[32m━━━━━━━━━━━━━━━━━━━━\u001b[0m\u001b[37m\u001b[0m \u001b[1m0s\u001b[0m 2ms/step - loss: 14.9913 - val_loss: 20.7517\n",
      "Epoch 16/20\n",
      "\u001b[1m194/194\u001b[0m \u001b[32m━━━━━━━━━━━━━━━━━━━━\u001b[0m\u001b[37m\u001b[0m \u001b[1m1s\u001b[0m 2ms/step - loss: 16.9988 - val_loss: 15.7506\n",
      "Epoch 17/20\n",
      "\u001b[1m194/194\u001b[0m \u001b[32m━━━━━━━━━━━━━━━━━━━━\u001b[0m\u001b[37m\u001b[0m \u001b[1m1s\u001b[0m 2ms/step - loss: 18.7485 - val_loss: 27.1088\n",
      "Epoch 18/20\n",
      "\u001b[1m194/194\u001b[0m \u001b[32m━━━━━━━━━━━━━━━━━━━━\u001b[0m\u001b[37m\u001b[0m \u001b[1m1s\u001b[0m 2ms/step - loss: 17.6148 - val_loss: 12.5464\n",
      "Epoch 19/20\n",
      "\u001b[1m194/194\u001b[0m \u001b[32m━━━━━━━━━━━━━━━━━━━━\u001b[0m\u001b[37m\u001b[0m \u001b[1m0s\u001b[0m 2ms/step - loss: 16.0197 - val_loss: 13.8459\n",
      "Epoch 20/20\n",
      "\u001b[1m194/194\u001b[0m \u001b[32m━━━━━━━━━━━━━━━━━━━━\u001b[0m\u001b[37m\u001b[0m \u001b[1m1s\u001b[0m 3ms/step - loss: 13.1564 - val_loss: 26.4246\n"
     ]
    }
   ],
   "source": [
    "from keras.optimizers import Adam\n",
    "\n",
    "adam = Adam(learning_rate=0.01)\n",
    "model.compile(loss='mean_squared_error', optimizer=adam)\n",
    "hist = model.fit(x_train,y_train,epochs=20,validation_split=0.2)"
   ]
  },
  {
   "cell_type": "code",
   "execution_count": 47,
   "metadata": {
    "colab": {
     "base_uri": "https://localhost:8080/"
    },
    "executionInfo": {
     "elapsed": 28858,
     "status": "ok",
     "timestamp": 1749727837294,
     "user": {
      "displayName": "Rishi Mulani",
      "userId": "04836978093625403382"
     },
     "user_tz": -330
    },
    "id": "U5on3bZt46qn",
    "outputId": "49d19aef-a724-4417-ba16-faecea988dc0"
   },
   "outputs": [
    {
     "name": "stdout",
     "output_type": "stream",
     "text": [
      "Epoch 1/20\n",
      "\u001b[1m194/194\u001b[0m \u001b[32m━━━━━━━━━━━━━━━━━━━━\u001b[0m\u001b[37m\u001b[0m \u001b[1m2s\u001b[0m 3ms/step - loss: 11.4070 - val_loss: 10.8544\n",
      "Epoch 2/20\n",
      "\u001b[1m194/194\u001b[0m \u001b[32m━━━━━━━━━━━━━━━━━━━━\u001b[0m\u001b[37m\u001b[0m \u001b[1m0s\u001b[0m 2ms/step - loss: 10.6989 - val_loss: 10.6552\n",
      "Epoch 3/20\n",
      "\u001b[1m194/194\u001b[0m \u001b[32m━━━━━━━━━━━━━━━━━━━━\u001b[0m\u001b[37m\u001b[0m \u001b[1m1s\u001b[0m 2ms/step - loss: 10.2134 - val_loss: 10.7866\n",
      "Epoch 4/20\n",
      "\u001b[1m194/194\u001b[0m \u001b[32m━━━━━━━━━━━━━━━━━━━━\u001b[0m\u001b[37m\u001b[0m \u001b[1m1s\u001b[0m 3ms/step - loss: 10.6309 - val_loss: 10.9365\n",
      "Epoch 5/20\n",
      "\u001b[1m194/194\u001b[0m \u001b[32m━━━━━━━━━━━━━━━━━━━━\u001b[0m\u001b[37m\u001b[0m \u001b[1m0s\u001b[0m 2ms/step - loss: 10.0145 - val_loss: 10.5180\n",
      "Epoch 6/20\n",
      "\u001b[1m194/194\u001b[0m \u001b[32m━━━━━━━━━━━━━━━━━━━━\u001b[0m\u001b[37m\u001b[0m \u001b[1m1s\u001b[0m 3ms/step - loss: 9.6505 - val_loss: 10.6110\n",
      "Epoch 7/20\n",
      "\u001b[1m194/194\u001b[0m \u001b[32m━━━━━━━━━━━━━━━━━━━━\u001b[0m\u001b[37m\u001b[0m \u001b[1m1s\u001b[0m 3ms/step - loss: 9.9194 - val_loss: 11.0825\n",
      "Epoch 8/20\n",
      "\u001b[1m194/194\u001b[0m \u001b[32m━━━━━━━━━━━━━━━━━━━━\u001b[0m\u001b[37m\u001b[0m \u001b[1m1s\u001b[0m 3ms/step - loss: 9.7695 - val_loss: 11.1732\n",
      "Epoch 9/20\n",
      "\u001b[1m194/194\u001b[0m \u001b[32m━━━━━━━━━━━━━━━━━━━━\u001b[0m\u001b[37m\u001b[0m \u001b[1m1s\u001b[0m 2ms/step - loss: 9.7494 - val_loss: 10.3386\n",
      "Epoch 10/20\n",
      "\u001b[1m194/194\u001b[0m \u001b[32m━━━━━━━━━━━━━━━━━━━━\u001b[0m\u001b[37m\u001b[0m \u001b[1m1s\u001b[0m 3ms/step - loss: 9.9357 - val_loss: 11.2061\n",
      "Epoch 11/20\n",
      "\u001b[1m194/194\u001b[0m \u001b[32m━━━━━━━━━━━━━━━━━━━━\u001b[0m\u001b[37m\u001b[0m \u001b[1m1s\u001b[0m 2ms/step - loss: 9.9713 - val_loss: 11.8911\n",
      "Epoch 12/20\n",
      "\u001b[1m194/194\u001b[0m \u001b[32m━━━━━━━━━━━━━━━━━━━━\u001b[0m\u001b[37m\u001b[0m \u001b[1m0s\u001b[0m 2ms/step - loss: 9.7756 - val_loss: 11.3694\n",
      "Epoch 13/20\n",
      "\u001b[1m194/194\u001b[0m \u001b[32m━━━━━━━━━━━━━━━━━━━━\u001b[0m\u001b[37m\u001b[0m \u001b[1m1s\u001b[0m 3ms/step - loss: 9.5053 - val_loss: 10.2975\n",
      "Epoch 14/20\n",
      "\u001b[1m194/194\u001b[0m \u001b[32m━━━━━━━━━━━━━━━━━━━━\u001b[0m\u001b[37m\u001b[0m \u001b[1m1s\u001b[0m 3ms/step - loss: 9.8342 - val_loss: 10.4999\n",
      "Epoch 15/20\n",
      "\u001b[1m194/194\u001b[0m \u001b[32m━━━━━━━━━━━━━━━━━━━━\u001b[0m\u001b[37m\u001b[0m \u001b[1m1s\u001b[0m 3ms/step - loss: 9.1736 - val_loss: 10.3776\n",
      "Epoch 16/20\n",
      "\u001b[1m194/194\u001b[0m \u001b[32m━━━━━━━━━━━━━━━━━━━━\u001b[0m\u001b[37m\u001b[0m \u001b[1m1s\u001b[0m 3ms/step - loss: 9.5976 - val_loss: 10.2816\n",
      "Epoch 17/20\n",
      "\u001b[1m194/194\u001b[0m \u001b[32m━━━━━━━━━━━━━━━━━━━━\u001b[0m\u001b[37m\u001b[0m \u001b[1m0s\u001b[0m 2ms/step - loss: 10.3865 - val_loss: 10.9949\n",
      "Epoch 18/20\n",
      "\u001b[1m194/194\u001b[0m \u001b[32m━━━━━━━━━━━━━━━━━━━━\u001b[0m\u001b[37m\u001b[0m \u001b[1m1s\u001b[0m 2ms/step - loss: 9.9748 - val_loss: 10.2796\n",
      "Epoch 19/20\n",
      "\u001b[1m194/194\u001b[0m \u001b[32m━━━━━━━━━━━━━━━━━━━━\u001b[0m\u001b[37m\u001b[0m \u001b[1m1s\u001b[0m 3ms/step - loss: 9.2029 - val_loss: 10.7905\n",
      "Epoch 20/20\n",
      "\u001b[1m194/194\u001b[0m \u001b[32m━━━━━━━━━━━━━━━━━━━━\u001b[0m\u001b[37m\u001b[0m \u001b[1m1s\u001b[0m 2ms/step - loss: 10.0155 - val_loss: 10.0828\n"
     ]
    }
   ],
   "source": [
    "adam = Adam(learning_rate=0.001)\n",
    "model.compile(loss='mean_squared_error', optimizer=adam)\n",
    "hist = model.fit(x_train,y_train,epochs=20,validation_split=0.2)"
   ]
  },
  {
   "cell_type": "code",
   "execution_count": 48,
   "metadata": {
    "colab": {
     "base_uri": "https://localhost:8080/"
    },
    "executionInfo": {
     "elapsed": 26724,
     "status": "ok",
     "timestamp": 1749727864021,
     "user": {
      "displayName": "Rishi Mulani",
      "userId": "04836978093625403382"
     },
     "user_tz": -330
    },
    "id": "hSIIIylq6ptl",
    "outputId": "c7ec5ca2-2fa3-4720-e006-9688c144b1c3"
   },
   "outputs": [
    {
     "name": "stdout",
     "output_type": "stream",
     "text": [
      "\u001b[1m194/194\u001b[0m \u001b[32m━━━━━━━━━━━━━━━━━━━━\u001b[0m\u001b[37m\u001b[0m \u001b[1m2s\u001b[0m 3ms/step - loss: 9.0580 - val_loss: 10.0982\n"
     ]
    }
   ],
   "source": [
    "adam = Adam(learning_rate=0.0001)\n",
    "model.compile(loss='mean_squared_error', optimizer=adam)\n",
    "hist = model.fit(x_train,y_train,epochs=1,validation_split=0.2)"
   ]
  },
  {
   "cell_type": "code",
   "execution_count": 53,
   "metadata": {},
   "outputs": [
    {
     "name": "stdout",
     "output_type": "stream",
     "text": [
      "\u001b[1m194/194\u001b[0m \u001b[32m━━━━━━━━━━━━━━━━━━━━\u001b[0m\u001b[37m\u001b[0m \u001b[1m2s\u001b[0m 3ms/step - loss: 8.9793 - val_loss: 9.9264\n"
     ]
    }
   ],
   "source": [
    "adam = Adam(learning_rate=0.00001)\n",
    "model.compile(loss='mean_squared_error', optimizer=adam)\n",
    "hist = model.fit(x_train,y_train,epochs=1,validation_split=0.2)"
   ]
  },
  {
   "cell_type": "code",
   "execution_count": 54,
   "metadata": {
    "colab": {
     "base_uri": "https://localhost:8080/"
    },
    "executionInfo": {
     "elapsed": 496,
     "status": "ok",
     "timestamp": 1749727864524,
     "user": {
      "displayName": "Rishi Mulani",
      "userId": "04836978093625403382"
     },
     "user_tz": -330
    },
    "id": "QTeg6MXJLEHQ",
    "outputId": "d4aef769-670f-4784-cf53-9b1144d8b693"
   },
   "outputs": [
    {
     "name": "stdout",
     "output_type": "stream",
     "text": [
      "\u001b[1m61/61\u001b[0m \u001b[32m━━━━━━━━━━━━━━━━━━━━\u001b[0m\u001b[37m\u001b[0m \u001b[1m0s\u001b[0m 2ms/step\n"
     ]
    }
   ],
   "source": [
    "y_pred = model.predict(x_test)"
   ]
  },
  {
   "cell_type": "code",
   "execution_count": 55,
   "metadata": {
    "colab": {
     "base_uri": "https://localhost:8080/"
    },
    "executionInfo": {
     "elapsed": 21,
     "status": "ok",
     "timestamp": 1749727864531,
     "user": {
      "displayName": "Rishi Mulani",
      "userId": "04836978093625403382"
     },
     "user_tz": -330
    },
    "id": "ZIFSDzHTL169",
    "outputId": "cfe4aa23-bcb0-455d-bf58-c79315009661"
   },
   "outputs": [
    {
     "data": {
      "text/plain": [
       "0.9806586713339234"
      ]
     },
     "execution_count": 55,
     "metadata": {},
     "output_type": "execute_result"
    }
   ],
   "source": [
    "from sklearn.metrics import r2_score\n",
    "r2_score(y_test,y_pred)"
   ]
  },
  {
   "cell_type": "code",
   "execution_count": 56,
   "metadata": {
    "colab": {
     "base_uri": "https://localhost:8080/",
     "height": 447
    },
    "executionInfo": {
     "elapsed": 333,
     "status": "ok",
     "timestamp": 1749727864865,
     "user": {
      "displayName": "Rishi Mulani",
      "userId": "04836978093625403382"
     },
     "user_tz": -330
    },
    "id": "E6kqDJfYQ867",
    "outputId": "0104a1cc-354b-4341-9b5d-993a7616f28c"
   },
   "outputs": [
    {
     "data": {
      "text/plain": [
       "[<matplotlib.lines.Line2D at 0x21ebf1c39b0>]"
      ]
     },
     "execution_count": 56,
     "metadata": {},
     "output_type": "execute_result"
    },
    {
     "data": {
      "image/png": "[encoded data removed]",
      "text/plain": [
       "<Figure size 640x480 with 1 Axes>"
      ]
     },
     "metadata": {},
     "output_type": "display_data"
    }
   ],
   "source": [
    "import matplotlib.pyplot as plt\n",
    "plt.plot(hist.history['loss'])\n",
    "plt.plot(hist.history['val_loss'])"
   ]
  },
  {
   "cell_type": "code",
   "execution_count": 57,
   "metadata": {},
   "outputs": [
    {
     "name": "stderr",
     "output_type": "stream",
     "text": [
      "WARNING:absl:You are saving your model as an HDF5 file via `model.save()` or `keras.saving.save_model(model)`. This file format is considered legacy. We recommend using instead the native Keras format, e.g. `model.save('my_model.keras')` or `keras.saving.save_model(model, 'my_model.keras')`. \n"
     ]
    }
   ],
   "source": [
    "model.save(\"pressure_at_gas_mixture_DL(3).h5\")"
   ]
  },
  {
   "cell_type": "code",
   "execution_count": null,
   "metadata": {},
   "outputs": [],
   "source": []
  }
 ],
 "metadata": {
  "colab": {
   "authorship_tag": "ABX9TyMUi4GG2+mTHVeHEQxHyx4R",
   "mount_file_id": "1bHYwNtvKG_zADMSniUPE9tywt5Se5D27",
   "provenance": [
    {
     "file_id": "1DjLNonKEYav1mGKAUecIKbVF5s7lHdoU",
     "timestamp": 1749712071005
    },
    {
     "file_id": "1GlMEit-wWOzk4cemlaBVkpISVRPcmDSt",
     "timestamp": 1749698134391
    }
   ]
  },
  "kernelspec": {
   "display_name": "Python 3",
   "name": "python3"
  },
  "language_info": {
   "codemirror_mode": {
    "name": "ipython",
    "version": 3
   },
   "file_extension": ".py",
   "mimetype": "text/x-python",
   "name": "python",
   "nbconvert_exporter": "python",
   "pygments_lexer": "ipython3",
   "version": "3.12.0"
  }
 },
 "nbformat": 4,
 "nbformat_minor": 0
}
