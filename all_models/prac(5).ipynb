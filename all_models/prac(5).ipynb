{
 "cells": [
  {
   "cell_type": "code",
   "execution_count": 1,
   "id": "7ca1439d",
   "metadata": {},
   "outputs": [],
   "source": [
    "# import numpy as np\n",
    "# from tensorflow.keras.models import load_model\n",
    "# import joblib\n",
    "\n",
    "# model = load_model(\"pressure_ID_Fan_inlet_DL(1).h5\")\n",
    "\n",
    "# x = np.array(['18.51997', '60.93208', '946.2000', '226.4158', '945.4032']).astype(float)\n",
    "\n",
    "# y = -400.0651\n",
    "\n",
    "# scaler = joblib.load(\"scaler(1).pkl\")\n",
    "\n",
    "# x_scaled = scaler.transform(x.reshape(1, -1))\n",
    "\n",
    "# pred = model.predict(x_scaled)\n",
    "\n",
    "# print(\"Predicted value:\", pred)\n"
   ]
  },
  {
   "cell_type": "code",
   "execution_count": 2,
   "id": "9674199b",
   "metadata": {},
   "outputs": [
    {
     "name": "stderr",
     "output_type": "stream",
     "text": [
      "WARNING:absl:Compiled the loaded model, but the compiled metrics have yet to be built. `model.compile_metrics` will be empty until you train or evaluate the model.\n"
     ]
    }
   ],
   "source": [
    "import numpy as np\n",
    "from tensorflow.keras.models import load_model\n",
    "import joblib\n",
    "import pandas as pd\n",
    "import matplotlib.pyplot as plt\n",
    "from sklearn.metrics import r2_score\n",
    "\n",
    "model = load_model(\"pressure_at_combustion_DL(5).h5\")"
   ]
  },
  {
   "cell_type": "code",
   "execution_count": 3,
   "id": "34bf78d7",
   "metadata": {},
   "outputs": [],
   "source": [
    "df = pd.read_csv('Batch-1.1.csv')\n",
    "df1 = pd.read_csv('Batch-1.1.csv')"
   ]
  },
  {
   "cell_type": "code",
   "execution_count": 12,
   "id": "b6df0503",
   "metadata": {},
   "outputs": [
    {
     "data": {
      "text/html": [
       "<div>\n",
       "<style scoped>\n",
       "    .dataframe tbody tr th:only-of-type {\n",
       "        vertical-align: middle;\n",
       "    }\n",
       "\n",
       "    .dataframe tbody tr th {\n",
       "        vertical-align: top;\n",
       "    }\n",
       "\n",
       "    .dataframe thead th {\n",
       "        text-align: right;\n",
       "    }\n",
       "</style>\n",
       "<table border=\"1\" class=\"dataframe\">\n",
       "  <thead>\n",
       "    <tr style=\"text-align: right;\">\n",
       "      <th></th>\n",
       "      <th>Oxygen Consumption -Top</th>\n",
       "      <th>Furnace Power</th>\n",
       "      <th>CombustionChamber Pressure</th>\n",
       "      <th>Suction Damper Position feedback</th>\n",
       "      <th>FDC inlet Temprature</th>\n",
       "      <th>FDC Outlet Temp</th>\n",
       "      <th>FDC Outlet Temp - Upperside</th>\n",
       "      <th>DP across FDC</th>\n",
       "      <th>FDC Outlet Pressure</th>\n",
       "      <th>Pressure at Gas Mixter inlet</th>\n",
       "      <th>...</th>\n",
       "      <th>Pressure at BagHouse Inlet</th>\n",
       "      <th>DP Across baghouse - UpperSide</th>\n",
       "      <th>DP Across baghouse - LowerSide</th>\n",
       "      <th>Pressure ID Fan Inlet</th>\n",
       "      <th>Canopy Damper Position</th>\n",
       "      <th>Unnamed: 19</th>\n",
       "      <th>Unnamed: 20</th>\n",
       "      <th>ID Fan1 Speed</th>\n",
       "      <th>ID Fan1 Current</th>\n",
       "      <th>ID Fan2 Speed</th>\n",
       "    </tr>\n",
       "  </thead>\n",
       "  <tbody>\n",
       "    <tr>\n",
       "      <th>0</th>\n",
       "      <td>1887.744</td>\n",
       "      <td>0.0</td>\n",
       "      <td>-11.65726</td>\n",
       "      <td>58.70226</td>\n",
       "      <td>274.2838</td>\n",
       "      <td>135.1</td>\n",
       "      <td>129.7</td>\n",
       "      <td>55.91363</td>\n",
       "      <td>-114.2795</td>\n",
       "      <td>-119.9363</td>\n",
       "      <td>...</td>\n",
       "      <td>-216.1675</td>\n",
       "      <td>14.93200</td>\n",
       "      <td>17.62587</td>\n",
       "      <td>-386.0677</td>\n",
       "      <td>66.30715</td>\n",
       "      <td>42.5</td>\n",
       "      <td>69.8</td>\n",
       "      <td>946.2</td>\n",
       "      <td>228.6638</td>\n",
       "      <td>945.4032</td>\n",
       "    </tr>\n",
       "    <tr>\n",
       "      <th>1</th>\n",
       "      <td>2890.050</td>\n",
       "      <td>0.0</td>\n",
       "      <td>-13.97569</td>\n",
       "      <td>92.22367</td>\n",
       "      <td>400.8029</td>\n",
       "      <td>168.8</td>\n",
       "      <td>162.6</td>\n",
       "      <td>103.37820</td>\n",
       "      <td>-122.7214</td>\n",
       "      <td>-119.8785</td>\n",
       "      <td>...</td>\n",
       "      <td>-219.9002</td>\n",
       "      <td>15.85503</td>\n",
       "      <td>18.51997</td>\n",
       "      <td>-400.0651</td>\n",
       "      <td>60.93208</td>\n",
       "      <td>41.2</td>\n",
       "      <td>80.7</td>\n",
       "      <td>946.2</td>\n",
       "      <td>226.4158</td>\n",
       "      <td>945.4032</td>\n",
       "    </tr>\n",
       "    <tr>\n",
       "      <th>2</th>\n",
       "      <td>3892.103</td>\n",
       "      <td>0.0</td>\n",
       "      <td>-13.86719</td>\n",
       "      <td>92.22367</td>\n",
       "      <td>466.3701</td>\n",
       "      <td>191.8</td>\n",
       "      <td>186.5</td>\n",
       "      <td>50.24234</td>\n",
       "      <td>-105.4471</td>\n",
       "      <td>-120.2402</td>\n",
       "      <td>...</td>\n",
       "      <td>-215.4080</td>\n",
       "      <td>16.05035</td>\n",
       "      <td>18.84115</td>\n",
       "      <td>-397.2801</td>\n",
       "      <td>60.93605</td>\n",
       "      <td>43.7</td>\n",
       "      <td>86.0</td>\n",
       "      <td>946.2</td>\n",
       "      <td>221.4280</td>\n",
       "      <td>945.4032</td>\n",
       "    </tr>\n",
       "    <tr>\n",
       "      <th>3</th>\n",
       "      <td>4897.067</td>\n",
       "      <td>0.0</td>\n",
       "      <td>-13.58145</td>\n",
       "      <td>92.22729</td>\n",
       "      <td>492.1911</td>\n",
       "      <td>190.5</td>\n",
       "      <td>186.6</td>\n",
       "      <td>85.76027</td>\n",
       "      <td>-119.5096</td>\n",
       "      <td>-119.0828</td>\n",
       "      <td>...</td>\n",
       "      <td>-210.4601</td>\n",
       "      <td>16.11979</td>\n",
       "      <td>18.69213</td>\n",
       "      <td>-391.2399</td>\n",
       "      <td>60.93605</td>\n",
       "      <td>43.1</td>\n",
       "      <td>85.6</td>\n",
       "      <td>946.2</td>\n",
       "      <td>221.3578</td>\n",
       "      <td>945.4032</td>\n",
       "    </tr>\n",
       "    <tr>\n",
       "      <th>4</th>\n",
       "      <td>5902.126</td>\n",
       "      <td>0.0</td>\n",
       "      <td>-13.96846</td>\n",
       "      <td>92.23814</td>\n",
       "      <td>492.8675</td>\n",
       "      <td>184.3</td>\n",
       "      <td>181.5</td>\n",
       "      <td>67.95067</td>\n",
       "      <td>-119.4010</td>\n",
       "      <td>-117.3611</td>\n",
       "      <td>...</td>\n",
       "      <td>-215.1259</td>\n",
       "      <td>15.93750</td>\n",
       "      <td>18.62558</td>\n",
       "      <td>-390.9505</td>\n",
       "      <td>60.93208</td>\n",
       "      <td>42.2</td>\n",
       "      <td>85.1</td>\n",
       "      <td>946.2</td>\n",
       "      <td>222.6222</td>\n",
       "      <td>945.4032</td>\n",
       "    </tr>\n",
       "  </tbody>\n",
       "</table>\n",
       "<p>5 rows × 22 columns</p>\n",
       "</div>"
      ],
      "text/plain": [
       "   Oxygen Consumption -Top  Furnace Power  CombustionChamber Pressure  \\\n",
       "0                 1887.744            0.0                   -11.65726   \n",
       "1                 2890.050            0.0                   -13.97569   \n",
       "2                 3892.103            0.0                   -13.86719   \n",
       "3                 4897.067            0.0                   -13.58145   \n",
       "4                 5902.126            0.0                   -13.96846   \n",
       "\n",
       "   Suction Damper Position feedback  FDC inlet Temprature  FDC Outlet Temp  \\\n",
       "0                          58.70226              274.2838            135.1   \n",
       "1                          92.22367              400.8029            168.8   \n",
       "2                          92.22367              466.3701            191.8   \n",
       "3                          92.22729              492.1911            190.5   \n",
       "4                          92.23814              492.8675            184.3   \n",
       "\n",
       "   FDC Outlet Temp - Upperside  DP across FDC  FDC Outlet Pressure  \\\n",
       "0                        129.7       55.91363            -114.2795   \n",
       "1                        162.6      103.37820            -122.7214   \n",
       "2                        186.5       50.24234            -105.4471   \n",
       "3                        186.6       85.76027            -119.5096   \n",
       "4                        181.5       67.95067            -119.4010   \n",
       "\n",
       "   Pressure at Gas Mixter inlet  ...  Pressure at BagHouse Inlet  \\\n",
       "0                     -119.9363  ...                   -216.1675   \n",
       "1                     -119.8785  ...                   -219.9002   \n",
       "2                     -120.2402  ...                   -215.4080   \n",
       "3                     -119.0828  ...                   -210.4601   \n",
       "4                     -117.3611  ...                   -215.1259   \n",
       "\n",
       "   DP Across baghouse - UpperSide  DP Across baghouse - LowerSide  \\\n",
       "0                        14.93200                        17.62587   \n",
       "1                        15.85503                        18.51997   \n",
       "2                        16.05035                        18.84115   \n",
       "3                        16.11979                        18.69213   \n",
       "4                        15.93750                        18.62558   \n",
       "\n",
       "   Pressure ID Fan Inlet  Canopy Damper Position  Unnamed: 19  Unnamed: 20  \\\n",
       "0              -386.0677                66.30715         42.5         69.8   \n",
       "1              -400.0651                60.93208         41.2         80.7   \n",
       "2              -397.2801                60.93605         43.7         86.0   \n",
       "3              -391.2399                60.93605         43.1         85.6   \n",
       "4              -390.9505                60.93208         42.2         85.1   \n",
       "\n",
       "   ID Fan1 Speed  ID Fan1 Current  ID Fan2 Speed  \n",
       "0          946.2         228.6638       945.4032  \n",
       "1          946.2         226.4158       945.4032  \n",
       "2          946.2         221.4280       945.4032  \n",
       "3          946.2         221.3578       945.4032  \n",
       "4          946.2         222.6222       945.4032  \n",
       "\n",
       "[5 rows x 22 columns]"
      ]
     },
     "execution_count": 12,
     "metadata": {},
     "output_type": "execute_result"
    }
   ],
   "source": [
    "df = df.iloc[:,1:24]\n",
    "# df.drop(columns=['Unnamed: 19','Unnamed: 20'],inplace=True)\n",
    "df.head()"
   ]
  },
  {
   "cell_type": "code",
   "execution_count": 5,
   "id": "a3aced9a",
   "metadata": {},
   "outputs": [
    {
     "name": "stdout",
     "output_type": "stream",
     "text": [
      "Process Mode                          0\n",
      "Oxygen Consumption -Top               0\n",
      "Furnace Power                         0\n",
      "CombustionChamber Pressure            0\n",
      "Suction Damper Position feedback      0\n",
      "FDC inlet Temprature                  0\n",
      "FDC Outlet Temp                       0\n",
      "FDC Outlet Temp - Upperside           0\n",
      "DP across FDC                         0\n",
      "FDC Outlet Pressure                   0\n",
      "Pressure at Gas Mixter inlet          0\n",
      "Temp at BagHouse Inlet - UpperSide    0\n",
      "Temp at BagHouse Inlet - LowerSide    0\n",
      "Pressure at BagHouse Inlet            0\n",
      "DP Across baghouse - UpperSide        0\n",
      "DP Across baghouse - LowerSide        0\n",
      "Pressure ID Fan Inlet                 0\n",
      "Canopy Damper Position                0\n",
      "Unnamed: 19                           0\n",
      "Unnamed: 20                           0\n",
      "ID Fan1 Speed                         0\n",
      "ID Fan1 Current                       0\n",
      "ID Fan2 Speed                         0\n",
      "dtype: int64\n"
     ]
    }
   ],
   "source": [
    "print(df.isna().sum())\n",
    "df.dropna(inplace=True)"
   ]
  },
  {
   "cell_type": "code",
   "execution_count": 6,
   "id": "32549e9c",
   "metadata": {},
   "outputs": [],
   "source": [
    "x = df.drop('CombustionChamber Pressure',axis = 1)\n",
    "y = df['CombustionChamber Pressure']"
   ]
  },
  {
   "cell_type": "code",
   "execution_count": 7,
   "id": "87cc5a7f",
   "metadata": {},
   "outputs": [],
   "source": [
    "x = np.array(x)"
   ]
  },
  {
   "cell_type": "code",
   "execution_count": 8,
   "id": "4cd28f06",
   "metadata": {},
   "outputs": [
    {
     "name": "stderr",
     "output_type": "stream",
     "text": [
      "c:\\Users\\DELL\\AppData\\Local\\Programs\\Python\\Python312\\Lib\\site-packages\\sklearn\\utils\\validation.py:2749: UserWarning: X does not have valid feature names, but StandardScaler was fitted with feature names\n",
      "  warnings.warn(\n"
     ]
    }
   ],
   "source": [
    "sc = joblib.load(\"scaler(5).pkl\")\n",
    "x_scaled = sc.transform(x)"
   ]
  },
  {
   "cell_type": "code",
   "execution_count": 9,
   "id": "766880e5",
   "metadata": {},
   "outputs": [
    {
     "name": "stdout",
     "output_type": "stream",
     "text": [
      "\u001b[1m34/34\u001b[0m \u001b[32m━━━━━━━━━━━━━━━━━━━━\u001b[0m\u001b[37m\u001b[0m \u001b[1m3s\u001b[0m 5ms/step\n"
     ]
    }
   ],
   "source": [
    "pred = model.predict(x_scaled)"
   ]
  },
  {
   "cell_type": "code",
   "execution_count": 10,
   "id": "578101ce",
   "metadata": {},
   "outputs": [
    {
     "data": {
      "text/plain": [
       "0.9459957992441573"
      ]
     },
     "execution_count": 10,
     "metadata": {},
     "output_type": "execute_result"
    }
   ],
   "source": [
    "r2_score(y,pred)"
   ]
  },
  {
   "cell_type": "code",
   "execution_count": 11,
   "id": "69768fd3",
   "metadata": {},
   "outputs": [
    {
     "ename": "NameError",
     "evalue": "name 'diff' is not defined",
     "output_type": "error",
     "traceback": [
      "\u001b[31m---------------------------------------------------------------------------\u001b[39m",
      "\u001b[31mNameError\u001b[39m                                 Traceback (most recent call last)",
      "\u001b[36mCell\u001b[39m\u001b[36m \u001b[39m\u001b[32mIn[11]\u001b[39m\u001b[32m, line 1\u001b[39m\n\u001b[32m----> \u001b[39m\u001b[32m1\u001b[39m df1[\u001b[43mdiff\u001b[49m.flatten() > \u001b[32m2\u001b[39m]\n",
      "\u001b[31mNameError\u001b[39m: name 'diff' is not defined"
     ]
    }
   ],
   "source": [
    "df1[diff.flatten() > 2]"
   ]
  },
  {
   "cell_type": "code",
   "execution_count": null,
   "id": "adc2a3b5",
   "metadata": {},
   "outputs": [],
   "source": [
    "pred = pred.reshape(1,-1)"
   ]
  },
  {
   "cell_type": "code",
   "execution_count": null,
   "id": "c54a5f0e",
   "metadata": {},
   "outputs": [
    {
     "data": {
      "text/html": [
       "<div>\n",
       "<style scoped>\n",
       "    .dataframe tbody tr th:only-of-type {\n",
       "        vertical-align: middle;\n",
       "    }\n",
       "\n",
       "    .dataframe tbody tr th {\n",
       "        vertical-align: top;\n",
       "    }\n",
       "\n",
       "    .dataframe thead th {\n",
       "        text-align: right;\n",
       "    }\n",
       "</style>\n",
       "<table border=\"1\" class=\"dataframe\">\n",
       "  <thead>\n",
       "    <tr style=\"text-align: right;\">\n",
       "      <th></th>\n",
       "      <th>0</th>\n",
       "      <th>1</th>\n",
       "      <th>2</th>\n",
       "      <th>3</th>\n",
       "      <th>4</th>\n",
       "      <th>5</th>\n",
       "      <th>6</th>\n",
       "      <th>7</th>\n",
       "      <th>8</th>\n",
       "      <th>9</th>\n",
       "      <th>...</th>\n",
       "      <th>1070</th>\n",
       "      <th>1071</th>\n",
       "      <th>1072</th>\n",
       "      <th>1073</th>\n",
       "      <th>1074</th>\n",
       "      <th>1075</th>\n",
       "      <th>1076</th>\n",
       "      <th>1077</th>\n",
       "      <th>1078</th>\n",
       "      <th>1079</th>\n",
       "    </tr>\n",
       "  </thead>\n",
       "  <tbody>\n",
       "    <tr>\n",
       "      <th>0</th>\n",
       "      <td>-0.71889</td>\n",
       "      <td>-0.312435</td>\n",
       "      <td>-0.337354</td>\n",
       "      <td>-0.659093</td>\n",
       "      <td>0.057527</td>\n",
       "      <td>1.24726</td>\n",
       "      <td>-0.075706</td>\n",
       "      <td>0.110918</td>\n",
       "      <td>-0.078969</td>\n",
       "      <td>-0.044739</td>\n",
       "      <td>...</td>\n",
       "      <td>0.260583</td>\n",
       "      <td>-0.163896</td>\n",
       "      <td>0.161983</td>\n",
       "      <td>-0.012548</td>\n",
       "      <td>-0.312394</td>\n",
       "      <td>0.233369</td>\n",
       "      <td>0.623403</td>\n",
       "      <td>0.205571</td>\n",
       "      <td>0.146786</td>\n",
       "      <td>-0.483819</td>\n",
       "    </tr>\n",
       "  </tbody>\n",
       "</table>\n",
       "<p>1 rows × 1080 columns</p>\n",
       "</div>"
      ],
      "text/plain": [
       "      0         1         2         3         4        5         6     \\\n",
       "0 -0.71889 -0.312435 -0.337354 -0.659093  0.057527  1.24726 -0.075706   \n",
       "\n",
       "       7         8         9     ...      1070      1071      1072      1073  \\\n",
       "0  0.110918 -0.078969 -0.044739  ...  0.260583 -0.163896  0.161983 -0.012548   \n",
       "\n",
       "       1074      1075      1076      1077      1078      1079  \n",
       "0 -0.312394  0.233369  0.623403  0.205571  0.146786 -0.483819  \n",
       "\n",
       "[1 rows x 1080 columns]"
      ]
     },
     "execution_count": 13,
     "metadata": {},
     "output_type": "execute_result"
    }
   ],
   "source": [
    "diff = pred - (np.array(y)).reshape(1,-1)\n",
    "pd.DataFrame(diff)"
   ]
  },
  {
   "cell_type": "code",
   "execution_count": null,
   "id": "0fa24197",
   "metadata": {},
   "outputs": [],
   "source": [
    "df1[diff.flatten() > 3]"
   ]
  },
  {
   "cell_type": "code",
   "execution_count": null,
   "id": "989a116b",
   "metadata": {},
   "outputs": [
    {
     "name": "stdout",
     "output_type": "stream",
     "text": [
      "3\n",
      "[3.28258116 6.174556   4.44043603]\n"
     ]
    }
   ],
   "source": [
    "print(diff[diff>3].size)\n",
    "print(diff[diff>3])\n"
   ]
  },
  {
   "cell_type": "code",
   "execution_count": null,
   "id": "be54cef4",
   "metadata": {},
   "outputs": [
    {
     "data": {
      "text/plain": [
       "<matplotlib.collections.PathCollection at 0x1f2c9e8fce0>"
      ]
     },
     "execution_count": 15,
     "metadata": {},
     "output_type": "execute_result"
    },
    {
     "data": {
      "image/png": "[encoded data removed]",
      "text/plain": [
       "<Figure size 640x480 with 1 Axes>"
      ]
     },
     "metadata": {},
     "output_type": "display_data"
    }
   ],
   "source": [
    "plt.scatter(y,diff)"
   ]
  }
 ],
 "metadata": {
  "kernelspec": {
   "display_name": "Python 3",
   "language": "python",
   "name": "python3"
  },
  "language_info": {
   "codemirror_mode": {
    "name": "ipython",
    "version": 3
   },
   "file_extension": ".py",
   "mimetype": "text/x-python",
   "name": "python",
   "nbconvert_exporter": "python",
   "pygments_lexer": "ipython3",
   "version": "3.12.0"
  }
 },
 "nbformat": 4,
 "nbformat_minor": 5
}
