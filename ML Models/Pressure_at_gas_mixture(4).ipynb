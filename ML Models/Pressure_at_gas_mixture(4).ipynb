{
  "cells": [
    {
      "cell_type": "code",
      "execution_count": 19,
      "metadata": {
        "id": "7hJJ5dsBLFGW"
      },
      "outputs": [],
      "source": [
        "import pandas as pd\n",
        "import numpy as np\n",
        "import matplotlib.pyplot as plt"
      ]
    },
    {
      "cell_type": "code",
      "execution_count": 20,
      "metadata": {
        "id": "vUUG9ERqLJZh",
        "colab": {
          "base_uri": "https://localhost:8080/",
          "height": 290
        },
        "outputId": "624c3d88-7677-4548-eb4d-b8089543e24a"
      },
      "outputs": [
        {
          "output_type": "execute_result",
          "data": {
            "text/plain": [
              "            SampleTime                         Process Mode  \\\n",
              "0  11.08.2024_11.45.17  ESH_DD_S7_PRG/PLC->HMI.EafPhaseMode   \n",
              "1  29.08.2024_18.24.38                                   32   \n",
              "2  29.08.2024_18.29.38                                   64   \n",
              "3  29.08.2024_18.34.38                                   64   \n",
              "4  29.08.2024_18.39.37                                   16   \n",
              "\n",
              "              Oxygen Consumption -Top                      Furnace Power  \\\n",
              "0  ESH_CON_S7_PRG/ProData_C1.TotO2Lnc  ESH_CON_S7_PRG/ProData_C1.TotalEn   \n",
              "1                            5631.284                                  0   \n",
              "2                            6632.452                                  0   \n",
              "3                            7540.279                                  0   \n",
              "4                            7540.279                                0.4   \n",
              "\n",
              "     CombustionChamber Pressure Suction Damper Position feedback  \\\n",
              "0  12AA001-PIA002/PRESSURE.OutV        SUCTION_SH1/POSITION.OutV   \n",
              "1                     -14.00463                         89.00825   \n",
              "2                     -9.964554                         52.36545   \n",
              "3                     -10.01157                         45.20037   \n",
              "4                     -8.991608                         41.59071   \n",
              "\n",
              "              FDC inlet Temprature                  FDC Outlet Temp  \\\n",
              "0  12AP001-TIA001/TEMPERATURE.OutV  12BA001-TIA001/Temperature.OutV   \n",
              "1                         494.0611                            189.6   \n",
              "2                          489.247                              180   \n",
              "3                         413.4151                            155.9   \n",
              "4                         297.4392                            121.7   \n",
              "\n",
              "       FDC Outlet Temp - Upperside                 DP across FDC  ...  \\\n",
              "0  12BA001-TIA002/Temperature.OutV  12BA001-DPT001/Pressure.OutV  ...   \n",
              "1                            190.3                      79.20645  ...   \n",
              "2                            180.1                      24.75405  ...   \n",
              "3                            155.5                      26.14294  ...   \n",
              "4                            121.9                      7.096354  ...   \n",
              "\n",
              "  DP Across baghouse - UpperSide DP Across baghouse - LowerSide  \\\n",
              "0   12AQ001-DPT001/Pressure.OutV   12AQ001-DPT002/Pressure.OutV   \n",
              "1                       16.89091                       20.68721   \n",
              "2                       16.72743                       20.60475   \n",
              "3                       16.06626                       19.59057   \n",
              "4                       14.55295                       18.04832   \n",
              "\n",
              "          Pressure ID Fan Inlet    Canopy Damper Position  \\\n",
              "0  12AQ001-PIA001/Pressure.OutV  CANOPY_SH1/POSITION.OutV   \n",
              "1                     -410.8796                  61.46122   \n",
              "2                      -404.116                  64.78335   \n",
              "3                     -397.3163                  64.77937   \n",
              "4                     -402.6331                   62.5076   \n",
              "\n",
              "                       Unnamed: 19                      Unnamed: 20  \\\n",
              "0  12AA001-TIA001/Temperature.OutV  12AP001-TIA005/Temperature.OutV   \n",
              "1                             41.8                         87.90001   \n",
              "2                             43.6                             78.9   \n",
              "3                             40.3                             68.9   \n",
              "4                             41.7                             63.6   \n",
              "\n",
              "                                  ID Fan1 Speed  \\\n",
              "0  ESH_DD_S7_PRG/PLC->HMI4.Sh11_IDfan1_Speed_FB   \n",
              "1                                         946.2   \n",
              "2                                         946.2   \n",
              "3                                         946.2   \n",
              "4                                         946.2   \n",
              "\n",
              "                                  ID Fan1 Current  \\\n",
              "0  ESH_DD_S7_PRG/PLC->HMI4.Sh11_IDfan1_Current_FB   \n",
              "1                                         217.775   \n",
              "2                                        222.7628   \n",
              "3                                        222.4818   \n",
              "4                                         222.833   \n",
              "\n",
              "                                  ID Fan2 Speed  \\\n",
              "0  ESH_DD_S7_PRG/PLC->HMI4.Sh11_IDfan2_Speed_FB   \n",
              "1                                      945.4032   \n",
              "2                                      945.4032   \n",
              "3                                      945.4032   \n",
              "4                                      945.4032   \n",
              "\n",
              "                                  ID Fan2 Current  \n",
              "0  ESH_DD_S7_PRG/PLC->HMI4.Sh11_IDfan2_Current_FB  \n",
              "1                                        218.1965  \n",
              "2                                         223.676  \n",
              "3                                        227.6803  \n",
              "4                                        217.3535  \n",
              "\n",
              "[5 rows x 25 columns]"
            ],
            "text/html": [
              "\n",
              "  <div id=\"df-95b6e5c8-384a-445c-aed4-f6a7e4d087b5\" class=\"colab-df-container\">\n",
              "    <div>\n",
              "<style scoped>\n",
              "    .dataframe tbody tr th:only-of-type {\n",
              "        vertical-align: middle;\n",
              "    }\n",
              "\n",
              "    .dataframe tbody tr th {\n",
              "        vertical-align: top;\n",
              "    }\n",
              "\n",
              "    .dataframe thead th {\n",
              "        text-align: right;\n",
              "    }\n",
              "</style>\n",
              "<table border=\"1\" class=\"dataframe\">\n",
              "  <thead>\n",
              "    <tr style=\"text-align: right;\">\n",
              "      <th></th>\n",
              "      <th>SampleTime</th>\n",
              "      <th>Process Mode</th>\n",
              "      <th>Oxygen Consumption -Top</th>\n",
              "      <th>Furnace Power</th>\n",
              "      <th>CombustionChamber Pressure</th>\n",
              "      <th>Suction Damper Position feedback</th>\n",
              "      <th>FDC inlet Temprature</th>\n",
              "      <th>FDC Outlet Temp</th>\n",
              "      <th>FDC Outlet Temp - Upperside</th>\n",
              "      <th>DP across FDC</th>\n",
              "      <th>...</th>\n",
              "      <th>DP Across baghouse - UpperSide</th>\n",
              "      <th>DP Across baghouse - LowerSide</th>\n",
              "      <th>Pressure ID Fan Inlet</th>\n",
              "      <th>Canopy Damper Position</th>\n",
              "      <th>Unnamed: 19</th>\n",
              "      <th>Unnamed: 20</th>\n",
              "      <th>ID Fan1 Speed</th>\n",
              "      <th>ID Fan1 Current</th>\n",
              "      <th>ID Fan2 Speed</th>\n",
              "      <th>ID Fan2 Current</th>\n",
              "    </tr>\n",
              "  </thead>\n",
              "  <tbody>\n",
              "    <tr>\n",
              "      <th>0</th>\n",
              "      <td>11.08.2024_11.45.17</td>\n",
              "      <td>ESH_DD_S7_PRG/PLC-&gt;HMI.EafPhaseMode</td>\n",
              "      <td>ESH_CON_S7_PRG/ProData_C1.TotO2Lnc</td>\n",
              "      <td>ESH_CON_S7_PRG/ProData_C1.TotalEn</td>\n",
              "      <td>12AA001-PIA002/PRESSURE.OutV</td>\n",
              "      <td>SUCTION_SH1/POSITION.OutV</td>\n",
              "      <td>12AP001-TIA001/TEMPERATURE.OutV</td>\n",
              "      <td>12BA001-TIA001/Temperature.OutV</td>\n",
              "      <td>12BA001-TIA002/Temperature.OutV</td>\n",
              "      <td>12BA001-DPT001/Pressure.OutV</td>\n",
              "      <td>...</td>\n",
              "      <td>12AQ001-DPT001/Pressure.OutV</td>\n",
              "      <td>12AQ001-DPT002/Pressure.OutV</td>\n",
              "      <td>12AQ001-PIA001/Pressure.OutV</td>\n",
              "      <td>CANOPY_SH1/POSITION.OutV</td>\n",
              "      <td>12AA001-TIA001/Temperature.OutV</td>\n",
              "      <td>12AP001-TIA005/Temperature.OutV</td>\n",
              "      <td>ESH_DD_S7_PRG/PLC-&gt;HMI4.Sh11_IDfan1_Speed_FB</td>\n",
              "      <td>ESH_DD_S7_PRG/PLC-&gt;HMI4.Sh11_IDfan1_Current_FB</td>\n",
              "      <td>ESH_DD_S7_PRG/PLC-&gt;HMI4.Sh11_IDfan2_Speed_FB</td>\n",
              "      <td>ESH_DD_S7_PRG/PLC-&gt;HMI4.Sh11_IDfan2_Current_FB</td>\n",
              "    </tr>\n",
              "    <tr>\n",
              "      <th>1</th>\n",
              "      <td>29.08.2024_18.24.38</td>\n",
              "      <td>32</td>\n",
              "      <td>5631.284</td>\n",
              "      <td>0</td>\n",
              "      <td>-14.00463</td>\n",
              "      <td>89.00825</td>\n",
              "      <td>494.0611</td>\n",
              "      <td>189.6</td>\n",
              "      <td>190.3</td>\n",
              "      <td>79.20645</td>\n",
              "      <td>...</td>\n",
              "      <td>16.89091</td>\n",
              "      <td>20.68721</td>\n",
              "      <td>-410.8796</td>\n",
              "      <td>61.46122</td>\n",
              "      <td>41.8</td>\n",
              "      <td>87.90001</td>\n",
              "      <td>946.2</td>\n",
              "      <td>217.775</td>\n",
              "      <td>945.4032</td>\n",
              "      <td>218.1965</td>\n",
              "    </tr>\n",
              "    <tr>\n",
              "      <th>2</th>\n",
              "      <td>29.08.2024_18.29.38</td>\n",
              "      <td>64</td>\n",
              "      <td>6632.452</td>\n",
              "      <td>0</td>\n",
              "      <td>-9.964554</td>\n",
              "      <td>52.36545</td>\n",
              "      <td>489.247</td>\n",
              "      <td>180</td>\n",
              "      <td>180.1</td>\n",
              "      <td>24.75405</td>\n",
              "      <td>...</td>\n",
              "      <td>16.72743</td>\n",
              "      <td>20.60475</td>\n",
              "      <td>-404.116</td>\n",
              "      <td>64.78335</td>\n",
              "      <td>43.6</td>\n",
              "      <td>78.9</td>\n",
              "      <td>946.2</td>\n",
              "      <td>222.7628</td>\n",
              "      <td>945.4032</td>\n",
              "      <td>223.676</td>\n",
              "    </tr>\n",
              "    <tr>\n",
              "      <th>3</th>\n",
              "      <td>29.08.2024_18.34.38</td>\n",
              "      <td>64</td>\n",
              "      <td>7540.279</td>\n",
              "      <td>0</td>\n",
              "      <td>-10.01157</td>\n",
              "      <td>45.20037</td>\n",
              "      <td>413.4151</td>\n",
              "      <td>155.9</td>\n",
              "      <td>155.5</td>\n",
              "      <td>26.14294</td>\n",
              "      <td>...</td>\n",
              "      <td>16.06626</td>\n",
              "      <td>19.59057</td>\n",
              "      <td>-397.3163</td>\n",
              "      <td>64.77937</td>\n",
              "      <td>40.3</td>\n",
              "      <td>68.9</td>\n",
              "      <td>946.2</td>\n",
              "      <td>222.4818</td>\n",
              "      <td>945.4032</td>\n",
              "      <td>227.6803</td>\n",
              "    </tr>\n",
              "    <tr>\n",
              "      <th>4</th>\n",
              "      <td>29.08.2024_18.39.37</td>\n",
              "      <td>16</td>\n",
              "      <td>7540.279</td>\n",
              "      <td>0.4</td>\n",
              "      <td>-8.991608</td>\n",
              "      <td>41.59071</td>\n",
              "      <td>297.4392</td>\n",
              "      <td>121.7</td>\n",
              "      <td>121.9</td>\n",
              "      <td>7.096354</td>\n",
              "      <td>...</td>\n",
              "      <td>14.55295</td>\n",
              "      <td>18.04832</td>\n",
              "      <td>-402.6331</td>\n",
              "      <td>62.5076</td>\n",
              "      <td>41.7</td>\n",
              "      <td>63.6</td>\n",
              "      <td>946.2</td>\n",
              "      <td>222.833</td>\n",
              "      <td>945.4032</td>\n",
              "      <td>217.3535</td>\n",
              "    </tr>\n",
              "  </tbody>\n",
              "</table>\n",
              "<p>5 rows × 25 columns</p>\n",
              "</div>\n",
              "    <div class=\"colab-df-buttons\">\n",
              "\n",
              "  <div class=\"colab-df-container\">\n",
              "    <button class=\"colab-df-convert\" onclick=\"convertToInteractive('df-95b6e5c8-384a-445c-aed4-f6a7e4d087b5')\"\n",
              "            title=\"Convert this dataframe to an interactive table.\"\n",
              "            style=\"display:none;\">\n",
              "\n",
              "  <svg xmlns=\"http://www.w3.org/2000/svg\" height=\"24px\" viewBox=\"0 -960 960 960\">\n",
              "    <path d=\"M120-120v-720h720v720H120Zm60-500h600v-160H180v160Zm220 220h160v-160H400v160Zm0 220h160v-160H400v160ZM180-400h160v-160H180v160Zm440 0h160v-160H620v160ZM180-180h160v-160H180v160Zm440 0h160v-160H620v160Z\"/>\n",
              "  </svg>\n",
              "    </button>\n",
              "\n",
              "  <style>\n",
              "    .colab-df-container {\n",
              "      display:flex;\n",
              "      gap: 12px;\n",
              "    }\n",
              "\n",
              "    .colab-df-convert {\n",
              "      background-color: #E8F0FE;\n",
              "      border: none;\n",
              "      border-radius: 50%;\n",
              "      cursor: pointer;\n",
              "      display: none;\n",
              "      fill: #1967D2;\n",
              "      height: 32px;\n",
              "      padding: 0 0 0 0;\n",
              "      width: 32px;\n",
              "    }\n",
              "\n",
              "    .colab-df-convert:hover {\n",
              "      background-color: #E2EBFA;\n",
              "      box-shadow: 0px 1px 2px rgba(60, 64, 67, 0.3), 0px 1px 3px 1px rgba(60, 64, 67, 0.15);\n",
              "      fill: #174EA6;\n",
              "    }\n",
              "\n",
              "    .colab-df-buttons div {\n",
              "      margin-bottom: 4px;\n",
              "    }\n",
              "\n",
              "    [theme=dark] .colab-df-convert {\n",
              "      background-color: #3B4455;\n",
              "      fill: #D2E3FC;\n",
              "    }\n",
              "\n",
              "    [theme=dark] .colab-df-convert:hover {\n",
              "      background-color: #434B5C;\n",
              "      box-shadow: 0px 1px 3px 1px rgba(0, 0, 0, 0.15);\n",
              "      filter: drop-shadow(0px 1px 2px rgba(0, 0, 0, 0.3));\n",
              "      fill: #FFFFFF;\n",
              "    }\n",
              "  </style>\n",
              "\n",
              "    <script>\n",
              "      const buttonEl =\n",
              "        document.querySelector('#df-95b6e5c8-384a-445c-aed4-f6a7e4d087b5 button.colab-df-convert');\n",
              "      buttonEl.style.display =\n",
              "        google.colab.kernel.accessAllowed ? 'block' : 'none';\n",
              "\n",
              "      async function convertToInteractive(key) {\n",
              "        const element = document.querySelector('#df-95b6e5c8-384a-445c-aed4-f6a7e4d087b5');\n",
              "        const dataTable =\n",
              "          await google.colab.kernel.invokeFunction('convertToInteractive',\n",
              "                                                    [key], {});\n",
              "        if (!dataTable) return;\n",
              "\n",
              "        const docLinkHtml = 'Like what you see? Visit the ' +\n",
              "          '<a target=\"_blank\" href=https://colab.research.google.com/notebooks/data_table.ipynb>data table notebook</a>'\n",
              "          + ' to learn more about interactive tables.';\n",
              "        element.innerHTML = '';\n",
              "        dataTable['output_type'] = 'display_data';\n",
              "        await google.colab.output.renderOutput(dataTable, element);\n",
              "        const docLink = document.createElement('div');\n",
              "        docLink.innerHTML = docLinkHtml;\n",
              "        element.appendChild(docLink);\n",
              "      }\n",
              "    </script>\n",
              "  </div>\n",
              "\n",
              "\n",
              "    <div id=\"df-4e175e35-64f9-41c6-b196-fff797bb11c5\">\n",
              "      <button class=\"colab-df-quickchart\" onclick=\"quickchart('df-4e175e35-64f9-41c6-b196-fff797bb11c5')\"\n",
              "                title=\"Suggest charts\"\n",
              "                style=\"display:none;\">\n",
              "\n",
              "<svg xmlns=\"http://www.w3.org/2000/svg\" height=\"24px\"viewBox=\"0 0 24 24\"\n",
              "     width=\"24px\">\n",
              "    <g>\n",
              "        <path d=\"M19 3H5c-1.1 0-2 .9-2 2v14c0 1.1.9 2 2 2h14c1.1 0 2-.9 2-2V5c0-1.1-.9-2-2-2zM9 17H7v-7h2v7zm4 0h-2V7h2v10zm4 0h-2v-4h2v4z\"/>\n",
              "    </g>\n",
              "</svg>\n",
              "      </button>\n",
              "\n",
              "<style>\n",
              "  .colab-df-quickchart {\n",
              "      --bg-color: #E8F0FE;\n",
              "      --fill-color: #1967D2;\n",
              "      --hover-bg-color: #E2EBFA;\n",
              "      --hover-fill-color: #174EA6;\n",
              "      --disabled-fill-color: #AAA;\n",
              "      --disabled-bg-color: #DDD;\n",
              "  }\n",
              "\n",
              "  [theme=dark] .colab-df-quickchart {\n",
              "      --bg-color: #3B4455;\n",
              "      --fill-color: #D2E3FC;\n",
              "      --hover-bg-color: #434B5C;\n",
              "      --hover-fill-color: #FFFFFF;\n",
              "      --disabled-bg-color: #3B4455;\n",
              "      --disabled-fill-color: #666;\n",
              "  }\n",
              "\n",
              "  .colab-df-quickchart {\n",
              "    background-color: var(--bg-color);\n",
              "    border: none;\n",
              "    border-radius: 50%;\n",
              "    cursor: pointer;\n",
              "    display: none;\n",
              "    fill: var(--fill-color);\n",
              "    height: 32px;\n",
              "    padding: 0;\n",
              "    width: 32px;\n",
              "  }\n",
              "\n",
              "  .colab-df-quickchart:hover {\n",
              "    background-color: var(--hover-bg-color);\n",
              "    box-shadow: 0 1px 2px rgba(60, 64, 67, 0.3), 0 1px 3px 1px rgba(60, 64, 67, 0.15);\n",
              "    fill: var(--button-hover-fill-color);\n",
              "  }\n",
              "\n",
              "  .colab-df-quickchart-complete:disabled,\n",
              "  .colab-df-quickchart-complete:disabled:hover {\n",
              "    background-color: var(--disabled-bg-color);\n",
              "    fill: var(--disabled-fill-color);\n",
              "    box-shadow: none;\n",
              "  }\n",
              "\n",
              "  .colab-df-spinner {\n",
              "    border: 2px solid var(--fill-color);\n",
              "    border-color: transparent;\n",
              "    border-bottom-color: var(--fill-color);\n",
              "    animation:\n",
              "      spin 1s steps(1) infinite;\n",
              "  }\n",
              "\n",
              "  @keyframes spin {\n",
              "    0% {\n",
              "      border-color: transparent;\n",
              "      border-bottom-color: var(--fill-color);\n",
              "      border-left-color: var(--fill-color);\n",
              "    }\n",
              "    20% {\n",
              "      border-color: transparent;\n",
              "      border-left-color: var(--fill-color);\n",
              "      border-top-color: var(--fill-color);\n",
              "    }\n",
              "    30% {\n",
              "      border-color: transparent;\n",
              "      border-left-color: var(--fill-color);\n",
              "      border-top-color: var(--fill-color);\n",
              "      border-right-color: var(--fill-color);\n",
              "    }\n",
              "    40% {\n",
              "      border-color: transparent;\n",
              "      border-right-color: var(--fill-color);\n",
              "      border-top-color: var(--fill-color);\n",
              "    }\n",
              "    60% {\n",
              "      border-color: transparent;\n",
              "      border-right-color: var(--fill-color);\n",
              "    }\n",
              "    80% {\n",
              "      border-color: transparent;\n",
              "      border-right-color: var(--fill-color);\n",
              "      border-bottom-color: var(--fill-color);\n",
              "    }\n",
              "    90% {\n",
              "      border-color: transparent;\n",
              "      border-bottom-color: var(--fill-color);\n",
              "    }\n",
              "  }\n",
              "</style>\n",
              "\n",
              "      <script>\n",
              "        async function quickchart(key) {\n",
              "          const quickchartButtonEl =\n",
              "            document.querySelector('#' + key + ' button');\n",
              "          quickchartButtonEl.disabled = true;  // To prevent multiple clicks.\n",
              "          quickchartButtonEl.classList.add('colab-df-spinner');\n",
              "          try {\n",
              "            const charts = await google.colab.kernel.invokeFunction(\n",
              "                'suggestCharts', [key], {});\n",
              "          } catch (error) {\n",
              "            console.error('Error during call to suggestCharts:', error);\n",
              "          }\n",
              "          quickchartButtonEl.classList.remove('colab-df-spinner');\n",
              "          quickchartButtonEl.classList.add('colab-df-quickchart-complete');\n",
              "        }\n",
              "        (() => {\n",
              "          let quickchartButtonEl =\n",
              "            document.querySelector('#df-4e175e35-64f9-41c6-b196-fff797bb11c5 button');\n",
              "          quickchartButtonEl.style.display =\n",
              "            google.colab.kernel.accessAllowed ? 'block' : 'none';\n",
              "        })();\n",
              "      </script>\n",
              "    </div>\n",
              "\n",
              "    </div>\n",
              "  </div>\n"
            ],
            "application/vnd.google.colaboratory.intrinsic+json": {
              "type": "dataframe",
              "variable_name": "df3"
            }
          },
          "metadata": {},
          "execution_count": 20
        }
      ],
      "source": [
        "df = pd.read_csv('/content/drive/MyDrive/Fes_system/amns_fes_main/csv/Batch-1.1.csv')\n",
        "df.head()\n",
        "\n",
        "df1 = pd.read_csv('/content/drive/MyDrive/Fes_system/amns_fes_main/csv/Batch-1.2.csv')\n",
        "df1.head()\n",
        "\n",
        "df2 = pd.read_csv('/content/drive/MyDrive/Fes_system/amns_fes_main/csv/Batch-1.3.csv')\n",
        "df2.head()\n",
        "\n",
        "df3 = pd.read_csv('/content/drive/MyDrive/Fes_system/amns_fes_main/csv/Batch-1.4.csv')\n",
        "df3.head()"
      ]
    },
    {
      "cell_type": "code",
      "execution_count": 21,
      "metadata": {
        "id": "l6pW44RELXnv"
      },
      "outputs": [],
      "source": [
        "df = df.drop(0)\n",
        "df1 = df1.drop(0)\n",
        "df2 = df2.drop(0)\n",
        "df3 = df3.drop(0)"
      ]
    },
    {
      "cell_type": "code",
      "execution_count": 22,
      "metadata": {
        "id": "wyuiJLHVLZzl"
      },
      "outputs": [],
      "source": [
        "# df = df.drop(['Unnamed: 19','Unnamed: 20',],axis=1)\n",
        "# df1 = df1.drop(['Unnamed: 19','Unnamed: 20'],axis=1)\n",
        "# df2 = df2.drop(['Unnamed: 19','Unnamed: 20'],axis=1)\n",
        "# df3 = df3.drop(['Unnamed: 19','Unnamed: 20'],axis=1)"
      ]
    },
    {
      "cell_type": "code",
      "execution_count": 23,
      "metadata": {
        "id": "cgXyYbl-LacE"
      },
      "outputs": [],
      "source": [
        "df = pd.concat([df, df1])\n",
        "df = pd.concat([df, df2])\n",
        "df = pd.concat([df, df3])"
      ]
    },
    {
      "cell_type": "code",
      "execution_count": 24,
      "metadata": {
        "colab": {
          "base_uri": "https://localhost:8080/"
        },
        "id": "grxmkpZ7Ldgv",
        "outputId": "38b0f1d7-dfe4-4866-efd5-2ce19baa201f"
      },
      "outputs": [
        {
          "output_type": "stream",
          "name": "stdout",
          "text": [
            "(4319, 25)\n",
            "(1080, 25)\n",
            "(1079, 25)\n",
            "(1081, 25)\n"
          ]
        }
      ],
      "source": [
        "print(df.shape)\n",
        "print(df1.shape)\n",
        "print(df2.shape)\n",
        "print(df3.shape)"
      ]
    },
    {
      "cell_type": "code",
      "execution_count": 25,
      "metadata": {
        "id": "ALCmQjmYNlZR",
        "colab": {
          "base_uri": "https://localhost:8080/"
        },
        "outputId": "a483401c-0ce9-47aa-cb96-37f3d855dad4"
      },
      "outputs": [
        {
          "output_type": "execute_result",
          "data": {
            "text/plain": [
              "Index(['Process Mode', 'Oxygen Consumption -Top', 'Furnace Power',\n",
              "       'CombustionChamber Pressure', 'Suction Damper Position feedback',\n",
              "       'FDC inlet Temprature', 'FDC Outlet Temp',\n",
              "       'FDC Outlet Temp - Upperside', 'DP across FDC', 'FDC Outlet Pressure',\n",
              "       'Pressure at Gas Mixter inlet', 'Temp at BagHouse Inlet - UpperSide',\n",
              "       'Temp at BagHouse Inlet - LowerSide', 'Pressure at BagHouse Inlet',\n",
              "       'DP Across baghouse - UpperSide', 'DP Across baghouse - LowerSide',\n",
              "       'Pressure ID Fan Inlet', 'Canopy Damper Position', 'Unnamed: 19',\n",
              "       'Unnamed: 20', 'ID Fan1 Speed', 'ID Fan1 Current', 'ID Fan2 Speed'],\n",
              "      dtype='object')"
            ]
          },
          "metadata": {},
          "execution_count": 25
        }
      ],
      "source": [
        "df = df.iloc[:,1:24]\n",
        "df.head()\n",
        "df.columns"
      ]
    },
    {
      "cell_type": "code",
      "execution_count": 26,
      "metadata": {
        "colab": {
          "base_uri": "https://localhost:8080/",
          "height": 448
        },
        "id": "i9jBUv_nJtqr",
        "outputId": "c62ea134-280a-4eb2-ac8b-2c316c47fff7"
      },
      "outputs": [
        {
          "output_type": "execute_result",
          "data": {
            "text/plain": [
              "<matplotlib.collections.PathCollection at 0x7da3695846d0>"
            ]
          },
          "metadata": {},
          "execution_count": 26
        },
        {
          "output_type": "display_data",
          "data": {
            "text/plain": [
              "<Figure size 640x480 with 1 Axes>"
            ],
            "image/png": "[encoded data removed]"
          },
          "metadata": {}
        }
      ],
      "source": [
        "# Convert the specific column to numeric before plotting\n",
        "df['Pressure at Gas Mixter inlet'] = pd.to_numeric(df['Pressure at Gas Mixter inlet'], errors='coerce')\n",
        "\n",
        "# Now plot the scatter plot with numeric data\n",
        "plt.scatter(df['Pressure at Gas Mixter inlet'].index,df['Pressure at Gas Mixter inlet'].values)"
      ]
    },
    {
      "cell_type": "code",
      "execution_count": 27,
      "metadata": {
        "colab": {
          "base_uri": "https://localhost:8080/"
        },
        "id": "q7UGokiOLuzw",
        "outputId": "ac22bf5f-8471-47bb-c0e4-674f3e2a52d1"
      },
      "outputs": [
        {
          "output_type": "stream",
          "name": "stdout",
          "text": [
            "<class 'pandas.core.frame.DataFrame'>\n",
            "Index: 4319 entries, 1 to 1081\n",
            "Data columns (total 23 columns):\n",
            " #   Column                              Non-Null Count  Dtype  \n",
            "---  ------                              --------------  -----  \n",
            " 0   Process Mode                        4319 non-null   int64  \n",
            " 1   Oxygen Consumption -Top             4319 non-null   float64\n",
            " 2   Furnace Power                       4319 non-null   float64\n",
            " 3   CombustionChamber Pressure          4319 non-null   float64\n",
            " 4   Suction Damper Position feedback    4319 non-null   float64\n",
            " 5   FDC inlet Temprature                4319 non-null   float64\n",
            " 6   FDC Outlet Temp                     4319 non-null   float64\n",
            " 7   FDC Outlet Temp - Upperside         4319 non-null   float64\n",
            " 8   DP across FDC                       4319 non-null   float64\n",
            " 9   FDC Outlet Pressure                 4319 non-null   float64\n",
            " 10  Pressure at Gas Mixter inlet        4319 non-null   float64\n",
            " 11  Temp at BagHouse Inlet - UpperSide  4319 non-null   float64\n",
            " 12  Temp at BagHouse Inlet - LowerSide  4319 non-null   float64\n",
            " 13  Pressure at BagHouse Inlet          4319 non-null   float64\n",
            " 14  DP Across baghouse - UpperSide      4319 non-null   float64\n",
            " 15  DP Across baghouse - LowerSide      4319 non-null   float64\n",
            " 16  Pressure ID Fan Inlet               4319 non-null   float64\n",
            " 17  Canopy Damper Position              4319 non-null   float64\n",
            " 18  Unnamed: 19                         4319 non-null   float64\n",
            " 19  Unnamed: 20                         4319 non-null   float64\n",
            " 20  ID Fan1 Speed                       4319 non-null   float64\n",
            " 21  ID Fan1 Current                     4319 non-null   float64\n",
            " 22  ID Fan2 Speed                       4319 non-null   float64\n",
            "dtypes: float64(22), int64(1)\n",
            "memory usage: 809.8 KB\n"
          ]
        }
      ],
      "source": [
        "#we can see every column is having datatype of 'object'\n",
        "#so convert all column datatype into numeric\n",
        "\n",
        "for col in df.columns:\n",
        "  df[col] = pd.to_numeric(df[col], errors='coerce')\n",
        "\n",
        "df.info()"
      ]
    },
    {
      "cell_type": "code",
      "execution_count": 28,
      "metadata": {
        "colab": {
          "base_uri": "https://localhost:8080/",
          "height": 823
        },
        "id": "MakyXwXVL3Br",
        "outputId": "7c367c25-614d-4faf-ab81-62339ab07969"
      },
      "outputs": [
        {
          "output_type": "stream",
          "name": "stdout",
          "text": [
            "-124.8258773387173\n"
          ]
        },
        {
          "output_type": "execute_result",
          "data": {
            "text/plain": [
              "Pressure at Gas Mixter inlet          1.000000\n",
              "FDC Outlet Pressure                   0.941599\n",
              "Pressure at BagHouse Inlet            0.910772\n",
              "Pressure ID Fan Inlet                 0.818537\n",
              "Canopy Damper Position                0.744081\n",
              "CombustionChamber Pressure            0.455567\n",
              "Unnamed: 19                           0.344914\n",
              "Furnace Power                         0.133470\n",
              "Process Mode                          0.036799\n",
              "Suction Damper Position feedback      0.029110\n",
              "Oxygen Consumption -Top              -0.033341\n",
              "Temp at BagHouse Inlet - LowerSide   -0.172712\n",
              "Temp at BagHouse Inlet - UpperSide   -0.203410\n",
              "Unnamed: 20                          -0.219397\n",
              "FDC inlet Temprature                 -0.243318\n",
              "FDC Outlet Temp - Upperside          -0.247538\n",
              "FDC Outlet Temp                      -0.258285\n",
              "DP across FDC                        -0.308872\n",
              "DP Across baghouse - LowerSide       -0.486469\n",
              "ID Fan1 Current                      -0.504014\n",
              "ID Fan1 Speed                        -0.546414\n",
              "ID Fan2 Speed                        -0.550662\n",
              "DP Across baghouse - UpperSide       -0.569412\n",
              "Name: Pressure at Gas Mixter inlet, dtype: float64"
            ],
            "text/html": [
              "<div>\n",
              "<style scoped>\n",
              "    .dataframe tbody tr th:only-of-type {\n",
              "        vertical-align: middle;\n",
              "    }\n",
              "\n",
              "    .dataframe tbody tr th {\n",
              "        vertical-align: top;\n",
              "    }\n",
              "\n",
              "    .dataframe thead th {\n",
              "        text-align: right;\n",
              "    }\n",
              "</style>\n",
              "<table border=\"1\" class=\"dataframe\">\n",
              "  <thead>\n",
              "    <tr style=\"text-align: right;\">\n",
              "      <th></th>\n",
              "      <th>Pressure at Gas Mixter inlet</th>\n",
              "    </tr>\n",
              "  </thead>\n",
              "  <tbody>\n",
              "    <tr>\n",
              "      <th>Pressure at Gas Mixter inlet</th>\n",
              "      <td>1.000000</td>\n",
              "    </tr>\n",
              "    <tr>\n",
              "      <th>FDC Outlet Pressure</th>\n",
              "      <td>0.941599</td>\n",
              "    </tr>\n",
              "    <tr>\n",
              "      <th>Pressure at BagHouse Inlet</th>\n",
              "      <td>0.910772</td>\n",
              "    </tr>\n",
              "    <tr>\n",
              "      <th>Pressure ID Fan Inlet</th>\n",
              "      <td>0.818537</td>\n",
              "    </tr>\n",
              "    <tr>\n",
              "      <th>Canopy Damper Position</th>\n",
              "      <td>0.744081</td>\n",
              "    </tr>\n",
              "    <tr>\n",
              "      <th>CombustionChamber Pressure</th>\n",
              "      <td>0.455567</td>\n",
              "    </tr>\n",
              "    <tr>\n",
              "      <th>Unnamed: 19</th>\n",
              "      <td>0.344914</td>\n",
              "    </tr>\n",
              "    <tr>\n",
              "      <th>Furnace Power</th>\n",
              "      <td>0.133470</td>\n",
              "    </tr>\n",
              "    <tr>\n",
              "      <th>Process Mode</th>\n",
              "      <td>0.036799</td>\n",
              "    </tr>\n",
              "    <tr>\n",
              "      <th>Suction Damper Position feedback</th>\n",
              "      <td>0.029110</td>\n",
              "    </tr>\n",
              "    <tr>\n",
              "      <th>Oxygen Consumption -Top</th>\n",
              "      <td>-0.033341</td>\n",
              "    </tr>\n",
              "    <tr>\n",
              "      <th>Temp at BagHouse Inlet - LowerSide</th>\n",
              "      <td>-0.172712</td>\n",
              "    </tr>\n",
              "    <tr>\n",
              "      <th>Temp at BagHouse Inlet - UpperSide</th>\n",
              "      <td>-0.203410</td>\n",
              "    </tr>\n",
              "    <tr>\n",
              "      <th>Unnamed: 20</th>\n",
              "      <td>-0.219397</td>\n",
              "    </tr>\n",
              "    <tr>\n",
              "      <th>FDC inlet Temprature</th>\n",
              "      <td>-0.243318</td>\n",
              "    </tr>\n",
              "    <tr>\n",
              "      <th>FDC Outlet Temp - Upperside</th>\n",
              "      <td>-0.247538</td>\n",
              "    </tr>\n",
              "    <tr>\n",
              "      <th>FDC Outlet Temp</th>\n",
              "      <td>-0.258285</td>\n",
              "    </tr>\n",
              "    <tr>\n",
              "      <th>DP across FDC</th>\n",
              "      <td>-0.308872</td>\n",
              "    </tr>\n",
              "    <tr>\n",
              "      <th>DP Across baghouse - LowerSide</th>\n",
              "      <td>-0.486469</td>\n",
              "    </tr>\n",
              "    <tr>\n",
              "      <th>ID Fan1 Current</th>\n",
              "      <td>-0.504014</td>\n",
              "    </tr>\n",
              "    <tr>\n",
              "      <th>ID Fan1 Speed</th>\n",
              "      <td>-0.546414</td>\n",
              "    </tr>\n",
              "    <tr>\n",
              "      <th>ID Fan2 Speed</th>\n",
              "      <td>-0.550662</td>\n",
              "    </tr>\n",
              "    <tr>\n",
              "      <th>DP Across baghouse - UpperSide</th>\n",
              "      <td>-0.569412</td>\n",
              "    </tr>\n",
              "  </tbody>\n",
              "</table>\n",
              "</div><br><label><b>dtype:</b> float64</label>"
            ]
          },
          "metadata": {},
          "execution_count": 28
        }
      ],
      "source": [
        "avg = df['Pressure at Gas Mixter inlet'].mean()\n",
        "print(avg)\n",
        "df.corr()['Pressure at Gas Mixter inlet'].sort_values(ascending=False)"
      ]
    },
    {
      "cell_type": "code",
      "execution_count": 29,
      "metadata": {
        "colab": {
          "base_uri": "https://localhost:8080/",
          "height": 448
        },
        "id": "qD5isB6CMsHR",
        "outputId": "4abc8ffb-1093-4b0f-e0cf-a00f74144934"
      },
      "outputs": [
        {
          "output_type": "stream",
          "name": "stdout",
          "text": [
            "Axes(0.125,0.11;0.775x0.77)\n"
          ]
        },
        {
          "output_type": "display_data",
          "data": {
            "text/plain": [
              "<Figure size 640x480 with 1 Axes>"
            ],
            "image/png": "[encoded data removed]"
          },
          "metadata": {}
        }
      ],
      "source": [
        "# print(df.boxplot('DP across FDC'))\n",
        "print(df.boxplot('Pressure at Gas Mixter inlet'))"
      ]
    },
    {
      "cell_type": "code",
      "execution_count": 30,
      "metadata": {
        "colab": {
          "base_uri": "https://localhost:8080/"
        },
        "id": "FvUv2kMImHni",
        "outputId": "7de55c93-55d9-42c2-8291-b5417a9e57c0"
      },
      "outputs": [
        {
          "output_type": "execute_result",
          "data": {
            "text/plain": [
              "(4319, 23)"
            ]
          },
          "metadata": {},
          "execution_count": 30
        }
      ],
      "source": [
        "df.shape"
      ]
    },
    {
      "cell_type": "code",
      "execution_count": 31,
      "metadata": {
        "colab": {
          "base_uri": "https://localhost:8080/",
          "height": 430
        },
        "id": "B7h0_TcQUCil",
        "outputId": "b0d18524-ff81-42f4-99bd-a282f5baa447"
      },
      "outputs": [
        {
          "output_type": "display_data",
          "data": {
            "text/plain": [
              "<Figure size 640x480 with 1 Axes>"
            ],
            "image/png": "[encoded data removed]"
          },
          "metadata": {}
        }
      ],
      "source": [
        "plt.hist(df['Pressure at Gas Mixter inlet'], bins=10, color='skyblue', edgecolor='black')\n",
        "plt.show()"
      ]
    },
    {
      "cell_type": "code",
      "execution_count": 32,
      "metadata": {
        "colab": {
          "base_uri": "https://localhost:8080/"
        },
        "id": "mv4hXKbNRmmp",
        "outputId": "72145d95-805b-43de-e58a-96d1d19bd667"
      },
      "outputs": [
        {
          "output_type": "execute_result",
          "data": {
            "text/plain": [
              "((3455, 22), (864, 22))"
            ]
          },
          "metadata": {},
          "execution_count": 32
        }
      ],
      "source": [
        "from sklearn.model_selection import train_test_split\n",
        "x_train,x_test,y_train,y_test = train_test_split(df.drop(['Pressure at Gas Mixter inlet'], axis=1),df['Pressure at Gas Mixter inlet'],test_size=0.2,random_state=42)\n",
        "x_train.shape, x_test.shape"
      ]
    },
    {
      "cell_type": "code",
      "execution_count": 33,
      "metadata": {
        "id": "hWdEGRVtRX3K"
      },
      "outputs": [],
      "source": [
        "# from sklearn.preprocessing import StandardScaler\n",
        "\n",
        "# scaler = StandardScaler()\n",
        "\n",
        "\n",
        "# scaler.fit(x_train)\n",
        "\n",
        "\n",
        "# x_train_scaled = scaler.transform(x_train)\n",
        "# x_test_scaled = scaler.transform(x_test)"
      ]
    },
    {
      "cell_type": "code",
      "execution_count": 34,
      "metadata": {
        "id": "hfeW4H8PRaCE"
      },
      "outputs": [],
      "source": [
        "# from sklearn.preprocessing import MinMaxScaler\n",
        "\n",
        "# scaler = MinMaxScaler()\n",
        "\n",
        "# # fit the scaler to the train set, it will learn the parameters\n",
        "# scaler.fit(x_train)\n",
        "\n",
        "# # transform train and test sets\n",
        "# x_train_scaled_normalized = scaler.transform(x_train)\n",
        "# x_test_scaled_normalized = scaler.transform(x_test)"
      ]
    },
    {
      "cell_type": "code",
      "source": [
        "from sklearn.model_selection import train_test_split, GridSearchCV\n",
        "from sklearn.pipeline import Pipeline\n",
        "from sklearn.ensemble import RandomForestRegressor # Import the regressor\n",
        "\n",
        "param_grid = {\n",
        "    # The parameter grid seems to be defined for a classifier, not a regressor.\n",
        "    # For RandomForestRegressor, the parameters would be like:\n",
        "    'n_estimators': [200,300,400,500],\n",
        "    'max_features': ['sqrt', 'log2'],\n",
        "    'max_depth': [4, 5, 6, 7, 8],\n",
        "    # criterion for regressor is 'squared_error', 'absolute_error', 'poisson', etc.\n",
        "    # 'criterion': ['squared_error']\n",
        "}\n",
        "\n",
        "# Create a RandomForestRegressor instance\n",
        "estimator = RandomForestRegressor(random_state=42) # Added random_state for reproducibility\n",
        "\n",
        "# Pass the estimator and the parameter grid to GridSearchCV\n",
        "# Note: You might need to adjust the param_grid to match the parameters of RandomForestRegressor\n",
        "# and remove the 'classification__' prefix if you are not using a Pipeline named 'classification'.\n",
        "grid_search = GridSearchCV(estimator=estimator, param_grid=param_grid, cv=5) # Added cv for cross-validation"
      ],
      "metadata": {
        "id": "VBTwrAQkrcwP"
      },
      "execution_count": 35,
      "outputs": []
    },
    {
      "cell_type": "code",
      "source": [
        "grid_search.fit(x_train, y_train)\n",
        "\n",
        "# Get the best parameters and score\n",
        "print(\"Best parameters found: \", grid_search.best_params_)\n",
        "print(\"Best cross-validation score: \", grid_search.best_score_)"
      ],
      "metadata": {
        "id": "gL_K7WRysxYm",
        "colab": {
          "base_uri": "https://localhost:8080/"
        },
        "outputId": "359fb262-57cc-426b-9c88-e2272c120c36"
      },
      "execution_count": 36,
      "outputs": [
        {
          "output_type": "stream",
          "name": "stdout",
          "text": [
            "Best parameters found:  {'max_depth': 8, 'max_features': 'sqrt', 'n_estimators': 400}\n",
            "Best cross-validation score:  0.9710080824131765\n"
          ]
        }
      ]
    },
    {
      "cell_type": "code",
      "execution_count": 37,
      "metadata": {
        "id": "pfv3afbORst-"
      },
      "outputs": [],
      "source": [
        "# from sklearn.ensemble import RandomForestRegressor, GradientBoostingRegressor\n",
        "# rand = RandomForestRegressor(\n",
        "#     n_estimators=650,\n",
        "#     max_depth=21,\n",
        "#     min_samples_split=4,\n",
        "#     max_features='sqrt',\n",
        "# )\n",
        "# # x_train_rand = rand.fit(x_train, y_train)\n",
        "# # y_pred_rand = rand.predict(x_test)\n",
        "# # plt.grid(True)\n",
        "# # plt.scatter(y_pred_rand, y_test)"
      ]
    },
    {
      "cell_type": "code",
      "execution_count": 38,
      "metadata": {
        "id": "7H9u-I5x809d"
      },
      "outputs": [],
      "source": [
        "from sklearn.model_selection import cross_val_score, KFold\n",
        "\n",
        "num_folds = 5\n",
        "kf = KFold(n_splits=num_folds, shuffle=True, random_state=42)\n",
        "cross_val_results = cross_val_score(rand, x_train, y_train, cv=kf)"
      ]
    },
    {
      "cell_type": "code",
      "execution_count": 39,
      "metadata": {
        "id": "_fe_Hwa29J09",
        "colab": {
          "base_uri": "https://localhost:8080/"
        },
        "outputId": "a6f1b17c-a413-4199-c1b2-acb253b3ee58"
      },
      "outputs": [
        {
          "output_type": "stream",
          "name": "stdout",
          "text": [
            "Cross-Validation Results (Accuracy):\n",
            "  Fold 1: 97.66%\n",
            "  Fold 2: 98.02%\n",
            "  Fold 3: 98.07%\n",
            "  Fold 4: 97.68%\n",
            "  Fold 5: 97.69%\n",
            "Mean Accuracy: 97.82%\n"
          ]
        }
      ],
      "source": [
        "print(\"Cross-Validation Results (Accuracy):\")\n",
        "for i, result in enumerate(cross_val_results, 1):\n",
        "    print(f\"  Fold {i}: {result * 100:.2f}%\")\n",
        "\n",
        "print(f'Mean Accuracy: {cross_val_results.mean()* 100:.2f}%')"
      ]
    },
    {
      "cell_type": "code",
      "execution_count": 40,
      "metadata": {
        "id": "Tz5K_nzQRylU"
      },
      "outputs": [],
      "source": [
        "from sklearn.linear_model import LinearRegression, Ridge, Lasso\n",
        "from sklearn.tree import DecisionTreeRegressor\n",
        "from sklearn.ensemble import RandomForestRegressor, GradientBoostingRegressor\n",
        "from sklearn.svm import SVR\n",
        "from sklearn.neural_network import MLPRegressor\n",
        "from sklearn.metrics import mean_absolute_error, mean_squared_error, r2_score\n",
        "import numpy as np\n",
        "\n",
        "arr = []\n",
        "def evaluate_models(X_train, X_test, y_train, y_test):\n",
        "    models = {\n",
        "        \"Linear Regression\": LinearRegression(),\n",
        "        \"Ridge Regression\": Ridge(),\n",
        "        \"Lasso Regression\": Lasso(),\n",
        "        \"Decision Tree\": DecisionTreeRegressor(),\n",
        "        \"Random Forest\": RandomForestRegressor(n_estimators=100),\n",
        "        \"Gradient Boosting\": GradientBoostingRegressor(),\n",
        "        \"Support Vector Regressor\": SVR(),\n",
        "        \"Neural Network (MLP)\": MLPRegressor(max_iter=1000)\n",
        "    }\n",
        "\n",
        "    results = []\n",
        "\n",
        "    for name, model in models.items():\n",
        "        model.fit(X_train, y_train)\n",
        "        y_pred = model.predict(X_test)\n",
        "        mae = mean_absolute_error(y_test, y_pred)\n",
        "        rmse = np.sqrt(mean_squared_error(y_test, y_pred))\n",
        "        r2 = r2_score(y_test, y_pred)\n",
        "        results.append((name, mae, rmse, r2))\n",
        "        arr.append(y_pred)\n",
        "        # print(name)\n",
        "        # plt.scatter(y_pred, y_test)\n",
        "        # plt.show()\n",
        "\n",
        "    # Print results\n",
        "    print(f\"{'Model':30} {'MAE':>10} {'RMSE':>10} {'R² Score':>10}\")\n",
        "    print(\"=\"*60)\n",
        "    for name, mae, rmse, r2 in sorted(results, key=lambda x: x[2]):  # sort by RMSE\n",
        "        print(f\"{name:30} {mae:10.2f} {rmse:10.2f} {r2:10.4f}\")\n"
      ]
    },
    {
      "cell_type": "code",
      "execution_count": 41,
      "metadata": {
        "id": "tUCvZBdCSFty",
        "colab": {
          "base_uri": "https://localhost:8080/"
        },
        "outputId": "6359d014-49db-47e3-fca3-d1ff6a45e2f2"
      },
      "outputs": [
        {
          "output_type": "stream",
          "name": "stdout",
          "text": [
            "Model                                 MAE       RMSE   R² Score\n",
            "============================================================\n",
            "Random Forest                        1.91       2.46     0.9780\n",
            "Ridge Regression                     2.03       2.55     0.9764\n",
            "Linear Regression                    2.03       2.55     0.9764\n",
            "Gradient Boosting                    2.00       2.61     0.9754\n",
            "Lasso Regression                     2.07       2.65     0.9746\n",
            "Decision Tree                        2.81       3.63     0.9522\n",
            "Neural Network (MLP)                 3.22       4.45     0.9281\n",
            "Support Vector Regressor            11.04      16.05     0.0663\n"
          ]
        }
      ],
      "source": [
        "evaluate_models(x_train, x_test, y_train, y_test)\n",
        "# evaluate_models(x_train_scaled, x_test_scaled, y_train, y_test)\n",
        "# evaluate_models(x_train_scaled_normalized, x_test_scaled_normalized, y_train, y_test)"
      ]
    },
    {
      "cell_type": "code",
      "source": [],
      "metadata": {
        "id": "Bb0g3X6Ecuoa"
      },
      "execution_count": 41,
      "outputs": []
    }
  ],
  "metadata": {
    "colab": {
      "provenance": [],
      "gpuType": "T4"
    },
    "kernelspec": {
      "display_name": "Python 3",
      "name": "python3"
    },
    "language_info": {
      "name": "python"
    },
    "accelerator": "GPU"
  },
  "nbformat": 4,
  "nbformat_minor": 0
}