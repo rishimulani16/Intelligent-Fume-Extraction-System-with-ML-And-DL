{
 "cells": [
  {
   "cell_type": "code",
   "execution_count": 22,
   "id": "7ca1439d",
   "metadata": {},
   "outputs": [
    {
     "name": "stderr",
     "output_type": "stream",
     "text": [
      "WARNING:absl:Compiled the loaded model, but the compiled metrics have yet to be built. `model.compile_metrics` will be empty until you train or evaluate the model.\n"
     ]
    },
    {
     "name": "stdout",
     "output_type": "stream",
     "text": [
      "WARNING:tensorflow:5 out of the last 37 calls to <function TensorFlowTrainer.make_predict_function.<locals>.one_step_on_data_distributed at 0x00000293278BFD80> triggered tf.function retracing. Tracing is expensive and the excessive number of tracings could be due to (1) creating @tf.function repeatedly in a loop, (2) passing tensors with different shapes, (3) passing Python objects instead of tensors. For (1), please define your @tf.function outside of the loop. For (2), @tf.function has reduce_retracing=True option that can avoid unnecessary retracing. For (3), please refer to https://www.tensorflow.org/guide/function#controlling_retracing and https://www.tensorflow.org/api_docs/python/tf/function for  more details.\n"
     ]
    },
    {
     "name": "stderr",
     "output_type": "stream",
     "text": [
      "c:\\Users\\DELL\\AppData\\Local\\Programs\\Python\\Python312\\Lib\\site-packages\\sklearn\\utils\\validation.py:2749: UserWarning: X does not have valid feature names, but StandardScaler was fitted with feature names\n",
      "  warnings.warn(\n",
      "WARNING:tensorflow:5 out of the last 37 calls to <function TensorFlowTrainer.make_predict_function.<locals>.one_step_on_data_distributed at 0x00000293278BFD80> triggered tf.function retracing. Tracing is expensive and the excessive number of tracings could be due to (1) creating @tf.function repeatedly in a loop, (2) passing tensors with different shapes, (3) passing Python objects instead of tensors. For (1), please define your @tf.function outside of the loop. For (2), @tf.function has reduce_retracing=True option that can avoid unnecessary retracing. For (3), please refer to https://www.tensorflow.org/guide/function#controlling_retracing and https://www.tensorflow.org/api_docs/python/tf/function for  more details.\n"
     ]
    },
    {
     "name": "stdout",
     "output_type": "stream",
     "text": [
      "\u001b[1m1/1\u001b[0m \u001b[32m━━━━━━━━━━━━━━━━━━━━\u001b[0m\u001b[37m\u001b[0m \u001b[1m0s\u001b[0m 112ms/step\n",
      "Predicted value: [[-405.6013]]\n"
     ]
    }
   ],
   "source": [
    "import numpy as np\n",
    "from tensorflow.keras.models import load_model\n",
    "import joblib\n",
    "\n",
    "model = load_model(\"pressure_ID_Fan_inlet_DL(1).h5\")\n",
    "\n",
    "dpAccBagh_us = '18.51997'\n",
    "\n",
    "x = np.array([dpAccBagh_us, '60.93208', '946.2000', '226.4158', '945.4032']).astype(float)\n",
    "\n",
    "\n",
    "# x = np.array(['18.51997', '60.93208', '946.2000', '226.4158', '945.4032']).astype(float)\n",
    "\n",
    "y = -400.0651\n",
    "\n",
    "scaler = joblib.load(\"scaler(1).pkl\")\n",
    "\n",
    "x_scaled = scaler.transform(x.reshape(1, -1))\n",
    "\n",
    "pred = model.predict(x_scaled)\n",
    "\n",
    "print(\"Predicted value:\", pred)\n"
   ]
  },
  {
   "cell_type": "code",
   "execution_count": 2,
   "id": "9674199b",
   "metadata": {},
   "outputs": [
    {
     "name": "stderr",
     "output_type": "stream",
     "text": [
      "WARNING:absl:Compiled the loaded model, but the compiled metrics have yet to be built. `model.compile_metrics` will be empty until you train or evaluate the model.\n"
     ]
    }
   ],
   "source": [
    "import numpy as np\n",
    "from tensorflow.keras.models import load_model\n",
    "import joblib\n",
    "import pandas as pd\n",
    "import matplotlib.pyplot as plt\n",
    "from sklearn.metrics import r2_score\n",
    "\n",
    "model = load_model(\"pressure_at_bag_house_DL(2).h5\")"
   ]
  },
  {
   "cell_type": "code",
   "execution_count": 3,
   "id": "34bf78d7",
   "metadata": {},
   "outputs": [],
   "source": [
    "df = pd.read_csv('Batch-1.1.csv')"
   ]
  },
  {
   "cell_type": "code",
   "execution_count": 4,
   "id": "b6df0503",
   "metadata": {},
   "outputs": [
    {
     "data": {
      "text/html": [
       "<div>\n",
       "<style scoped>\n",
       "    .dataframe tbody tr th:only-of-type {\n",
       "        vertical-align: middle;\n",
       "    }\n",
       "\n",
       "    .dataframe tbody tr th {\n",
       "        vertical-align: top;\n",
       "    }\n",
       "\n",
       "    .dataframe thead th {\n",
       "        text-align: right;\n",
       "    }\n",
       "</style>\n",
       "<table border=\"1\" class=\"dataframe\">\n",
       "  <thead>\n",
       "    <tr style=\"text-align: right;\">\n",
       "      <th></th>\n",
       "      <th>Pressure at BagHouse Inlet</th>\n",
       "      <th>DP Across baghouse - UpperSide</th>\n",
       "      <th>DP Across baghouse - LowerSide</th>\n",
       "      <th>Pressure ID Fan Inlet</th>\n",
       "      <th>Canopy Damper Position</th>\n",
       "      <th>ID Fan1 Speed</th>\n",
       "      <th>ID Fan1 Current</th>\n",
       "      <th>ID Fan2 Speed</th>\n",
       "    </tr>\n",
       "  </thead>\n",
       "  <tbody>\n",
       "    <tr>\n",
       "      <th>0</th>\n",
       "      <td>-216.1675</td>\n",
       "      <td>14.93200</td>\n",
       "      <td>17.62587</td>\n",
       "      <td>-386.0677</td>\n",
       "      <td>66.30715</td>\n",
       "      <td>946.2</td>\n",
       "      <td>228.6638</td>\n",
       "      <td>945.4032</td>\n",
       "    </tr>\n",
       "    <tr>\n",
       "      <th>1</th>\n",
       "      <td>-219.9002</td>\n",
       "      <td>15.85503</td>\n",
       "      <td>18.51997</td>\n",
       "      <td>-400.0651</td>\n",
       "      <td>60.93208</td>\n",
       "      <td>946.2</td>\n",
       "      <td>226.4158</td>\n",
       "      <td>945.4032</td>\n",
       "    </tr>\n",
       "    <tr>\n",
       "      <th>2</th>\n",
       "      <td>-215.4080</td>\n",
       "      <td>16.05035</td>\n",
       "      <td>18.84115</td>\n",
       "      <td>-397.2801</td>\n",
       "      <td>60.93605</td>\n",
       "      <td>946.2</td>\n",
       "      <td>221.4280</td>\n",
       "      <td>945.4032</td>\n",
       "    </tr>\n",
       "    <tr>\n",
       "      <th>3</th>\n",
       "      <td>-210.4601</td>\n",
       "      <td>16.11979</td>\n",
       "      <td>18.69213</td>\n",
       "      <td>-391.2399</td>\n",
       "      <td>60.93605</td>\n",
       "      <td>946.2</td>\n",
       "      <td>221.3578</td>\n",
       "      <td>945.4032</td>\n",
       "    </tr>\n",
       "    <tr>\n",
       "      <th>4</th>\n",
       "      <td>-215.1259</td>\n",
       "      <td>15.93750</td>\n",
       "      <td>18.62558</td>\n",
       "      <td>-390.9505</td>\n",
       "      <td>60.93208</td>\n",
       "      <td>946.2</td>\n",
       "      <td>222.6222</td>\n",
       "      <td>945.4032</td>\n",
       "    </tr>\n",
       "  </tbody>\n",
       "</table>\n",
       "</div>"
      ],
      "text/plain": [
       "   Pressure at BagHouse Inlet  DP Across baghouse - UpperSide  \\\n",
       "0                   -216.1675                        14.93200   \n",
       "1                   -219.9002                        15.85503   \n",
       "2                   -215.4080                        16.05035   \n",
       "3                   -210.4601                        16.11979   \n",
       "4                   -215.1259                        15.93750   \n",
       "\n",
       "   DP Across baghouse - LowerSide  Pressure ID Fan Inlet  \\\n",
       "0                        17.62587              -386.0677   \n",
       "1                        18.51997              -400.0651   \n",
       "2                        18.84115              -397.2801   \n",
       "3                        18.69213              -391.2399   \n",
       "4                        18.62558              -390.9505   \n",
       "\n",
       "   Canopy Damper Position  ID Fan1 Speed  ID Fan1 Current  ID Fan2 Speed  \n",
       "0                66.30715          946.2         228.6638       945.4032  \n",
       "1                60.93208          946.2         226.4158       945.4032  \n",
       "2                60.93605          946.2         221.4280       945.4032  \n",
       "3                60.93605          946.2         221.3578       945.4032  \n",
       "4                60.93208          946.2         222.6222       945.4032  "
      ]
     },
     "execution_count": 4,
     "metadata": {},
     "output_type": "execute_result"
    }
   ],
   "source": [
    "df = df.iloc[:,14:24]\n",
    "df.drop(columns=['Unnamed: 19','Unnamed: 20'],inplace=True)\n",
    "df.head()"
   ]
  },
  {
   "cell_type": "code",
   "execution_count": 5,
   "id": "a3aced9a",
   "metadata": {},
   "outputs": [
    {
     "name": "stdout",
     "output_type": "stream",
     "text": [
      "Pressure at BagHouse Inlet        0\n",
      "DP Across baghouse - UpperSide    0\n",
      "DP Across baghouse - LowerSide    0\n",
      "Pressure ID Fan Inlet             0\n",
      "Canopy Damper Position            0\n",
      "ID Fan1 Speed                     0\n",
      "ID Fan1 Current                   0\n",
      "ID Fan2 Speed                     0\n",
      "dtype: int64\n"
     ]
    }
   ],
   "source": [
    "print(df.isna().sum())\n",
    "df.dropna(inplace=True)"
   ]
  },
  {
   "cell_type": "code",
   "execution_count": 6,
   "id": "32549e9c",
   "metadata": {},
   "outputs": [],
   "source": [
    "x = df.drop('Pressure at BagHouse Inlet',axis = 1)\n",
    "y = df['Pressure at BagHouse Inlet']"
   ]
  },
  {
   "cell_type": "code",
   "execution_count": 7,
   "id": "87cc5a7f",
   "metadata": {},
   "outputs": [],
   "source": [
    "x = np.array(x)"
   ]
  },
  {
   "cell_type": "code",
   "execution_count": 8,
   "id": "c57fda26",
   "metadata": {},
   "outputs": [
    {
     "data": {
      "text/plain": [
       "array([[  14.932  ,   17.62587, -386.0677 , ...,  946.2    ,  228.6638 ,\n",
       "         945.4032 ],\n",
       "       [  15.85503,   18.51997, -400.0651 , ...,  946.2    ,  226.4158 ,\n",
       "         945.4032 ],\n",
       "       [  16.05035,   18.84115, -397.2801 , ...,  946.2    ,  221.428  ,\n",
       "         945.4032 ],\n",
       "       ...,\n",
       "       [  14.2173 ,   17.33652, -389.0336 , ...,  946.2    ,  227.4695 ,\n",
       "         945.4032 ],\n",
       "       [  14.10011,   17.2555 , -385.6698 , ...,  946.2    ,  227.7505 ,\n",
       "         945.4032 ],\n",
       "       [  14.60214,   17.56655, -402.6693 , ...,  946.2    ,  226.8372 ,\n",
       "         945.4032 ]])"
      ]
     },
     "execution_count": 8,
     "metadata": {},
     "output_type": "execute_result"
    }
   ],
   "source": [
    "x"
   ]
  },
  {
   "cell_type": "code",
   "execution_count": 9,
   "id": "4cd28f06",
   "metadata": {},
   "outputs": [
    {
     "name": "stderr",
     "output_type": "stream",
     "text": [
      "c:\\Users\\DELL\\AppData\\Local\\Programs\\Python\\Python312\\Lib\\site-packages\\sklearn\\utils\\validation.py:2749: UserWarning: X does not have valid feature names, but StandardScaler was fitted with feature names\n",
      "  warnings.warn(\n"
     ]
    }
   ],
   "source": [
    "sc = joblib.load(\"scaler(2).pkl\")\n",
    "x_scaled = sc.transform(x)"
   ]
  },
  {
   "cell_type": "code",
   "execution_count": 10,
   "id": "766880e5",
   "metadata": {},
   "outputs": [
    {
     "name": "stdout",
     "output_type": "stream",
     "text": [
      "\u001b[1m34/34\u001b[0m \u001b[32m━━━━━━━━━━━━━━━━━━━━\u001b[0m\u001b[37m\u001b[0m \u001b[1m0s\u001b[0m 3ms/step\n"
     ]
    }
   ],
   "source": [
    "pred = model.predict(x_scaled)"
   ]
  },
  {
   "cell_type": "code",
   "execution_count": 11,
   "id": "578101ce",
   "metadata": {},
   "outputs": [
    {
     "data": {
      "text/plain": [
       "0.992711411133479"
      ]
     },
     "execution_count": 11,
     "metadata": {},
     "output_type": "execute_result"
    }
   ],
   "source": [
    "r2_score(y,pred)"
   ]
  },
  {
   "cell_type": "code",
   "execution_count": 12,
   "id": "adc2a3b5",
   "metadata": {},
   "outputs": [],
   "source": [
    "pred = pred.reshape(1,-1)"
   ]
  },
  {
   "cell_type": "code",
   "execution_count": 13,
   "id": "c54a5f0e",
   "metadata": {},
   "outputs": [
    {
     "data": {
      "text/html": [
       "<div>\n",
       "<style scoped>\n",
       "    .dataframe tbody tr th:only-of-type {\n",
       "        vertical-align: middle;\n",
       "    }\n",
       "\n",
       "    .dataframe tbody tr th {\n",
       "        vertical-align: top;\n",
       "    }\n",
       "\n",
       "    .dataframe thead th {\n",
       "        text-align: right;\n",
       "    }\n",
       "</style>\n",
       "<table border=\"1\" class=\"dataframe\">\n",
       "  <thead>\n",
       "    <tr style=\"text-align: right;\">\n",
       "      <th></th>\n",
       "      <th>0</th>\n",
       "      <th>1</th>\n",
       "      <th>2</th>\n",
       "      <th>3</th>\n",
       "      <th>4</th>\n",
       "      <th>5</th>\n",
       "      <th>6</th>\n",
       "      <th>7</th>\n",
       "      <th>8</th>\n",
       "      <th>9</th>\n",
       "      <th>...</th>\n",
       "      <th>1070</th>\n",
       "      <th>1071</th>\n",
       "      <th>1072</th>\n",
       "      <th>1073</th>\n",
       "      <th>1074</th>\n",
       "      <th>1075</th>\n",
       "      <th>1076</th>\n",
       "      <th>1077</th>\n",
       "      <th>1078</th>\n",
       "      <th>1079</th>\n",
       "    </tr>\n",
       "  </thead>\n",
       "  <tbody>\n",
       "    <tr>\n",
       "      <th>0</th>\n",
       "      <td>-1.214931</td>\n",
       "      <td>-3.802635</td>\n",
       "      <td>-2.567571</td>\n",
       "      <td>-2.927199</td>\n",
       "      <td>0.610092</td>\n",
       "      <td>-4.537542</td>\n",
       "      <td>-4.900082</td>\n",
       "      <td>-1.321524</td>\n",
       "      <td>-3.5523</td>\n",
       "      <td>-3.419275</td>\n",
       "      <td>...</td>\n",
       "      <td>-2.243896</td>\n",
       "      <td>-0.551796</td>\n",
       "      <td>-2.715685</td>\n",
       "      <td>-2.831008</td>\n",
       "      <td>-5.325127</td>\n",
       "      <td>-3.136118</td>\n",
       "      <td>3.02868</td>\n",
       "      <td>0.364592</td>\n",
       "      <td>0.401856</td>\n",
       "      <td>4.176145</td>\n",
       "    </tr>\n",
       "  </tbody>\n",
       "</table>\n",
       "<p>1 rows × 1080 columns</p>\n",
       "</div>"
      ],
      "text/plain": [
       "       0         1         2         3         4         5         6     \\\n",
       "0 -1.214931 -3.802635 -2.567571 -2.927199  0.610092 -4.537542 -4.900082   \n",
       "\n",
       "       7       8         9     ...      1070      1071      1072      1073  \\\n",
       "0 -1.321524 -3.5523 -3.419275  ... -2.243896 -0.551796 -2.715685 -2.831008   \n",
       "\n",
       "       1074      1075     1076      1077      1078      1079  \n",
       "0 -5.325127 -3.136118  3.02868  0.364592  0.401856  4.176145  \n",
       "\n",
       "[1 rows x 1080 columns]"
      ]
     },
     "execution_count": 13,
     "metadata": {},
     "output_type": "execute_result"
    }
   ],
   "source": [
    "diff = pred - (np.array(y)).reshape(1,-1)\n",
    "pd.DataFrame(diff)"
   ]
  },
  {
   "cell_type": "code",
   "execution_count": 18,
   "id": "989a116b",
   "metadata": {},
   "outputs": [
    {
     "name": "stdout",
     "output_type": "stream",
     "text": [
      "8\n",
      "[10.18468665  5.40713723  5.82489436  6.15769456  5.07179958  5.99746477\n",
      "  5.04739905  5.64224968]\n"
     ]
    }
   ],
   "source": [
    "print(diff[diff>5].size)\n",
    "print(diff[diff>5])\n"
   ]
  },
  {
   "cell_type": "code",
   "execution_count": 19,
   "id": "be54cef4",
   "metadata": {},
   "outputs": [
    {
     "data": {
      "text/plain": [
       "<matplotlib.collections.PathCollection at 0x293252cf440>"
      ]
     },
     "execution_count": 19,
     "metadata": {},
     "output_type": "execute_result"
    },
    {
     "data": {
      "image/png": "[encoded data removed]",
      "text/plain": [
       "<Figure size 640x480 with 1 Axes>"
      ]
     },
     "metadata": {},
     "output_type": "display_data"
    }
   ],
   "source": [
    "plt.scatter(y,diff)"
   ]
  }
 ],
 "metadata": {
  "kernelspec": {
   "display_name": "Python 3",
   "language": "python",
   "name": "python3"
  },
  "language_info": {
   "codemirror_mode": {
    "name": "ipython",
    "version": 3
   },
   "file_extension": ".py",
   "mimetype": "text/x-python",
   "name": "python",
   "nbconvert_exporter": "python",
   "pygments_lexer": "ipython3",
   "version": "3.12.0"
  }
 },
 "nbformat": 4,
 "nbformat_minor": 5
}
