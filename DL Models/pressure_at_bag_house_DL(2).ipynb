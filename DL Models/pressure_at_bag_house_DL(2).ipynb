{
 "cells": [
  {
   "cell_type": "code",
   "execution_count": 1,
   "metadata": {
    "executionInfo": {
     "elapsed": 16,
     "status": "ok",
     "timestamp": 1749728783359,
     "user": {
      "displayName": "Rishi Mulani",
      "userId": "04836978093625403382"
     },
     "user_tz": -330
    },
    "id": "DLkd3mbTJmQA"
   },
   "outputs": [],
   "source": [
    "import pandas as pd\n",
    "import numpy as np\n",
    "import matplotlib.pyplot as plt"
   ]
  },
  {
   "cell_type": "code",
   "execution_count": 2,
   "metadata": {
    "colab": {
     "base_uri": "https://localhost:8080/",
     "height": 308
    },
    "executionInfo": {
     "elapsed": 196,
     "status": "ok",
     "timestamp": 1749728783559,
     "user": {
      "displayName": "Rishi Mulani",
      "userId": "04836978093625403382"
     },
     "user_tz": -330
    },
    "id": "qESxF-90Jviu",
    "outputId": "6a3ecc51-f0a5-4209-b4a5-9d6acb7a51ef"
   },
   "outputs": [],
   "source": [
    "df_arr = []\n",
    "\n",
    "\n",
    "# df = pd.read_csv('csv/Batch-1.1.csv')\n",
    "# df.head()\n",
    "\n",
    "# df1 = pd.read_csv('csv/Batch-1.2.csv')\n",
    "# df1.head()\n",
    "\n",
    "# df2 = pd.read_csv('/content/drive/MyDrive/AMNS_FES/all csv data/Batch-1.3.csv')\n",
    "# df2.head()\n",
    "\n",
    "# df3 = pd.read_csv('/content/drive/MyDrive/AMNS_FES/all csv data/Batch-1.4.csv')\n",
    "# df3.head()\n",
    "\n",
    "# df4 = pd.read_csv('/content/drive/MyDrive/AMNS_FES/all csv data/Batch-2.1 - Sheet1 - Batch-2.1 - Sheet1.csv')\n",
    "# df4.head()\n",
    "\n",
    "# df5 = pd.read_csv('/content/drive/MyDrive/AMNS_FES/all csv data/Batch-2.2 - Sheet1 - Batch-2.2 - Sheet1.csv')\n",
    "# df5.head()\n",
    "\n",
    "# df6 = pd.read_csv('/content/drive/MyDrive/AMNS_FES/all csv data/Batch-2.3 - Sheet1 - Batch-2.3 - Sheet1.csv')\n",
    "# df6.head()\n",
    "\n",
    "# df7 = pd.read_csv('/content/drive/MyDrive/AMNS_FES/all csv data/Batch-2.4 - Sheet1 - Batch-2.4 - Sheet1.csv')\n",
    "# df7.head()\n",
    "\n",
    "\n",
    "df_arr.append(pd.read_csv('csv/Batch-1.1.csv').drop(0))\n",
    "df_arr.append(pd.read_csv('csv/Batch-1.2.csv').drop(0))\n",
    "df_arr.append(pd.read_csv('csv/Batch-1.3.csv').drop(0))\n",
    "df_arr.append(pd.read_csv('csv/Batch-1.4.csv').drop(0))\n",
    "df_arr.append(pd.read_csv('csv/Batch-2.1.csv').drop(0))\n",
    "df_arr.append(pd.read_csv('csv/Batch-2.2.csv').drop(0))\n",
    "df_arr.append(pd.read_csv('csv/Batch-2.3.csv').drop(0))\n",
    "df_arr.append(pd.read_csv('csv/Batch-2.4.csv').drop(0))\n"
   ]
  },
  {
   "cell_type": "code",
   "execution_count": 3,
   "metadata": {
    "executionInfo": {
     "elapsed": 10,
     "status": "ok",
     "timestamp": 1749728783666,
     "user": {
      "displayName": "Rishi Mulani",
      "userId": "04836978093625403382"
     },
     "user_tz": -330
    },
    "id": "Z8uW7TX9J5Wy"
   },
   "outputs": [
    {
     "name": "stdout",
     "output_type": "stream",
     "text": [
      "(9665, 25)\n"
     ]
    },
    {
     "data": {
      "text/html": [
       "<div>\n",
       "<style scoped>\n",
       "    .dataframe tbody tr th:only-of-type {\n",
       "        vertical-align: middle;\n",
       "    }\n",
       "\n",
       "    .dataframe tbody tr th {\n",
       "        vertical-align: top;\n",
       "    }\n",
       "\n",
       "    .dataframe thead th {\n",
       "        text-align: right;\n",
       "    }\n",
       "</style>\n",
       "<table border=\"1\" class=\"dataframe\">\n",
       "  <thead>\n",
       "    <tr style=\"text-align: right;\">\n",
       "      <th></th>\n",
       "      <th>SampleTime</th>\n",
       "      <th>Process Mode</th>\n",
       "      <th>Oxygen Consumption -Top</th>\n",
       "      <th>Furnace Power</th>\n",
       "      <th>CombustionChamber Pressure</th>\n",
       "      <th>Suction Damper Position feedback</th>\n",
       "      <th>FDC inlet Temprature</th>\n",
       "      <th>FDC Outlet Temp</th>\n",
       "      <th>FDC Outlet Temp - Upperside</th>\n",
       "      <th>DP across FDC</th>\n",
       "      <th>...</th>\n",
       "      <th>DP Across baghouse - UpperSide</th>\n",
       "      <th>DP Across baghouse - LowerSide</th>\n",
       "      <th>Pressure ID Fan Inlet</th>\n",
       "      <th>Canopy Damper Position</th>\n",
       "      <th>Unnamed: 19</th>\n",
       "      <th>Unnamed: 20</th>\n",
       "      <th>ID Fan1 Speed</th>\n",
       "      <th>ID Fan1 Current</th>\n",
       "      <th>ID Fan2 Speed</th>\n",
       "      <th>ID Fan2 Current</th>\n",
       "    </tr>\n",
       "  </thead>\n",
       "  <tbody>\n",
       "    <tr>\n",
       "      <th>0</th>\n",
       "      <td>02.09.2024_12.35.09</td>\n",
       "      <td>32</td>\n",
       "      <td>2890.05</td>\n",
       "      <td>0.0</td>\n",
       "      <td>-13.97569</td>\n",
       "      <td>92.22367</td>\n",
       "      <td>400.8029</td>\n",
       "      <td>168.8</td>\n",
       "      <td>162.6</td>\n",
       "      <td>103.3782</td>\n",
       "      <td>...</td>\n",
       "      <td>15.85503</td>\n",
       "      <td>18.51997</td>\n",
       "      <td>-400.0651</td>\n",
       "      <td>60.93208</td>\n",
       "      <td>41.2</td>\n",
       "      <td>80.7</td>\n",
       "      <td>946.2</td>\n",
       "      <td>226.4158</td>\n",
       "      <td>945.4032</td>\n",
       "      <td>214.6138</td>\n",
       "    </tr>\n",
       "    <tr>\n",
       "      <th>1</th>\n",
       "      <td>02.09.2024_12.40.10</td>\n",
       "      <td>32</td>\n",
       "      <td>3892.103</td>\n",
       "      <td>0.0</td>\n",
       "      <td>-13.86719</td>\n",
       "      <td>92.22367</td>\n",
       "      <td>466.3701</td>\n",
       "      <td>191.8</td>\n",
       "      <td>186.5</td>\n",
       "      <td>50.24234</td>\n",
       "      <td>...</td>\n",
       "      <td>16.05035</td>\n",
       "      <td>18.84115</td>\n",
       "      <td>-397.2801</td>\n",
       "      <td>60.93605</td>\n",
       "      <td>43.7</td>\n",
       "      <td>86.0</td>\n",
       "      <td>946.2</td>\n",
       "      <td>221.428</td>\n",
       "      <td>945.4032</td>\n",
       "      <td>215.808</td>\n",
       "    </tr>\n",
       "    <tr>\n",
       "      <th>2</th>\n",
       "      <td>02.09.2024_12.45.09</td>\n",
       "      <td>32</td>\n",
       "      <td>4897.067</td>\n",
       "      <td>0.0</td>\n",
       "      <td>-13.58145</td>\n",
       "      <td>92.22729</td>\n",
       "      <td>492.1911</td>\n",
       "      <td>190.5</td>\n",
       "      <td>186.6</td>\n",
       "      <td>85.76027</td>\n",
       "      <td>...</td>\n",
       "      <td>16.11979</td>\n",
       "      <td>18.69213</td>\n",
       "      <td>-391.2399</td>\n",
       "      <td>60.93605</td>\n",
       "      <td>43.1</td>\n",
       "      <td>85.6</td>\n",
       "      <td>946.2</td>\n",
       "      <td>221.3578</td>\n",
       "      <td>945.4032</td>\n",
       "      <td>219.461</td>\n",
       "    </tr>\n",
       "    <tr>\n",
       "      <th>3</th>\n",
       "      <td>02.09.2024_12.50.09</td>\n",
       "      <td>32</td>\n",
       "      <td>5902.126</td>\n",
       "      <td>0.0</td>\n",
       "      <td>-13.96846</td>\n",
       "      <td>92.23814</td>\n",
       "      <td>492.8675</td>\n",
       "      <td>184.3</td>\n",
       "      <td>181.5</td>\n",
       "      <td>67.95067</td>\n",
       "      <td>...</td>\n",
       "      <td>15.9375</td>\n",
       "      <td>18.62558</td>\n",
       "      <td>-390.9505</td>\n",
       "      <td>60.93208</td>\n",
       "      <td>42.2</td>\n",
       "      <td>85.1</td>\n",
       "      <td>946.2</td>\n",
       "      <td>222.6222</td>\n",
       "      <td>945.4032</td>\n",
       "      <td>220.1635</td>\n",
       "    </tr>\n",
       "    <tr>\n",
       "      <th>4</th>\n",
       "      <td>02.09.2024_12.55.09</td>\n",
       "      <td>64</td>\n",
       "      <td>6899.486</td>\n",
       "      <td>0.0</td>\n",
       "      <td>-12.66277</td>\n",
       "      <td>74.35981</td>\n",
       "      <td>479.1414</td>\n",
       "      <td>174.4</td>\n",
       "      <td>171.2</td>\n",
       "      <td>72.03053</td>\n",
       "      <td>...</td>\n",
       "      <td>15.62211</td>\n",
       "      <td>18.30874</td>\n",
       "      <td>-376.4106</td>\n",
       "      <td>64.65205</td>\n",
       "      <td>43.6</td>\n",
       "      <td>80.1</td>\n",
       "      <td>946.2</td>\n",
       "      <td>215.3163</td>\n",
       "      <td>945.4032</td>\n",
       "      <td>218.4072</td>\n",
       "    </tr>\n",
       "  </tbody>\n",
       "</table>\n",
       "<p>5 rows × 25 columns</p>\n",
       "</div>"
      ],
      "text/plain": [
       "            SampleTime Process Mode Oxygen Consumption -Top Furnace Power  \\\n",
       "0  02.09.2024_12.35.09           32                 2890.05           0.0   \n",
       "1  02.09.2024_12.40.10           32                3892.103           0.0   \n",
       "2  02.09.2024_12.45.09           32                4897.067           0.0   \n",
       "3  02.09.2024_12.50.09           32                5902.126           0.0   \n",
       "4  02.09.2024_12.55.09           64                6899.486           0.0   \n",
       "\n",
       "  CombustionChamber Pressure Suction Damper Position feedback  \\\n",
       "0                  -13.97569                         92.22367   \n",
       "1                  -13.86719                         92.22367   \n",
       "2                  -13.58145                         92.22729   \n",
       "3                  -13.96846                         92.23814   \n",
       "4                  -12.66277                         74.35981   \n",
       "\n",
       "  FDC inlet Temprature FDC Outlet Temp FDC Outlet Temp - Upperside  \\\n",
       "0             400.8029           168.8                       162.6   \n",
       "1             466.3701           191.8                       186.5   \n",
       "2             492.1911           190.5                       186.6   \n",
       "3             492.8675           184.3                       181.5   \n",
       "4             479.1414           174.4                       171.2   \n",
       "\n",
       "  DP across FDC  ... DP Across baghouse - UpperSide  \\\n",
       "0      103.3782  ...                       15.85503   \n",
       "1      50.24234  ...                       16.05035   \n",
       "2      85.76027  ...                       16.11979   \n",
       "3      67.95067  ...                        15.9375   \n",
       "4      72.03053  ...                       15.62211   \n",
       "\n",
       "  DP Across baghouse - LowerSide Pressure ID Fan Inlet Canopy Damper Position  \\\n",
       "0                       18.51997             -400.0651               60.93208   \n",
       "1                       18.84115             -397.2801               60.93605   \n",
       "2                       18.69213             -391.2399               60.93605   \n",
       "3                       18.62558             -390.9505               60.93208   \n",
       "4                       18.30874             -376.4106               64.65205   \n",
       "\n",
       "  Unnamed: 19 Unnamed: 20 ID Fan1 Speed ID Fan1 Current ID Fan2 Speed  \\\n",
       "0        41.2        80.7         946.2        226.4158      945.4032   \n",
       "1        43.7        86.0         946.2         221.428      945.4032   \n",
       "2        43.1        85.6         946.2        221.3578      945.4032   \n",
       "3        42.2        85.1         946.2        222.6222      945.4032   \n",
       "4        43.6        80.1         946.2        215.3163      945.4032   \n",
       "\n",
       "  ID Fan2 Current  \n",
       "0        214.6138  \n",
       "1         215.808  \n",
       "2         219.461  \n",
       "3        220.1635  \n",
       "4        218.4072  \n",
       "\n",
       "[5 rows x 25 columns]"
      ]
     },
     "execution_count": 3,
     "metadata": {},
     "output_type": "execute_result"
    }
   ],
   "source": [
    "df = pd.concat(df_arr, ignore_index=True)\n",
    "\n",
    "print(df.shape)\n",
    "df.head()\n"
   ]
  },
  {
   "cell_type": "code",
   "execution_count": 4,
   "metadata": {},
   "outputs": [
    {
     "data": {
      "text/html": [
       "<div>\n",
       "<style scoped>\n",
       "    .dataframe tbody tr th:only-of-type {\n",
       "        vertical-align: middle;\n",
       "    }\n",
       "\n",
       "    .dataframe tbody tr th {\n",
       "        vertical-align: top;\n",
       "    }\n",
       "\n",
       "    .dataframe thead th {\n",
       "        text-align: right;\n",
       "    }\n",
       "</style>\n",
       "<table border=\"1\" class=\"dataframe\">\n",
       "  <thead>\n",
       "    <tr style=\"text-align: right;\">\n",
       "      <th></th>\n",
       "      <th>Pressure at BagHouse Inlet</th>\n",
       "      <th>DP Across baghouse - UpperSide</th>\n",
       "      <th>DP Across baghouse - LowerSide</th>\n",
       "      <th>Pressure ID Fan Inlet</th>\n",
       "      <th>Canopy Damper Position</th>\n",
       "      <th>ID Fan1 Speed</th>\n",
       "      <th>ID Fan1 Current</th>\n",
       "      <th>ID Fan2 Speed</th>\n",
       "    </tr>\n",
       "  </thead>\n",
       "  <tbody>\n",
       "    <tr>\n",
       "      <th>0</th>\n",
       "      <td>-219.9002</td>\n",
       "      <td>15.85503</td>\n",
       "      <td>18.51997</td>\n",
       "      <td>-400.0651</td>\n",
       "      <td>60.93208</td>\n",
       "      <td>946.2</td>\n",
       "      <td>226.4158</td>\n",
       "      <td>945.4032</td>\n",
       "    </tr>\n",
       "    <tr>\n",
       "      <th>1</th>\n",
       "      <td>-215.408</td>\n",
       "      <td>16.05035</td>\n",
       "      <td>18.84115</td>\n",
       "      <td>-397.2801</td>\n",
       "      <td>60.93605</td>\n",
       "      <td>946.2</td>\n",
       "      <td>221.428</td>\n",
       "      <td>945.4032</td>\n",
       "    </tr>\n",
       "    <tr>\n",
       "      <th>2</th>\n",
       "      <td>-210.4601</td>\n",
       "      <td>16.11979</td>\n",
       "      <td>18.69213</td>\n",
       "      <td>-391.2399</td>\n",
       "      <td>60.93605</td>\n",
       "      <td>946.2</td>\n",
       "      <td>221.3578</td>\n",
       "      <td>945.4032</td>\n",
       "    </tr>\n",
       "    <tr>\n",
       "      <th>3</th>\n",
       "      <td>-215.1259</td>\n",
       "      <td>15.9375</td>\n",
       "      <td>18.62558</td>\n",
       "      <td>-390.9505</td>\n",
       "      <td>60.93208</td>\n",
       "      <td>946.2</td>\n",
       "      <td>222.6222</td>\n",
       "      <td>945.4032</td>\n",
       "    </tr>\n",
       "    <tr>\n",
       "      <th>4</th>\n",
       "      <td>-201.9965</td>\n",
       "      <td>15.62211</td>\n",
       "      <td>18.30874</td>\n",
       "      <td>-376.4106</td>\n",
       "      <td>64.65205</td>\n",
       "      <td>946.2</td>\n",
       "      <td>215.3163</td>\n",
       "      <td>945.4032</td>\n",
       "    </tr>\n",
       "  </tbody>\n",
       "</table>\n",
       "</div>"
      ],
      "text/plain": [
       "  Pressure at BagHouse Inlet DP Across baghouse - UpperSide  \\\n",
       "0                  -219.9002                       15.85503   \n",
       "1                   -215.408                       16.05035   \n",
       "2                  -210.4601                       16.11979   \n",
       "3                  -215.1259                        15.9375   \n",
       "4                  -201.9965                       15.62211   \n",
       "\n",
       "  DP Across baghouse - LowerSide Pressure ID Fan Inlet Canopy Damper Position  \\\n",
       "0                       18.51997             -400.0651               60.93208   \n",
       "1                       18.84115             -397.2801               60.93605   \n",
       "2                       18.69213             -391.2399               60.93605   \n",
       "3                       18.62558             -390.9505               60.93208   \n",
       "4                       18.30874             -376.4106               64.65205   \n",
       "\n",
       "  ID Fan1 Speed ID Fan1 Current ID Fan2 Speed  \n",
       "0         946.2        226.4158      945.4032  \n",
       "1         946.2         221.428      945.4032  \n",
       "2         946.2        221.3578      945.4032  \n",
       "3         946.2        222.6222      945.4032  \n",
       "4         946.2        215.3163      945.4032  "
      ]
     },
     "execution_count": 4,
     "metadata": {},
     "output_type": "execute_result"
    }
   ],
   "source": [
    "df = df.iloc[:,14:24]\n",
    "df.drop(columns=['Unnamed: 19','Unnamed: 20'], inplace=True)\n",
    "df.head()"
   ]
  },
  {
   "cell_type": "code",
   "execution_count": 5,
   "metadata": {},
   "outputs": [
    {
     "name": "stdout",
     "output_type": "stream",
     "text": [
      "Pressure at BagHouse Inlet        0\n",
      "DP Across baghouse - UpperSide    0\n",
      "DP Across baghouse - LowerSide    0\n",
      "Pressure ID Fan Inlet             0\n",
      "Canopy Damper Position            0\n",
      "ID Fan1 Speed                     0\n",
      "ID Fan1 Current                   0\n",
      "ID Fan2 Speed                     0\n",
      "dtype: int64\n"
     ]
    }
   ],
   "source": [
    "print(df.isna().sum())\n",
    "# df.dropna(inplace=True)"
   ]
  },
  {
   "cell_type": "code",
   "execution_count": 6,
   "metadata": {
    "colab": {
     "base_uri": "https://localhost:8080/"
    },
    "executionInfo": {
     "elapsed": 104,
     "status": "ok",
     "timestamp": 1749728783942,
     "user": {
      "displayName": "Rishi Mulani",
      "userId": "04836978093625403382"
     },
     "user_tz": -330
    },
    "id": "gh-9BkgNKFJf",
    "outputId": "48b6ca5c-48bb-42b7-cb79-9af458b52c65"
   },
   "outputs": [
    {
     "name": "stdout",
     "output_type": "stream",
     "text": [
      "<class 'pandas.core.frame.DataFrame'>\n",
      "RangeIndex: 9665 entries, 0 to 9664\n",
      "Data columns (total 8 columns):\n",
      " #   Column                          Non-Null Count  Dtype  \n",
      "---  ------                          --------------  -----  \n",
      " 0   Pressure at BagHouse Inlet      9665 non-null   float64\n",
      " 1   DP Across baghouse - UpperSide  9665 non-null   float64\n",
      " 2   DP Across baghouse - LowerSide  9665 non-null   float64\n",
      " 3   Pressure ID Fan Inlet           9665 non-null   float64\n",
      " 4   Canopy Damper Position          9665 non-null   float64\n",
      " 5   ID Fan1 Speed                   9665 non-null   float64\n",
      " 6   ID Fan1 Current                 9665 non-null   float64\n",
      " 7   ID Fan2 Speed                   9665 non-null   float64\n",
      "dtypes: float64(8)\n",
      "memory usage: 604.2 KB\n"
     ]
    }
   ],
   "source": [
    "#we can see every column is having datatype of 'object'\n",
    "#so convert all column datatype into numeric\n",
    "\n",
    "for col in df.columns:\n",
    "  df[col] = pd.to_numeric(df[col], errors='coerce')\n",
    "\n",
    "df.info()"
   ]
  },
  {
   "cell_type": "code",
   "execution_count": 7,
   "metadata": {
    "collapsed": true,
    "executionInfo": {
     "elapsed": 2,
     "status": "ok",
     "timestamp": 1749728783946,
     "user": {
      "displayName": "Rishi Mulani",
      "userId": "04836978093625403382"
     },
     "user_tz": -330
    },
    "id": "oLPn6PNSKJET"
   },
   "outputs": [],
   "source": [
    "import tensorflow\n",
    "from tensorflow import keras\n",
    "from tensorflow.keras import Sequential\n",
    "from tensorflow.keras.layers import Dense\n",
    "from tensorflow.keras.layers import Dense, Dropout"
   ]
  },
  {
   "cell_type": "code",
   "execution_count": 8,
   "metadata": {
    "colab": {
     "base_uri": "https://localhost:8080/"
    },
    "executionInfo": {
     "elapsed": 9,
     "status": "ok",
     "timestamp": 1749728783959,
     "user": {
      "displayName": "Rishi Mulani",
      "userId": "04836978093625403382"
     },
     "user_tz": -330
    },
    "id": "pHOc5NGmKhzE",
    "outputId": "6d4c87f8-3c9e-4488-9530-81def6599fb6"
   },
   "outputs": [
    {
     "data": {
      "text/plain": [
       "Index(['Pressure at BagHouse Inlet', 'DP Across baghouse - UpperSide',\n",
       "       'DP Across baghouse - LowerSide', 'Pressure ID Fan Inlet',\n",
       "       'Canopy Damper Position', 'ID Fan1 Speed', 'ID Fan1 Current',\n",
       "       'ID Fan2 Speed'],\n",
       "      dtype='object')"
      ]
     },
     "execution_count": 8,
     "metadata": {},
     "output_type": "execute_result"
    }
   ],
   "source": [
    "df.columns"
   ]
  },
  {
   "cell_type": "code",
   "execution_count": 9,
   "metadata": {
    "executionInfo": {
     "elapsed": 49,
     "status": "ok",
     "timestamp": 1749728784010,
     "user": {
      "displayName": "Rishi Mulani",
      "userId": "04836978093625403382"
     },
     "user_tz": -330
    },
    "id": "7IeV8hUoLPVW"
   },
   "outputs": [],
   "source": [
    "from sklearn.model_selection import train_test_split\n",
    "x = df.drop(columns=['Pressure at BagHouse Inlet'],axis=1)\n",
    "y= df['Pressure at BagHouse Inlet']\n",
    "x_train,x_test,y_train,y_test = train_test_split(x,y,test_size=0.2,random_state=1)\n"
   ]
  },
  {
   "cell_type": "code",
   "execution_count": null,
   "metadata": {
    "executionInfo": {
     "elapsed": 6,
     "status": "ok",
     "timestamp": 1749728784013,
     "user": {
      "displayName": "Rishi Mulani",
      "userId": "04836978093625403382"
     },
     "user_tz": -330
    },
    "id": "tCZaF8HoLcUQ"
   },
   "outputs": [],
   "source": [
    "from sklearn.preprocessing import StandardScaler\n",
    "import joblib\n",
    "sc = StandardScaler()\n",
    "\n",
    "x_train = sc.fit_transform(x_train)\n",
    "x_test = sc.transform(x_test)\n",
    "\n",
    "# joblib.dump(sc, \"scaler(2).pkl\")\n"
   ]
  },
  {
   "cell_type": "code",
   "execution_count": 11,
   "metadata": {
    "colab": {
     "base_uri": "https://localhost:8080/"
    },
    "executionInfo": {
     "elapsed": 34,
     "status": "ok",
     "timestamp": 1749728784049,
     "user": {
      "displayName": "Rishi Mulani",
      "userId": "04836978093625403382"
     },
     "user_tz": -330
    },
    "id": "IMNtWweHD0AE",
    "outputId": "9edb21db-5567-4d71-ef37-fb60076d9b0f"
   },
   "outputs": [
    {
     "data": {
      "text/plain": [
       "(9665, 8)"
      ]
     },
     "execution_count": 11,
     "metadata": {},
     "output_type": "execute_result"
    }
   ],
   "source": [
    "df.shape"
   ]
  },
  {
   "cell_type": "code",
   "execution_count": 12,
   "metadata": {
    "colab": {
     "base_uri": "https://localhost:8080/"
    },
    "executionInfo": {
     "elapsed": 169,
     "status": "ok",
     "timestamp": 1749728854584,
     "user": {
      "displayName": "Rishi Mulani",
      "userId": "04836978093625403382"
     },
     "user_tz": -330
    },
    "id": "NWM20yZsD0Q_",
    "outputId": "02543288-cda1-486d-dc6b-c41c19b7a6b0"
   },
   "outputs": [
    {
     "name": "stderr",
     "output_type": "stream",
     "text": [
      "C:\\Users\\DELL\\AppData\\Roaming\\Python\\Python312\\site-packages\\keras\\src\\layers\\core\\dense.py:93: UserWarning: Do not pass an `input_shape`/`input_dim` argument to a layer. When using Sequential models, prefer using an `Input(shape)` object as the first layer in the model instead.\n",
      "  super().__init__(activity_regularizer=activity_regularizer, **kwargs)\n"
     ]
    }
   ],
   "source": [
    "from keras.models import Sequential\n",
    "from keras.layers import Dense, Dropout\n",
    "\n",
    "model = Sequential()\n",
    "\n",
    "model.add(Dense(64,activation='relu', input_dim=7))\n",
    "# model.add(Dropout(0.001))\n",
    "model.add(Dense(32,activation='relu'))\n",
    "# model.add(Dropout(0.001))\n",
    "model.add(Dense(16,activation='relu'))\n",
    "# model.add(Dropout(0.001))\n",
    "\n",
    "model.add(Dense(1,activation='linear'))"
   ]
  },
  {
   "cell_type": "code",
   "execution_count": 13,
   "metadata": {
    "colab": {
     "base_uri": "https://localhost:8080/",
     "height": 272
    },
    "executionInfo": {
     "elapsed": 44,
     "status": "ok",
     "timestamp": 1749728855980,
     "user": {
      "displayName": "Rishi Mulani",
      "userId": "04836978093625403382"
     },
     "user_tz": -330
    },
    "id": "Dq0xo8JGK1yx",
    "outputId": "12c00886-74a3-481a-8510-8a9e1350f233"
   },
   "outputs": [
    {
     "data": {
      "text/html": [
       "<pre style=\"white-space:pre;overflow-x:auto;line-height:normal;font-family:Menlo,'DejaVu Sans Mono',consolas,'Courier New',monospace\"><span style=\"font-weight: bold\">Model: \"sequential\"</span>\n",
       "</pre>\n"
      ],
      "text/plain": [
       "\u001b[1mModel: \"sequential\"\u001b[0m\n"
      ]
     },
     "metadata": {},
     "output_type": "display_data"
    },
    {
     "data": {
      "text/html": [
       "<pre style=\"white-space:pre;overflow-x:auto;line-height:normal;font-family:Menlo,'DejaVu Sans Mono',consolas,'Courier New',monospace\">┏━━━━━━━━━━━━━━━━━━━━━━━━━━━━━━━━━┳━━━━━━━━━━━━━━━━━━━━━━━━┳━━━━━━━━━━━━━━━┓\n",
       "┃<span style=\"font-weight: bold\"> Layer (type)                    </span>┃<span style=\"font-weight: bold\"> Output Shape           </span>┃<span style=\"font-weight: bold\">       Param # </span>┃\n",
       "┡━━━━━━━━━━━━━━━━━━━━━━━━━━━━━━━━━╇━━━━━━━━━━━━━━━━━━━━━━━━╇━━━━━━━━━━━━━━━┩\n",
       "│ dense (<span style=\"color: #0087ff; text-decoration-color: #0087ff\">Dense</span>)                   │ (<span style=\"color: #00d7ff; text-decoration-color: #00d7ff\">None</span>, <span style=\"color: #00af00; text-decoration-color: #00af00\">64</span>)             │           <span style=\"color: #00af00; text-decoration-color: #00af00\">512</span> │\n",
       "├─────────────────────────────────┼────────────────────────┼───────────────┤\n",
       "│ dense_1 (<span style=\"color: #0087ff; text-decoration-color: #0087ff\">Dense</span>)                 │ (<span style=\"color: #00d7ff; text-decoration-color: #00d7ff\">None</span>, <span style=\"color: #00af00; text-decoration-color: #00af00\">32</span>)             │         <span style=\"color: #00af00; text-decoration-color: #00af00\">2,080</span> │\n",
       "├─────────────────────────────────┼────────────────────────┼───────────────┤\n",
       "│ dense_2 (<span style=\"color: #0087ff; text-decoration-color: #0087ff\">Dense</span>)                 │ (<span style=\"color: #00d7ff; text-decoration-color: #00d7ff\">None</span>, <span style=\"color: #00af00; text-decoration-color: #00af00\">16</span>)             │           <span style=\"color: #00af00; text-decoration-color: #00af00\">528</span> │\n",
       "├─────────────────────────────────┼────────────────────────┼───────────────┤\n",
       "│ dense_3 (<span style=\"color: #0087ff; text-decoration-color: #0087ff\">Dense</span>)                 │ (<span style=\"color: #00d7ff; text-decoration-color: #00d7ff\">None</span>, <span style=\"color: #00af00; text-decoration-color: #00af00\">1</span>)              │            <span style=\"color: #00af00; text-decoration-color: #00af00\">17</span> │\n",
       "└─────────────────────────────────┴────────────────────────┴───────────────┘\n",
       "</pre>\n"
      ],
      "text/plain": [
       "┏━━━━━━━━━━━━━━━━━━━━━━━━━━━━━━━━━┳━━━━━━━━━━━━━━━━━━━━━━━━┳━━━━━━━━━━━━━━━┓\n",
       "┃\u001b[1m \u001b[0m\u001b[1mLayer (type)                   \u001b[0m\u001b[1m \u001b[0m┃\u001b[1m \u001b[0m\u001b[1mOutput Shape          \u001b[0m\u001b[1m \u001b[0m┃\u001b[1m \u001b[0m\u001b[1m      Param #\u001b[0m\u001b[1m \u001b[0m┃\n",
       "┡━━━━━━━━━━━━━━━━━━━━━━━━━━━━━━━━━╇━━━━━━━━━━━━━━━━━━━━━━━━╇━━━━━━━━━━━━━━━┩\n",
       "│ dense (\u001b[38;5;33mDense\u001b[0m)                   │ (\u001b[38;5;45mNone\u001b[0m, \u001b[38;5;34m64\u001b[0m)             │           \u001b[38;5;34m512\u001b[0m │\n",
       "├─────────────────────────────────┼────────────────────────┼───────────────┤\n",
       "│ dense_1 (\u001b[38;5;33mDense\u001b[0m)                 │ (\u001b[38;5;45mNone\u001b[0m, \u001b[38;5;34m32\u001b[0m)             │         \u001b[38;5;34m2,080\u001b[0m │\n",
       "├─────────────────────────────────┼────────────────────────┼───────────────┤\n",
       "│ dense_2 (\u001b[38;5;33mDense\u001b[0m)                 │ (\u001b[38;5;45mNone\u001b[0m, \u001b[38;5;34m16\u001b[0m)             │           \u001b[38;5;34m528\u001b[0m │\n",
       "├─────────────────────────────────┼────────────────────────┼───────────────┤\n",
       "│ dense_3 (\u001b[38;5;33mDense\u001b[0m)                 │ (\u001b[38;5;45mNone\u001b[0m, \u001b[38;5;34m1\u001b[0m)              │            \u001b[38;5;34m17\u001b[0m │\n",
       "└─────────────────────────────────┴────────────────────────┴───────────────┘\n"
      ]
     },
     "metadata": {},
     "output_type": "display_data"
    },
    {
     "data": {
      "text/html": [
       "<pre style=\"white-space:pre;overflow-x:auto;line-height:normal;font-family:Menlo,'DejaVu Sans Mono',consolas,'Courier New',monospace\"><span style=\"font-weight: bold\"> Total params: </span><span style=\"color: #00af00; text-decoration-color: #00af00\">3,137</span> (12.25 KB)\n",
       "</pre>\n"
      ],
      "text/plain": [
       "\u001b[1m Total params: \u001b[0m\u001b[38;5;34m3,137\u001b[0m (12.25 KB)\n"
      ]
     },
     "metadata": {},
     "output_type": "display_data"
    },
    {
     "data": {
      "text/html": [
       "<pre style=\"white-space:pre;overflow-x:auto;line-height:normal;font-family:Menlo,'DejaVu Sans Mono',consolas,'Courier New',monospace\"><span style=\"font-weight: bold\"> Trainable params: </span><span style=\"color: #00af00; text-decoration-color: #00af00\">3,137</span> (12.25 KB)\n",
       "</pre>\n"
      ],
      "text/plain": [
       "\u001b[1m Trainable params: \u001b[0m\u001b[38;5;34m3,137\u001b[0m (12.25 KB)\n"
      ]
     },
     "metadata": {},
     "output_type": "display_data"
    },
    {
     "data": {
      "text/html": [
       "<pre style=\"white-space:pre;overflow-x:auto;line-height:normal;font-family:Menlo,'DejaVu Sans Mono',consolas,'Courier New',monospace\"><span style=\"font-weight: bold\"> Non-trainable params: </span><span style=\"color: #00af00; text-decoration-color: #00af00\">0</span> (0.00 B)\n",
       "</pre>\n"
      ],
      "text/plain": [
       "\u001b[1m Non-trainable params: \u001b[0m\u001b[38;5;34m0\u001b[0m (0.00 B)\n"
      ]
     },
     "metadata": {},
     "output_type": "display_data"
    }
   ],
   "source": [
    "model.summary()"
   ]
  },
  {
   "cell_type": "code",
   "execution_count": 14,
   "metadata": {
    "colab": {
     "base_uri": "https://localhost:8080/"
    },
    "collapsed": true,
    "executionInfo": {
     "elapsed": 23297,
     "status": "ok",
     "timestamp": 1749728879279,
     "user": {
      "displayName": "Rishi Mulani",
      "userId": "04836978093625403382"
     },
     "user_tz": -330
    },
    "id": "k1V5rAmhK83v",
    "outputId": "61ca80cc-352b-4b52-b93e-9de814148486"
   },
   "outputs": [
    {
     "name": "stdout",
     "output_type": "stream",
     "text": [
      "Epoch 1/10\n",
      "\u001b[1m194/194\u001b[0m \u001b[32m━━━━━━━━━━━━━━━━━━━━\u001b[0m\u001b[37m\u001b[0m \u001b[1m2s\u001b[0m 3ms/step - loss: 20220.3281 - val_loss: 173.4129\n",
      "Epoch 2/10\n",
      "\u001b[1m194/194\u001b[0m \u001b[32m━━━━━━━━━━━━━━━━━━━━\u001b[0m\u001b[37m\u001b[0m \u001b[1m0s\u001b[0m 2ms/step - loss: 133.9611 - val_loss: 76.9802\n",
      "Epoch 3/10\n",
      "\u001b[1m194/194\u001b[0m \u001b[32m━━━━━━━━━━━━━━━━━━━━\u001b[0m\u001b[37m\u001b[0m \u001b[1m1s\u001b[0m 3ms/step - loss: 70.6643 - val_loss: 53.1449\n",
      "Epoch 4/10\n",
      "\u001b[1m194/194\u001b[0m \u001b[32m━━━━━━━━━━━━━━━━━━━━\u001b[0m\u001b[37m\u001b[0m \u001b[1m1s\u001b[0m 3ms/step - loss: 52.7298 - val_loss: 51.4867\n",
      "Epoch 5/10\n",
      "\u001b[1m194/194\u001b[0m \u001b[32m━━━━━━━━━━━━━━━━━━━━\u001b[0m\u001b[37m\u001b[0m \u001b[1m0s\u001b[0m 2ms/step - loss: 48.1702 - val_loss: 55.2112\n",
      "Epoch 6/10\n",
      "\u001b[1m194/194\u001b[0m \u001b[32m━━━━━━━━━━━━━━━━━━━━\u001b[0m\u001b[37m\u001b[0m \u001b[1m1s\u001b[0m 3ms/step - loss: 45.5703 - val_loss: 45.3605\n",
      "Epoch 7/10\n",
      "\u001b[1m194/194\u001b[0m \u001b[32m━━━━━━━━━━━━━━━━━━━━\u001b[0m\u001b[37m\u001b[0m \u001b[1m1s\u001b[0m 3ms/step - loss: 49.5540 - val_loss: 45.9270\n",
      "Epoch 8/10\n",
      "\u001b[1m194/194\u001b[0m \u001b[32m━━━━━━━━━━━━━━━━━━━━\u001b[0m\u001b[37m\u001b[0m \u001b[1m0s\u001b[0m 2ms/step - loss: 47.0025 - val_loss: 40.0899\n",
      "Epoch 9/10\n",
      "\u001b[1m194/194\u001b[0m \u001b[32m━━━━━━━━━━━━━━━━━━━━\u001b[0m\u001b[37m\u001b[0m \u001b[1m0s\u001b[0m 2ms/step - loss: 45.2912 - val_loss: 42.1513\n",
      "Epoch 10/10\n",
      "\u001b[1m194/194\u001b[0m \u001b[32m━━━━━━━━━━━━━━━━━━━━\u001b[0m\u001b[37m\u001b[0m \u001b[1m0s\u001b[0m 2ms/step - loss: 39.7904 - val_loss: 39.7970\n"
     ]
    }
   ],
   "source": [
    "from keras.optimizers import Adam\n",
    "\n",
    "adam = Adam(learning_rate=0.01)\n",
    "model.compile(loss='mean_squared_error', optimizer=adam)\n",
    "hist = model.fit(x_train,y_train,epochs=10,validation_split=0.2)"
   ]
  },
  {
   "cell_type": "code",
   "execution_count": 15,
   "metadata": {
    "colab": {
     "base_uri": "https://localhost:8080/"
    },
    "executionInfo": {
     "elapsed": 32747,
     "status": "ok",
     "timestamp": 1749728912059,
     "user": {
      "displayName": "Rishi Mulani",
      "userId": "04836978093625403382"
     },
     "user_tz": -330
    },
    "id": "U5on3bZt46qn",
    "outputId": "c9355013-8b15-4ab7-a818-1d4be14abce6"
   },
   "outputs": [
    {
     "name": "stdout",
     "output_type": "stream",
     "text": [
      "Epoch 1/20\n",
      "\u001b[1m194/194\u001b[0m \u001b[32m━━━━━━━━━━━━━━━━━━━━\u001b[0m\u001b[37m\u001b[0m \u001b[1m2s\u001b[0m 3ms/step - loss: 35.4799 - val_loss: 37.7268\n",
      "Epoch 2/20\n",
      "\u001b[1m194/194\u001b[0m \u001b[32m━━━━━━━━━━━━━━━━━━━━\u001b[0m\u001b[37m\u001b[0m \u001b[1m0s\u001b[0m 2ms/step - loss: 34.9511 - val_loss: 36.0577\n",
      "Epoch 3/20\n",
      "\u001b[1m194/194\u001b[0m \u001b[32m━━━━━━━━━━━━━━━━━━━━\u001b[0m\u001b[37m\u001b[0m \u001b[1m0s\u001b[0m 2ms/step - loss: 35.4831 - val_loss: 35.9419\n",
      "Epoch 4/20\n",
      "\u001b[1m194/194\u001b[0m \u001b[32m━━━━━━━━━━━━━━━━━━━━\u001b[0m\u001b[37m\u001b[0m \u001b[1m1s\u001b[0m 3ms/step - loss: 35.1696 - val_loss: 35.8382\n",
      "Epoch 5/20\n",
      "\u001b[1m194/194\u001b[0m \u001b[32m━━━━━━━━━━━━━━━━━━━━\u001b[0m\u001b[37m\u001b[0m \u001b[1m0s\u001b[0m 2ms/step - loss: 36.9914 - val_loss: 36.1836\n",
      "Epoch 6/20\n",
      "\u001b[1m194/194\u001b[0m \u001b[32m━━━━━━━━━━━━━━━━━━━━\u001b[0m\u001b[37m\u001b[0m \u001b[1m0s\u001b[0m 2ms/step - loss: 33.7086 - val_loss: 35.5456\n",
      "Epoch 7/20\n",
      "\u001b[1m194/194\u001b[0m \u001b[32m━━━━━━━━━━━━━━━━━━━━\u001b[0m\u001b[37m\u001b[0m \u001b[1m0s\u001b[0m 2ms/step - loss: 34.0863 - val_loss: 37.2709\n",
      "Epoch 8/20\n",
      "\u001b[1m194/194\u001b[0m \u001b[32m━━━━━━━━━━━━━━━━━━━━\u001b[0m\u001b[37m\u001b[0m \u001b[1m0s\u001b[0m 2ms/step - loss: 34.1933 - val_loss: 37.8578\n",
      "Epoch 9/20\n",
      "\u001b[1m194/194\u001b[0m \u001b[32m━━━━━━━━━━━━━━━━━━━━\u001b[0m\u001b[37m\u001b[0m \u001b[1m0s\u001b[0m 2ms/step - loss: 34.8896 - val_loss: 35.4982\n",
      "Epoch 10/20\n",
      "\u001b[1m194/194\u001b[0m \u001b[32m━━━━━━━━━━━━━━━━━━━━\u001b[0m\u001b[37m\u001b[0m \u001b[1m0s\u001b[0m 2ms/step - loss: 33.9488 - val_loss: 35.2980\n",
      "Epoch 11/20\n",
      "\u001b[1m194/194\u001b[0m \u001b[32m━━━━━━━━━━━━━━━━━━━━\u001b[0m\u001b[37m\u001b[0m \u001b[1m1s\u001b[0m 3ms/step - loss: 33.9505 - val_loss: 37.2318\n",
      "Epoch 12/20\n",
      "\u001b[1m194/194\u001b[0m \u001b[32m━━━━━━━━━━━━━━━━━━━━\u001b[0m\u001b[37m\u001b[0m \u001b[1m1s\u001b[0m 3ms/step - loss: 32.8937 - val_loss: 35.3348\n",
      "Epoch 13/20\n",
      "\u001b[1m194/194\u001b[0m \u001b[32m━━━━━━━━━━━━━━━━━━━━\u001b[0m\u001b[37m\u001b[0m \u001b[1m0s\u001b[0m 2ms/step - loss: 32.8380 - val_loss: 34.8027\n",
      "Epoch 14/20\n",
      "\u001b[1m194/194\u001b[0m \u001b[32m━━━━━━━━━━━━━━━━━━━━\u001b[0m\u001b[37m\u001b[0m \u001b[1m0s\u001b[0m 2ms/step - loss: 34.4737 - val_loss: 35.5129\n",
      "Epoch 15/20\n",
      "\u001b[1m194/194\u001b[0m \u001b[32m━━━━━━━━━━━━━━━━━━━━\u001b[0m\u001b[37m\u001b[0m \u001b[1m0s\u001b[0m 2ms/step - loss: 34.1556 - val_loss: 36.1750\n",
      "Epoch 16/20\n",
      "\u001b[1m194/194\u001b[0m \u001b[32m━━━━━━━━━━━━━━━━━━━━\u001b[0m\u001b[37m\u001b[0m \u001b[1m0s\u001b[0m 2ms/step - loss: 32.8910 - val_loss: 35.7895\n",
      "Epoch 17/20\n",
      "\u001b[1m194/194\u001b[0m \u001b[32m━━━━━━━━━━━━━━━━━━━━\u001b[0m\u001b[37m\u001b[0m \u001b[1m0s\u001b[0m 2ms/step - loss: 34.3114 - val_loss: 35.8312\n",
      "Epoch 18/20\n",
      "\u001b[1m194/194\u001b[0m \u001b[32m━━━━━━━━━━━━━━━━━━━━\u001b[0m\u001b[37m\u001b[0m \u001b[1m1s\u001b[0m 3ms/step - loss: 33.9796 - val_loss: 35.8441\n",
      "Epoch 19/20\n",
      "\u001b[1m194/194\u001b[0m \u001b[32m━━━━━━━━━━━━━━━━━━━━\u001b[0m\u001b[37m\u001b[0m \u001b[1m0s\u001b[0m 2ms/step - loss: 33.0730 - val_loss: 35.1770\n",
      "Epoch 20/20\n",
      "\u001b[1m194/194\u001b[0m \u001b[32m━━━━━━━━━━━━━━━━━━━━\u001b[0m\u001b[37m\u001b[0m \u001b[1m0s\u001b[0m 2ms/step - loss: 32.9527 - val_loss: 35.3110\n"
     ]
    }
   ],
   "source": [
    "adam = Adam(learning_rate=0.001)\n",
    "model.compile(loss='mean_squared_error', optimizer=adam)\n",
    "hist = model.fit(x_train,y_train,epochs=20,validation_split=0.2)"
   ]
  },
  {
   "cell_type": "code",
   "execution_count": 23,
   "metadata": {
    "colab": {
     "base_uri": "https://localhost:8080/"
    },
    "executionInfo": {
     "elapsed": 17608,
     "status": "ok",
     "timestamp": 1749728929670,
     "user": {
      "displayName": "Rishi Mulani",
      "userId": "04836978093625403382"
     },
     "user_tz": -330
    },
    "id": "hSIIIylq6ptl",
    "outputId": "a1abaa00-06e6-4edd-c024-0ef028434b3c"
   },
   "outputs": [
    {
     "name": "stdout",
     "output_type": "stream",
     "text": [
      "Epoch 1/5\n",
      "\u001b[1m194/194\u001b[0m \u001b[32m━━━━━━━━━━━━━━━━━━━━\u001b[0m\u001b[37m\u001b[0m \u001b[1m2s\u001b[0m 3ms/step - loss: 31.7448 - val_loss: 33.7003\n",
      "Epoch 2/5\n",
      "\u001b[1m194/194\u001b[0m \u001b[32m━━━━━━━━━━━━━━━━━━━━\u001b[0m\u001b[37m\u001b[0m \u001b[1m1s\u001b[0m 2ms/step - loss: 31.3387 - val_loss: 33.5374\n",
      "Epoch 3/5\n",
      "\u001b[1m194/194\u001b[0m \u001b[32m━━━━━━━━━━━━━━━━━━━━\u001b[0m\u001b[37m\u001b[0m \u001b[1m0s\u001b[0m 2ms/step - loss: 31.3161 - val_loss: 33.7000\n",
      "Epoch 4/5\n",
      "\u001b[1m194/194\u001b[0m \u001b[32m━━━━━━━━━━━━━━━━━━━━\u001b[0m\u001b[37m\u001b[0m \u001b[1m1s\u001b[0m 3ms/step - loss: 31.1543 - val_loss: 33.9234\n",
      "Epoch 5/5\n",
      "\u001b[1m194/194\u001b[0m \u001b[32m━━━━━━━━━━━━━━━━━━━━\u001b[0m\u001b[37m\u001b[0m \u001b[1m1s\u001b[0m 3ms/step - loss: 30.9325 - val_loss: 33.6938\n"
     ]
    }
   ],
   "source": [
    "adam = Adam(learning_rate=0.0001)\n",
    "model.compile(loss='mean_squared_error', optimizer=adam)\n",
    "hist = model.fit(x_train,y_train,epochs=5,validation_split=0.2)"
   ]
  },
  {
   "cell_type": "code",
   "execution_count": 24,
   "metadata": {
    "colab": {
     "base_uri": "https://localhost:8080/"
    },
    "executionInfo": {
     "elapsed": 262,
     "status": "ok",
     "timestamp": 1749728929945,
     "user": {
      "displayName": "Rishi Mulani",
      "userId": "04836978093625403382"
     },
     "user_tz": -330
    },
    "id": "QTeg6MXJLEHQ",
    "outputId": "1f937f1b-8d99-44d1-cccf-13ca5ced16d4"
   },
   "outputs": [
    {
     "name": "stdout",
     "output_type": "stream",
     "text": [
      "\u001b[1m61/61\u001b[0m \u001b[32m━━━━━━━━━━━━━━━━━━━━\u001b[0m\u001b[37m\u001b[0m \u001b[1m0s\u001b[0m 2ms/step\n"
     ]
    }
   ],
   "source": [
    "y_pred = model.predict(x_test)"
   ]
  },
  {
   "cell_type": "code",
   "execution_count": 25,
   "metadata": {
    "colab": {
     "base_uri": "https://localhost:8080/"
    },
    "executionInfo": {
     "elapsed": 23,
     "status": "ok",
     "timestamp": 1749728929981,
     "user": {
      "displayName": "Rishi Mulani",
      "userId": "04836978093625403382"
     },
     "user_tz": -330
    },
    "id": "ZIFSDzHTL169",
    "outputId": "3c93a682-54dd-4578-adb7-1b4243c3e8a6"
   },
   "outputs": [
    {
     "data": {
      "text/plain": [
       "0.9579717509544707"
      ]
     },
     "execution_count": 25,
     "metadata": {},
     "output_type": "execute_result"
    }
   ],
   "source": [
    "from sklearn.metrics import r2_score\n",
    "r2_score(y_test,y_pred)"
   ]
  },
  {
   "cell_type": "code",
   "execution_count": 26,
   "metadata": {
    "colab": {
     "base_uri": "https://localhost:8080/",
     "height": 447
    },
    "executionInfo": {
     "elapsed": 293,
     "status": "ok",
     "timestamp": 1749728930276,
     "user": {
      "displayName": "Rishi Mulani",
      "userId": "04836978093625403382"
     },
     "user_tz": -330
    },
    "id": "E6kqDJfYQ867",
    "outputId": "9ab703c1-e2d5-49d4-dc24-b654fd627bbc"
   },
   "outputs": [
    {
     "data": {
      "text/plain": [
       "[<matplotlib.lines.Line2D at 0x1e92127bf80>]"
      ]
     },
     "execution_count": 26,
     "metadata": {},
     "output_type": "execute_result"
    },
    {
     "data": {
      "image/png": "[encoded data removed]",
      "text/plain": [
       "<Figure size 640x480 with 1 Axes>"
      ]
     },
     "metadata": {},
     "output_type": "display_data"
    }
   ],
   "source": [
    "import matplotlib.pyplot as plt\n",
    "plt.plot(hist.history['loss'])\n",
    "plt.plot(hist.history['val_loss'])"
   ]
  },
  {
   "cell_type": "code",
   "execution_count": 28,
   "metadata": {},
   "outputs": [
    {
     "name": "stderr",
     "output_type": "stream",
     "text": [
      "WARNING:absl:You are saving your model as an HDF5 file via `model.save()` or `keras.saving.save_model(model)`. This file format is considered legacy. We recommend using instead the native Keras format, e.g. `model.save('my_model.keras')` or `keras.saving.save_model(model, 'my_model.keras')`. \n"
     ]
    }
   ],
   "source": [
    "model.save(\"pressure_at_bag_house_DL(2).h5\")"
   ]
  },
  {
   "cell_type": "code",
   "execution_count": 21,
   "metadata": {
    "executionInfo": {
     "elapsed": 41,
     "status": "ok",
     "timestamp": 1749729122656,
     "user": {
      "displayName": "Rishi Mulani",
      "userId": "04836978093625403382"
     },
     "user_tz": -330
    },
    "id": "4wuPTW9ZPCEa"
   },
   "outputs": [],
   "source": [
    "# model.save('combustion_pressure(1).keras')"
   ]
  },
  {
   "cell_type": "code",
   "execution_count": null,
   "metadata": {
    "id": "QU0QT_T0-5bo"
   },
   "outputs": [],
   "source": []
  },
  {
   "cell_type": "code",
   "execution_count": null,
   "metadata": {},
   "outputs": [],
   "source": []
  }
 ],
 "metadata": {
  "colab": {
   "authorship_tag": "ABX9TyMWrZpkitvnqlWQivqE1J9w",
   "mount_file_id": "1Vk_IsVRvFCOlCKMrQZ1vLl2TlHgKBLkF",
   "provenance": [
    {
     "file_id": "1DjLNonKEYav1mGKAUecIKbVF5s7lHdoU",
     "timestamp": 1749713251019
    },
    {
     "file_id": "1GlMEit-wWOzk4cemlaBVkpISVRPcmDSt",
     "timestamp": 1749698134391
    }
   ]
  },
  "kernelspec": {
   "display_name": "Python 3",
   "name": "python3"
  },
  "language_info": {
   "codemirror_mode": {
    "name": "ipython",
    "version": 3
   },
   "file_extension": ".py",
   "mimetype": "text/x-python",
   "name": "python",
   "nbconvert_exporter": "python",
   "pygments_lexer": "ipython3",
   "version": "3.12.0"
  }
 },
 "nbformat": 4,
 "nbformat_minor": 0
}
